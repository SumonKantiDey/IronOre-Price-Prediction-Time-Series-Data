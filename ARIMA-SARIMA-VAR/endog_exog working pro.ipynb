{
 "cells": [
  {
   "cell_type": "code",
   "execution_count": 9,
   "metadata": {},
   "outputs": [],
   "source": [
    "#https://www.machinelearningplus.com/time-series/arima-model-time-series-forecasting-python/\n",
    "#https://www.seanabu.com/2016/03/22/time-series-seasonal-ARIMA-model-in-python/\n",
    "import pandas as pd\n",
    "import numpy as np\n",
    "data = pd.read_csv('https://raw.githubusercontent.com/selva86/datasets/master/a10.csv', parse_dates=['date'], index_col='date')"
   ]
  },
  {
   "cell_type": "code",
   "execution_count": 10,
   "metadata": {},
   "outputs": [],
   "source": [
    "from statsmodels.tsa.seasonal import seasonal_decompose\n",
    "from dateutil.parser import parse\n",
    "\n",
    "# multiplicative seasonal component\n",
    "result_mul = seasonal_decompose(data['value'][-36:],   # 3 years\n",
    "                                model='multiplicative', \n",
    "                                extrapolate_trend='freq')\n",
    "\n",
    "seasonal_index = result_mul.seasonal[-12:].to_frame()\n",
    "seasonal_index['month'] = pd.to_datetime(seasonal_index.index).month\n",
    "\n",
    "# merge with the base data\n",
    "data['month'] = data.index.month\n",
    "df = pd.merge(data, seasonal_index, how='left', on='month')\n",
    "df.columns = ['value', 'month', 'seasonal_index']\n",
    "df.index = data.index  # reassign the index."
   ]
  },
  {
   "cell_type": "code",
   "execution_count": 11,
   "metadata": {},
   "outputs": [
    {
     "name": "stdout",
     "output_type": "stream",
     "text": [
      "Fit ARIMA: order=(1, 0, 1) seasonal_order=(0, 1, 1, 12); AIC=536.818, BIC=556.362, Fit time=0.914 seconds\n",
      "Fit ARIMA: order=(0, 0, 0) seasonal_order=(0, 1, 0, 12); AIC=626.061, BIC=635.834, Fit time=0.016 seconds\n",
      "Fit ARIMA: order=(1, 0, 0) seasonal_order=(1, 1, 0, 12); AIC=598.004, BIC=614.292, Fit time=0.356 seconds\n",
      "Fit ARIMA: order=(0, 0, 1) seasonal_order=(0, 1, 1, 12); AIC=613.475, BIC=629.762, Fit time=0.294 seconds\n",
      "Fit ARIMA: order=(1, 0, 1) seasonal_order=(1, 1, 1, 12); AIC=559.502, BIC=582.305, Fit time=1.581 seconds\n",
      "Fit ARIMA: order=(1, 0, 1) seasonal_order=(0, 1, 0, 12); AIC=561.407, BIC=577.695, Fit time=0.218 seconds\n",
      "Fit ARIMA: order=(1, 0, 1) seasonal_order=(0, 1, 2, 12); AIC=538.817, BIC=561.620, Fit time=2.526 seconds\n",
      "Fit ARIMA: order=(1, 0, 1) seasonal_order=(1, 1, 2, 12); AIC=nan, BIC=nan, Fit time=nan seconds\n",
      "Fit ARIMA: order=(2, 0, 1) seasonal_order=(0, 1, 1, 12); AIC=531.829, BIC=554.632, Fit time=0.857 seconds\n",
      "Fit ARIMA: order=(2, 0, 0) seasonal_order=(0, 1, 1, 12); AIC=548.662, BIC=568.207, Fit time=0.347 seconds\n",
      "Fit ARIMA: order=(2, 0, 2) seasonal_order=(0, 1, 1, 12); AIC=533.827, BIC=559.887, Fit time=1.486 seconds\n",
      "Fit ARIMA: order=(1, 0, 0) seasonal_order=(0, 1, 1, 12); AIC=596.467, BIC=612.754, Fit time=0.262 seconds\n",
      "Fit ARIMA: order=(3, 0, 2) seasonal_order=(0, 1, 1, 12); AIC=nan, BIC=nan, Fit time=nan seconds\n",
      "Fit ARIMA: order=(2, 0, 1) seasonal_order=(1, 1, 1, 12); AIC=557.372, BIC=583.432, Fit time=1.734 seconds\n",
      "Fit ARIMA: order=(2, 0, 1) seasonal_order=(0, 1, 0, 12); AIC=557.198, BIC=576.743, Fit time=0.253 seconds\n",
      "Fit ARIMA: order=(2, 0, 1) seasonal_order=(0, 1, 2, 12); AIC=533.168, BIC=559.228, Fit time=2.415 seconds\n",
      "Fit ARIMA: order=(2, 0, 1) seasonal_order=(1, 1, 2, 12); AIC=nan, BIC=nan, Fit time=nan seconds\n",
      "Fit ARIMA: order=(3, 0, 1) seasonal_order=(0, 1, 1, 12); AIC=530.971, BIC=557.031, Fit time=0.806 seconds\n",
      "Fit ARIMA: order=(3, 0, 0) seasonal_order=(0, 1, 1, 12); AIC=530.601, BIC=553.403, Fit time=0.452 seconds\n",
      "Fit ARIMA: order=(3, 0, 0) seasonal_order=(1, 1, 1, 12); AIC=556.570, BIC=582.629, Fit time=1.357 seconds\n",
      "Fit ARIMA: order=(3, 0, 0) seasonal_order=(0, 1, 0, 12); AIC=556.094, BIC=575.639, Fit time=0.169 seconds\n",
      "Fit ARIMA: order=(3, 0, 0) seasonal_order=(0, 1, 2, 12); AIC=531.502, BIC=557.562, Fit time=1.499 seconds\n",
      "Fit ARIMA: order=(3, 0, 0) seasonal_order=(1, 1, 2, 12); AIC=nan, BIC=nan, Fit time=nan seconds\n",
      "Total fit time: 17.628 seconds\n"
     ]
    },
    {
     "data": {
      "text/html": [
       "<table class=\"simpletable\">\n",
       "<caption>Statespace Model Results</caption>\n",
       "<tr>\n",
       "  <th>Dep. Variable:</th>                  <td>y</td>               <th>  No. Observations:  </th>    <td>204</td>  \n",
       "</tr>\n",
       "<tr>\n",
       "  <th>Model:</th>           <td>SARIMAX(3, 0, 0)x(0, 1, 1, 12)</td> <th>  Log Likelihood     </th> <td>-258.300</td>\n",
       "</tr>\n",
       "<tr>\n",
       "  <th>Date:</th>                   <td>Thu, 27 Jun 2019</td>        <th>  AIC                </th>  <td>530.601</td>\n",
       "</tr>\n",
       "<tr>\n",
       "  <th>Time:</th>                       <td>14:23:40</td>            <th>  BIC                </th>  <td>553.403</td>\n",
       "</tr>\n",
       "<tr>\n",
       "  <th>Sample:</th>                         <td>0</td>               <th>  HQIC               </th>  <td>539.836</td>\n",
       "</tr>\n",
       "<tr>\n",
       "  <th></th>                             <td> - 204</td>             <th>                     </th>     <td> </td>   \n",
       "</tr>\n",
       "<tr>\n",
       "  <th>Covariance Type:</th>               <td>opg</td>              <th>                     </th>     <td> </td>   \n",
       "</tr>\n",
       "</table>\n",
       "<table class=\"simpletable\">\n",
       "<tr>\n",
       "      <td></td>         <th>coef</th>     <th>std err</th>      <th>z</th>      <th>P>|z|</th>  <th>[0.025</th>    <th>0.975]</th>  \n",
       "</tr>\n",
       "<tr>\n",
       "  <th>intercept</th> <td>    0.1649</td> <td>    0.097</td> <td>    1.705</td> <td> 0.088</td> <td>   -0.025</td> <td>    0.354</td>\n",
       "</tr>\n",
       "<tr>\n",
       "  <th>x1</th>        <td> 3.934e-07</td> <td> 2.55e-09</td> <td>  153.998</td> <td> 0.000</td> <td> 3.88e-07</td> <td> 3.98e-07</td>\n",
       "</tr>\n",
       "<tr>\n",
       "  <th>ar.L1</th>     <td>    0.0949</td> <td>    0.043</td> <td>    2.205</td> <td> 0.027</td> <td>    0.011</td> <td>    0.179</td>\n",
       "</tr>\n",
       "<tr>\n",
       "  <th>ar.L2</th>     <td>    0.4145</td> <td>    0.035</td> <td>   11.907</td> <td> 0.000</td> <td>    0.346</td> <td>    0.483</td>\n",
       "</tr>\n",
       "<tr>\n",
       "  <th>ar.L3</th>     <td>    0.3531</td> <td>    0.053</td> <td>    6.601</td> <td> 0.000</td> <td>    0.248</td> <td>    0.458</td>\n",
       "</tr>\n",
       "<tr>\n",
       "  <th>ma.S.L12</th>  <td>   -0.4635</td> <td>    0.058</td> <td>   -8.008</td> <td> 0.000</td> <td>   -0.577</td> <td>   -0.350</td>\n",
       "</tr>\n",
       "<tr>\n",
       "  <th>sigma2</th>    <td>    0.8461</td> <td>    0.057</td> <td>   14.925</td> <td> 0.000</td> <td>    0.735</td> <td>    0.957</td>\n",
       "</tr>\n",
       "</table>\n",
       "<table class=\"simpletable\">\n",
       "<tr>\n",
       "  <th>Ljung-Box (Q):</th>          <td>59.80</td> <th>  Jarque-Bera (JB):  </th> <td>124.59</td>\n",
       "</tr>\n",
       "<tr>\n",
       "  <th>Prob(Q):</th>                <td>0.02</td>  <th>  Prob(JB):          </th>  <td>0.00</td> \n",
       "</tr>\n",
       "<tr>\n",
       "  <th>Heteroskedasticity (H):</th> <td>12.75</td> <th>  Skew:              </th>  <td>0.29</td> \n",
       "</tr>\n",
       "<tr>\n",
       "  <th>Prob(H) (two-sided):</th>    <td>0.00</td>  <th>  Kurtosis:          </th>  <td>6.90</td> \n",
       "</tr>\n",
       "</table><br/><br/>Warnings:<br/>[1] Covariance matrix calculated using the outer product of gradients (complex-step).<br/>[2] Covariance matrix is singular or near-singular, with condition number 6.09e+16. Standard errors may be unstable."
      ],
      "text/plain": [
       "<class 'statsmodels.iolib.summary.Summary'>\n",
       "\"\"\"\n",
       "                                 Statespace Model Results                                 \n",
       "==========================================================================================\n",
       "Dep. Variable:                                  y   No. Observations:                  204\n",
       "Model:             SARIMAX(3, 0, 0)x(0, 1, 1, 12)   Log Likelihood                -258.300\n",
       "Date:                            Thu, 27 Jun 2019   AIC                            530.601\n",
       "Time:                                    14:23:40   BIC                            553.403\n",
       "Sample:                                         0   HQIC                           539.836\n",
       "                                            - 204                                         \n",
       "Covariance Type:                              opg                                         \n",
       "==============================================================================\n",
       "                 coef    std err          z      P>|z|      [0.025      0.975]\n",
       "------------------------------------------------------------------------------\n",
       "intercept      0.1649      0.097      1.705      0.088      -0.025       0.354\n",
       "x1          3.934e-07   2.55e-09    153.998      0.000    3.88e-07    3.98e-07\n",
       "ar.L1          0.0949      0.043      2.205      0.027       0.011       0.179\n",
       "ar.L2          0.4145      0.035     11.907      0.000       0.346       0.483\n",
       "ar.L3          0.3531      0.053      6.601      0.000       0.248       0.458\n",
       "ma.S.L12      -0.4635      0.058     -8.008      0.000      -0.577      -0.350\n",
       "sigma2         0.8461      0.057     14.925      0.000       0.735       0.957\n",
       "===================================================================================\n",
       "Ljung-Box (Q):                       59.80   Jarque-Bera (JB):               124.59\n",
       "Prob(Q):                              0.02   Prob(JB):                         0.00\n",
       "Heteroskedasticity (H):              12.75   Skew:                             0.29\n",
       "Prob(H) (two-sided):                  0.00   Kurtosis:                         6.90\n",
       "===================================================================================\n",
       "\n",
       "Warnings:\n",
       "[1] Covariance matrix calculated using the outer product of gradients (complex-step).\n",
       "[2] Covariance matrix is singular or near-singular, with condition number 6.09e+16. Standard errors may be unstable.\n",
       "\"\"\""
      ]
     },
     "execution_count": 11,
     "metadata": {},
     "output_type": "execute_result"
    }
   ],
   "source": [
    "import pmdarima as pm\n",
    "\n",
    "# SARIMAX Model\n",
    "sxmodel = pm.auto_arima(df[['value']], exogenous=df[['seasonal_index']],\n",
    "                           start_p=1, start_q=1,\n",
    "                           test='adf',\n",
    "                           max_p=3, max_q=3, m=12,\n",
    "                           start_P=0, seasonal=True,\n",
    "                           d=None, D=1, trace=True,\n",
    "                           error_action='ignore',  \n",
    "                           suppress_warnings=True, \n",
    "                           stepwise=True)\n",
    "\n",
    "sxmodel.summary()"
   ]
  },
  {
   "cell_type": "code",
   "execution_count": 14,
   "metadata": {},
   "outputs": [
    {
     "name": "stderr",
     "output_type": "stream",
     "text": [
      "C:\\Users\\sumon\\Anaconda3\\envs\\tensorflow\\lib\\site-packages\\pandas\\plotting\\_converter.py:129: FutureWarning: Using an implicitly registered datetime converter for a matplotlib plotting method. The converter was registered by pandas on import. Future versions of pandas will require you to explicitly register matplotlib converters.\n",
      "\n",
      "To register the converters:\n",
      "\t>>> from pandas.plotting import register_matplotlib_converters\n",
      "\t>>> register_matplotlib_converters()\n",
      "  warnings.warn(msg, FutureWarning)\n"
     ]
    },
    {
     "data": {
      "image/png": "[encoded data removed]",
      "text/plain": [
       "<Figure size 432x288 with 1 Axes>"
      ]
     },
     "metadata": {
      "needs_background": "light"
     },
     "output_type": "display_data"
    }
   ],
   "source": [
    "# Forecast\n",
    "#forecasting\n",
    "import matplotlib.pylab as plt\n",
    "%matplotlib inline\n",
    "n_periods = 24\n",
    "fitted, confint = sxmodel.predict(n_periods=n_periods, \n",
    "                                  exogenous=np.tile(seasonal_index.value, 2).reshape(-1,1), \n",
    "                                  return_conf_int=True)\n",
    "\n",
    "index_of_fc = pd.date_range(data.index[-1], periods = n_periods, freq='MS')\n",
    "\n",
    "# make series for plotting purpose\n",
    "fitted_series = pd.Series(fitted, index=index_of_fc)\n",
    "lower_series = pd.Series(confint[:, 0], index=index_of_fc)\n",
    "upper_series = pd.Series(confint[:, 1], index=index_of_fc)\n",
    "\n",
    "# Plot\n",
    "plt.plot(data['value'])\n",
    "plt.plot(fitted_series, color='darkgreen')\n",
    "plt.fill_between(lower_series.index, \n",
    "                 lower_series, \n",
    "                 upper_series, \n",
    "                 color='k', alpha=.15)\n",
    "\n",
    "plt.title(\"SARIMAX Forecast of a10 - Drug Sales\")\n",
    "plt.show()"
   ]
  },
  {
   "cell_type": "code",
   "execution_count": 15,
   "metadata": {},
   "outputs": [
    {
     "data": {
      "text/plain": [
       "24"
      ]
     },
     "execution_count": 15,
     "metadata": {},
     "output_type": "execute_result"
    }
   ],
   "source": [
    "len(np.tile(seasonal_index.value,2))"
   ]
  },
  {
   "cell_type": "code",
   "execution_count": 16,
   "metadata": {},
   "outputs": [
    {
     "data": {
      "text/html": [
       "<div>\n",
       "<style scoped>\n",
       "    .dataframe tbody tr th:only-of-type {\n",
       "        vertical-align: middle;\n",
       "    }\n",
       "\n",
       "    .dataframe tbody tr th {\n",
       "        vertical-align: top;\n",
       "    }\n",
       "\n",
       "    .dataframe thead th {\n",
       "        text-align: right;\n",
       "    }\n",
       "</style>\n",
       "<table border=\"1\" class=\"dataframe\">\n",
       "  <thead>\n",
       "    <tr style=\"text-align: right;\">\n",
       "      <th></th>\n",
       "      <th>value</th>\n",
       "      <th>month</th>\n",
       "    </tr>\n",
       "    <tr>\n",
       "      <th>date</th>\n",
       "      <th></th>\n",
       "      <th></th>\n",
       "    </tr>\n",
       "  </thead>\n",
       "  <tbody>\n",
       "    <tr>\n",
       "      <th>2007-07-01</th>\n",
       "      <td>0.970490</td>\n",
       "      <td>7</td>\n",
       "    </tr>\n",
       "    <tr>\n",
       "      <th>2007-08-01</th>\n",
       "      <td>1.050900</td>\n",
       "      <td>8</td>\n",
       "    </tr>\n",
       "    <tr>\n",
       "      <th>2007-09-01</th>\n",
       "      <td>0.998881</td>\n",
       "      <td>9</td>\n",
       "    </tr>\n",
       "    <tr>\n",
       "      <th>2007-10-01</th>\n",
       "      <td>1.059657</td>\n",
       "      <td>10</td>\n",
       "    </tr>\n",
       "    <tr>\n",
       "      <th>2007-11-01</th>\n",
       "      <td>1.146141</td>\n",
       "      <td>11</td>\n",
       "    </tr>\n",
       "    <tr>\n",
       "      <th>2007-12-01</th>\n",
       "      <td>1.150750</td>\n",
       "      <td>12</td>\n",
       "    </tr>\n",
       "    <tr>\n",
       "      <th>2008-01-01</th>\n",
       "      <td>1.316913</td>\n",
       "      <td>1</td>\n",
       "    </tr>\n",
       "    <tr>\n",
       "      <th>2008-02-01</th>\n",
       "      <td>0.803279</td>\n",
       "      <td>2</td>\n",
       "    </tr>\n",
       "    <tr>\n",
       "      <th>2008-03-01</th>\n",
       "      <td>0.850667</td>\n",
       "      <td>3</td>\n",
       "    </tr>\n",
       "    <tr>\n",
       "      <th>2008-04-01</th>\n",
       "      <td>0.832227</td>\n",
       "      <td>4</td>\n",
       "    </tr>\n",
       "    <tr>\n",
       "      <th>2008-05-01</th>\n",
       "      <td>0.954751</td>\n",
       "      <td>5</td>\n",
       "    </tr>\n",
       "    <tr>\n",
       "      <th>2008-06-01</th>\n",
       "      <td>0.865344</td>\n",
       "      <td>6</td>\n",
       "    </tr>\n",
       "  </tbody>\n",
       "</table>\n",
       "</div>"
      ],
      "text/plain": [
       "               value  month\n",
       "date                       \n",
       "2007-07-01  0.970490      7\n",
       "2007-08-01  1.050900      8\n",
       "2007-09-01  0.998881      9\n",
       "2007-10-01  1.059657     10\n",
       "2007-11-01  1.146141     11\n",
       "2007-12-01  1.150750     12\n",
       "2008-01-01  1.316913      1\n",
       "2008-02-01  0.803279      2\n",
       "2008-03-01  0.850667      3\n",
       "2008-04-01  0.832227      4\n",
       "2008-05-01  0.954751      5\n",
       "2008-06-01  0.865344      6"
      ]
     },
     "execution_count": 16,
     "metadata": {},
     "output_type": "execute_result"
    }
   ],
   "source": [
    "seasonal_index"
   ]
  },
  {
   "cell_type": "code",
   "execution_count": 17,
   "metadata": {},
   "outputs": [
    {
     "data": {
      "text/plain": [
       "204"
      ]
     },
     "execution_count": 17,
     "metadata": {},
     "output_type": "execute_result"
    }
   ],
   "source": [
    "len(data)"
   ]
  },
  {
   "cell_type": "code",
   "execution_count": 18,
   "metadata": {},
   "outputs": [
    {
     "data": {
      "text/plain": [
       "array([24.12770669, 23.63988566, 23.01797636, 24.85549457, 26.07876238,\n",
       "       26.78156721, 30.52620927, 21.27634116, 20.70198956, 22.29718153,\n",
       "       23.77668763, 21.67211067, 24.57727491, 25.08118197, 24.2970755 ,\n",
       "       25.89793657, 27.38168141, 27.95385132, 31.71049484, 22.49959194,\n",
       "       21.88778758, 23.49981237, 24.97915102, 22.86831088])"
      ]
     },
     "execution_count": 18,
     "metadata": {},
     "output_type": "execute_result"
    }
   ],
   "source": [
    "fitted"
   ]
  },
  {
   "cell_type": "code",
   "execution_count": 19,
   "metadata": {},
   "outputs": [
    {
     "data": {
      "text/plain": [
       "array([[22.32487349, 25.9305399 ],\n",
       "       [21.82894614, 25.45082518],\n",
       "       [21.05266413, 24.9832886 ],\n",
       "       [22.74105552, 26.96993363],\n",
       "       [23.91676935, 28.24075542],\n",
       "       [24.52804977, 29.03508464],\n",
       "       [28.21286957, 32.83954897],\n",
       "       [18.91527036, 23.63741195],\n",
       "       [18.29142704, 23.11255208],\n",
       "       [19.84918312, 24.74517993],\n",
       "       [21.29480687, 26.25856838],\n",
       "       [19.16021344, 24.1840079 ],\n",
       "       [21.73779984, 27.41674999],\n",
       "       [22.20926007, 27.95310387],\n",
       "       [21.33472114, 27.25942987],\n",
       "       [22.85054195, 28.94533118],\n",
       "       [24.29008012, 30.47328269],\n",
       "       [24.80413618, 31.10356646],\n",
       "       [28.51723838, 34.9037513 ],\n",
       "       [19.26994407, 25.72923981],\n",
       "       [18.62319529, 25.15237986],\n",
       "       [20.20686839, 26.79275634],\n",
       "       [21.66089195, 28.29741009],\n",
       "       [19.52770313, 26.20891863]])"
      ]
     },
     "execution_count": 19,
     "metadata": {},
     "output_type": "execute_result"
    }
   ],
   "source": [
    "confint"
   ]
  },
  {
   "cell_type": "code",
   "execution_count": 21,
   "metadata": {},
   "outputs": [
    {
     "data": {
      "text/plain": [
       "2008-06-01    24.127707\n",
       "2008-07-01    23.639886\n",
       "2008-08-01    23.017976\n",
       "2008-09-01    24.855495\n",
       "2008-10-01    26.078762\n",
       "2008-11-01    26.781567\n",
       "2008-12-01    30.526209\n",
       "2009-01-01    21.276341\n",
       "2009-02-01    20.701990\n",
       "2009-03-01    22.297182\n",
       "2009-04-01    23.776688\n",
       "2009-05-01    21.672111\n",
       "2009-06-01    24.577275\n",
       "2009-07-01    25.081182\n",
       "2009-08-01    24.297076\n",
       "2009-09-01    25.897937\n",
       "2009-10-01    27.381681\n",
       "2009-11-01    27.953851\n",
       "2009-12-01    31.710495\n",
       "2010-01-01    22.499592\n",
       "2010-02-01    21.887788\n",
       "2010-03-01    23.499812\n",
       "2010-04-01    24.979151\n",
       "2010-05-01    22.868311\n",
       "Freq: MS, dtype: float64"
      ]
     },
     "execution_count": 21,
     "metadata": {},
     "output_type": "execute_result"
    }
   ],
   "source": [
    "fitted_series"
   ]
  },
  {
   "cell_type": "code",
   "execution_count": 22,
   "metadata": {},
   "outputs": [
    {
     "data": {
      "text/plain": [
       "date\n",
       "1991-07-01     3.526591\n",
       "1991-08-01     3.180891\n",
       "1991-09-01     3.252221\n",
       "1991-10-01     3.611003\n",
       "1991-11-01     3.565869\n",
       "1991-12-01     4.306371\n",
       "1992-01-01     5.088335\n",
       "1992-02-01     2.814520\n",
       "1992-03-01     2.985811\n",
       "1992-04-01     3.204780\n",
       "1992-05-01     3.127578\n",
       "1992-06-01     3.270523\n",
       "1992-07-01     3.737851\n",
       "1992-08-01     3.558776\n",
       "1992-09-01     3.777202\n",
       "1992-10-01     3.924490\n",
       "1992-11-01     4.386531\n",
       "1992-12-01     5.810549\n",
       "1993-01-01     6.192068\n",
       "1993-02-01     3.450857\n",
       "1993-03-01     3.772307\n",
       "1993-04-01     3.734303\n",
       "1993-05-01     3.905399\n",
       "1993-06-01     4.049687\n",
       "1993-07-01     4.315566\n",
       "1993-08-01     4.562185\n",
       "1993-09-01     4.608662\n",
       "1993-10-01     4.667851\n",
       "1993-11-01     5.093841\n",
       "1993-12-01     7.179962\n",
       "                ...    \n",
       "2006-01-01    23.486694\n",
       "2006-02-01    12.536987\n",
       "2006-03-01    15.467018\n",
       "2006-04-01    14.233539\n",
       "2006-05-01    17.783058\n",
       "2006-06-01    16.291602\n",
       "2006-07-01    16.980282\n",
       "2006-08-01    18.612189\n",
       "2006-09-01    16.623343\n",
       "2006-10-01    21.430241\n",
       "2006-11-01    23.575517\n",
       "2006-12-01    23.334206\n",
       "2007-01-01    28.038383\n",
       "2007-02-01    16.763869\n",
       "2007-03-01    19.792754\n",
       "2007-04-01    16.427305\n",
       "2007-05-01    21.000742\n",
       "2007-06-01    20.681002\n",
       "2007-07-01    21.834890\n",
       "2007-08-01    23.930204\n",
       "2007-09-01    22.930357\n",
       "2007-10-01    23.263340\n",
       "2007-11-01    25.250030\n",
       "2007-12-01    25.806090\n",
       "2008-01-01    29.665356\n",
       "2008-02-01    21.654285\n",
       "2008-03-01    18.264945\n",
       "2008-04-01    23.107677\n",
       "2008-05-01    22.912510\n",
       "2008-06-01    19.431740\n",
       "Name: value, Length: 204, dtype: float64"
      ]
     },
     "execution_count": 22,
     "metadata": {},
     "output_type": "execute_result"
    }
   ],
   "source": [
    "data['value']"
   ]
  },
  {
   "cell_type": "code",
   "execution_count": null,
   "metadata": {},
   "outputs": [],
   "source": []
  }
 ],
 "metadata": {
  "kernelspec": {
   "display_name": "Python 3",
   "language": "python",
   "name": "python3"
  },
  "language_info": {
   "codemirror_mode": {
    "name": "ipython",
    "version": 3
   },
   "file_extension": ".py",
   "mimetype": "text/x-python",
   "name": "python",
   "nbconvert_exporter": "python",
   "pygments_lexer": "ipython3",
   "version": "3.7.3"
  }
 },
 "nbformat": 4,
 "nbformat_minor": 2
}
