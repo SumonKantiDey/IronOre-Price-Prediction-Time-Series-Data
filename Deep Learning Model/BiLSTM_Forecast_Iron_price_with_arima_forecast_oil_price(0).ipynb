{
 "cells": [
  {
   "cell_type": "code",
   "execution_count": 1,
   "metadata": {},
   "outputs": [
    {
     "name": "stderr",
     "output_type": "stream",
     "text": [
      "Using TensorFlow backend.\n"
     ]
    }
   ],
   "source": [
    "import numpy as np\n",
    "import matplotlib.pyplot as plt\n",
    "%matplotlib inline\n",
    "from sklearn.linear_model import LinearRegression \n",
    "import matplotlib.pylab as pylab\n",
    "import math,time\n",
    "import sklearn\n",
    "import sklearn.preprocessing\n",
    "import datetime\n",
    "import os\n",
    "import matplotlib.pyplot as plt\n",
    "import keras\n",
    "from keras.models import Sequential\n",
    "from keras.layers import LSTM\n",
    "from keras.layers.core import Dense, Dropout, Activation,Flatten\n",
    "from sklearn.preprocessing import MinMaxScaler\n",
    "from statsmodels.graphics.tsaplots import plot_pacf, plot_acf\n",
    "from keras.layers import Bidirectional\n",
    "test_set_size_percentage = 20 \n",
    "import pandas as pd\n",
    "from pandas import read_csv\n",
    "from sklearn.metrics import r2_score,mean_squared_error "
   ]
  },
  {
   "cell_type": "code",
   "execution_count": 2,
   "metadata": {},
   "outputs": [
    {
     "data": {
      "text/html": [
       "<div>\n",
       "<style scoped>\n",
       "    .dataframe tbody tr th:only-of-type {\n",
       "        vertical-align: middle;\n",
       "    }\n",
       "\n",
       "    .dataframe tbody tr th {\n",
       "        vertical-align: top;\n",
       "    }\n",
       "\n",
       "    .dataframe thead th {\n",
       "        text-align: right;\n",
       "    }\n",
       "</style>\n",
       "<table border=\"1\" class=\"dataframe\">\n",
       "  <thead>\n",
       "    <tr style=\"text-align: right;\">\n",
       "      <th></th>\n",
       "      <th>ironprice</th>\n",
       "      <th>oildata</th>\n",
       "    </tr>\n",
       "    <tr>\n",
       "      <th>date</th>\n",
       "      <th></th>\n",
       "      <th></th>\n",
       "    </tr>\n",
       "  </thead>\n",
       "  <tbody>\n",
       "    <tr>\n",
       "      <td>2010-10-31</td>\n",
       "      <td>148.48</td>\n",
       "      <td>79.662</td>\n",
       "    </tr>\n",
       "    <tr>\n",
       "      <td>2010-11-30</td>\n",
       "      <td>160.55</td>\n",
       "      <td>79.662</td>\n",
       "    </tr>\n",
       "    <tr>\n",
       "      <td>2010-12-31</td>\n",
       "      <td>168.53</td>\n",
       "      <td>79.662</td>\n",
       "    </tr>\n",
       "    <tr>\n",
       "      <td>2011-01-31</td>\n",
       "      <td>179.63</td>\n",
       "      <td>79.662</td>\n",
       "    </tr>\n",
       "    <tr>\n",
       "      <td>2011-02-28</td>\n",
       "      <td>187.18</td>\n",
       "      <td>79.662</td>\n",
       "    </tr>\n",
       "  </tbody>\n",
       "</table>\n",
       "</div>"
      ],
      "text/plain": [
       "            ironprice  oildata\n",
       "date                          \n",
       "2010-10-31     148.48   79.662\n",
       "2010-11-30     160.55   79.662\n",
       "2010-12-31     168.53   79.662\n",
       "2011-01-31     179.63   79.662\n",
       "2011-02-28     187.18   79.662"
      ]
     },
     "execution_count": 2,
     "metadata": {},
     "output_type": "execute_result"
    }
   ],
   "source": [
    "data=pd.read_csv('dataset/iron_oilmonthly.csv',parse_dates=['date'])\n",
    "data=data.dropna()\n",
    "#df=data[['oildata','date']]\n",
    "data=data.set_index('date')\n",
    "data=data.dropna()\n",
    "data.head()"
   ]
  },
  {
   "cell_type": "code",
   "execution_count": 3,
   "metadata": {},
   "outputs": [],
   "source": [
    "data['oildata_lag']=data['oildata'].shift(1)\n",
    "#data=data.set_index('date')\n",
    "data['rolling_mean_price']=data['oildata_lag'].rolling(2, min_periods=1).sum()\n",
    "data=data.dropna()"
   ]
  },
  {
   "cell_type": "code",
   "execution_count": 4,
   "metadata": {},
   "outputs": [],
   "source": [
    "# function for min-max normalization of Iron Ore \n",
    "min_max_scaler = sklearn.preprocessing.MinMaxScaler()\n",
    "def normalize_data(df):\n",
    "    df['oildata'] = min_max_scaler.fit_transform(df.oildata.values.reshape(-1,1))\n",
    "    df['oildata_lag'] = min_max_scaler.fit_transform(df.oildata_lag.values.reshape(-1,1))\n",
    "    df['ironprice'] = min_max_scaler.fit_transform(df.ironprice.values.reshape(-1,1))\n",
    "    df['rolling_mean_price'] = min_max_scaler.fit_transform(df.rolling_mean_price.values.reshape(-1,1))\n",
    "    return df"
   ]
  },
  {
   "cell_type": "code",
   "execution_count": 5,
   "metadata": {},
   "outputs": [
    {
     "data": {
      "text/html": [
       "<div>\n",
       "<style scoped>\n",
       "    .dataframe tbody tr th:only-of-type {\n",
       "        vertical-align: middle;\n",
       "    }\n",
       "\n",
       "    .dataframe tbody tr th {\n",
       "        vertical-align: top;\n",
       "    }\n",
       "\n",
       "    .dataframe thead th {\n",
       "        text-align: right;\n",
       "    }\n",
       "</style>\n",
       "<table border=\"1\" class=\"dataframe\">\n",
       "  <thead>\n",
       "    <tr style=\"text-align: right;\">\n",
       "      <th></th>\n",
       "      <th>ironprice</th>\n",
       "      <th>oildata</th>\n",
       "      <th>oildata_lag</th>\n",
       "      <th>rolling_mean_price</th>\n",
       "    </tr>\n",
       "    <tr>\n",
       "      <th>date</th>\n",
       "      <th></th>\n",
       "      <th></th>\n",
       "      <th></th>\n",
       "      <th></th>\n",
       "    </tr>\n",
       "  </thead>\n",
       "  <tbody>\n",
       "    <tr>\n",
       "      <td>2010-11-30</td>\n",
       "      <td>0.817977</td>\n",
       "      <td>0.551036</td>\n",
       "      <td>0.551036</td>\n",
       "      <td>0.131441</td>\n",
       "    </tr>\n",
       "    <tr>\n",
       "      <td>2010-12-31</td>\n",
       "      <td>0.872522</td>\n",
       "      <td>0.551036</td>\n",
       "      <td>0.551036</td>\n",
       "      <td>0.559881</td>\n",
       "    </tr>\n",
       "    <tr>\n",
       "      <td>2011-01-31</td>\n",
       "      <td>0.948394</td>\n",
       "      <td>0.551036</td>\n",
       "      <td>0.551036</td>\n",
       "      <td>0.559881</td>\n",
       "    </tr>\n",
       "    <tr>\n",
       "      <td>2011-02-28</td>\n",
       "      <td>1.000000</td>\n",
       "      <td>0.551036</td>\n",
       "      <td>0.551036</td>\n",
       "      <td>0.559881</td>\n",
       "    </tr>\n",
       "    <tr>\n",
       "      <td>2011-03-31</td>\n",
       "      <td>0.878195</td>\n",
       "      <td>0.551036</td>\n",
       "      <td>0.551036</td>\n",
       "      <td>0.559881</td>\n",
       "    </tr>\n",
       "  </tbody>\n",
       "</table>\n",
       "</div>"
      ],
      "text/plain": [
       "            ironprice   oildata  oildata_lag  rolling_mean_price\n",
       "date                                                            \n",
       "2010-11-30   0.817977  0.551036     0.551036            0.131441\n",
       "2010-12-31   0.872522  0.551036     0.551036            0.559881\n",
       "2011-01-31   0.948394  0.551036     0.551036            0.559881\n",
       "2011-02-28   1.000000  0.551036     0.551036            0.559881\n",
       "2011-03-31   0.878195  0.551036     0.551036            0.559881"
      ]
     },
     "execution_count": 5,
     "metadata": {},
     "output_type": "execute_result"
    }
   ],
   "source": [
    "# normalize stock\n",
    "df = data.copy()\n",
    "df = normalize_data(df)\n",
    "df.head()"
   ]
  },
  {
   "cell_type": "code",
   "execution_count": 6,
   "metadata": {},
   "outputs": [],
   "source": [
    "train,test=df[:80],df[80:]"
   ]
  },
  {
   "cell_type": "code",
   "execution_count": 7,
   "metadata": {},
   "outputs": [
    {
     "data": {
      "text/html": [
       "<div>\n",
       "<style scoped>\n",
       "    .dataframe tbody tr th:only-of-type {\n",
       "        vertical-align: middle;\n",
       "    }\n",
       "\n",
       "    .dataframe tbody tr th {\n",
       "        vertical-align: top;\n",
       "    }\n",
       "\n",
       "    .dataframe thead th {\n",
       "        text-align: right;\n",
       "    }\n",
       "</style>\n",
       "<table border=\"1\" class=\"dataframe\">\n",
       "  <thead>\n",
       "    <tr style=\"text-align: right;\">\n",
       "      <th></th>\n",
       "      <th>ironprice</th>\n",
       "      <th>oildata</th>\n",
       "      <th>oildata_lag</th>\n",
       "      <th>rolling_mean_price</th>\n",
       "    </tr>\n",
       "    <tr>\n",
       "      <th>date</th>\n",
       "      <th></th>\n",
       "      <th></th>\n",
       "      <th></th>\n",
       "      <th></th>\n",
       "    </tr>\n",
       "  </thead>\n",
       "  <tbody>\n",
       "    <tr>\n",
       "      <td>2017-02-28</td>\n",
       "      <td>0.328571</td>\n",
       "      <td>0.172056</td>\n",
       "      <td>0.167704</td>\n",
       "      <td>0.179077</td>\n",
       "    </tr>\n",
       "    <tr>\n",
       "      <td>2017-03-31</td>\n",
       "      <td>0.316610</td>\n",
       "      <td>0.169818</td>\n",
       "      <td>0.172056</td>\n",
       "      <td>0.164364</td>\n",
       "    </tr>\n",
       "    <tr>\n",
       "      <td>2017-04-30</td>\n",
       "      <td>0.201777</td>\n",
       "      <td>0.221458</td>\n",
       "      <td>0.169818</td>\n",
       "      <td>0.165462</td>\n",
       "    </tr>\n",
       "    <tr>\n",
       "      <td>2017-05-31</td>\n",
       "      <td>0.141832</td>\n",
       "      <td>0.173263</td>\n",
       "      <td>0.221458</td>\n",
       "      <td>0.191093</td>\n",
       "    </tr>\n",
       "    <tr>\n",
       "      <td>2017-06-30</td>\n",
       "      <td>0.116063</td>\n",
       "      <td>0.260908</td>\n",
       "      <td>0.173263</td>\n",
       "      <td>0.192881</td>\n",
       "    </tr>\n",
       "  </tbody>\n",
       "</table>\n",
       "</div>"
      ],
      "text/plain": [
       "            ironprice   oildata  oildata_lag  rolling_mean_price\n",
       "date                                                            \n",
       "2017-02-28   0.328571  0.172056     0.167704            0.179077\n",
       "2017-03-31   0.316610  0.169818     0.172056            0.164364\n",
       "2017-04-30   0.201777  0.221458     0.169818            0.165462\n",
       "2017-05-31   0.141832  0.173263     0.221458            0.191093\n",
       "2017-06-30   0.116063  0.260908     0.173263            0.192881"
      ]
     },
     "execution_count": 7,
     "metadata": {},
     "output_type": "execute_result"
    }
   ],
   "source": [
    "train.tail()"
   ]
  },
  {
   "cell_type": "code",
   "execution_count": 8,
   "metadata": {},
   "outputs": [
    {
     "data": {
      "text/html": [
       "<div>\n",
       "<style scoped>\n",
       "    .dataframe tbody tr th:only-of-type {\n",
       "        vertical-align: middle;\n",
       "    }\n",
       "\n",
       "    .dataframe tbody tr th {\n",
       "        vertical-align: top;\n",
       "    }\n",
       "\n",
       "    .dataframe thead th {\n",
       "        text-align: right;\n",
       "    }\n",
       "</style>\n",
       "<table border=\"1\" class=\"dataframe\">\n",
       "  <thead>\n",
       "    <tr style=\"text-align: right;\">\n",
       "      <th></th>\n",
       "      <th>ironprice</th>\n",
       "      <th>oildata</th>\n",
       "      <th>oildata_lag</th>\n",
       "      <th>rolling_mean_price</th>\n",
       "    </tr>\n",
       "    <tr>\n",
       "      <th>date</th>\n",
       "      <th></th>\n",
       "      <th></th>\n",
       "      <th></th>\n",
       "      <th></th>\n",
       "    </tr>\n",
       "  </thead>\n",
       "  <tbody>\n",
       "    <tr>\n",
       "      <td>2017-07-31</td>\n",
       "      <td>0.176760</td>\n",
       "      <td>0.268411</td>\n",
       "      <td>0.260908</td>\n",
       "      <td>0.213348</td>\n",
       "    </tr>\n",
       "    <tr>\n",
       "      <td>2017-08-31</td>\n",
       "      <td>0.230417</td>\n",
       "      <td>0.278490</td>\n",
       "      <td>0.268411</td>\n",
       "      <td>0.262715</td>\n",
       "    </tr>\n",
       "    <tr>\n",
       "      <td>2017-09-30</td>\n",
       "      <td>0.193848</td>\n",
       "      <td>0.246857</td>\n",
       "      <td>0.278490</td>\n",
       "      <td>0.271837</td>\n",
       "    </tr>\n",
       "    <tr>\n",
       "      <td>2017-10-31</td>\n",
       "      <td>0.137867</td>\n",
       "      <td>0.257753</td>\n",
       "      <td>0.246857</td>\n",
       "      <td>0.260654</td>\n",
       "    </tr>\n",
       "    <tr>\n",
       "      <td>2017-11-30</td>\n",
       "      <td>0.153999</td>\n",
       "      <td>0.235301</td>\n",
       "      <td>0.257753</td>\n",
       "      <td>0.249895</td>\n",
       "    </tr>\n",
       "  </tbody>\n",
       "</table>\n",
       "</div>"
      ],
      "text/plain": [
       "            ironprice   oildata  oildata_lag  rolling_mean_price\n",
       "date                                                            \n",
       "2017-07-31   0.176760  0.268411     0.260908            0.213348\n",
       "2017-08-31   0.230417  0.278490     0.268411            0.262715\n",
       "2017-09-30   0.193848  0.246857     0.278490            0.271837\n",
       "2017-10-31   0.137867  0.257753     0.246857            0.260654\n",
       "2017-11-30   0.153999  0.235301     0.257753            0.249895"
      ]
     },
     "execution_count": 8,
     "metadata": {},
     "output_type": "execute_result"
    }
   ],
   "source": [
    "test.head()"
   ]
  },
  {
   "cell_type": "code",
   "execution_count": 9,
   "metadata": {},
   "outputs": [
    {
     "name": "stdout",
     "output_type": "stream",
     "text": [
      "80 23\n"
     ]
    }
   ],
   "source": [
    "print(len(train), len(test))"
   ]
  },
  {
   "cell_type": "code",
   "execution_count": 10,
   "metadata": {},
   "outputs": [
    {
     "name": "stderr",
     "output_type": "stream",
     "text": [
      "C:\\Users\\sumon\\Anaconda3\\envs\\tensorflow\\lib\\site-packages\\ipykernel_launcher.py:1: FutureWarning: Method .as_matrix will be removed in a future version. Use .values instead.\n",
      "  \"\"\"Entry point for launching an IPython kernel.\n",
      "C:\\Users\\sumon\\Anaconda3\\envs\\tensorflow\\lib\\site-packages\\ipykernel_launcher.py:2: FutureWarning: Method .as_matrix will be removed in a future version. Use .values instead.\n",
      "  \n"
     ]
    }
   ],
   "source": [
    "train_data_raw = train.as_matrix()\n",
    "test_data_raw = test.as_matrix()"
   ]
  },
  {
   "cell_type": "code",
   "execution_count": 11,
   "metadata": {},
   "outputs": [
    {
     "name": "stdout",
     "output_type": "stream",
     "text": [
      "train data shape =  (80, 4)\n",
      "test data shape =  (23, 4)\n"
     ]
    }
   ],
   "source": [
    "print(\"train data shape = \", train_data_raw.shape)\n",
    "print(\"test data shape = \",test_data_raw.shape)"
   ]
  },
  {
   "cell_type": "code",
   "execution_count": 12,
   "metadata": {},
   "outputs": [],
   "source": [
    "x_train = train_data_raw[:,1:] #without Iron price column of train\n",
    "y_train = train_data_raw[:,0] #Only Iron price column of train\n",
    "\n",
    "x_test = test_data_raw[:,1:] #without Iron price column of test\n",
    "y_test = test_data_raw[:,0]  #Only Iron price column of test"
   ]
  },
  {
   "cell_type": "code",
   "execution_count": 13,
   "metadata": {},
   "outputs": [
    {
     "data": {
      "text/plain": [
       "array([[0.55103581, 0.55103581, 0.13144078],\n",
       "       [0.55103581, 0.55103581, 0.55988062],\n",
       "       [0.55103581, 0.55103581, 0.55988062],\n",
       "       [0.55103581, 0.55103581, 0.55988062],\n",
       "       [0.55103581, 0.55103581, 0.55988062]])"
      ]
     },
     "execution_count": 13,
     "metadata": {},
     "output_type": "execute_result"
    }
   ],
   "source": [
    "x_train[0:5]"
   ]
  },
  {
   "cell_type": "code",
   "execution_count": 14,
   "metadata": {},
   "outputs": [
    {
     "data": {
      "text/plain": [
       "array([0.81797676, 0.87252221, 0.94839371, 1.        , 0.87819549])"
      ]
     },
     "execution_count": 14,
     "metadata": {},
     "output_type": "execute_result"
    }
   ],
   "source": [
    "y_train[0:5]"
   ]
  },
  {
   "cell_type": "code",
   "execution_count": 15,
   "metadata": {},
   "outputs": [
    {
     "data": {
      "text/plain": [
       "array([[0.81797676, 0.55103581, 0.55103581, 0.13144078],\n",
       "       [0.87252221, 0.55103581, 0.55103581, 0.55988062],\n",
       "       [0.94839371, 0.55103581, 0.55103581, 0.55988062],\n",
       "       [1.        , 0.55103581, 0.55103581, 0.55988062],\n",
       "       [0.87819549, 0.55103581, 0.55103581, 0.55988062]])"
      ]
     },
     "execution_count": 15,
     "metadata": {},
     "output_type": "execute_result"
    }
   ],
   "source": [
    "train_data_raw[0:5]"
   ]
  },
  {
   "cell_type": "code",
   "execution_count": 16,
   "metadata": {},
   "outputs": [],
   "source": [
    "# def denormalize(df, normalized_value): \n",
    "#     df = df['Price'].values.reshape(-1,1)\n",
    "#     print(df[:5])\n",
    "#     normalized_value = normalized_value.reshape(-1,1)\n",
    "#     #return df.shape, p.shape\n",
    "#     print(normalized_value[0:5])\n",
    "#     min_max_scaler = sklearn.preprocessing.MinMaxScaler()\n",
    "#     a = min_max_scaler.fit_transform(df)\n",
    "#     print(a[:5])\n",
    "#     new = min_max_scaler.inverse_transform(normalized_value)\n",
    "#     print(new[:10])\n",
    "#     return new\n",
    "\n",
    "# #newp = denormalize(test_value_store, pred_price)\n",
    "# newy_test = denormalize(data, y_test)"
   ]
  },
  {
   "cell_type": "code",
   "execution_count": 17,
   "metadata": {},
   "outputs": [
    {
     "name": "stdout",
     "output_type": "stream",
     "text": [
      "x_train.shape =  (80, 3)\n",
      "y_train.shape =  (80,)\n",
      "x_test.shape =  (23, 3)\n",
      "y_test.shape =  (23,)\n"
     ]
    }
   ],
   "source": [
    "print('x_train.shape = ',x_train.shape)\n",
    "print('y_train.shape = ', y_train.shape)\n",
    "print('x_test.shape = ', x_test.shape)\n",
    "print('y_test.shape = ',y_test.shape)"
   ]
  },
  {
   "cell_type": "code",
   "execution_count": 18,
   "metadata": {},
   "outputs": [
    {
     "data": {
      "text/plain": [
       "(23, 1, 3)"
      ]
     },
     "execution_count": 18,
     "metadata": {},
     "output_type": "execute_result"
    }
   ],
   "source": [
    "#Reshape data for (Sample,Timestep,Features) \n",
    "x_train = x_train.reshape((x_train.shape[0],1,x_train.shape[1]))\n",
    "x_test = x_test.reshape((x_test.shape[0],1,x_test.shape[1]))\n",
    "#x_forecast = x_forecast.reshape((x_forecast.shape[0],1,x_test.shape[1]))\n",
    "x_test.shape"
   ]
  },
  {
   "cell_type": "code",
   "execution_count": 19,
   "metadata": {},
   "outputs": [],
   "source": [
    "(train_dim, train_timestep , train_feat) = x_train.shape\n",
    "(test_dim, test_timestep , test_feat) = x_test.shape"
   ]
  },
  {
   "cell_type": "code",
   "execution_count": 20,
   "metadata": {},
   "outputs": [
    {
     "name": "stdout",
     "output_type": "stream",
     "text": [
      "Build Model\n",
      "Compilation Time :  0.031243562698364258\n"
     ]
    },
    {
     "data": {
      "text/plain": [
       "'\\nmodel = Sequential()\\n\\nmodel.add(Bidirectional(LSTM(32, input_shape=(train_timestep,train_feat), return_sequences=True)))\\n#model.add(Dropout(0.3))\\n\\nmodel.add(Dense(16,kernel_initializer=\"uniform\",activation=\\'relu\\'))  \\nmodel.add(Flatten())\\nmodel.add(Dense(1,kernel_initializer=\"uniform\",activation=\\'linear\\'))\\n\\n# adam = keras.optimizers.Adam(decay=0.2)\\n\\nstart = time.time()\\nmodel.compile(loss=\\'mse\\',optimizer=\\'adam\\', metrics=[\\'accuracy\\'])\\nprint(\"Compilation Time : \", time.time() - start)\\n'"
      ]
     },
     "execution_count": 20,
     "metadata": {},
     "output_type": "execute_result"
    }
   ],
   "source": [
    "print(\"Build Model\")\n",
    " \n",
    "model = Sequential()\n",
    "\n",
    "model.add(LSTM(32, input_shape=(train_timestep,train_feat), return_sequences=True))\n",
    "#model.add(Dropout(0.3))\n",
    "\n",
    "model.add(LSTM(16, input_shape=(train_timestep,train_feat), return_sequences=False))\n",
    "#model.add(Dropout(0.3))\n",
    "\n",
    "model.add(Dense(8,kernel_initializer=\"uniform\",activation='relu'))        \n",
    "model.add(Dense(1,kernel_initializer=\"uniform\",activation='linear'))\n",
    "\n",
    "# adam = keras.optimizers.Adam(decay=0.2)\n",
    "\n",
    "start = time.time()\n",
    "model.compile(loss='mse',optimizer='adam', metrics=['accuracy'])\n",
    "print(\"Compilation Time : \", time.time() - start)\n",
    "\"\"\"\n",
    "model = Sequential()\n",
    "\n",
    "model.add(Bidirectional(LSTM(32, input_shape=(train_timestep,train_feat), return_sequences=True)))\n",
    "#model.add(Dropout(0.3))\n",
    "\n",
    "model.add(Dense(16,kernel_initializer=\"uniform\",activation='relu'))  \n",
    "model.add(Flatten())\n",
    "model.add(Dense(1,kernel_initializer=\"uniform\",activation='linear'))\n",
    "\n",
    "# adam = keras.optimizers.Adam(decay=0.2)\n",
    "\n",
    "start = time.time()\n",
    "model.compile(loss='mse',optimizer='adam', metrics=['accuracy'])\n",
    "print(\"Compilation Time : \", time.time() - start)\n",
    "\"\"\""
   ]
  },
  {
   "cell_type": "code",
   "execution_count": 21,
   "metadata": {},
   "outputs": [
    {
     "name": "stdout",
     "output_type": "stream",
     "text": [
      "WARNING:tensorflow:From C:\\Users\\sumon\\Anaconda3\\envs\\tensorflow\\lib\\site-packages\\keras\\backend\\tensorflow_backend.py:422: The name tf.global_variables is deprecated. Please use tf.compat.v1.global_variables instead.\n",
      "\n",
      "Epoch 1/20\n",
      "80/80 [==============================] - 1s 8ms/step - loss: 0.2468 - accuracy: 0.0125\n",
      "Epoch 2/20\n",
      "80/80 [==============================] - 0s 2ms/step - loss: 0.1087 - accuracy: 0.0125\n",
      "Epoch 3/20\n",
      "80/80 [==============================] - 0s 2ms/step - loss: 0.0651 - accuracy: 0.0125\n",
      "Epoch 4/20\n",
      "80/80 [==============================] - 0s 2ms/step - loss: 0.0631 - accuracy: 0.0125\n",
      "Epoch 5/20\n",
      "80/80 [==============================] - 0s 2ms/step - loss: 0.0622 - accuracy: 0.0125\n",
      "Epoch 6/20\n",
      "80/80 [==============================] - 0s 2ms/step - loss: 0.0615 - accuracy: 0.0125\n",
      "Epoch 7/20\n",
      "80/80 [==============================] - 0s 2ms/step - loss: 0.0612 - accuracy: 0.0125\n",
      "Epoch 8/20\n",
      "80/80 [==============================] - 0s 2ms/step - loss: 0.0614 - accuracy: 0.0125\n",
      "Epoch 9/20\n",
      "80/80 [==============================] - 0s 2ms/step - loss: 0.0598 - accuracy: 0.0125\n",
      "Epoch 10/20\n",
      "80/80 [==============================] - 0s 2ms/step - loss: 0.0605 - accuracy: 0.0125\n",
      "Epoch 11/20\n",
      "80/80 [==============================] - 0s 2ms/step - loss: 0.0597 - accuracy: 0.0125\n",
      "Epoch 12/20\n",
      "80/80 [==============================] - 0s 2ms/step - loss: 0.0602 - accuracy: 0.0125\n",
      "Epoch 13/20\n",
      "80/80 [==============================] - 0s 2ms/step - loss: 0.0595 - accuracy: 0.0125\n",
      "Epoch 14/20\n",
      "80/80 [==============================] - 0s 2ms/step - loss: 0.0593 - accuracy: 0.0125\n",
      "Epoch 15/20\n",
      "80/80 [==============================] - 0s 2ms/step - loss: 0.0588 - accuracy: 0.0125\n",
      "Epoch 16/20\n",
      "80/80 [==============================] - 0s 2ms/step - loss: 0.0588 - accuracy: 0.0125\n",
      "Epoch 17/20\n",
      "80/80 [==============================] - 0s 2ms/step - loss: 0.0594 - accuracy: 0.0125\n",
      "Epoch 18/20\n",
      "80/80 [==============================] - 0s 2ms/step - loss: 0.0586 - accuracy: 0.0125\n",
      "Epoch 19/20\n",
      "80/80 [==============================] - 0s 2ms/step - loss: 0.0579 - accuracy: 0.0125\n",
      "Epoch 20/20\n",
      "80/80 [==============================] - 0s 2ms/step - loss: 0.0583 - accuracy: 0.0125\n"
     ]
    }
   ],
   "source": [
    "#Fit model with history to check for overfitting\n",
    "history = model.fit(x_train,y_train,batch_size = 1,epochs=20,shuffle=True)"
   ]
  },
  {
   "cell_type": "code",
   "execution_count": 22,
   "metadata": {},
   "outputs": [
    {
     "name": "stdout",
     "output_type": "stream",
     "text": [
      "Model: \"sequential_1\"\n",
      "_________________________________________________________________\n",
      "Layer (type)                 Output Shape              Param #   \n",
      "=================================================================\n",
      "lstm_1 (LSTM)                (None, 1, 32)             4608      \n",
      "_________________________________________________________________\n",
      "lstm_2 (LSTM)                (None, 16)                3136      \n",
      "_________________________________________________________________\n",
      "dense_1 (Dense)              (None, 8)                 136       \n",
      "_________________________________________________________________\n",
      "dense_2 (Dense)              (None, 1)                 9         \n",
      "=================================================================\n",
      "Total params: 7,889\n",
      "Trainable params: 7,889\n",
      "Non-trainable params: 0\n",
      "_________________________________________________________________\n"
     ]
    }
   ],
   "source": [
    "model.summary()"
   ]
  },
  {
   "cell_type": "code",
   "execution_count": 23,
   "metadata": {},
   "outputs": [
    {
     "name": "stdout",
     "output_type": "stream",
     "text": [
      "Saved model to disk\n"
     ]
    }
   ],
   "source": [
    "# serialize model to JSON\n",
    "model_json = model.to_json()\n",
    "with open(\"model.json\", \"w\") as json_file:\n",
    "    json_file.write(model_json)\n",
    "# serialize weights to HDF5\n",
    "model.save_weights(\"model.h5\")\n",
    "print(\"Saved model to disk\")"
   ]
  },
  {
   "cell_type": "code",
   "execution_count": 24,
   "metadata": {},
   "outputs": [
    {
     "name": "stdout",
     "output_type": "stream",
     "text": [
      "Loaded model from disk\n"
     ]
    }
   ],
   "source": [
    "# load json and create model\n",
    "from keras.models import model_from_json\n",
    "json_file = open('model.json', 'r')\n",
    "loaded_model_json = json_file.read()\n",
    "json_file.close()\n",
    "model = model_from_json(loaded_model_json)\n",
    "# load weights into new model\n",
    "model.load_weights(\"model.h5\")\n",
    "print(\"Loaded model from disk\")\n",
    " \n",
    "# evaluate loaded model on test data\n",
    "model.compile(loss='mse',optimizer='adam', metrics=['accuracy'])"
   ]
  },
  {
   "cell_type": "code",
   "execution_count": 25,
   "metadata": {},
   "outputs": [
    {
     "name": "stdout",
     "output_type": "stream",
     "text": [
      "23/23 [==============================] - 0s 6ms/step\n"
     ]
    }
   ],
   "source": [
    "pred_price = model.predict(x_test,batch_size=1,verbose=1)"
   ]
  },
  {
   "cell_type": "code",
   "execution_count": 26,
   "metadata": {},
   "outputs": [
    {
     "data": {
      "text/plain": [
       "array([[0.27124348],\n",
       "       [0.28602466],\n",
       "       [0.2815585 ],\n",
       "       [0.27534732],\n",
       "       [0.2693615 ],\n",
       "       [0.25225547],\n",
       "       [0.24142827],\n",
       "       [0.24995472],\n",
       "       [0.2714091 ],\n",
       "       [0.29315758],\n",
       "       [0.31923988],\n",
       "       [0.34285542],\n",
       "       [0.36627212],\n",
       "       [0.37416008],\n",
       "       [0.3692234 ],\n",
       "       [0.3790554 ],\n",
       "       [0.40910336],\n",
       "       [0.4289321 ],\n",
       "       [0.4321242 ],\n",
       "       [0.4288508 ],\n",
       "       [0.4380776 ],\n",
       "       [0.45654398],\n",
       "       [0.43372604]], dtype=float32)"
      ]
     },
     "execution_count": 26,
     "metadata": {},
     "output_type": "execute_result"
    }
   ],
   "source": [
    "pred_price"
   ]
  },
  {
   "cell_type": "code",
   "execution_count": 27,
   "metadata": {},
   "outputs": [],
   "source": [
    "def denormalize(df, normalized_value): \n",
    "    df = df['ironprice'].values.reshape(-1,1)\n",
    "    normalized_value = normalized_value.reshape(-1,1)\n",
    "    #return df.shape, p.shape\n",
    "    min_max_scaler = sklearn.preprocessing.MinMaxScaler()\n",
    "    a = min_max_scaler.fit_transform(df)\n",
    "    new = min_max_scaler.inverse_transform(normalized_value)\n",
    "    return new\n",
    "\n",
    "newp = denormalize(data, pred_price)\n",
    "newy_test = denormalize(data, y_test)"
   ]
  },
  {
   "cell_type": "code",
   "execution_count": 28,
   "metadata": {},
   "outputs": [
    {
     "data": {
      "text/plain": [
       "array([[ 80.56292 ],\n",
       "       [ 82.7254  ],\n",
       "       [ 82.072014],\n",
       "       [ 81.163315],\n",
       "       [ 80.28759 ],\n",
       "       [ 77.78497 ],\n",
       "       [ 76.20096 ],\n",
       "       [ 77.44838 ],\n",
       "       [ 80.58715 ],\n",
       "       [ 83.76896 ],\n",
       "       [ 87.58479 ],\n",
       "       [ 91.03975 ],\n",
       "       [ 94.46561 ],\n",
       "       [ 95.61962 ],\n",
       "       [ 94.89738 ],\n",
       "       [ 96.33581 ],\n",
       "       [100.73182 ],\n",
       "       [103.63277 ],\n",
       "       [104.09977 ],\n",
       "       [103.62087 ],\n",
       "       [104.97075 ],\n",
       "       [107.672386],\n",
       "       [104.33412 ]], dtype=float32)"
      ]
     },
     "execution_count": 28,
     "metadata": {},
     "output_type": "execute_result"
    }
   ],
   "source": [
    "newp"
   ]
  },
  {
   "cell_type": "code",
   "execution_count": 29,
   "metadata": {},
   "outputs": [
    {
     "data": {
      "text/plain": [
       "array([[66.74],\n",
       "       [74.59],\n",
       "       [69.24],\n",
       "       [61.05],\n",
       "       [63.41],\n",
       "       [71.74],\n",
       "       [75.78],\n",
       "       [77.65],\n",
       "       [71.32],\n",
       "       [66.33],\n",
       "       [66.63],\n",
       "       [66.86],\n",
       "       [67.05],\n",
       "       [68.02],\n",
       "       [68.8 ],\n",
       "       [72.02],\n",
       "       [72.3 ],\n",
       "       [68.9 ],\n",
       "       [69.2 ],\n",
       "       [76.2 ],\n",
       "       [88.2 ],\n",
       "       [86.5 ],\n",
       "       [93.7 ]])"
      ]
     },
     "execution_count": 29,
     "metadata": {},
     "output_type": "execute_result"
    }
   ],
   "source": [
    "newy_test"
   ]
  },
  {
   "cell_type": "code",
   "execution_count": 30,
   "metadata": {},
   "outputs": [],
   "source": [
    "pred_oil_pirce = pd.concat([pd.DataFrame(newp),pd.DataFrame(newy_test)], axis=1) \n",
    "pred_oil_pirce.columns = ['Pred_Oil_Price','Actual_Oil_Price']\n",
    "pred_oil_pirce['date'] = test.index\n",
    "pred_oil_pirce = pred_oil_pirce.set_index('date')"
   ]
  },
  {
   "cell_type": "code",
   "execution_count": 31,
   "metadata": {},
   "outputs": [
    {
     "data": {
      "text/html": [
       "<div>\n",
       "<style scoped>\n",
       "    .dataframe tbody tr th:only-of-type {\n",
       "        vertical-align: middle;\n",
       "    }\n",
       "\n",
       "    .dataframe tbody tr th {\n",
       "        vertical-align: top;\n",
       "    }\n",
       "\n",
       "    .dataframe thead th {\n",
       "        text-align: right;\n",
       "    }\n",
       "</style>\n",
       "<table border=\"1\" class=\"dataframe\">\n",
       "  <thead>\n",
       "    <tr style=\"text-align: right;\">\n",
       "      <th></th>\n",
       "      <th>Pred_Oil_Price</th>\n",
       "      <th>Actual_Oil_Price</th>\n",
       "    </tr>\n",
       "    <tr>\n",
       "      <th>date</th>\n",
       "      <th></th>\n",
       "      <th></th>\n",
       "    </tr>\n",
       "  </thead>\n",
       "  <tbody>\n",
       "    <tr>\n",
       "      <td>2017-07-31</td>\n",
       "      <td>80.562920</td>\n",
       "      <td>66.74</td>\n",
       "    </tr>\n",
       "    <tr>\n",
       "      <td>2017-08-31</td>\n",
       "      <td>82.725403</td>\n",
       "      <td>74.59</td>\n",
       "    </tr>\n",
       "    <tr>\n",
       "      <td>2017-09-30</td>\n",
       "      <td>82.072014</td>\n",
       "      <td>69.24</td>\n",
       "    </tr>\n",
       "    <tr>\n",
       "      <td>2017-10-31</td>\n",
       "      <td>81.163315</td>\n",
       "      <td>61.05</td>\n",
       "    </tr>\n",
       "    <tr>\n",
       "      <td>2017-11-30</td>\n",
       "      <td>80.287590</td>\n",
       "      <td>63.41</td>\n",
       "    </tr>\n",
       "    <tr>\n",
       "      <td>2017-12-31</td>\n",
       "      <td>77.784973</td>\n",
       "      <td>71.74</td>\n",
       "    </tr>\n",
       "    <tr>\n",
       "      <td>2018-01-31</td>\n",
       "      <td>76.200958</td>\n",
       "      <td>75.78</td>\n",
       "    </tr>\n",
       "    <tr>\n",
       "      <td>2018-02-28</td>\n",
       "      <td>77.448380</td>\n",
       "      <td>77.65</td>\n",
       "    </tr>\n",
       "    <tr>\n",
       "      <td>2018-03-31</td>\n",
       "      <td>80.587151</td>\n",
       "      <td>71.32</td>\n",
       "    </tr>\n",
       "    <tr>\n",
       "      <td>2018-04-30</td>\n",
       "      <td>83.768959</td>\n",
       "      <td>66.33</td>\n",
       "    </tr>\n",
       "    <tr>\n",
       "      <td>2018-05-31</td>\n",
       "      <td>87.584793</td>\n",
       "      <td>66.63</td>\n",
       "    </tr>\n",
       "    <tr>\n",
       "      <td>2018-06-30</td>\n",
       "      <td>91.039749</td>\n",
       "      <td>66.86</td>\n",
       "    </tr>\n",
       "    <tr>\n",
       "      <td>2018-07-31</td>\n",
       "      <td>94.465607</td>\n",
       "      <td>67.05</td>\n",
       "    </tr>\n",
       "    <tr>\n",
       "      <td>2018-08-31</td>\n",
       "      <td>95.619621</td>\n",
       "      <td>68.02</td>\n",
       "    </tr>\n",
       "    <tr>\n",
       "      <td>2018-09-30</td>\n",
       "      <td>94.897377</td>\n",
       "      <td>68.80</td>\n",
       "    </tr>\n",
       "    <tr>\n",
       "      <td>2018-10-31</td>\n",
       "      <td>96.335808</td>\n",
       "      <td>72.02</td>\n",
       "    </tr>\n",
       "    <tr>\n",
       "      <td>2018-11-30</td>\n",
       "      <td>100.731819</td>\n",
       "      <td>72.30</td>\n",
       "    </tr>\n",
       "    <tr>\n",
       "      <td>2018-12-31</td>\n",
       "      <td>103.632767</td>\n",
       "      <td>68.90</td>\n",
       "    </tr>\n",
       "    <tr>\n",
       "      <td>2019-01-31</td>\n",
       "      <td>104.099770</td>\n",
       "      <td>69.20</td>\n",
       "    </tr>\n",
       "    <tr>\n",
       "      <td>2019-02-28</td>\n",
       "      <td>103.620872</td>\n",
       "      <td>76.20</td>\n",
       "    </tr>\n",
       "    <tr>\n",
       "      <td>2019-03-31</td>\n",
       "      <td>104.970749</td>\n",
       "      <td>88.20</td>\n",
       "    </tr>\n",
       "    <tr>\n",
       "      <td>2019-04-30</td>\n",
       "      <td>107.672386</td>\n",
       "      <td>86.50</td>\n",
       "    </tr>\n",
       "    <tr>\n",
       "      <td>2019-05-31</td>\n",
       "      <td>104.334122</td>\n",
       "      <td>93.70</td>\n",
       "    </tr>\n",
       "  </tbody>\n",
       "</table>\n",
       "</div>"
      ],
      "text/plain": [
       "            Pred_Oil_Price  Actual_Oil_Price\n",
       "date                                        \n",
       "2017-07-31       80.562920             66.74\n",
       "2017-08-31       82.725403             74.59\n",
       "2017-09-30       82.072014             69.24\n",
       "2017-10-31       81.163315             61.05\n",
       "2017-11-30       80.287590             63.41\n",
       "2017-12-31       77.784973             71.74\n",
       "2018-01-31       76.200958             75.78\n",
       "2018-02-28       77.448380             77.65\n",
       "2018-03-31       80.587151             71.32\n",
       "2018-04-30       83.768959             66.33\n",
       "2018-05-31       87.584793             66.63\n",
       "2018-06-30       91.039749             66.86\n",
       "2018-07-31       94.465607             67.05\n",
       "2018-08-31       95.619621             68.02\n",
       "2018-09-30       94.897377             68.80\n",
       "2018-10-31       96.335808             72.02\n",
       "2018-11-30      100.731819             72.30\n",
       "2018-12-31      103.632767             68.90\n",
       "2019-01-31      104.099770             69.20\n",
       "2019-02-28      103.620872             76.20\n",
       "2019-03-31      104.970749             88.20\n",
       "2019-04-30      107.672386             86.50\n",
       "2019-05-31      104.334122             93.70"
      ]
     },
     "execution_count": 31,
     "metadata": {},
     "output_type": "execute_result"
    }
   ],
   "source": [
    "pred_oil_pirce"
   ]
  },
  {
   "cell_type": "code",
   "execution_count": 32,
   "metadata": {},
   "outputs": [
    {
     "name": "stdout",
     "output_type": "stream",
     "text": [
      "Train Score: 0.05734 MSE (0.24 RMSE)\n",
      "Test Score: 0.02067 MSE (0.14 RMSE)\n"
     ]
    },
    {
     "data": {
      "text/plain": [
       "(0.05733979661017656, 0.020668458193540573)"
      ]
     },
     "execution_count": 32,
     "metadata": {},
     "output_type": "execute_result"
    }
   ],
   "source": [
    "def model_score(model, x_train, y_train, x_test, y_test):\n",
    "    trainScore = model.evaluate(x_train, y_train, verbose=0)\n",
    "    print('Train Score: %.5f MSE (%.2f RMSE)' % (trainScore[0], math.sqrt(trainScore[0])))\n",
    "\n",
    "    testScore = model.evaluate(x_test, y_test, verbose=0)\n",
    "    print('Test Score: %.5f MSE (%.2f RMSE)' % (testScore[0], math.sqrt(testScore[0])))\n",
    "    return trainScore[0], testScore[0]\n",
    "\n",
    "\n",
    "model_score(model, x_train, y_train, x_test, y_test)"
   ]
  },
  {
   "cell_type": "code",
   "execution_count": 33,
   "metadata": {},
   "outputs": [
    {
     "name": "stdout",
     "output_type": "stream",
     "text": [
      "{'mape': 0.2652203761944543, 'me': 18.66856962784477, 'mae': 18.68610184379246, 'mpe': 0.2649945910566863}\n"
     ]
    }
   ],
   "source": [
    "def pred_accuracy(pred, actual):\n",
    "    mape=np.mean(np.abs(pred-actual)/np.abs(actual))# MAPE\n",
    "    me=np.mean(pred-actual)# ME\n",
    "    mae=np.mean(np.abs(pred-actual))# MAE\n",
    "    mpe=np.mean((pred-actual)/actual)# MPE\n",
    "    return({'mape':mape,'me':me,'mae': mae,'mpe': mpe})\n",
    "print(pred_accuracy(newp, newy_test))"
   ]
  },
  {
   "cell_type": "code",
   "execution_count": 35,
   "metadata": {},
   "outputs": [
    {
     "data": {
      "text/html": [
       "<div>\n",
       "<style scoped>\n",
       "    .dataframe tbody tr th:only-of-type {\n",
       "        vertical-align: middle;\n",
       "    }\n",
       "\n",
       "    .dataframe tbody tr th {\n",
       "        vertical-align: top;\n",
       "    }\n",
       "\n",
       "    .dataframe thead th {\n",
       "        text-align: right;\n",
       "    }\n",
       "</style>\n",
       "<table border=\"1\" class=\"dataframe\">\n",
       "  <thead>\n",
       "    <tr style=\"text-align: right;\">\n",
       "      <th></th>\n",
       "      <th>sarima_oilprice</th>\n",
       "    </tr>\n",
       "    <tr>\n",
       "      <th>date</th>\n",
       "      <th></th>\n",
       "    </tr>\n",
       "  </thead>\n",
       "  <tbody>\n",
       "    <tr>\n",
       "      <td>2019-06-30</td>\n",
       "      <td>56.893623</td>\n",
       "    </tr>\n",
       "    <tr>\n",
       "      <td>2019-07-31</td>\n",
       "      <td>57.894870</td>\n",
       "    </tr>\n",
       "    <tr>\n",
       "      <td>2019-08-31</td>\n",
       "      <td>57.980675</td>\n",
       "    </tr>\n",
       "    <tr>\n",
       "      <td>2019-09-30</td>\n",
       "      <td>62.527335</td>\n",
       "    </tr>\n",
       "    <tr>\n",
       "      <td>2019-10-31</td>\n",
       "      <td>67.823088</td>\n",
       "    </tr>\n",
       "    <tr>\n",
       "      <td>2019-11-30</td>\n",
       "      <td>65.232596</td>\n",
       "    </tr>\n",
       "    <tr>\n",
       "      <td>2019-12-31</td>\n",
       "      <td>61.762357</td>\n",
       "    </tr>\n",
       "    <tr>\n",
       "      <td>2020-01-31</td>\n",
       "      <td>64.043057</td>\n",
       "    </tr>\n",
       "    <tr>\n",
       "      <td>2020-02-29</td>\n",
       "      <td>64.696372</td>\n",
       "    </tr>\n",
       "    <tr>\n",
       "      <td>2020-03-31</td>\n",
       "      <td>71.018727</td>\n",
       "    </tr>\n",
       "    <tr>\n",
       "      <td>2020-04-30</td>\n",
       "      <td>75.920763</td>\n",
       "    </tr>\n",
       "    <tr>\n",
       "      <td>2020-05-31</td>\n",
       "      <td>67.395489</td>\n",
       "    </tr>\n",
       "    <tr>\n",
       "      <td>2020-06-30</td>\n",
       "      <td>61.538606</td>\n",
       "    </tr>\n",
       "    <tr>\n",
       "      <td>2020-07-31</td>\n",
       "      <td>64.361616</td>\n",
       "    </tr>\n",
       "    <tr>\n",
       "      <td>2020-08-31</td>\n",
       "      <td>65.385406</td>\n",
       "    </tr>\n",
       "    <tr>\n",
       "      <td>2020-09-30</td>\n",
       "      <td>71.921731</td>\n",
       "    </tr>\n",
       "    <tr>\n",
       "      <td>2020-10-31</td>\n",
       "      <td>77.967335</td>\n",
       "    </tr>\n",
       "    <tr>\n",
       "      <td>2020-11-30</td>\n",
       "      <td>72.595228</td>\n",
       "    </tr>\n",
       "    <tr>\n",
       "      <td>2020-12-31</td>\n",
       "      <td>68.064069</td>\n",
       "    </tr>\n",
       "    <tr>\n",
       "      <td>2021-01-31</td>\n",
       "      <td>71.607716</td>\n",
       "    </tr>\n",
       "    <tr>\n",
       "      <td>2021-02-28</td>\n",
       "      <td>72.919009</td>\n",
       "    </tr>\n",
       "    <tr>\n",
       "      <td>2021-03-31</td>\n",
       "      <td>80.348596</td>\n",
       "    </tr>\n",
       "    <tr>\n",
       "      <td>2021-04-30</td>\n",
       "      <td>86.569880</td>\n",
       "    </tr>\n",
       "    <tr>\n",
       "      <td>2021-05-31</td>\n",
       "      <td>79.333092</td>\n",
       "    </tr>\n",
       "  </tbody>\n",
       "</table>\n",
       "</div>"
      ],
      "text/plain": [
       "            sarima_oilprice\n",
       "date                       \n",
       "2019-06-30        56.893623\n",
       "2019-07-31        57.894870\n",
       "2019-08-31        57.980675\n",
       "2019-09-30        62.527335\n",
       "2019-10-31        67.823088\n",
       "2019-11-30        65.232596\n",
       "2019-12-31        61.762357\n",
       "2020-01-31        64.043057\n",
       "2020-02-29        64.696372\n",
       "2020-03-31        71.018727\n",
       "2020-04-30        75.920763\n",
       "2020-05-31        67.395489\n",
       "2020-06-30        61.538606\n",
       "2020-07-31        64.361616\n",
       "2020-08-31        65.385406\n",
       "2020-09-30        71.921731\n",
       "2020-10-31        77.967335\n",
       "2020-11-30        72.595228\n",
       "2020-12-31        68.064069\n",
       "2021-01-31        71.607716\n",
       "2021-02-28        72.919009\n",
       "2021-03-31        80.348596\n",
       "2021-04-30        86.569880\n",
       "2021-05-31        79.333092"
      ]
     },
     "execution_count": 35,
     "metadata": {},
     "output_type": "execute_result"
    }
   ],
   "source": [
    "forecast_df = pd.read_csv('dataset/oil_forecast_data.csv')\n",
    "forecast_df = forecast_df[['date','sarima_oilprice']]\n",
    "forecast_df = forecast_df.set_index('date')\n",
    "forecast_df"
   ]
  },
  {
   "cell_type": "code",
   "execution_count": 36,
   "metadata": {},
   "outputs": [
    {
     "data": {
      "text/html": [
       "<div>\n",
       "<style scoped>\n",
       "    .dataframe tbody tr th:only-of-type {\n",
       "        vertical-align: middle;\n",
       "    }\n",
       "\n",
       "    .dataframe tbody tr th {\n",
       "        vertical-align: top;\n",
       "    }\n",
       "\n",
       "    .dataframe thead th {\n",
       "        text-align: right;\n",
       "    }\n",
       "</style>\n",
       "<table border=\"1\" class=\"dataframe\">\n",
       "  <thead>\n",
       "    <tr style=\"text-align: right;\">\n",
       "      <th></th>\n",
       "      <th>sarima_oilprice</th>\n",
       "      <th>oildata_lag</th>\n",
       "      <th>rolling_mean_price</th>\n",
       "    </tr>\n",
       "    <tr>\n",
       "      <th>date</th>\n",
       "      <th></th>\n",
       "      <th></th>\n",
       "      <th></th>\n",
       "    </tr>\n",
       "  </thead>\n",
       "  <tbody>\n",
       "    <tr>\n",
       "      <td>2019-07-31</td>\n",
       "      <td>57.894870</td>\n",
       "      <td>56.893623</td>\n",
       "      <td>56.893623</td>\n",
       "    </tr>\n",
       "    <tr>\n",
       "      <td>2019-08-31</td>\n",
       "      <td>57.980675</td>\n",
       "      <td>57.894870</td>\n",
       "      <td>114.788493</td>\n",
       "    </tr>\n",
       "    <tr>\n",
       "      <td>2019-09-30</td>\n",
       "      <td>62.527335</td>\n",
       "      <td>57.980675</td>\n",
       "      <td>115.875545</td>\n",
       "    </tr>\n",
       "    <tr>\n",
       "      <td>2019-10-31</td>\n",
       "      <td>67.823088</td>\n",
       "      <td>62.527335</td>\n",
       "      <td>120.508011</td>\n",
       "    </tr>\n",
       "    <tr>\n",
       "      <td>2019-11-30</td>\n",
       "      <td>65.232596</td>\n",
       "      <td>67.823088</td>\n",
       "      <td>130.350423</td>\n",
       "    </tr>\n",
       "    <tr>\n",
       "      <td>2019-12-31</td>\n",
       "      <td>61.762357</td>\n",
       "      <td>65.232596</td>\n",
       "      <td>133.055684</td>\n",
       "    </tr>\n",
       "    <tr>\n",
       "      <td>2020-01-31</td>\n",
       "      <td>64.043057</td>\n",
       "      <td>61.762357</td>\n",
       "      <td>126.994953</td>\n",
       "    </tr>\n",
       "    <tr>\n",
       "      <td>2020-02-29</td>\n",
       "      <td>64.696372</td>\n",
       "      <td>64.043057</td>\n",
       "      <td>125.805414</td>\n",
       "    </tr>\n",
       "    <tr>\n",
       "      <td>2020-03-31</td>\n",
       "      <td>71.018727</td>\n",
       "      <td>64.696372</td>\n",
       "      <td>128.739429</td>\n",
       "    </tr>\n",
       "    <tr>\n",
       "      <td>2020-04-30</td>\n",
       "      <td>75.920763</td>\n",
       "      <td>71.018727</td>\n",
       "      <td>135.715099</td>\n",
       "    </tr>\n",
       "    <tr>\n",
       "      <td>2020-05-31</td>\n",
       "      <td>67.395489</td>\n",
       "      <td>75.920763</td>\n",
       "      <td>146.939490</td>\n",
       "    </tr>\n",
       "    <tr>\n",
       "      <td>2020-06-30</td>\n",
       "      <td>61.538606</td>\n",
       "      <td>67.395489</td>\n",
       "      <td>143.316252</td>\n",
       "    </tr>\n",
       "    <tr>\n",
       "      <td>2020-07-31</td>\n",
       "      <td>64.361616</td>\n",
       "      <td>61.538606</td>\n",
       "      <td>128.934095</td>\n",
       "    </tr>\n",
       "    <tr>\n",
       "      <td>2020-08-31</td>\n",
       "      <td>65.385406</td>\n",
       "      <td>64.361616</td>\n",
       "      <td>125.900222</td>\n",
       "    </tr>\n",
       "    <tr>\n",
       "      <td>2020-09-30</td>\n",
       "      <td>71.921731</td>\n",
       "      <td>65.385406</td>\n",
       "      <td>129.747022</td>\n",
       "    </tr>\n",
       "    <tr>\n",
       "      <td>2020-10-31</td>\n",
       "      <td>77.967335</td>\n",
       "      <td>71.921731</td>\n",
       "      <td>137.307138</td>\n",
       "    </tr>\n",
       "    <tr>\n",
       "      <td>2020-11-30</td>\n",
       "      <td>72.595228</td>\n",
       "      <td>77.967335</td>\n",
       "      <td>149.889066</td>\n",
       "    </tr>\n",
       "    <tr>\n",
       "      <td>2020-12-31</td>\n",
       "      <td>68.064069</td>\n",
       "      <td>72.595228</td>\n",
       "      <td>150.562563</td>\n",
       "    </tr>\n",
       "    <tr>\n",
       "      <td>2021-01-31</td>\n",
       "      <td>71.607716</td>\n",
       "      <td>68.064069</td>\n",
       "      <td>140.659297</td>\n",
       "    </tr>\n",
       "    <tr>\n",
       "      <td>2021-02-28</td>\n",
       "      <td>72.919009</td>\n",
       "      <td>71.607716</td>\n",
       "      <td>139.671785</td>\n",
       "    </tr>\n",
       "    <tr>\n",
       "      <td>2021-03-31</td>\n",
       "      <td>80.348596</td>\n",
       "      <td>72.919009</td>\n",
       "      <td>144.526725</td>\n",
       "    </tr>\n",
       "    <tr>\n",
       "      <td>2021-04-30</td>\n",
       "      <td>86.569880</td>\n",
       "      <td>80.348596</td>\n",
       "      <td>153.267605</td>\n",
       "    </tr>\n",
       "    <tr>\n",
       "      <td>2021-05-31</td>\n",
       "      <td>79.333092</td>\n",
       "      <td>86.569880</td>\n",
       "      <td>166.918477</td>\n",
       "    </tr>\n",
       "  </tbody>\n",
       "</table>\n",
       "</div>"
      ],
      "text/plain": [
       "            sarima_oilprice  oildata_lag  rolling_mean_price\n",
       "date                                                        \n",
       "2019-07-31        57.894870    56.893623           56.893623\n",
       "2019-08-31        57.980675    57.894870          114.788493\n",
       "2019-09-30        62.527335    57.980675          115.875545\n",
       "2019-10-31        67.823088    62.527335          120.508011\n",
       "2019-11-30        65.232596    67.823088          130.350423\n",
       "2019-12-31        61.762357    65.232596          133.055684\n",
       "2020-01-31        64.043057    61.762357          126.994953\n",
       "2020-02-29        64.696372    64.043057          125.805414\n",
       "2020-03-31        71.018727    64.696372          128.739429\n",
       "2020-04-30        75.920763    71.018727          135.715099\n",
       "2020-05-31        67.395489    75.920763          146.939490\n",
       "2020-06-30        61.538606    67.395489          143.316252\n",
       "2020-07-31        64.361616    61.538606          128.934095\n",
       "2020-08-31        65.385406    64.361616          125.900222\n",
       "2020-09-30        71.921731    65.385406          129.747022\n",
       "2020-10-31        77.967335    71.921731          137.307138\n",
       "2020-11-30        72.595228    77.967335          149.889066\n",
       "2020-12-31        68.064069    72.595228          150.562563\n",
       "2021-01-31        71.607716    68.064069          140.659297\n",
       "2021-02-28        72.919009    71.607716          139.671785\n",
       "2021-03-31        80.348596    72.919009          144.526725\n",
       "2021-04-30        86.569880    80.348596          153.267605\n",
       "2021-05-31        79.333092    86.569880          166.918477"
      ]
     },
     "execution_count": 36,
     "metadata": {},
     "output_type": "execute_result"
    }
   ],
   "source": [
    "#data['Price'].plot() \n",
    "forecast_df['oildata_lag']=forecast_df['sarima_oilprice'].shift(1)\n",
    "#data=data.set_index('date')\n",
    "forecast_df['rolling_mean_price']=forecast_df['oildata_lag'].rolling(2, min_periods=1).sum()\n",
    "forecast_df=forecast_df.dropna()\n",
    "forecast_df"
   ]
  },
  {
   "cell_type": "code",
   "execution_count": 37,
   "metadata": {},
   "outputs": [],
   "source": [
    "# function for min-max normalization of Iron Ore \n",
    "min_max_scaler = sklearn.preprocessing.MinMaxScaler()\n",
    "def normalize_data(df):\n",
    "    df['sarima_oilprice'] = min_max_scaler.fit_transform(df.sarima_oilprice.values.reshape(-1,1))\n",
    "    df['oildata_lag'] = min_max_scaler.fit_transform(df.oildata_lag.values.reshape(-1,1))\n",
    "    df['rolling_mean_price'] = min_max_scaler.fit_transform(df.rolling_mean_price.values.reshape(-1,1))\n",
    "    return df"
   ]
  },
  {
   "cell_type": "code",
   "execution_count": 38,
   "metadata": {},
   "outputs": [
    {
     "data": {
      "text/html": [
       "<div>\n",
       "<style scoped>\n",
       "    .dataframe tbody tr th:only-of-type {\n",
       "        vertical-align: middle;\n",
       "    }\n",
       "\n",
       "    .dataframe tbody tr th {\n",
       "        vertical-align: top;\n",
       "    }\n",
       "\n",
       "    .dataframe thead th {\n",
       "        text-align: right;\n",
       "    }\n",
       "</style>\n",
       "<table border=\"1\" class=\"dataframe\">\n",
       "  <thead>\n",
       "    <tr style=\"text-align: right;\">\n",
       "      <th></th>\n",
       "      <th>sarima_oilprice</th>\n",
       "      <th>oildata_lag</th>\n",
       "      <th>rolling_mean_price</th>\n",
       "    </tr>\n",
       "    <tr>\n",
       "      <th>date</th>\n",
       "      <th></th>\n",
       "      <th></th>\n",
       "      <th></th>\n",
       "    </tr>\n",
       "  </thead>\n",
       "  <tbody>\n",
       "    <tr>\n",
       "      <td>2019-07-31</td>\n",
       "      <td>0.000000</td>\n",
       "      <td>0.000000</td>\n",
       "      <td>0.000000</td>\n",
       "    </tr>\n",
       "    <tr>\n",
       "      <td>2019-08-31</td>\n",
       "      <td>0.002992</td>\n",
       "      <td>0.033739</td>\n",
       "      <td>0.526198</td>\n",
       "    </tr>\n",
       "    <tr>\n",
       "      <td>2019-09-30</td>\n",
       "      <td>0.161551</td>\n",
       "      <td>0.036630</td>\n",
       "      <td>0.536078</td>\n",
       "    </tr>\n",
       "    <tr>\n",
       "      <td>2019-10-31</td>\n",
       "      <td>0.346232</td>\n",
       "      <td>0.189839</td>\n",
       "      <td>0.578182</td>\n",
       "    </tr>\n",
       "    <tr>\n",
       "      <td>2019-11-30</td>\n",
       "      <td>0.255893</td>\n",
       "      <td>0.368290</td>\n",
       "      <td>0.667638</td>\n",
       "    </tr>\n",
       "  </tbody>\n",
       "</table>\n",
       "</div>"
      ],
      "text/plain": [
       "            sarima_oilprice  oildata_lag  rolling_mean_price\n",
       "date                                                        \n",
       "2019-07-31         0.000000     0.000000            0.000000\n",
       "2019-08-31         0.002992     0.033739            0.526198\n",
       "2019-09-30         0.161551     0.036630            0.536078\n",
       "2019-10-31         0.346232     0.189839            0.578182\n",
       "2019-11-30         0.255893     0.368290            0.667638"
      ]
     },
     "execution_count": 38,
     "metadata": {},
     "output_type": "execute_result"
    }
   ],
   "source": [
    "# normalize stock\n",
    "df = forecast_df.copy()\n",
    "df = normalize_data(df)\n",
    "df.head()"
   ]
  },
  {
   "cell_type": "code",
   "execution_count": 39,
   "metadata": {},
   "outputs": [
    {
     "name": "stderr",
     "output_type": "stream",
     "text": [
      "C:\\Users\\sumon\\Anaconda3\\envs\\tensorflow\\lib\\site-packages\\ipykernel_launcher.py:1: FutureWarning: Method .as_matrix will be removed in a future version. Use .values instead.\n",
      "  \"\"\"Entry point for launching an IPython kernel.\n"
     ]
    }
   ],
   "source": [
    "forecast_data_raw = df.as_matrix()"
   ]
  },
  {
   "cell_type": "code",
   "execution_count": 40,
   "metadata": {},
   "outputs": [
    {
     "data": {
      "text/plain": [
       "(23, 3)"
      ]
     },
     "execution_count": 40,
     "metadata": {},
     "output_type": "execute_result"
    }
   ],
   "source": [
    "forecast_data_raw.shape"
   ]
  },
  {
   "cell_type": "code",
   "execution_count": 41,
   "metadata": {},
   "outputs": [
    {
     "data": {
      "text/plain": [
       "(23, 1, 3)"
      ]
     },
     "execution_count": 41,
     "metadata": {},
     "output_type": "execute_result"
    }
   ],
   "source": [
    "forecast_data_raw = forecast_data_raw.reshape((forecast_data_raw.shape[0],1,forecast_data_raw.shape[1]))\n",
    "forecast_data_raw.shape"
   ]
  },
  {
   "cell_type": "code",
   "execution_count": 42,
   "metadata": {},
   "outputs": [
    {
     "name": "stdout",
     "output_type": "stream",
     "text": [
      "23/23 [==============================] - 0s 693us/step\n"
     ]
    }
   ],
   "source": [
    "forecast_price = model.predict(forecast_data_raw,batch_size=1,verbose=1)"
   ]
  },
  {
   "cell_type": "code",
   "execution_count": 43,
   "metadata": {},
   "outputs": [
    {
     "data": {
      "text/plain": [
       "array([[0.12016991],\n",
       "       [0.21771084],\n",
       "       [0.26185837],\n",
       "       [0.3536803 ],\n",
       "       [0.3853487 ],\n",
       "       [0.33991137],\n",
       "       [0.32488695],\n",
       "       [0.34534213],\n",
       "       [0.41241807],\n",
       "       [0.50049865],\n",
       "       [0.48182964],\n",
       "       [0.3721444 ],\n",
       "       [0.32992938],\n",
       "       [0.35424286],\n",
       "       [0.42641416],\n",
       "       [0.52138096],\n",
       "       [0.5327806 ],\n",
       "       [0.47335994],\n",
       "       [0.45867845],\n",
       "       [0.48789248],\n",
       "       [0.550209  ],\n",
       "       [0.61921513],\n",
       "       [0.620124  ]], dtype=float32)"
      ]
     },
     "execution_count": 43,
     "metadata": {},
     "output_type": "execute_result"
    }
   ],
   "source": [
    "forecast_price"
   ]
  },
  {
   "cell_type": "code",
   "execution_count": 44,
   "metadata": {},
   "outputs": [],
   "source": [
    "def denormalize(df, normalized_value): \n",
    "    df = df['ironprice'].values.reshape(-1,1)\n",
    "    normalized_value = normalized_value.reshape(-1,1)\n",
    "    #return df.shape, p.shape\n",
    "    min_max_scaler = sklearn.preprocessing.MinMaxScaler()\n",
    "    a = min_max_scaler.fit_transform(df)\n",
    "    new = min_max_scaler.inverse_transform(normalized_value)\n",
    "    return new\n",
    "\n",
    "newp = denormalize(data, forecast_price)\n",
    "#newy_test = denormalize(data, y_test)"
   ]
  },
  {
   "cell_type": "code",
   "execution_count": 45,
   "metadata": {},
   "outputs": [
    {
     "data": {
      "text/html": [
       "<div>\n",
       "<style scoped>\n",
       "    .dataframe tbody tr th:only-of-type {\n",
       "        vertical-align: middle;\n",
       "    }\n",
       "\n",
       "    .dataframe tbody tr th {\n",
       "        vertical-align: top;\n",
       "    }\n",
       "\n",
       "    .dataframe thead th {\n",
       "        text-align: right;\n",
       "    }\n",
       "</style>\n",
       "<table border=\"1\" class=\"dataframe\">\n",
       "  <thead>\n",
       "    <tr style=\"text-align: right;\">\n",
       "      <th></th>\n",
       "      <th>sarima_oilprice</th>\n",
       "      <th>oildata_lag</th>\n",
       "      <th>rolling_mean_price</th>\n",
       "    </tr>\n",
       "    <tr>\n",
       "      <th>date</th>\n",
       "      <th></th>\n",
       "      <th></th>\n",
       "      <th></th>\n",
       "    </tr>\n",
       "  </thead>\n",
       "  <tbody>\n",
       "    <tr>\n",
       "      <td>2019-07-31</td>\n",
       "      <td>57.894870</td>\n",
       "      <td>56.893623</td>\n",
       "      <td>56.893623</td>\n",
       "    </tr>\n",
       "    <tr>\n",
       "      <td>2019-08-31</td>\n",
       "      <td>57.980675</td>\n",
       "      <td>57.894870</td>\n",
       "      <td>114.788493</td>\n",
       "    </tr>\n",
       "    <tr>\n",
       "      <td>2019-09-30</td>\n",
       "      <td>62.527335</td>\n",
       "      <td>57.980675</td>\n",
       "      <td>115.875545</td>\n",
       "    </tr>\n",
       "    <tr>\n",
       "      <td>2019-10-31</td>\n",
       "      <td>67.823088</td>\n",
       "      <td>62.527335</td>\n",
       "      <td>120.508011</td>\n",
       "    </tr>\n",
       "    <tr>\n",
       "      <td>2019-11-30</td>\n",
       "      <td>65.232596</td>\n",
       "      <td>67.823088</td>\n",
       "      <td>130.350423</td>\n",
       "    </tr>\n",
       "  </tbody>\n",
       "</table>\n",
       "</div>"
      ],
      "text/plain": [
       "            sarima_oilprice  oildata_lag  rolling_mean_price\n",
       "date                                                        \n",
       "2019-07-31        57.894870    56.893623           56.893623\n",
       "2019-08-31        57.980675    57.894870          114.788493\n",
       "2019-09-30        62.527335    57.980675          115.875545\n",
       "2019-10-31        67.823088    62.527335          120.508011\n",
       "2019-11-30        65.232596    67.823088          130.350423"
      ]
     },
     "execution_count": 45,
     "metadata": {},
     "output_type": "execute_result"
    }
   ],
   "source": [
    "forecast_df.head()"
   ]
  },
  {
   "cell_type": "code",
   "execution_count": 46,
   "metadata": {},
   "outputs": [
    {
     "data": {
      "text/plain": [
       "array([[ 58.460857],\n",
       "       [ 72.731094],\n",
       "       [ 79.18988 ],\n",
       "       [ 92.623436],\n",
       "       [ 97.256516],\n",
       "       [ 90.60903 ],\n",
       "       [ 88.41096 ],\n",
       "       [ 91.40355 ],\n",
       "       [101.21677 ],\n",
       "       [114.10296 ],\n",
       "       [111.37168 ],\n",
       "       [ 95.32473 ],\n",
       "       [ 89.14867 ],\n",
       "       [ 92.705734],\n",
       "       [103.26439 ],\n",
       "       [117.158035],\n",
       "       [118.825806],\n",
       "       [110.13256 ],\n",
       "       [107.98466 ],\n",
       "       [112.25867 ],\n",
       "       [121.37558 ],\n",
       "       [131.47118 ],\n",
       "       [131.60414 ]], dtype=float32)"
      ]
     },
     "execution_count": 46,
     "metadata": {},
     "output_type": "execute_result"
    }
   ],
   "source": [
    "newp"
   ]
  },
  {
   "cell_type": "code",
   "execution_count": 47,
   "metadata": {},
   "outputs": [],
   "source": [
    "act_pred = pd.concat([pd.DataFrame(forecast_df.sarima_oilprice.values),pd.DataFrame(newp)], axis=1) \n",
    "act_pred.columns = ['Forecast_Oil_Price','Forecast_Iron_Price']"
   ]
  },
  {
   "cell_type": "code",
   "execution_count": 48,
   "metadata": {},
   "outputs": [],
   "source": [
    "act_pred['date'] = forecast_df.index"
   ]
  },
  {
   "cell_type": "code",
   "execution_count": 49,
   "metadata": {},
   "outputs": [
    {
     "data": {
      "text/html": [
       "<div>\n",
       "<style scoped>\n",
       "    .dataframe tbody tr th:only-of-type {\n",
       "        vertical-align: middle;\n",
       "    }\n",
       "\n",
       "    .dataframe tbody tr th {\n",
       "        vertical-align: top;\n",
       "    }\n",
       "\n",
       "    .dataframe thead th {\n",
       "        text-align: right;\n",
       "    }\n",
       "</style>\n",
       "<table border=\"1\" class=\"dataframe\">\n",
       "  <thead>\n",
       "    <tr style=\"text-align: right;\">\n",
       "      <th></th>\n",
       "      <th>Forecast_Oil_Price</th>\n",
       "      <th>Forecast_Iron_Price</th>\n",
       "    </tr>\n",
       "    <tr>\n",
       "      <th>date</th>\n",
       "      <th></th>\n",
       "      <th></th>\n",
       "    </tr>\n",
       "  </thead>\n",
       "  <tbody>\n",
       "    <tr>\n",
       "      <td>2019-07-31</td>\n",
       "      <td>57.894870</td>\n",
       "      <td>58.460857</td>\n",
       "    </tr>\n",
       "    <tr>\n",
       "      <td>2019-08-31</td>\n",
       "      <td>57.980675</td>\n",
       "      <td>72.731094</td>\n",
       "    </tr>\n",
       "    <tr>\n",
       "      <td>2019-09-30</td>\n",
       "      <td>62.527335</td>\n",
       "      <td>79.189880</td>\n",
       "    </tr>\n",
       "    <tr>\n",
       "      <td>2019-10-31</td>\n",
       "      <td>67.823088</td>\n",
       "      <td>92.623436</td>\n",
       "    </tr>\n",
       "    <tr>\n",
       "      <td>2019-11-30</td>\n",
       "      <td>65.232596</td>\n",
       "      <td>97.256516</td>\n",
       "    </tr>\n",
       "    <tr>\n",
       "      <td>2019-12-31</td>\n",
       "      <td>61.762357</td>\n",
       "      <td>90.609032</td>\n",
       "    </tr>\n",
       "    <tr>\n",
       "      <td>2020-01-31</td>\n",
       "      <td>64.043057</td>\n",
       "      <td>88.410957</td>\n",
       "    </tr>\n",
       "    <tr>\n",
       "      <td>2020-02-29</td>\n",
       "      <td>64.696372</td>\n",
       "      <td>91.403549</td>\n",
       "    </tr>\n",
       "    <tr>\n",
       "      <td>2020-03-31</td>\n",
       "      <td>71.018727</td>\n",
       "      <td>101.216766</td>\n",
       "    </tr>\n",
       "    <tr>\n",
       "      <td>2020-04-30</td>\n",
       "      <td>75.920763</td>\n",
       "      <td>114.102959</td>\n",
       "    </tr>\n",
       "    <tr>\n",
       "      <td>2020-05-31</td>\n",
       "      <td>67.395489</td>\n",
       "      <td>111.371681</td>\n",
       "    </tr>\n",
       "    <tr>\n",
       "      <td>2020-06-30</td>\n",
       "      <td>61.538606</td>\n",
       "      <td>95.324730</td>\n",
       "    </tr>\n",
       "    <tr>\n",
       "      <td>2020-07-31</td>\n",
       "      <td>64.361616</td>\n",
       "      <td>89.148666</td>\n",
       "    </tr>\n",
       "    <tr>\n",
       "      <td>2020-08-31</td>\n",
       "      <td>65.385406</td>\n",
       "      <td>92.705734</td>\n",
       "    </tr>\n",
       "    <tr>\n",
       "      <td>2020-09-30</td>\n",
       "      <td>71.921731</td>\n",
       "      <td>103.264389</td>\n",
       "    </tr>\n",
       "    <tr>\n",
       "      <td>2020-10-31</td>\n",
       "      <td>77.967335</td>\n",
       "      <td>117.158035</td>\n",
       "    </tr>\n",
       "    <tr>\n",
       "      <td>2020-11-30</td>\n",
       "      <td>72.595228</td>\n",
       "      <td>118.825806</td>\n",
       "    </tr>\n",
       "    <tr>\n",
       "      <td>2020-12-31</td>\n",
       "      <td>68.064069</td>\n",
       "      <td>110.132561</td>\n",
       "    </tr>\n",
       "    <tr>\n",
       "      <td>2021-01-31</td>\n",
       "      <td>71.607716</td>\n",
       "      <td>107.984657</td>\n",
       "    </tr>\n",
       "    <tr>\n",
       "      <td>2021-02-28</td>\n",
       "      <td>72.919009</td>\n",
       "      <td>112.258667</td>\n",
       "    </tr>\n",
       "    <tr>\n",
       "      <td>2021-03-31</td>\n",
       "      <td>80.348596</td>\n",
       "      <td>121.375580</td>\n",
       "    </tr>\n",
       "    <tr>\n",
       "      <td>2021-04-30</td>\n",
       "      <td>86.569880</td>\n",
       "      <td>131.471176</td>\n",
       "    </tr>\n",
       "    <tr>\n",
       "      <td>2021-05-31</td>\n",
       "      <td>79.333092</td>\n",
       "      <td>131.604141</td>\n",
       "    </tr>\n",
       "  </tbody>\n",
       "</table>\n",
       "</div>"
      ],
      "text/plain": [
       "            Forecast_Oil_Price  Forecast_Iron_Price\n",
       "date                                               \n",
       "2019-07-31           57.894870            58.460857\n",
       "2019-08-31           57.980675            72.731094\n",
       "2019-09-30           62.527335            79.189880\n",
       "2019-10-31           67.823088            92.623436\n",
       "2019-11-30           65.232596            97.256516\n",
       "2019-12-31           61.762357            90.609032\n",
       "2020-01-31           64.043057            88.410957\n",
       "2020-02-29           64.696372            91.403549\n",
       "2020-03-31           71.018727           101.216766\n",
       "2020-04-30           75.920763           114.102959\n",
       "2020-05-31           67.395489           111.371681\n",
       "2020-06-30           61.538606            95.324730\n",
       "2020-07-31           64.361616            89.148666\n",
       "2020-08-31           65.385406            92.705734\n",
       "2020-09-30           71.921731           103.264389\n",
       "2020-10-31           77.967335           117.158035\n",
       "2020-11-30           72.595228           118.825806\n",
       "2020-12-31           68.064069           110.132561\n",
       "2021-01-31           71.607716           107.984657\n",
       "2021-02-28           72.919009           112.258667\n",
       "2021-03-31           80.348596           121.375580\n",
       "2021-04-30           86.569880           131.471176\n",
       "2021-05-31           79.333092           131.604141"
      ]
     },
     "execution_count": 49,
     "metadata": {},
     "output_type": "execute_result"
    }
   ],
   "source": [
    "act_pred = act_pred.set_index('date')\n",
    "act_pred"
   ]
  }
 ],
 "metadata": {
  "kernelspec": {
   "display_name": "Python 3",
   "language": "python",
   "name": "python3"
  },
  "language_info": {
   "codemirror_mode": {
    "name": "ipython",
    "version": 3
   },
   "file_extension": ".py",
   "mimetype": "text/x-python",
   "name": "python",
   "nbconvert_exporter": "python",
   "pygments_lexer": "ipython3",
   "version": "3.7.4"
  }
 },
 "nbformat": 4,
 "nbformat_minor": 2
}
