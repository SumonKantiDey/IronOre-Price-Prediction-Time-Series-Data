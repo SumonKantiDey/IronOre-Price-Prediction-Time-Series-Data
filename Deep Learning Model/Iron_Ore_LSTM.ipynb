{
 "cells": [
  {
   "cell_type": "code",
   "execution_count": 112,
   "metadata": {},
   "outputs": [],
   "source": [
    "import numpy as np\n",
    "import matplotlib.pyplot as plt\n",
    "%matplotlib inline\n",
    "from sklearn.linear_model import LinearRegression \n",
    "import matplotlib.pylab as pylab\n",
    "import math,time\n",
    "import sklearn\n",
    "import sklearn.preprocessing\n",
    "import datetime\n",
    "import os\n",
    "import matplotlib.pyplot as plt\n",
    "import keras\n",
    "from keras.models import Sequential\n",
    "from keras.layers import LSTM\n",
    "from keras.layers.core import Dense, Dropout, Activation\n",
    "from sklearn.preprocessing import MinMaxScaler\n",
    "from statsmodels.graphics.tsaplots import plot_pacf, plot_acf\n",
    "\n",
    "# split data in 60%/20%/20% train/validation/test sets\n",
    "valid_set_size_percentage = 20 \n",
    "test_set_size_percentage = 20 \n",
    "\n",
    "from pandas import read_csv\n",
    "params = {'legend.fontsize': 'xx-large',\n",
    "          'figure.figsize': (15, 10),\n",
    "         'axes.labelsize': 'xx-large',\n",
    "         'axes.titlesize':'xx-large',\n",
    "         'xtick.labelsize':'xx-large',\n",
    "         'ytick.labelsize':'xx-large'}\n",
    "pylab.rcParams.update(params)"
   ]
  },
  {
   "cell_type": "code",
   "execution_count": 16,
   "metadata": {},
   "outputs": [],
   "source": [
    "df = pd.read_csv('dataset/Iron ore fines 62% Fe CFR Futures Historical Data.csv')"
   ]
  },
  {
   "cell_type": "code",
   "execution_count": 18,
   "metadata": {},
   "outputs": [],
   "source": [
    "df = df.drop(['Vol.', 'Change %'], axis=1)"
   ]
  },
  {
   "cell_type": "code",
   "execution_count": 22,
   "metadata": {},
   "outputs": [],
   "source": [
    "s = 0\n",
    "l = 714\n",
    "for i in range(round(len(df)/2)):\n",
    "    s_temp = df.iloc[s].copy()\n",
    "    l_temp = df.iloc[l].copy()\n",
    "    df.iloc[s] = l_temp\n",
    "    df.iloc[l] = s_temp\n",
    "    s = s + 1\n",
    "    l = l -1"
   ]
  },
  {
   "cell_type": "code",
   "execution_count": 25,
   "metadata": {},
   "outputs": [
    {
     "name": "stderr",
     "output_type": "stream",
     "text": [
      "C:\\Users\\sumon\\Anaconda3\\envs\\tensorflow\\lib\\site-packages\\ipykernel_launcher.py:4: SettingWithCopyWarning: \n",
      "A value is trying to be set on a copy of a slice from a DataFrame\n",
      "\n",
      "See the caveats in the documentation: http://pandas.pydata.org/pandas-docs/stable/indexing.html#indexing-view-versus-copy\n",
      "  after removing the cwd from sys.path.\n"
     ]
    }
   ],
   "source": [
    "from dateutil import parser\n",
    "for i in range(len(df['Date'])):\n",
    "    dt = parser.parse(df['Date'][i])\n",
    "    df['Date'][i] = dt.strftime(\"%Y-%m-%d\")\n",
    "    #print(train['Date'][i], i)\n",
    "df = df.set_index('Date')"
   ]
  },
  {
   "cell_type": "code",
   "execution_count": 32,
   "metadata": {},
   "outputs": [],
   "source": [
    "import plotly\n",
    "plotly.tools.set_credentials_file(username='sumon23', api_key='zqTb8KrZdBd7cVBAUPk4')"
   ]
  },
  {
   "cell_type": "code",
   "execution_count": 53,
   "metadata": {},
   "outputs": [
    {
     "name": "stderr",
     "output_type": "stream",
     "text": [
      "C:\\Users\\sumon\\Anaconda3\\envs\\tensorflow\\lib\\site-packages\\IPython\\core\\display.py:689: UserWarning:\n",
      "\n",
      "Consider using IPython.display.IFrame instead\n",
      "\n"
     ]
    },
    {
     "data": {
      "text/html": [
       "<iframe id=\"igraph\" scrolling=\"no\" style=\"border:none;\" seamless=\"seamless\" src=\"https://plot.ly/~sumon23/22.embed\" height=\"525px\" width=\"100%\"></iframe>"
      ],
      "text/plain": [
       "<chart_studio.tools.PlotlyDisplay object>"
      ]
     },
     "execution_count": 53,
     "metadata": {},
     "output_type": "execute_result"
    }
   ],
   "source": [
    "import plotly.plotly as py\n",
    "import plotly.graph_objs as go\n",
    "from plotly.offline import download_plotlyjs, init_notebook_mode, plot, iplot\n",
    "\n",
    "#plot(data)\n",
    "\n",
    "price = go.Scatter(\n",
    "                x=df.index,\n",
    "                y=df['Price'],\n",
    "                name = \"Price\",\n",
    "                line = dict(color = 'red') \n",
    "               # opacity = 0.2\n",
    "                )\n",
    "\n",
    "open_price = go.Scatter(\n",
    "                x=df.index,\n",
    "                y=df['Open'],\n",
    "                name = \"Open\",\n",
    "                line = dict(color = 'green')\n",
    "                #opacity = 0.8\n",
    "                )\n",
    "high_price = go.Scatter(\n",
    "                x=df.index,\n",
    "                y=df['High'],\n",
    "                name = \"High\",\n",
    "                line =  dict(color = 'blue')\n",
    "                #opacity = 0.8\n",
    "                )\n",
    "\n",
    "low_price = go.Scatter(\n",
    "                x=df.index,\n",
    "                y=df['Low'],\n",
    "                name = \"Low\",\n",
    "                line =  dict(color = 'black')\n",
    "                #opacity = 0.8\n",
    "                )\n",
    "data = [price,open_price,high_price,low_price]\n",
    "\n",
    "layout = go.Layout(title='Iron Ore Price', xaxis=dict(title='Date'),\n",
    "                   yaxis=dict(title='(Price)'))\n",
    "#fig = go.Figure(data=[data], layout=layout)\n",
    "\n",
    "fig = dict(data=data, layout=layout)\n",
    "py.iplot(fig, filename = \"Irn Ore Price\")"
   ]
  },
  {
   "cell_type": "code",
   "execution_count": 60,
   "metadata": {},
   "outputs": [],
   "source": [
    "# Significant coorelation between lags \n",
    "# acf = plot_acf(df['Open'], lags = 20)\n",
    "# No significant pattern in pacf\n",
    "# pacf = plot_pacf(df['Open'], lags = 20)"
   ]
  },
  {
   "cell_type": "code",
   "execution_count": 61,
   "metadata": {},
   "outputs": [],
   "source": [
    "w = 20 # define window size"
   ]
  },
  {
   "cell_type": "code",
   "execution_count": 67,
   "metadata": {},
   "outputs": [
    {
     "data": {
      "text/html": [
       "<div>\n",
       "<style scoped>\n",
       "    .dataframe tbody tr th:only-of-type {\n",
       "        vertical-align: middle;\n",
       "    }\n",
       "\n",
       "    .dataframe tbody tr th {\n",
       "        vertical-align: top;\n",
       "    }\n",
       "\n",
       "    .dataframe thead th {\n",
       "        text-align: right;\n",
       "    }\n",
       "</style>\n",
       "<table border=\"1\" class=\"dataframe\">\n",
       "  <thead>\n",
       "    <tr style=\"text-align: right;\">\n",
       "      <th></th>\n",
       "      <th>Price</th>\n",
       "      <th>Open</th>\n",
       "      <th>High</th>\n",
       "      <th>Low</th>\n",
       "    </tr>\n",
       "  </thead>\n",
       "  <tbody>\n",
       "    <tr>\n",
       "      <th>count</th>\n",
       "      <td>696.000000</td>\n",
       "      <td>696.000000</td>\n",
       "      <td>696.000000</td>\n",
       "      <td>696.000000</td>\n",
       "    </tr>\n",
       "    <tr>\n",
       "      <th>mean</th>\n",
       "      <td>65.418325</td>\n",
       "      <td>65.418325</td>\n",
       "      <td>65.879064</td>\n",
       "      <td>64.334416</td>\n",
       "    </tr>\n",
       "    <tr>\n",
       "      <th>std</th>\n",
       "      <td>10.073146</td>\n",
       "      <td>10.073146</td>\n",
       "      <td>10.101760</td>\n",
       "      <td>9.997210</td>\n",
       "    </tr>\n",
       "    <tr>\n",
       "      <th>min</th>\n",
       "      <td>40.857500</td>\n",
       "      <td>40.857500</td>\n",
       "      <td>41.293500</td>\n",
       "      <td>37.638500</td>\n",
       "    </tr>\n",
       "    <tr>\n",
       "      <th>25%</th>\n",
       "      <td>57.754875</td>\n",
       "      <td>57.754875</td>\n",
       "      <td>58.168625</td>\n",
       "      <td>56.543500</td>\n",
       "    </tr>\n",
       "    <tr>\n",
       "      <th>50%</th>\n",
       "      <td>65.429500</td>\n",
       "      <td>65.429500</td>\n",
       "      <td>65.783750</td>\n",
       "      <td>65.007750</td>\n",
       "    </tr>\n",
       "    <tr>\n",
       "      <th>75%</th>\n",
       "      <td>73.021375</td>\n",
       "      <td>73.021375</td>\n",
       "      <td>73.718750</td>\n",
       "      <td>71.622375</td>\n",
       "    </tr>\n",
       "    <tr>\n",
       "      <th>max</th>\n",
       "      <td>87.637000</td>\n",
       "      <td>87.637000</td>\n",
       "      <td>88.162500</td>\n",
       "      <td>86.695000</td>\n",
       "    </tr>\n",
       "  </tbody>\n",
       "</table>\n",
       "</div>"
      ],
      "text/plain": [
       "            Price        Open        High         Low\n",
       "count  696.000000  696.000000  696.000000  696.000000\n",
       "mean    65.418325   65.418325   65.879064   64.334416\n",
       "std     10.073146   10.073146   10.101760    9.997210\n",
       "min     40.857500   40.857500   41.293500   37.638500\n",
       "25%     57.754875   57.754875   58.168625   56.543500\n",
       "50%     65.429500   65.429500   65.783750   65.007750\n",
       "75%     73.021375   73.021375   73.718750   71.622375\n",
       "max     87.637000   87.637000   88.162500   86.695000"
      ]
     },
     "execution_count": 67,
     "metadata": {},
     "output_type": "execute_result"
    }
   ],
   "source": [
    "roll_df = df.rolling(window=w).mean() #20 row avg\n",
    "roll_df.dropna(inplace=True)\n",
    "roll_df.describe()"
   ]
  },
  {
   "cell_type": "code",
   "execution_count": 70,
   "metadata": {},
   "outputs": [
    {
     "name": "stdout",
     "output_type": "stream",
     "text": [
      "Start date:  2016-01-04 , End date:  2018-10-16\n"
     ]
    },
    {
     "data": {
      "text/html": [
       "<div>\n",
       "<style scoped>\n",
       "    .dataframe tbody tr th:only-of-type {\n",
       "        vertical-align: middle;\n",
       "    }\n",
       "\n",
       "    .dataframe tbody tr th {\n",
       "        vertical-align: top;\n",
       "    }\n",
       "\n",
       "    .dataframe thead th {\n",
       "        text-align: right;\n",
       "    }\n",
       "</style>\n",
       "<table border=\"1\" class=\"dataframe\">\n",
       "  <thead>\n",
       "    <tr style=\"text-align: right;\">\n",
       "      <th></th>\n",
       "      <th>Price</th>\n",
       "      <th>Open</th>\n",
       "      <th>High</th>\n",
       "      <th>Low</th>\n",
       "    </tr>\n",
       "    <tr>\n",
       "      <th>Date</th>\n",
       "      <th></th>\n",
       "      <th></th>\n",
       "      <th></th>\n",
       "      <th></th>\n",
       "    </tr>\n",
       "  </thead>\n",
       "  <tbody>\n",
       "    <tr>\n",
       "      <th>2016-01-29</th>\n",
       "      <td>40.8575</td>\n",
       "      <td>40.8575</td>\n",
       "      <td>41.2935</td>\n",
       "      <td>37.6385</td>\n",
       "    </tr>\n",
       "    <tr>\n",
       "      <th>2016-02-02</th>\n",
       "      <td>40.9375</td>\n",
       "      <td>40.9375</td>\n",
       "      <td>41.3135</td>\n",
       "      <td>37.8760</td>\n",
       "    </tr>\n",
       "    <tr>\n",
       "      <th>2016-02-03</th>\n",
       "      <td>41.0400</td>\n",
       "      <td>41.0400</td>\n",
       "      <td>41.3635</td>\n",
       "      <td>37.8735</td>\n",
       "    </tr>\n",
       "    <tr>\n",
       "      <th>2016-02-04</th>\n",
       "      <td>41.2065</td>\n",
       "      <td>41.2065</td>\n",
       "      <td>41.5110</td>\n",
       "      <td>38.2535</td>\n",
       "    </tr>\n",
       "    <tr>\n",
       "      <th>2016-02-05</th>\n",
       "      <td>41.3615</td>\n",
       "      <td>41.3615</td>\n",
       "      <td>41.6810</td>\n",
       "      <td>38.7760</td>\n",
       "    </tr>\n",
       "  </tbody>\n",
       "</table>\n",
       "</div>"
      ],
      "text/plain": [
       "              Price     Open     High      Low\n",
       "Date                                          \n",
       "2016-01-29  40.8575  40.8575  41.2935  37.6385\n",
       "2016-02-02  40.9375  40.9375  41.3135  37.8760\n",
       "2016-02-03  41.0400  41.0400  41.3635  37.8735\n",
       "2016-02-04  41.2065  41.2065  41.5110  38.2535\n",
       "2016-02-05  41.3615  41.3615  41.6810  38.7760"
      ]
     },
     "execution_count": 70,
     "metadata": {},
     "output_type": "execute_result"
    }
   ],
   "source": [
    "start = min(df.index.tolist())\n",
    "end = max(df.index.tolist())\n",
    "print(\"Start date: \", start, \", End date: \", end)\n",
    "roll_df.head()"
   ]
  },
  {
   "cell_type": "code",
   "execution_count": 73,
   "metadata": {},
   "outputs": [],
   "source": [
    "# function for min-max normalization of Iron Ore \n",
    "min_max_scaler = sklearn.preprocessing.MinMaxScaler()\n",
    "def normalize_data(df):\n",
    "    df['Price'] = min_max_scaler.fit_transform(df.Price.values.reshape(-1,1))\n",
    "    df['Open'] = min_max_scaler.fit_transform(df.Open.values.reshape(-1,1))\n",
    "    df['High'] = min_max_scaler.fit_transform(df.High.values.reshape(-1,1))\n",
    "    df['Low'] = min_max_scaler.fit_transform(df.Low.values.reshape(-1,1))\n",
    "    return df"
   ]
  },
  {
   "cell_type": "code",
   "execution_count": 74,
   "metadata": {},
   "outputs": [
    {
     "data": {
      "text/html": [
       "<div>\n",
       "<style scoped>\n",
       "    .dataframe tbody tr th:only-of-type {\n",
       "        vertical-align: middle;\n",
       "    }\n",
       "\n",
       "    .dataframe tbody tr th {\n",
       "        vertical-align: top;\n",
       "    }\n",
       "\n",
       "    .dataframe thead th {\n",
       "        text-align: right;\n",
       "    }\n",
       "</style>\n",
       "<table border=\"1\" class=\"dataframe\">\n",
       "  <thead>\n",
       "    <tr style=\"text-align: right;\">\n",
       "      <th></th>\n",
       "      <th>Price</th>\n",
       "      <th>Open</th>\n",
       "      <th>High</th>\n",
       "      <th>Low</th>\n",
       "    </tr>\n",
       "    <tr>\n",
       "      <th>Date</th>\n",
       "      <th></th>\n",
       "      <th></th>\n",
       "      <th></th>\n",
       "      <th></th>\n",
       "    </tr>\n",
       "  </thead>\n",
       "  <tbody>\n",
       "    <tr>\n",
       "      <th>2016-01-04</th>\n",
       "      <td>0.043804</td>\n",
       "      <td>0.043804</td>\n",
       "      <td>0.061815</td>\n",
       "      <td>0.081705</td>\n",
       "    </tr>\n",
       "    <tr>\n",
       "      <th>2016-01-05</th>\n",
       "      <td>0.040253</td>\n",
       "      <td>0.040253</td>\n",
       "      <td>0.054835</td>\n",
       "      <td>0.071936</td>\n",
       "    </tr>\n",
       "    <tr>\n",
       "      <th>2016-01-06</th>\n",
       "      <td>0.028414</td>\n",
       "      <td>0.028414</td>\n",
       "      <td>0.030907</td>\n",
       "      <td>0.049734</td>\n",
       "    </tr>\n",
       "    <tr>\n",
       "      <th>2016-01-07</th>\n",
       "      <td>0.029006</td>\n",
       "      <td>0.029006</td>\n",
       "      <td>0.019940</td>\n",
       "      <td>0.001776</td>\n",
       "    </tr>\n",
       "    <tr>\n",
       "      <th>2016-01-08</th>\n",
       "      <td>0.022494</td>\n",
       "      <td>0.022494</td>\n",
       "      <td>0.021934</td>\n",
       "      <td>0.000000</td>\n",
       "    </tr>\n",
       "  </tbody>\n",
       "</table>\n",
       "</div>"
      ],
      "text/plain": [
       "               Price      Open      High       Low\n",
       "Date                                              \n",
       "2016-01-04  0.043804  0.043804  0.061815  0.081705\n",
       "2016-01-05  0.040253  0.040253  0.054835  0.071936\n",
       "2016-01-06  0.028414  0.028414  0.030907  0.049734\n",
       "2016-01-07  0.029006  0.029006  0.019940  0.001776\n",
       "2016-01-08  0.022494  0.022494  0.021934  0.000000"
      ]
     },
     "execution_count": 74,
     "metadata": {},
     "output_type": "execute_result"
    }
   ],
   "source": [
    "# normalize stock\n",
    "df_norm = df.copy()\n",
    "df_norm = normalize_data(df_norm)\n",
    "df_norm.head()"
   ]
  },
  {
   "cell_type": "code",
   "execution_count": 102,
   "metadata": {},
   "outputs": [],
   "source": [
    "# function to create train, validation, test data given stock data and sequence length\n",
    "def load_data(stock, seq_len):\n",
    "    data_raw = stock.as_matrix() # convert to numpy array shape (715,4)\n",
    "    print(data_raw.shape)\n",
    "    data = []\n",
    "    cnt = 0\n",
    "    # create all possible sequences of length seq_len\n",
    "    for index in range(len(data_raw) - seq_len): \n",
    "        data.append(data_raw[index: index + seq_len])\n",
    "    \n",
    "    \n",
    "    data = np.array(data);\n",
    "    print(data.shape)\n",
    "    valid_set_size = int(np.round(valid_set_size_percentage/100*data.shape[0]));  \n",
    "    test_set_size = int(np.round(test_set_size_percentage/100*data.shape[0]));\n",
    "    train_set_size = data.shape[0] - (valid_set_size + test_set_size);\n",
    "    \n",
    "    x_train = data[:train_set_size,:-1,:]\n",
    "    y_train = data[:train_set_size,-1,:] #take the last row from every 20 steps\n",
    "    #y_train = data[:,-1][:,-1]\n",
    "    x_valid = data[train_set_size:train_set_size+valid_set_size,:-1,:]\n",
    "  \n",
    "    y_valid = data[train_set_size:train_set_size+valid_set_size,-1,:]\n",
    "    \n",
    "    x_test = data[train_set_size+valid_set_size:,:-1,:]\n",
    "    y_test = data[train_set_size+valid_set_size:,-1,:]\n",
    "    \n",
    "    return [x_train, y_train, x_valid, y_valid, x_test, y_test]"
   ]
  },
  {
   "cell_type": "code",
   "execution_count": 103,
   "metadata": {},
   "outputs": [
    {
     "name": "stdout",
     "output_type": "stream",
     "text": [
      "(715, 4)\n",
      "(695, 20, 4)\n",
      "x_train.shape =  (417, 19, 4)\n",
      "y_train.shape =  (417, 4)\n",
      "x_valid.shape =  (139, 19, 4)\n",
      "y_valid.shape =  (139, 4)\n",
      "x_test.shape =  (139, 19, 4)\n",
      "y_test.shape =  (139, 4)\n"
     ]
    },
    {
     "name": "stderr",
     "output_type": "stream",
     "text": [
      "C:\\Users\\sumon\\Anaconda3\\envs\\tensorflow\\lib\\site-packages\\ipykernel_launcher.py:3: FutureWarning:\n",
      "\n",
      "Method .as_matrix will be removed in a future version. Use .values instead.\n",
      "\n"
     ]
    }
   ],
   "source": [
    "# create train, test data\n",
    "seq_len = 19 # choose sequence length\n",
    "x_train, y_train, x_valid, y_valid, x_test, y_test = load_data(df_norm, seq_len+1)\n",
    "print('x_train.shape = ',x_train.shape)\n",
    "print('y_train.shape = ', y_train.shape)\n",
    "print('x_valid.shape = ',x_valid.shape)\n",
    "print('y_valid.shape = ', y_valid.shape)\n",
    "print('x_test.shape = ', x_test.shape)\n",
    "print('y_test.shape = ',y_test.shape)"
   ]
  },
  {
   "cell_type": "code",
   "execution_count": 106,
   "metadata": {},
   "outputs": [
    {
     "name": "stdout",
     "output_type": "stream",
     "text": [
      "x_train.shape =  (417, 19)\n",
      "y_train.shape =  (417,)\n",
      "x_valid.shape =  (139, 19)\n",
      "y_valid.shape =  (139,)\n",
      "x_test.shape =  (139, 19)\n",
      "y_test.shape =  (139,)\n"
     ]
    }
   ],
   "source": [
    "# Choose only  Prices column\n",
    "x_train, y_train, x_valid, y_valid, x_test, y_test = x_train[:,:,0], y_train[:,0], x_valid[:,:,0], y_valid[:,0], x_test[:,:,0], y_test[:,0]\n",
    "print('x_train.shape = ',x_train.shape)\n",
    "print('y_train.shape = ', y_train.shape)\n",
    "print('x_valid.shape = ',x_valid.shape)\n",
    "print('y_valid.shape = ', y_valid.shape)\n",
    "print('x_test.shape = ', x_test.shape)\n",
    "print('y_test.shape = ',y_test.shape)"
   ]
  },
  {
   "cell_type": "code",
   "execution_count": 107,
   "metadata": {},
   "outputs": [],
   "source": [
    "#Reshape data for (Sample,Timestep,Features) \n",
    "x_train = x_train.reshape((x_train.shape[0],x_train.shape[1],1))\n",
    "x_valid = x_valid.reshape((x_valid.shape[0],x_valid.shape[1],1))\n",
    "x_test = x_test.reshape((x_test.shape[0],x_test.shape[1],1))"
   ]
  },
  {
   "cell_type": "code",
   "execution_count": 113,
   "metadata": {},
   "outputs": [
    {
     "name": "stdout",
     "output_type": "stream",
     "text": [
      "Compilation Time :  0.021941423416137695\n"
     ]
    }
   ],
   "source": [
    "#Build the model\n",
    "#Predict every 20th time step\n",
    "model = Sequential()\n",
    "model.add(LSTM(256, input_shape=(seq_len, 1), return_sequences=True))\n",
    "model.add(Dropout(0.3))\n",
    "model.add(LSTM(256, input_shape=(seq_len, 1), return_sequences=False))\n",
    "model.add(Dropout(0.3))\n",
    "model.add(Dense(32,kernel_initializer=\"uniform\",activation='relu'))        \n",
    "model.add(Dense(1,kernel_initializer=\"uniform\",activation='linear'))\n",
    "start = time.time()\n",
    "model.compile(loss='mse',optimizer='adam', metrics=['accuracy'])\n",
    "print(\"Compilation Time : \", time.time() - start)"
   ]
  },
  {
   "cell_type": "code",
   "execution_count": 114,
   "metadata": {},
   "outputs": [
    {
     "name": "stdout",
     "output_type": "stream",
     "text": [
      "_________________________________________________________________\n",
      "Layer (type)                 Output Shape              Param #   \n",
      "=================================================================\n",
      "lstm_5 (LSTM)                (None, 19, 256)           264192    \n",
      "_________________________________________________________________\n",
      "dropout_3 (Dropout)          (None, 19, 256)           0         \n",
      "_________________________________________________________________\n",
      "lstm_6 (LSTM)                (None, 256)               525312    \n",
      "_________________________________________________________________\n",
      "dropout_4 (Dropout)          (None, 256)               0         \n",
      "_________________________________________________________________\n",
      "dense_5 (Dense)              (None, 32)                8224      \n",
      "_________________________________________________________________\n",
      "dense_6 (Dense)              (None, 1)                 33        \n",
      "=================================================================\n",
      "Total params: 797,761\n",
      "Trainable params: 797,761\n",
      "Non-trainable params: 0\n",
      "_________________________________________________________________\n"
     ]
    }
   ],
   "source": [
    "model.summary()"
   ]
  },
  {
   "cell_type": "code",
   "execution_count": 116,
   "metadata": {},
   "outputs": [
    {
     "name": "stdout",
     "output_type": "stream",
     "text": [
      "WARNING:tensorflow:From C:\\Users\\sumon\\Anaconda3\\envs\\tensorflow\\lib\\site-packages\\tensorflow\\python\\ops\\math_ops.py:3066: to_int32 (from tensorflow.python.ops.math_ops) is deprecated and will be removed in a future version.\n",
      "Instructions for updating:\n",
      "Use tf.cast instead.\n",
      "Train on 417 samples, validate on 139 samples\n",
      "Epoch 1/2\n",
      "417/417 [==============================] - 4s 9ms/step - loss: 0.1175 - acc: 0.0024 - val_loss: 0.0205 - val_acc: 0.0000e+00\n",
      "Epoch 2/2\n",
      "417/417 [==============================] - 1s 3ms/step - loss: 0.1337 - acc: 0.0000e+00 - val_loss: 0.0818 - val_acc: 0.0000e+00\n"
     ]
    },
    {
     "data": {
      "text/plain": [
       "<keras.callbacks.History at 0x11a61de2c18>"
      ]
     },
     "execution_count": 116,
     "metadata": {},
     "output_type": "execute_result"
    }
   ],
   "source": [
    "model.fit(x_train,y_train,epochs=2,validation_data=(x_valid,y_valid),verbose=1,shuffle=False)"
   ]
  },
  {
   "cell_type": "code",
   "execution_count": 117,
   "metadata": {},
   "outputs": [
    {
     "data": {
      "image/png": "[encoded data removed]",
      "text/plain": [
       "<Figure size 1080x360 with 1 Axes>"
      ]
     },
     "metadata": {
      "needs_background": "light"
     },
     "output_type": "display_data"
    }
   ],
   "source": [
    "# Visualise predictions\n",
    "pred_price = model.predict(x_test)\n",
    "plt.figure(figsize=(15, 5));\n",
    "plt.plot( np.arange(y_test.shape[0]), min_max_scaler.inverse_transform(y_test.reshape(-1,1)),label='Original')\n",
    "plt.plot(np.arange(y_test.shape[0]), min_max_scaler.inverse_transform(pred_price), label ='Predictions')\n",
    "plt.xlabel('Days')\n",
    "plt.ylabel('Price')\n",
    "plt.legend(loc='best')\n",
    "plt.show()"
   ]
  },
  {
   "cell_type": "code",
   "execution_count": 120,
   "metadata": {},
   "outputs": [
    {
     "data": {
      "text/plain": [
       "139"
      ]
     },
     "execution_count": 120,
     "metadata": {},
     "output_type": "execute_result"
    }
   ],
   "source": [
    "len(pred_price)"
   ]
  },
  {
   "cell_type": "code",
   "execution_count": 121,
   "metadata": {},
   "outputs": [
    {
     "data": {
      "text/plain": [
       "139"
      ]
     },
     "execution_count": 121,
     "metadata": {},
     "output_type": "execute_result"
    }
   ],
   "source": [
    "len(y_test)"
   ]
  },
  {
   "cell_type": "code",
   "execution_count": null,
   "metadata": {},
   "outputs": [],
   "source": []
  }
 ],
 "metadata": {
  "kernelspec": {
   "display_name": "Python 3",
   "language": "python",
   "name": "python3"
  },
  "language_info": {
   "codemirror_mode": {
    "name": "ipython",
    "version": 3
   },
   "file_extension": ".py",
   "mimetype": "text/x-python",
   "name": "python",
   "nbconvert_exporter": "python",
   "pygments_lexer": "ipython3",
   "version": "3.7.3"
  }
 },
 "nbformat": 4,
 "nbformat_minor": 2
}
