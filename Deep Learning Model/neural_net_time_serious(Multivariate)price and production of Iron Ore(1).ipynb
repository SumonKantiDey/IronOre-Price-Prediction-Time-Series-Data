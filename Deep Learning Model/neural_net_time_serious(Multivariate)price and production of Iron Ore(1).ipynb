{
 "cells": [
  {
   "cell_type": "code",
   "execution_count": 1,
   "metadata": {},
   "outputs": [
    {
     "name": "stderr",
     "output_type": "stream",
     "text": [
      "Using TensorFlow backend.\n"
     ]
    }
   ],
   "source": [
    "import numpy as np\n",
    "import matplotlib.pyplot as plt\n",
    "%matplotlib inline\n",
    "from sklearn.linear_model import LinearRegression \n",
    "import matplotlib.pylab as pylab\n",
    "import math,time\n",
    "import sklearn\n",
    "import sklearn.preprocessing\n",
    "import datetime\n",
    "import os\n",
    "import matplotlib.pyplot as plt\n",
    "import keras\n",
    "from keras.models import Sequential\n",
    "from keras.layers import LSTM\n",
    "from keras.layers.core import Dense, Dropout, Activation\n",
    "from sklearn.preprocessing import MinMaxScaler\n",
    "from statsmodels.graphics.tsaplots import plot_pacf, plot_acf\n",
    "\n",
    "test_set_size_percentage = 20 \n",
    "import pandas as pd\n",
    "from pandas import read_csv\n",
    "params = {'legend.fontsize': 'xx-large',\n",
    "          'figure.figsize': (15, 10),\n",
    "         'axes.labelsize': 'xx-large',\n",
    "         'axes.titlesize':'xx-large',\n",
    "         'xtick.labelsize':'xx-large',\n",
    "         'ytick.labelsize':'xx-large'}\n",
    "pylab.rcParams.update(params)\n",
    "from sklearn.metrics import r2_score,mean_squared_error "
   ]
  },
  {
   "cell_type": "code",
   "execution_count": 2,
   "metadata": {},
   "outputs": [
    {
     "data": {
      "text/html": [
       "<div>\n",
       "<style scoped>\n",
       "    .dataframe tbody tr th:only-of-type {\n",
       "        vertical-align: middle;\n",
       "    }\n",
       "\n",
       "    .dataframe tbody tr th {\n",
       "        vertical-align: top;\n",
       "    }\n",
       "\n",
       "    .dataframe thead th {\n",
       "        text-align: right;\n",
       "    }\n",
       "</style>\n",
       "<table border=\"1\" class=\"dataframe\">\n",
       "  <thead>\n",
       "    <tr style=\"text-align: right;\">\n",
       "      <th></th>\n",
       "      <th>DATE</th>\n",
       "      <th>Price</th>\n",
       "      <th>Production</th>\n",
       "    </tr>\n",
       "  </thead>\n",
       "  <tbody>\n",
       "    <tr>\n",
       "      <td>0</td>\n",
       "      <td>2008-12-01</td>\n",
       "      <td>69.982609</td>\n",
       "      <td>83.0719</td>\n",
       "    </tr>\n",
       "    <tr>\n",
       "      <td>1</td>\n",
       "      <td>2009-01-01</td>\n",
       "      <td>72.509091</td>\n",
       "      <td>72.3047</td>\n",
       "    </tr>\n",
       "    <tr>\n",
       "      <td>2</td>\n",
       "      <td>2009-02-01</td>\n",
       "      <td>75.590000</td>\n",
       "      <td>70.6748</td>\n",
       "    </tr>\n",
       "    <tr>\n",
       "      <td>3</td>\n",
       "      <td>2009-03-01</td>\n",
       "      <td>64.072727</td>\n",
       "      <td>52.8787</td>\n",
       "    </tr>\n",
       "    <tr>\n",
       "      <td>4</td>\n",
       "      <td>2009-04-01</td>\n",
       "      <td>59.781818</td>\n",
       "      <td>39.4411</td>\n",
       "    </tr>\n",
       "  </tbody>\n",
       "</table>\n",
       "</div>"
      ],
      "text/plain": [
       "        DATE      Price  Production\n",
       "0 2008-12-01  69.982609     83.0719\n",
       "1 2009-01-01  72.509091     72.3047\n",
       "2 2009-02-01  75.590000     70.6748\n",
       "3 2009-03-01  64.072727     52.8787\n",
       "4 2009-04-01  59.781818     39.4411"
      ]
     },
     "execution_count": 2,
     "metadata": {},
     "output_type": "execute_result"
    }
   ],
   "source": [
    "data = read_csv('dataset/train_iron.csv')\n",
    "data['DATE']=pd.to_datetime(data['DATE'],format='%d/%m/%Y') \n",
    "data=data.sort_values('DATE') \n",
    "df = data\n",
    "df.head()"
   ]
  },
  {
   "cell_type": "code",
   "execution_count": 3,
   "metadata": {},
   "outputs": [
    {
     "name": "stdout",
     "output_type": "stream",
     "text": [
      "The correlation of price with other features\n"
     ]
    },
    {
     "data": {
      "text/plain": [
       "Price                 1.000000\n",
       "Production            0.493812\n",
       "Price_lag             0.971039\n",
       "rolling_mean_price    0.953530\n",
       "Name: Price, dtype: float64"
      ]
     },
     "execution_count": 3,
     "metadata": {},
     "output_type": "execute_result"
    }
   ],
   "source": [
    "df['Price_lag']=df['Price'].shift(1) \n",
    "df=df.set_index('DATE') \n",
    "df['rolling_mean_price']=df['Price_lag'].rolling(2, min_periods=1).sum() \n",
    "df=df.dropna() \n",
    "print('The correlation of price with other features') \n",
    "df.corr()['Price']"
   ]
  },
  {
   "cell_type": "code",
   "execution_count": 4,
   "metadata": {},
   "outputs": [
    {
     "data": {
      "text/html": [
       "<div>\n",
       "<style scoped>\n",
       "    .dataframe tbody tr th:only-of-type {\n",
       "        vertical-align: middle;\n",
       "    }\n",
       "\n",
       "    .dataframe tbody tr th {\n",
       "        vertical-align: top;\n",
       "    }\n",
       "\n",
       "    .dataframe thead th {\n",
       "        text-align: right;\n",
       "    }\n",
       "</style>\n",
       "<table border=\"1\" class=\"dataframe\">\n",
       "  <thead>\n",
       "    <tr style=\"text-align: right;\">\n",
       "      <th></th>\n",
       "      <th>Price</th>\n",
       "      <th>Production</th>\n",
       "      <th>Price_lag</th>\n",
       "      <th>rolling_mean_price</th>\n",
       "    </tr>\n",
       "    <tr>\n",
       "      <th>DATE</th>\n",
       "      <th></th>\n",
       "      <th></th>\n",
       "      <th></th>\n",
       "      <th></th>\n",
       "    </tr>\n",
       "  </thead>\n",
       "  <tbody>\n",
       "    <tr>\n",
       "      <td>2009-01-01</td>\n",
       "      <td>72.509091</td>\n",
       "      <td>72.3047</td>\n",
       "      <td>69.982609</td>\n",
       "      <td>69.982609</td>\n",
       "    </tr>\n",
       "    <tr>\n",
       "      <td>2009-02-01</td>\n",
       "      <td>75.590000</td>\n",
       "      <td>70.6748</td>\n",
       "      <td>72.509091</td>\n",
       "      <td>142.491700</td>\n",
       "    </tr>\n",
       "    <tr>\n",
       "      <td>2009-03-01</td>\n",
       "      <td>64.072727</td>\n",
       "      <td>52.8787</td>\n",
       "      <td>75.590000</td>\n",
       "      <td>148.099091</td>\n",
       "    </tr>\n",
       "    <tr>\n",
       "      <td>2009-04-01</td>\n",
       "      <td>59.781818</td>\n",
       "      <td>39.4411</td>\n",
       "      <td>64.072727</td>\n",
       "      <td>139.662727</td>\n",
       "    </tr>\n",
       "    <tr>\n",
       "      <td>2009-05-01</td>\n",
       "      <td>62.690476</td>\n",
       "      <td>17.9050</td>\n",
       "      <td>59.781818</td>\n",
       "      <td>123.854545</td>\n",
       "    </tr>\n",
       "  </tbody>\n",
       "</table>\n",
       "</div>"
      ],
      "text/plain": [
       "                Price  Production  Price_lag  rolling_mean_price\n",
       "DATE                                                            \n",
       "2009-01-01  72.509091     72.3047  69.982609           69.982609\n",
       "2009-02-01  75.590000     70.6748  72.509091          142.491700\n",
       "2009-03-01  64.072727     52.8787  75.590000          148.099091\n",
       "2009-04-01  59.781818     39.4411  64.072727          139.662727\n",
       "2009-05-01  62.690476     17.9050  59.781818          123.854545"
      ]
     },
     "execution_count": 4,
     "metadata": {},
     "output_type": "execute_result"
    }
   ],
   "source": [
    "df.head()"
   ]
  },
  {
   "cell_type": "code",
   "execution_count": 5,
   "metadata": {},
   "outputs": [
    {
     "data": {
      "text/html": [
       "<div>\n",
       "<style scoped>\n",
       "    .dataframe tbody tr th:only-of-type {\n",
       "        vertical-align: middle;\n",
       "    }\n",
       "\n",
       "    .dataframe tbody tr th {\n",
       "        vertical-align: top;\n",
       "    }\n",
       "\n",
       "    .dataframe thead th {\n",
       "        text-align: right;\n",
       "    }\n",
       "</style>\n",
       "<table border=\"1\" class=\"dataframe\">\n",
       "  <thead>\n",
       "    <tr style=\"text-align: right;\">\n",
       "      <th></th>\n",
       "      <th>DATE</th>\n",
       "      <th>Price</th>\n",
       "      <th>Production</th>\n",
       "      <th>Price_lag</th>\n",
       "    </tr>\n",
       "  </thead>\n",
       "  <tbody>\n",
       "    <tr>\n",
       "      <td>0</td>\n",
       "      <td>2008-12-01</td>\n",
       "      <td>69.982609</td>\n",
       "      <td>83.0719</td>\n",
       "      <td>NaN</td>\n",
       "    </tr>\n",
       "    <tr>\n",
       "      <td>1</td>\n",
       "      <td>2009-01-01</td>\n",
       "      <td>72.509091</td>\n",
       "      <td>72.3047</td>\n",
       "      <td>69.982609</td>\n",
       "    </tr>\n",
       "    <tr>\n",
       "      <td>2</td>\n",
       "      <td>2009-02-01</td>\n",
       "      <td>75.590000</td>\n",
       "      <td>70.6748</td>\n",
       "      <td>72.509091</td>\n",
       "    </tr>\n",
       "    <tr>\n",
       "      <td>3</td>\n",
       "      <td>2009-03-01</td>\n",
       "      <td>64.072727</td>\n",
       "      <td>52.8787</td>\n",
       "      <td>75.590000</td>\n",
       "    </tr>\n",
       "    <tr>\n",
       "      <td>4</td>\n",
       "      <td>2009-04-01</td>\n",
       "      <td>59.781818</td>\n",
       "      <td>39.4411</td>\n",
       "      <td>64.072727</td>\n",
       "    </tr>\n",
       "  </tbody>\n",
       "</table>\n",
       "</div>"
      ],
      "text/plain": [
       "        DATE      Price  Production  Price_lag\n",
       "0 2008-12-01  69.982609     83.0719        NaN\n",
       "1 2009-01-01  72.509091     72.3047  69.982609\n",
       "2 2009-02-01  75.590000     70.6748  72.509091\n",
       "3 2009-03-01  64.072727     52.8787  75.590000\n",
       "4 2009-04-01  59.781818     39.4411  64.072727"
      ]
     },
     "execution_count": 5,
     "metadata": {},
     "output_type": "execute_result"
    }
   ],
   "source": [
    "data.head()"
   ]
  },
  {
   "cell_type": "code",
   "execution_count": 6,
   "metadata": {},
   "outputs": [],
   "source": [
    "# function for min-max normalization of Iron Ore \n",
    "min_max_scaler = sklearn.preprocessing.MinMaxScaler()\n",
    "def normalize_data(df):\n",
    "    df['Price'] = min_max_scaler.fit_transform(df.Price.values.reshape(-1,1))\n",
    "    df['Production'] = min_max_scaler.fit_transform(df.Production.values.reshape(-1,1))\n",
    "    df['Price_lag'] = min_max_scaler.fit_transform(df.Price_lag.values.reshape(-1,1))\n",
    "    df['rolling_mean_price'] = min_max_scaler.fit_transform(df.rolling_mean_price.values.reshape(-1,1))\n",
    "    return df"
   ]
  },
  {
   "cell_type": "code",
   "execution_count": 7,
   "metadata": {},
   "outputs": [
    {
     "data": {
      "text/html": [
       "<div>\n",
       "<style scoped>\n",
       "    .dataframe tbody tr th:only-of-type {\n",
       "        vertical-align: middle;\n",
       "    }\n",
       "\n",
       "    .dataframe tbody tr th {\n",
       "        vertical-align: top;\n",
       "    }\n",
       "\n",
       "    .dataframe thead th {\n",
       "        text-align: right;\n",
       "    }\n",
       "</style>\n",
       "<table border=\"1\" class=\"dataframe\">\n",
       "  <thead>\n",
       "    <tr style=\"text-align: right;\">\n",
       "      <th></th>\n",
       "      <th>Price</th>\n",
       "      <th>Production</th>\n",
       "      <th>Price_lag</th>\n",
       "      <th>rolling_mean_price</th>\n",
       "    </tr>\n",
       "    <tr>\n",
       "      <th>DATE</th>\n",
       "      <th></th>\n",
       "      <th></th>\n",
       "      <th></th>\n",
       "      <th></th>\n",
       "    </tr>\n",
       "  </thead>\n",
       "  <tbody>\n",
       "    <tr>\n",
       "      <td>2009-01-01</td>\n",
       "      <td>0.216179</td>\n",
       "      <td>0.576178</td>\n",
       "      <td>0.198910</td>\n",
       "      <td>0.000000</td>\n",
       "    </tr>\n",
       "    <tr>\n",
       "      <td>2009-02-01</td>\n",
       "      <td>0.237239</td>\n",
       "      <td>0.559052</td>\n",
       "      <td>0.216179</td>\n",
       "      <td>0.244280</td>\n",
       "    </tr>\n",
       "    <tr>\n",
       "      <td>2009-03-01</td>\n",
       "      <td>0.158514</td>\n",
       "      <td>0.372059</td>\n",
       "      <td>0.237239</td>\n",
       "      <td>0.263171</td>\n",
       "    </tr>\n",
       "    <tr>\n",
       "      <td>2009-04-01</td>\n",
       "      <td>0.129184</td>\n",
       "      <td>0.230864</td>\n",
       "      <td>0.158514</td>\n",
       "      <td>0.234750</td>\n",
       "    </tr>\n",
       "    <tr>\n",
       "      <td>2009-05-01</td>\n",
       "      <td>0.149065</td>\n",
       "      <td>0.004574</td>\n",
       "      <td>0.129184</td>\n",
       "      <td>0.181492</td>\n",
       "    </tr>\n",
       "  </tbody>\n",
       "</table>\n",
       "</div>"
      ],
      "text/plain": [
       "               Price  Production  Price_lag  rolling_mean_price\n",
       "DATE                                                           \n",
       "2009-01-01  0.216179    0.576178   0.198910            0.000000\n",
       "2009-02-01  0.237239    0.559052   0.216179            0.244280\n",
       "2009-03-01  0.158514    0.372059   0.237239            0.263171\n",
       "2009-04-01  0.129184    0.230864   0.158514            0.234750\n",
       "2009-05-01  0.149065    0.004574   0.129184            0.181492"
      ]
     },
     "execution_count": 7,
     "metadata": {},
     "output_type": "execute_result"
    }
   ],
   "source": [
    "# normalize stock\n",
    "df_stock_norm = df.copy()\n",
    "df_stock_norm = normalize_data(df_stock_norm)\n",
    "df_stock_norm.head()"
   ]
  },
  {
   "cell_type": "code",
   "execution_count": 8,
   "metadata": {},
   "outputs": [],
   "source": [
    "# print(len(df_stock_norm))\n",
    "# print(len(data))"
   ]
  },
  {
   "cell_type": "code",
   "execution_count": 9,
   "metadata": {},
   "outputs": [
    {
     "data": {
      "text/html": [
       "<div>\n",
       "<style scoped>\n",
       "    .dataframe tbody tr th:only-of-type {\n",
       "        vertical-align: middle;\n",
       "    }\n",
       "\n",
       "    .dataframe tbody tr th {\n",
       "        vertical-align: top;\n",
       "    }\n",
       "\n",
       "    .dataframe thead th {\n",
       "        text-align: right;\n",
       "    }\n",
       "</style>\n",
       "<table border=\"1\" class=\"dataframe\">\n",
       "  <thead>\n",
       "    <tr style=\"text-align: right;\">\n",
       "      <th></th>\n",
       "      <th>Production</th>\n",
       "      <th>Price_lag</th>\n",
       "      <th>rolling_mean_price</th>\n",
       "    </tr>\n",
       "    <tr>\n",
       "      <th>DATE</th>\n",
       "      <th></th>\n",
       "      <th></th>\n",
       "      <th></th>\n",
       "    </tr>\n",
       "  </thead>\n",
       "  <tbody>\n",
       "    <tr>\n",
       "      <td>2009-01-01</td>\n",
       "      <td>0.576178</td>\n",
       "      <td>0.198910</td>\n",
       "      <td>0.000000</td>\n",
       "    </tr>\n",
       "    <tr>\n",
       "      <td>2009-02-01</td>\n",
       "      <td>0.559052</td>\n",
       "      <td>0.216179</td>\n",
       "      <td>0.244280</td>\n",
       "    </tr>\n",
       "    <tr>\n",
       "      <td>2009-03-01</td>\n",
       "      <td>0.372059</td>\n",
       "      <td>0.237239</td>\n",
       "      <td>0.263171</td>\n",
       "    </tr>\n",
       "    <tr>\n",
       "      <td>2009-04-01</td>\n",
       "      <td>0.230864</td>\n",
       "      <td>0.158514</td>\n",
       "      <td>0.234750</td>\n",
       "    </tr>\n",
       "    <tr>\n",
       "      <td>2009-05-01</td>\n",
       "      <td>0.004574</td>\n",
       "      <td>0.129184</td>\n",
       "      <td>0.181492</td>\n",
       "    </tr>\n",
       "  </tbody>\n",
       "</table>\n",
       "</div>"
      ],
      "text/plain": [
       "            Production  Price_lag  rolling_mean_price\n",
       "DATE                                                 \n",
       "2009-01-01    0.576178   0.198910            0.000000\n",
       "2009-02-01    0.559052   0.216179            0.244280\n",
       "2009-03-01    0.372059   0.237239            0.263171\n",
       "2009-04-01    0.230864   0.158514            0.234750\n",
       "2009-05-01    0.004574   0.129184            0.181492"
      ]
     },
     "execution_count": 9,
     "metadata": {},
     "output_type": "execute_result"
    }
   ],
   "source": [
    "y=df_stock_norm['Price'] \n",
    "X=df_stock_norm.drop([\"Price\"],axis=1) \n",
    "X_train=X[:90]\n",
    "y_train=y[:90]\n",
    "X_train.head() "
   ]
  },
  {
   "cell_type": "code",
   "execution_count": 10,
   "metadata": {},
   "outputs": [
    {
     "data": {
      "text/html": [
       "<div>\n",
       "<style scoped>\n",
       "    .dataframe tbody tr th:only-of-type {\n",
       "        vertical-align: middle;\n",
       "    }\n",
       "\n",
       "    .dataframe tbody tr th {\n",
       "        vertical-align: top;\n",
       "    }\n",
       "\n",
       "    .dataframe thead th {\n",
       "        text-align: right;\n",
       "    }\n",
       "</style>\n",
       "<table border=\"1\" class=\"dataframe\">\n",
       "  <thead>\n",
       "    <tr style=\"text-align: right;\">\n",
       "      <th></th>\n",
       "      <th>Production</th>\n",
       "      <th>Price_lag</th>\n",
       "      <th>rolling_mean_price</th>\n",
       "    </tr>\n",
       "    <tr>\n",
       "      <th>DATE</th>\n",
       "      <th></th>\n",
       "      <th></th>\n",
       "      <th></th>\n",
       "    </tr>\n",
       "  </thead>\n",
       "  <tbody>\n",
       "    <tr>\n",
       "      <td>2016-02-01</td>\n",
       "      <td>0.595297</td>\n",
       "      <td>0.009037</td>\n",
       "      <td>0.044149</td>\n",
       "    </tr>\n",
       "    <tr>\n",
       "      <td>2016-03-01</td>\n",
       "      <td>0.553744</td>\n",
       "      <td>0.038299</td>\n",
       "      <td>0.063026</td>\n",
       "    </tr>\n",
       "    <tr>\n",
       "      <td>2016-04-01</td>\n",
       "      <td>0.547777</td>\n",
       "      <td>0.107018</td>\n",
       "      <td>0.111318</td>\n",
       "    </tr>\n",
       "    <tr>\n",
       "      <td>2016-05-01</td>\n",
       "      <td>0.721929</td>\n",
       "      <td>0.137282</td>\n",
       "      <td>0.160104</td>\n",
       "    </tr>\n",
       "    <tr>\n",
       "      <td>2016-06-01</td>\n",
       "      <td>0.703890</td>\n",
       "      <td>0.102557</td>\n",
       "      <td>0.157905</td>\n",
       "    </tr>\n",
       "  </tbody>\n",
       "</table>\n",
       "</div>"
      ],
      "text/plain": [
       "            Production  Price_lag  rolling_mean_price\n",
       "DATE                                                 \n",
       "2016-02-01    0.595297   0.009037            0.044149\n",
       "2016-03-01    0.553744   0.038299            0.063026\n",
       "2016-04-01    0.547777   0.107018            0.111318\n",
       "2016-05-01    0.721929   0.137282            0.160104\n",
       "2016-06-01    0.703890   0.102557            0.157905"
      ]
     },
     "execution_count": 10,
     "metadata": {},
     "output_type": "execute_result"
    }
   ],
   "source": [
    "X_train.tail()"
   ]
  },
  {
   "cell_type": "code",
   "execution_count": 11,
   "metadata": {},
   "outputs": [
    {
     "data": {
      "text/plain": [
       "DATE\n",
       "2009-01-01    0.216179\n",
       "2009-02-01    0.237239\n",
       "2009-03-01    0.158514\n",
       "2009-04-01    0.129184\n",
       "2009-05-01    0.149065\n",
       "Name: Price, dtype: float64"
      ]
     },
     "execution_count": 11,
     "metadata": {},
     "output_type": "execute_result"
    }
   ],
   "source": [
    "y_train.head() #only the price normalize value"
   ]
  },
  {
   "cell_type": "code",
   "execution_count": 12,
   "metadata": {},
   "outputs": [
    {
     "data": {
      "text/plain": [
       "(90, 3)"
      ]
     },
     "execution_count": 12,
     "metadata": {},
     "output_type": "execute_result"
    }
   ],
   "source": [
    "X_train.shape"
   ]
  },
  {
   "cell_type": "code",
   "execution_count": 13,
   "metadata": {},
   "outputs": [
    {
     "name": "stderr",
     "output_type": "stream",
     "text": [
      "C:\\Users\\sumon\\Anaconda3\\envs\\tensorflow\\lib\\site-packages\\ipykernel_launcher.py:1: FutureWarning: Method .as_matrix will be removed in a future version. Use .values instead.\n",
      "  \"\"\"Entry point for launching an IPython kernel.\n"
     ]
    }
   ],
   "source": [
    "X_train = X_train.as_matrix() #convert X_train as a matrix for RNN input"
   ]
  },
  {
   "cell_type": "code",
   "execution_count": 14,
   "metadata": {},
   "outputs": [
    {
     "data": {
      "text/plain": [
       "(90, 3)"
      ]
     },
     "execution_count": 14,
     "metadata": {},
     "output_type": "execute_result"
    }
   ],
   "source": [
    "X_train.shape"
   ]
  },
  {
   "cell_type": "code",
   "execution_count": 15,
   "metadata": {},
   "outputs": [
    {
     "name": "stdout",
     "output_type": "stream",
     "text": [
      "X_train.shape =  (90, 3)\n",
      "y_train.shape =  (90,)\n"
     ]
    }
   ],
   "source": [
    "print('X_train.shape = ',X_train.shape)\n",
    "print('y_train.shape = ', y_train.shape)"
   ]
  },
  {
   "cell_type": "code",
   "execution_count": 16,
   "metadata": {},
   "outputs": [
    {
     "data": {
      "text/plain": [
       "(90, 1, 3)"
      ]
     },
     "execution_count": 16,
     "metadata": {},
     "output_type": "execute_result"
    }
   ],
   "source": [
    "#Reshape data for (Sample,Timestep,Features) \n",
    "x_train = X_train.reshape((X_train.shape[0],1,X_train.shape[1]))\n",
    "x_train.shape"
   ]
  },
  {
   "cell_type": "code",
   "execution_count": 17,
   "metadata": {},
   "outputs": [],
   "source": [
    "#Build the model\n",
    "model = Sequential()\n",
    "model.add(LSTM(256,input_shape=(1,3))) # 3 feature with one time stamps\n",
    "model.add(Dense(64, activation='relu'))\n",
    "model.add(Dense(1))\n",
    "model.compile(optimizer='adam',loss='mse', metrics=['accuracy'])"
   ]
  },
  {
   "cell_type": "code",
   "execution_count": 18,
   "metadata": {},
   "outputs": [
    {
     "name": "stdout",
     "output_type": "stream",
     "text": [
      "Model: \"sequential_1\"\n",
      "_________________________________________________________________\n",
      "Layer (type)                 Output Shape              Param #   \n",
      "=================================================================\n",
      "lstm_1 (LSTM)                (None, 256)               266240    \n",
      "_________________________________________________________________\n",
      "dense_1 (Dense)              (None, 64)                16448     \n",
      "_________________________________________________________________\n",
      "dense_2 (Dense)              (None, 1)                 65        \n",
      "=================================================================\n",
      "Total params: 282,753\n",
      "Trainable params: 282,753\n",
      "Non-trainable params: 0\n",
      "_________________________________________________________________\n"
     ]
    }
   ],
   "source": [
    "model.summary()"
   ]
  },
  {
   "cell_type": "code",
   "execution_count": 19,
   "metadata": {},
   "outputs": [
    {
     "name": "stdout",
     "output_type": "stream",
     "text": [
      "WARNING:tensorflow:From C:\\Users\\sumon\\Anaconda3\\envs\\tensorflow\\lib\\site-packages\\keras\\backend\\tensorflow_backend.py:422: The name tf.global_variables is deprecated. Please use tf.compat.v1.global_variables instead.\n",
      "\n",
      "Epoch 1/20\n",
      "90/90 [==============================] - 0s 4ms/step - loss: 0.2892 - accuracy: 0.0111\n",
      "Epoch 2/20\n",
      "90/90 [==============================] - 0s 288us/step - loss: 0.2245 - accuracy: 0.0111\n",
      "Epoch 3/20\n",
      "90/90 [==============================] - 0s 300us/step - loss: 0.1696 - accuracy: 0.0111\n",
      "Epoch 4/20\n",
      "90/90 [==============================] - 0s 321us/step - loss: 0.1230 - accuracy: 0.0111\n",
      "Epoch 5/20\n",
      "90/90 [==============================] - 0s 255us/step - loss: 0.0830 - accuracy: 0.0111\n",
      "Epoch 6/20\n",
      "90/90 [==============================] - 0s 333us/step - loss: 0.0533 - accuracy: 0.0111\n",
      "Epoch 7/20\n",
      "90/90 [==============================] - 0s 310us/step - loss: 0.0361 - accuracy: 0.0222\n",
      "Epoch 8/20\n",
      "90/90 [==============================] - 0s 321us/step - loss: 0.0302 - accuracy: 0.0222\n",
      "Epoch 9/20\n",
      "90/90 [==============================] - 0s 299us/step - loss: 0.0308 - accuracy: 0.0222\n",
      "Epoch 10/20\n",
      "90/90 [==============================] - 0s 321us/step - loss: 0.0314 - accuracy: 0.0222\n",
      "Epoch 11/20\n",
      "90/90 [==============================] - 0s 266us/step - loss: 0.0287 - accuracy: 0.0222\n",
      "Epoch 12/20\n",
      "90/90 [==============================] - 0s 266us/step - loss: 0.0243 - accuracy: 0.0222\n",
      "Epoch 13/20\n",
      "90/90 [==============================] - 0s 321us/step - loss: 0.0206 - accuracy: 0.0222\n",
      "Epoch 14/20\n",
      "90/90 [==============================] - 0s 299us/step - loss: 0.0191 - accuracy: 0.0222\n",
      "Epoch 15/20\n",
      "90/90 [==============================] - 0s 344us/step - loss: 0.0189 - accuracy: 0.0222\n",
      "Epoch 16/20\n",
      "90/90 [==============================] - 0s 277us/step - loss: 0.0191 - accuracy: 0.0222\n",
      "Epoch 17/20\n",
      "90/90 [==============================] - 0s 277us/step - loss: 0.0187 - accuracy: 0.0222\n",
      "Epoch 18/20\n",
      "90/90 [==============================] - 0s 299us/step - loss: 0.0176 - accuracy: 0.0222\n",
      "Epoch 19/20\n",
      "90/90 [==============================] - 0s 332us/step - loss: 0.0161 - accuracy: 0.0222\n",
      "Epoch 20/20\n",
      "90/90 [==============================] - 0s 299us/step - loss: 0.0144 - accuracy: 0.0222\n"
     ]
    }
   ],
   "source": [
    "#Fit model with history to check for overfitting\n",
    "history = model.fit(x_train,y_train,epochs=20,shuffle=False)"
   ]
  },
  {
   "cell_type": "code",
   "execution_count": 20,
   "metadata": {},
   "outputs": [
    {
     "data": {
      "text/html": [
       "<div>\n",
       "<style scoped>\n",
       "    .dataframe tbody tr th:only-of-type {\n",
       "        vertical-align: middle;\n",
       "    }\n",
       "\n",
       "    .dataframe tbody tr th {\n",
       "        vertical-align: top;\n",
       "    }\n",
       "\n",
       "    .dataframe thead th {\n",
       "        text-align: right;\n",
       "    }\n",
       "</style>\n",
       "<table border=\"1\" class=\"dataframe\">\n",
       "  <thead>\n",
       "    <tr style=\"text-align: right;\">\n",
       "      <th></th>\n",
       "      <th>Production</th>\n",
       "      <th>Price_lag</th>\n",
       "    </tr>\n",
       "    <tr>\n",
       "      <th>DATE</th>\n",
       "      <th></th>\n",
       "      <th></th>\n",
       "    </tr>\n",
       "  </thead>\n",
       "  <tbody>\n",
       "    <tr>\n",
       "      <td>2016-06-01</td>\n",
       "      <td>84.4591</td>\n",
       "      <td>55.886364</td>\n",
       "    </tr>\n",
       "    <tr>\n",
       "      <td>2016-07-01</td>\n",
       "      <td>82.6145</td>\n",
       "      <td>52.340909</td>\n",
       "    </tr>\n",
       "    <tr>\n",
       "      <td>2016-08-01</td>\n",
       "      <td>75.9245</td>\n",
       "      <td>57.309524</td>\n",
       "    </tr>\n",
       "    <tr>\n",
       "      <td>2016-09-01</td>\n",
       "      <td>74.5910</td>\n",
       "      <td>60.869565</td>\n",
       "    </tr>\n",
       "    <tr>\n",
       "      <td>2016-10-01</td>\n",
       "      <td>78.7257</td>\n",
       "      <td>57.659091</td>\n",
       "    </tr>\n",
       "    <tr>\n",
       "      <td>2016-11-01</td>\n",
       "      <td>74.1908</td>\n",
       "      <td>58.952381</td>\n",
       "    </tr>\n",
       "    <tr>\n",
       "      <td>2016-12-01</td>\n",
       "      <td>77.3206</td>\n",
       "      <td>74.136364</td>\n",
       "    </tr>\n",
       "    <tr>\n",
       "      <td>2017-01-01</td>\n",
       "      <td>79.2234</td>\n",
       "      <td>79.431818</td>\n",
       "    </tr>\n",
       "    <tr>\n",
       "      <td>2017-02-01</td>\n",
       "      <td>82.7242</td>\n",
       "      <td>80.818182</td>\n",
       "    </tr>\n",
       "    <tr>\n",
       "      <td>2017-03-01</td>\n",
       "      <td>82.5399</td>\n",
       "      <td>88.800000</td>\n",
       "    </tr>\n",
       "    <tr>\n",
       "      <td>2017-04-01</td>\n",
       "      <td>95.7525</td>\n",
       "      <td>87.195652</td>\n",
       "    </tr>\n",
       "    <tr>\n",
       "      <td>2017-05-01</td>\n",
       "      <td>84.8578</td>\n",
       "      <td>70.400000</td>\n",
       "    </tr>\n",
       "    <tr>\n",
       "      <td>2017-06-01</td>\n",
       "      <td>85.0038</td>\n",
       "      <td>61.630435</td>\n",
       "    </tr>\n",
       "  </tbody>\n",
       "</table>\n",
       "</div>"
      ],
      "text/plain": [
       "            Production  Price_lag\n",
       "DATE                             \n",
       "2016-06-01     84.4591  55.886364\n",
       "2016-07-01     82.6145  52.340909\n",
       "2016-08-01     75.9245  57.309524\n",
       "2016-09-01     74.5910  60.869565\n",
       "2016-10-01     78.7257  57.659091\n",
       "2016-11-01     74.1908  58.952381\n",
       "2016-12-01     77.3206  74.136364\n",
       "2017-01-01     79.2234  79.431818\n",
       "2017-02-01     82.7242  80.818182\n",
       "2017-03-01     82.5399  88.800000\n",
       "2017-04-01     95.7525  87.195652\n",
       "2017-05-01     84.8578  70.400000\n",
       "2017-06-01     85.0038  61.630435"
      ]
     },
     "execution_count": 20,
     "metadata": {},
     "output_type": "execute_result"
    }
   ],
   "source": [
    "test_data=data[90:] \n",
    "test_data=test_data.set_index('DATE')\n",
    "actual_price=pd.DataFrame()\n",
    "actual_price = min_max_scaler.fit_transform(test_data['Price'].values.reshape(-1,1))\n",
    "#actual_price=test_data['Price']\n",
    "test_data=test_data.drop([\"Price\"],axis=1)\n",
    "test_data #for prediction"
   ]
  },
  {
   "cell_type": "code",
   "execution_count": 21,
   "metadata": {},
   "outputs": [
    {
     "data": {
      "text/plain": [
       "array([[0.        ],\n",
       "       [0.13627917],\n",
       "       [0.23392399],\n",
       "       [0.1458671 ],\n",
       "       [0.18133946],\n",
       "       [0.59780576],\n",
       "       [0.7430495 ],\n",
       "       [0.78107468],\n",
       "       [1.        ],\n",
       "       [0.95599595],\n",
       "       [0.49532477],\n",
       "       [0.25479312],\n",
       "       [0.15147737]])"
      ]
     },
     "execution_count": 21,
     "metadata": {},
     "output_type": "execute_result"
    }
   ],
   "source": [
    "actual_price #price for predction"
   ]
  },
  {
   "cell_type": "code",
   "execution_count": 22,
   "metadata": {},
   "outputs": [
    {
     "name": "stderr",
     "output_type": "stream",
     "text": [
      "C:\\Users\\sumon\\Anaconda3\\envs\\tensorflow\\lib\\site-packages\\ipykernel_launcher.py:1: FutureWarning: Method .as_matrix will be removed in a future version. Use .values instead.\n",
      "  \"\"\"Entry point for launching an IPython kernel.\n"
     ]
    }
   ],
   "source": [
    "x = X[-1:].as_matrix()\n",
    "test_forecast = np.reshape(x,(1,1,3))\n",
    "t = model.predict(test_forecast)\n",
    "val = X[-1:][['Production','Price_lag']]\n",
    "n = val.values.tolist()[0]"
   ]
  },
  {
   "cell_type": "code",
   "execution_count": 23,
   "metadata": {},
   "outputs": [
    {
     "data": {
      "text/html": [
       "<div>\n",
       "<style scoped>\n",
       "    .dataframe tbody tr th:only-of-type {\n",
       "        vertical-align: middle;\n",
       "    }\n",
       "\n",
       "    .dataframe tbody tr th {\n",
       "        vertical-align: top;\n",
       "    }\n",
       "\n",
       "    .dataframe thead th {\n",
       "        text-align: right;\n",
       "    }\n",
       "</style>\n",
       "<table border=\"1\" class=\"dataframe\">\n",
       "  <thead>\n",
       "    <tr style=\"text-align: right;\">\n",
       "      <th></th>\n",
       "      <th>Production</th>\n",
       "      <th>Price_lag</th>\n",
       "    </tr>\n",
       "    <tr>\n",
       "      <th>DATE</th>\n",
       "      <th></th>\n",
       "      <th></th>\n",
       "    </tr>\n",
       "  </thead>\n",
       "  <tbody>\n",
       "    <tr>\n",
       "      <td>2016-06-01</td>\n",
       "      <td>0.476229</td>\n",
       "      <td>0.097245</td>\n",
       "    </tr>\n",
       "    <tr>\n",
       "      <td>2016-07-01</td>\n",
       "      <td>0.390679</td>\n",
       "      <td>0.000000</td>\n",
       "    </tr>\n",
       "    <tr>\n",
       "      <td>2016-08-01</td>\n",
       "      <td>0.080406</td>\n",
       "      <td>0.136279</td>\n",
       "    </tr>\n",
       "    <tr>\n",
       "      <td>2016-09-01</td>\n",
       "      <td>0.018561</td>\n",
       "      <td>0.233924</td>\n",
       "    </tr>\n",
       "    <tr>\n",
       "      <td>2016-10-01</td>\n",
       "      <td>0.210322</td>\n",
       "      <td>0.145867</td>\n",
       "    </tr>\n",
       "    <tr>\n",
       "      <td>2016-11-01</td>\n",
       "      <td>0.000000</td>\n",
       "      <td>0.181339</td>\n",
       "    </tr>\n",
       "    <tr>\n",
       "      <td>2016-12-01</td>\n",
       "      <td>0.145156</td>\n",
       "      <td>0.597806</td>\n",
       "    </tr>\n",
       "    <tr>\n",
       "      <td>2017-01-01</td>\n",
       "      <td>0.233405</td>\n",
       "      <td>0.743049</td>\n",
       "    </tr>\n",
       "    <tr>\n",
       "      <td>2017-02-01</td>\n",
       "      <td>0.395767</td>\n",
       "      <td>0.781075</td>\n",
       "    </tr>\n",
       "    <tr>\n",
       "      <td>2017-03-01</td>\n",
       "      <td>0.387219</td>\n",
       "      <td>1.000000</td>\n",
       "    </tr>\n",
       "    <tr>\n",
       "      <td>2017-04-01</td>\n",
       "      <td>1.000000</td>\n",
       "      <td>0.955996</td>\n",
       "    </tr>\n",
       "    <tr>\n",
       "      <td>2017-05-01</td>\n",
       "      <td>0.494720</td>\n",
       "      <td>0.495325</td>\n",
       "    </tr>\n",
       "    <tr>\n",
       "      <td>2017-06-01</td>\n",
       "      <td>0.501491</td>\n",
       "      <td>0.254793</td>\n",
       "    </tr>\n",
       "  </tbody>\n",
       "</table>\n",
       "</div>"
      ],
      "text/plain": [
       "            Production  Price_lag\n",
       "DATE                             \n",
       "2016-06-01    0.476229   0.097245\n",
       "2016-07-01    0.390679   0.000000\n",
       "2016-08-01    0.080406   0.136279\n",
       "2016-09-01    0.018561   0.233924\n",
       "2016-10-01    0.210322   0.145867\n",
       "2016-11-01    0.000000   0.181339\n",
       "2016-12-01    0.145156   0.597806\n",
       "2017-01-01    0.233405   0.743049\n",
       "2017-02-01    0.395767   0.781075\n",
       "2017-03-01    0.387219   1.000000\n",
       "2017-04-01    1.000000   0.955996\n",
       "2017-05-01    0.494720   0.495325\n",
       "2017-06-01    0.501491   0.254793"
      ]
     },
     "execution_count": 23,
     "metadata": {},
     "output_type": "execute_result"
    }
   ],
   "source": [
    "test_data['Production'] = min_max_scaler.fit_transform(test_data.Production.values.reshape(-1,1))\n",
    "test_data['Price_lag'] = min_max_scaler.fit_transform(test_data.Price_lag.values.reshape(-1,1))\n",
    "#df['rolling_mean_price'] = min_max_scaler.fit_transform(df.rolling_mean_price.values.reshape(-1,1))\n",
    "test_data"
   ]
  },
  {
   "cell_type": "code",
   "execution_count": 25,
   "metadata": {},
   "outputs": [
    {
     "name": "stdout",
     "output_type": "stream",
     "text": [
      "DATE\n",
      "2016-06-01    0.476229\n",
      "Name: Production, dtype: float64\n",
      "y =  [0.4762286832670899, 0.282908171415329]\n",
      "n =  [0.709613188147983, 0.14181952183586194]\n",
      "   Production  Price_lag  rolling_mean_price\n",
      "0    0.709613   0.141820            0.141820\n",
      "1    0.476229   0.282908            0.424728\n",
      "the predicted price [[0.36948276]]\n",
      "the actual price [0.]\n",
      "DATE\n",
      "2016-07-01    0.390679\n",
      "Name: Production, dtype: float64\n",
      "y =  [0.3906788425773482, 0.36948275566101074]\n",
      "n =  [0.4762286832670899, 0.282908171415329]\n",
      "   Production  Price_lag  rolling_mean_price\n",
      "0    0.476229   0.282908            0.282908\n",
      "1    0.390679   0.369483            0.652391\n",
      "the predicted price [[0.45939866]]\n",
      "the actual price [0.13627917]\n",
      "DATE\n",
      "2016-08-01    0.080406\n",
      "Name: Production, dtype: float64\n",
      "y =  [0.08040646145712049, 0.45939865708351135]\n",
      "n =  [0.3906788425773482, 0.36948275566101074]\n",
      "   Production  Price_lag  rolling_mean_price\n",
      "0    0.390679   0.369483            0.369483\n",
      "1    0.080406   0.459399            0.828881\n",
      "the predicted price [[0.5087362]]\n",
      "the actual price [0.23392399]\n",
      "DATE\n",
      "2016-09-01    0.018561\n",
      "Name: Production, dtype: float64\n",
      "y =  [0.018560688628448396, 0.5087361931800842]\n",
      "n =  [0.08040646145712049, 0.45939865708351135]\n",
      "   Production  Price_lag  rolling_mean_price\n",
      "0    0.080406   0.459399            0.459399\n",
      "1    0.018561   0.508736            0.968135\n",
      "the predicted price [[0.5612307]]\n",
      "the actual price [0.1458671]\n",
      "DATE\n",
      "2016-10-01    0.210322\n",
      "Name: Production, dtype: float64\n",
      "y =  [0.21032200614979368, 0.5612307190895081]\n",
      "n =  [0.018560688628448396, 0.5087361931800842]\n",
      "   Production  Price_lag  rolling_mean_price\n",
      "0    0.018561   0.508736            0.508736\n",
      "1    0.210322   0.561231            1.069967\n",
      "the predicted price [[0.6332082]]\n",
      "the actual price [0.18133946]\n",
      "DATE\n",
      "2016-11-01    0.0\n",
      "Name: Production, dtype: float64\n",
      "y =  [0.0, 0.6332082152366638]\n",
      "n =  [0.21032200614979368, 0.5612307190895081]\n",
      "   Production  Price_lag  rolling_mean_price\n",
      "0    0.210322   0.561231            0.561231\n",
      "1    0.000000   0.633208            1.194439\n",
      "the predicted price [[0.67129517]]\n",
      "the actual price [0.59780576]\n",
      "DATE\n",
      "2016-12-01    0.145156\n",
      "Name: Production, dtype: float64\n",
      "y =  [0.14515553040808493, 0.671295166015625]\n",
      "n =  [0.0, 0.6332082152366638]\n",
      "   Production  Price_lag  rolling_mean_price\n",
      "0    0.000000   0.633208            0.633208\n",
      "1    0.145156   0.671295            1.304503\n",
      "the predicted price [[0.7366249]]\n",
      "the actual price [0.7430495]\n",
      "DATE\n",
      "2017-01-01    0.233405\n",
      "Name: Production, dtype: float64\n",
      "y =  [0.23340460167797517, 0.7366248965263367]\n",
      "n =  [0.14515553040808493, 0.671295166015625]\n",
      "   Production  Price_lag  rolling_mean_price\n",
      "0    0.145156   0.671295            0.671295\n",
      "1    0.233405   0.736625            1.407920\n",
      "the predicted price [[0.8024704]]\n",
      "the actual price [0.78107468]\n",
      "DATE\n",
      "2017-02-01    0.395767\n",
      "Name: Production, dtype: float64\n",
      "y =  [0.39576656757120254, 0.8024703860282898]\n",
      "n =  [0.23340460167797517, 0.7366248965263367]\n",
      "   Production  Price_lag  rolling_mean_price\n",
      "0    0.233405   0.736625            0.736625\n",
      "1    0.395767   0.802470            1.539095\n",
      "the predicted price [[0.88726777]]\n",
      "the actual price [1.]\n",
      "DATE\n",
      "2017-03-01    0.387219\n",
      "Name: Production, dtype: float64\n",
      "y =  [0.3872190040673975, 0.8872677683830261]\n",
      "n =  [0.39576656757120254, 0.8024703860282898]\n",
      "   Production  Price_lag  rolling_mean_price\n",
      "0    0.395767   0.802470            0.802470\n",
      "1    0.387219   0.887268            1.689738\n",
      "the predicted price [[0.9642061]]\n",
      "the actual price [0.95599595]\n",
      "DATE\n",
      "2017-04-01    1.0\n",
      "Name: Production, dtype: float64\n",
      "y =  [1.0, 0.9642060995101929]\n",
      "n =  [0.3872190040673975, 0.8872677683830261]\n",
      "   Production  Price_lag  rolling_mean_price\n",
      "0    0.387219   0.887268            0.887268\n",
      "1    1.000000   0.964206            1.851474\n",
      "the predicted price [[1.1215938]]\n",
      "the actual price [0.49532477]\n",
      "DATE\n",
      "2017-05-01    0.49472\n",
      "Name: Production, dtype: float64\n",
      "y =  [0.4947198040970795, 1.1215938329696655]\n",
      "n =  [1.0, 0.9642060995101929]\n",
      "   Production  Price_lag  rolling_mean_price\n",
      "0     1.00000   0.964206            0.964206\n",
      "1     0.49472   1.121594            2.085800\n",
      "the predicted price [[1.1894314]]\n",
      "the actual price [0.25479312]\n",
      "DATE\n",
      "2017-06-01    0.501491\n",
      "Name: Production, dtype: float64\n",
      "y =  [0.5014910698136048, 1.1894314289093018]\n",
      "n =  [0.4947198040970795, 1.1215938329696655]\n",
      "   Production  Price_lag  rolling_mean_price\n",
      "0    0.494720   1.121594            1.121594\n",
      "1    0.501491   1.189431            2.311025\n",
      "the predicted price [[1.2890958]]\n",
      "the actual price [0.15147737]\n"
     ]
    },
    {
     "name": "stderr",
     "output_type": "stream",
     "text": [
      "C:\\Users\\sumon\\Anaconda3\\envs\\tensorflow\\lib\\site-packages\\ipykernel_launcher.py:14: FutureWarning: Method .as_matrix will be removed in a future version. Use .values instead.\n",
      "  \n"
     ]
    }
   ],
   "source": [
    "prediction=[]\n",
    "for i in range(1,len(test_data)+1):\n",
    "    forecastdata=test_data[i-1:i]['Production'] \n",
    "    print(forecastdata)\n",
    "    o=forecastdata.values \n",
    "    y=list(np.append(o,t))\n",
    "    forecast=pd.DataFrame(columns=['Production','Price_lag']) \n",
    "    print(\"y = \",y)\n",
    "    print(\"n = \",n)\n",
    "\n",
    "    forecast.loc[0]=n \n",
    "    forecast.loc[1]=y\n",
    "    forecast['rolling_mean_price']=forecast['Price_lag'].rolling(2,min_periods=1).sum()\n",
    "    x = forecast[-1:].as_matrix()\n",
    "    new_val = np.reshape(x,(1,1,3))\n",
    "    t=model.predict(new_val) \n",
    "    n=y \n",
    "    print(forecast) \n",
    "    print('the predicted price',t)\n",
    "    print('the actual price',actual_price[i-1])\n",
    "    prediction.append(t)"
   ]
  },
  {
   "cell_type": "code",
   "execution_count": 26,
   "metadata": {},
   "outputs": [
    {
     "name": "stdout",
     "output_type": "stream",
     "text": [
      "0.36948276\n",
      "0.45939866\n",
      "0.5087362\n",
      "0.5612307\n",
      "0.6332082\n",
      "0.67129517\n",
      "0.7366249\n",
      "0.8024704\n",
      "0.88726777\n",
      "0.9642061\n",
      "1.1215938\n",
      "1.1894314\n",
      "1.2890958\n"
     ]
    }
   ],
   "source": [
    "pred = []\n",
    "for i in range(len(prediction)):\n",
    "    print(prediction[i][0][0])\n",
    "    pred.append(prediction[i][0][0])"
   ]
  },
  {
   "cell_type": "code",
   "execution_count": 27,
   "metadata": {},
   "outputs": [
    {
     "name": "stdout",
     "output_type": "stream",
     "text": [
      "0.0\n",
      "0.13627917197017148\n",
      "0.23392399308729783\n",
      "0.14586709891171035\n",
      "0.18133946006280177\n",
      "0.597805759990081\n",
      "0.743049495031965\n",
      "0.7810746790230378\n",
      "1.0000000000000002\n",
      "0.9559959453196363\n",
      "0.4953247724848444\n",
      "0.25479312451677383\n",
      "0.15147737182018517\n"
     ]
    }
   ],
   "source": [
    "act_price = []\n",
    "for i in range(len(actual_price)):\n",
    "    print(actual_price[i][0])\n",
    "    act_price.append(prediction[i][0][0])"
   ]
  },
  {
   "cell_type": "code",
   "execution_count": 28,
   "metadata": {},
   "outputs": [
    {
     "data": {
      "text/plain": [
       "Text(0.5, 1.0, 'Predicted value')"
      ]
     },
     "execution_count": 28,
     "metadata": {},
     "output_type": "execute_result"
    },
    {
     "data": {
      "image/png": "[encoded data removed]",
      "text/plain": [
       "<Figure size 720x360 with 1 Axes>"
      ]
     },
     "metadata": {
      "needs_background": "light"
     },
     "output_type": "display_data"
    }
   ],
   "source": [
    "predictdata=pd.DataFrame(pred,index=test_data.index,columns=['price'])\n",
    "predictdata.plot(figsize=(10,5))\n",
    "plt.ylabel(\"Price\")\n",
    "plt.title(\"Predicted value\")"
   ]
  },
  {
   "cell_type": "code",
   "execution_count": 29,
   "metadata": {},
   "outputs": [
    {
     "data": {
      "text/plain": [
       "Text(0.5, 1.0, 'Actual value')"
      ]
     },
     "execution_count": 29,
     "metadata": {},
     "output_type": "execute_result"
    },
    {
     "data": {
      "image/png": "[encoded data removed]",
      "text/plain": [
       "<Figure size 720x360 with 1 Axes>"
      ]
     },
     "metadata": {
      "needs_background": "light"
     },
     "output_type": "display_data"
    }
   ],
   "source": [
    "actual_price=pd.DataFrame(actual_price,index=test_data.index,columns=['price'])\n",
    "actual_price.plot(figsize=(10,5))\n",
    "plt.ylabel(\"Price\")\n",
    "plt.title(\"Actual value\")"
   ]
  },
  {
   "cell_type": "code",
   "execution_count": 30,
   "metadata": {},
   "outputs": [
    {
     "data": {
      "text/plain": [
       "Text(0, 0.5, 'Price')"
      ]
     },
     "execution_count": 30,
     "metadata": {},
     "output_type": "execute_result"
    },
    {
     "data": {
      "image/png": "[encoded data removed]",
      "text/plain": [
       "<Figure size 1080x360 with 1 Axes>"
      ]
     },
     "metadata": {
      "needs_background": "light"
     },
     "output_type": "display_data"
    }
   ],
   "source": [
    "# In normalize condition\n",
    "new_df = pd.DataFrame(columns=['date','actual_price','predict_price'])\n",
    "new_df['date'] = actual_price.index\n",
    "new_df['actual_price'] = actual_price['price'].values\n",
    "new_df['predict_price'] = predictdata['price'].values\n",
    "new_df = new_df.set_index('date')\n",
    "new_df.plot(figsize=(15,5))\n",
    "plt.ylabel(\"Price\")"
   ]
  },
  {
   "cell_type": "code",
   "execution_count": 31,
   "metadata": {},
   "outputs": [],
   "source": [
    "def denormalize(df, normalized_value): \n",
    "    df = df['Price'].values.reshape(-1,1)\n",
    "    normalized_value = normalized_value.reshape(-1,1)\n",
    "    #return df.shape, p.shape\n",
    "    min_max_scaler = sklearn.preprocessing.MinMaxScaler()\n",
    "    a = min_max_scaler.fit_transform(df)\n",
    "    new = min_max_scaler.inverse_transform(normalized_value)\n",
    "    return new\n",
    "\n",
    "newp = denormalize(data[90:], np.array(predictdata))\n",
    "#newy_test = denormalize(data[90:], np.array(actual_price))"
   ]
  },
  {
   "cell_type": "code",
   "execution_count": 34,
   "metadata": {},
   "outputs": [],
   "source": [
    "import pandas as pd\n",
    "act_pred = pd.concat([pd.DataFrame(newp), pd.DataFrame(data[90:]['Price'].values)], axis=1)\n",
    "act_pred.columns = ['Predicted', 'Actual']"
   ]
  },
  {
   "cell_type": "code",
   "execution_count": 35,
   "metadata": {},
   "outputs": [],
   "source": [
    "act_pred['date'] = predictdata.index"
   ]
  },
  {
   "cell_type": "code",
   "execution_count": 36,
   "metadata": {},
   "outputs": [],
   "source": [
    "act_pred=act_pred.set_index('date')"
   ]
  },
  {
   "cell_type": "code",
   "execution_count": 37,
   "metadata": {},
   "outputs": [
    {
     "data": {
      "text/plain": [
       "Text(0, 0.5, 'Price')"
      ]
     },
     "execution_count": 37,
     "metadata": {},
     "output_type": "execute_result"
    },
    {
     "data": {
      "image/png": "[encoded data removed]",
      "text/plain": [
       "<Figure size 1080x360 with 1 Axes>"
      ]
     },
     "metadata": {
      "needs_background": "light"
     },
     "output_type": "display_data"
    }
   ],
   "source": [
    "# In denormalize condition\n",
    "act_pred.plot(figsize=(15, 5))\n",
    "plt.ylabel(\"Price\")"
   ]
  },
  {
   "cell_type": "code",
   "execution_count": 38,
   "metadata": {},
   "outputs": [
    {
     "name": "stdout",
     "output_type": "stream",
     "text": [
      "RSME\n",
      "0.25167467397683424\n"
     ]
    }
   ],
   "source": [
    "print(\"RSME\")\n",
    "print(mean_squared_error(actual_price,pred))"
   ]
  },
  {
   "cell_type": "code",
   "execution_count": null,
   "metadata": {},
   "outputs": [],
   "source": []
  }
 ],
 "metadata": {
  "kernelspec": {
   "display_name": "Python 3",
   "language": "python",
   "name": "python3"
  },
  "language_info": {
   "codemirror_mode": {
    "name": "ipython",
    "version": 3
   },
   "file_extension": ".py",
   "mimetype": "text/x-python",
   "name": "python",
   "nbconvert_exporter": "python",
   "pygments_lexer": "ipython3",
   "version": "3.7.4"
  }
 },
 "nbformat": 4,
 "nbformat_minor": 2
}
