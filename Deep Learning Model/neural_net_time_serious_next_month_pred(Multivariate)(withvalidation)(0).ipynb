{
 "cells": [
  {
   "cell_type": "code",
   "execution_count": 1,
   "metadata": {},
   "outputs": [
    {
     "name": "stderr",
     "output_type": "stream",
     "text": [
      "Using TensorFlow backend.\n"
     ]
    }
   ],
   "source": [
    "import numpy as np\n",
    "import matplotlib.pyplot as plt\n",
    "%matplotlib inline\n",
    "from sklearn.linear_model import LinearRegression \n",
    "import matplotlib.pylab as pylab\n",
    "import math,time\n",
    "import sklearn\n",
    "import sklearn.preprocessing\n",
    "import datetime\n",
    "import os\n",
    "import matplotlib.pyplot as plt\n",
    "import keras\n",
    "from keras.models import Sequential\n",
    "from keras.layers import LSTM\n",
    "from keras.layers.core import Dense, Dropout, Activation\n",
    "from sklearn.preprocessing import MinMaxScaler\n",
    "from statsmodels.graphics.tsaplots import plot_pacf, plot_acf\n",
    "\n",
    "test_set_size_percentage = 20 \n",
    "import pandas as pd\n",
    "from pandas import read_csv\n",
    "params = {'legend.fontsize': 'xx-large',\n",
    "          'figure.figsize': (15, 10),\n",
    "         'axes.labelsize': 'xx-large',\n",
    "         'axes.titlesize':'xx-large',\n",
    "         'xtick.labelsize':'xx-large',\n",
    "         'ytick.labelsize':'xx-large'}\n",
    "pylab.rcParams.update(params)\n",
    "from sklearn.metrics import r2_score,mean_squared_error "
   ]
  },
  {
   "cell_type": "code",
   "execution_count": 2,
   "metadata": {},
   "outputs": [],
   "source": [
    "data = read_csv('dataset/irondata.csv')"
   ]
  },
  {
   "cell_type": "code",
   "execution_count": 3,
   "metadata": {},
   "outputs": [],
   "source": [
    "data['date']=pd.to_datetime(data['date'],format='%d/%m/%Y')"
   ]
  },
  {
   "cell_type": "code",
   "execution_count": 4,
   "metadata": {},
   "outputs": [],
   "source": [
    "data=data.sort_values('date')"
   ]
  },
  {
   "cell_type": "code",
   "execution_count": 5,
   "metadata": {},
   "outputs": [],
   "source": [
    "df = data[:330]\n",
    "test = data[330:]"
   ]
  },
  {
   "cell_type": "code",
   "execution_count": 6,
   "metadata": {},
   "outputs": [
    {
     "name": "stderr",
     "output_type": "stream",
     "text": [
      "C:\\Users\\sumon\\Anaconda3\\envs\\tensorflow\\lib\\site-packages\\ipykernel_launcher.py:1: SettingWithCopyWarning: \n",
      "A value is trying to be set on a copy of a slice from a DataFrame.\n",
      "Try using .loc[row_indexer,col_indexer] = value instead\n",
      "\n",
      "See the caveats in the documentation: http://pandas.pydata.org/pandas-docs/stable/user_guide/indexing.html#returning-a-view-versus-a-copy\n",
      "  \"\"\"Entry point for launching an IPython kernel.\n",
      "C:\\Users\\sumon\\Anaconda3\\envs\\tensorflow\\lib\\site-packages\\ipykernel_launcher.py:2: SettingWithCopyWarning: \n",
      "A value is trying to be set on a copy of a slice from a DataFrame.\n",
      "Try using .loc[row_indexer,col_indexer] = value instead\n",
      "\n",
      "See the caveats in the documentation: http://pandas.pydata.org/pandas-docs/stable/user_guide/indexing.html#returning-a-view-versus-a-copy\n",
      "  \n",
      "C:\\Users\\sumon\\Anaconda3\\envs\\tensorflow\\lib\\site-packages\\ipykernel_launcher.py:3: SettingWithCopyWarning: \n",
      "A value is trying to be set on a copy of a slice from a DataFrame.\n",
      "Try using .loc[row_indexer,col_indexer] = value instead\n",
      "\n",
      "See the caveats in the documentation: http://pandas.pydata.org/pandas-docs/stable/user_guide/indexing.html#returning-a-view-versus-a-copy\n",
      "  This is separate from the ipykernel package so we can avoid doing imports until\n"
     ]
    },
    {
     "data": {
      "text/html": [
       "<div>\n",
       "<style scoped>\n",
       "    .dataframe tbody tr th:only-of-type {\n",
       "        vertical-align: middle;\n",
       "    }\n",
       "\n",
       "    .dataframe tbody tr th {\n",
       "        vertical-align: top;\n",
       "    }\n",
       "\n",
       "    .dataframe thead th {\n",
       "        text-align: right;\n",
       "    }\n",
       "</style>\n",
       "<table border=\"1\" class=\"dataframe\">\n",
       "  <thead>\n",
       "    <tr style=\"text-align: right;\">\n",
       "      <th></th>\n",
       "      <th>price</th>\n",
       "      <th>Month</th>\n",
       "      <th>price_lag</th>\n",
       "      <th>price_diff</th>\n",
       "      <th>rolling_mean_price</th>\n",
       "    </tr>\n",
       "    <tr>\n",
       "      <th>date</th>\n",
       "      <th></th>\n",
       "      <th></th>\n",
       "      <th></th>\n",
       "      <th></th>\n",
       "      <th></th>\n",
       "    </tr>\n",
       "  </thead>\n",
       "  <tbody>\n",
       "    <tr>\n",
       "      <td>1990-03-31</td>\n",
       "      <td>14.05</td>\n",
       "      <td>3</td>\n",
       "      <td>14.05</td>\n",
       "      <td>0.0</td>\n",
       "      <td>28.1</td>\n",
       "    </tr>\n",
       "    <tr>\n",
       "      <td>1990-04-30</td>\n",
       "      <td>14.05</td>\n",
       "      <td>4</td>\n",
       "      <td>14.05</td>\n",
       "      <td>0.0</td>\n",
       "      <td>28.1</td>\n",
       "    </tr>\n",
       "    <tr>\n",
       "      <td>1990-05-31</td>\n",
       "      <td>14.05</td>\n",
       "      <td>5</td>\n",
       "      <td>14.05</td>\n",
       "      <td>0.0</td>\n",
       "      <td>28.1</td>\n",
       "    </tr>\n",
       "    <tr>\n",
       "      <td>1990-06-30</td>\n",
       "      <td>14.05</td>\n",
       "      <td>6</td>\n",
       "      <td>14.05</td>\n",
       "      <td>0.0</td>\n",
       "      <td>28.1</td>\n",
       "    </tr>\n",
       "    <tr>\n",
       "      <td>1990-07-31</td>\n",
       "      <td>14.05</td>\n",
       "      <td>7</td>\n",
       "      <td>14.05</td>\n",
       "      <td>0.0</td>\n",
       "      <td>28.1</td>\n",
       "    </tr>\n",
       "  </tbody>\n",
       "</table>\n",
       "</div>"
      ],
      "text/plain": [
       "            price  Month  price_lag  price_diff  rolling_mean_price\n",
       "date                                                               \n",
       "1990-03-31  14.05      3      14.05         0.0                28.1\n",
       "1990-04-30  14.05      4      14.05         0.0                28.1\n",
       "1990-05-31  14.05      5      14.05         0.0                28.1\n",
       "1990-06-30  14.05      6      14.05         0.0                28.1\n",
       "1990-07-31  14.05      7      14.05         0.0                28.1"
      ]
     },
     "execution_count": 6,
     "metadata": {},
     "output_type": "execute_result"
    }
   ],
   "source": [
    "df['Month']=df['date'].dt.month\n",
    "df['price_lag']=df['price'].shift(1)\n",
    "df['price_diff']=df['price_lag'].diff(periods=1)\n",
    "df=df.set_index('date')\n",
    "df['rolling_mean_price']=df['price_lag'].rolling(2, min_periods=1).sum()\n",
    "df=df.dropna()\n",
    "df.head()"
   ]
  },
  {
   "cell_type": "code",
   "execution_count": 7,
   "metadata": {},
   "outputs": [],
   "source": [
    "# function for min-max normalization of Iron Ore \n",
    "min_max_scaler = sklearn.preprocessing.MinMaxScaler()\n",
    "def normalize_data(df):\n",
    "    df['price'] = min_max_scaler.fit_transform(df.price.values.reshape(-1,1))\n",
    "    df['Month'] = min_max_scaler.fit_transform(df.Month.values.reshape(-1,1))\n",
    "    df['price_lag'] = min_max_scaler.fit_transform(df.price_lag.values.reshape(-1,1))\n",
    "    df['rolling_mean_price'] = min_max_scaler.fit_transform(df.rolling_mean_price.values.reshape(-1,1))\n",
    "    return df"
   ]
  },
  {
   "cell_type": "code",
   "execution_count": 8,
   "metadata": {},
   "outputs": [
    {
     "data": {
      "text/html": [
       "<div>\n",
       "<style scoped>\n",
       "    .dataframe tbody tr th:only-of-type {\n",
       "        vertical-align: middle;\n",
       "    }\n",
       "\n",
       "    .dataframe tbody tr th {\n",
       "        vertical-align: top;\n",
       "    }\n",
       "\n",
       "    .dataframe thead th {\n",
       "        text-align: right;\n",
       "    }\n",
       "</style>\n",
       "<table border=\"1\" class=\"dataframe\">\n",
       "  <thead>\n",
       "    <tr style=\"text-align: right;\">\n",
       "      <th></th>\n",
       "      <th>price</th>\n",
       "      <th>Month</th>\n",
       "      <th>price_lag</th>\n",
       "      <th>price_diff</th>\n",
       "      <th>rolling_mean_price</th>\n",
       "    </tr>\n",
       "    <tr>\n",
       "      <th>date</th>\n",
       "      <th></th>\n",
       "      <th></th>\n",
       "      <th></th>\n",
       "      <th></th>\n",
       "      <th></th>\n",
       "    </tr>\n",
       "  </thead>\n",
       "  <tbody>\n",
       "    <tr>\n",
       "      <td>1990-03-31</td>\n",
       "      <td>0.014795</td>\n",
       "      <td>0.181818</td>\n",
       "      <td>0.014795</td>\n",
       "      <td>0.0</td>\n",
       "      <td>0.01512</td>\n",
       "    </tr>\n",
       "    <tr>\n",
       "      <td>1990-04-30</td>\n",
       "      <td>0.014795</td>\n",
       "      <td>0.272727</td>\n",
       "      <td>0.014795</td>\n",
       "      <td>0.0</td>\n",
       "      <td>0.01512</td>\n",
       "    </tr>\n",
       "    <tr>\n",
       "      <td>1990-05-31</td>\n",
       "      <td>0.014795</td>\n",
       "      <td>0.363636</td>\n",
       "      <td>0.014795</td>\n",
       "      <td>0.0</td>\n",
       "      <td>0.01512</td>\n",
       "    </tr>\n",
       "    <tr>\n",
       "      <td>1990-06-30</td>\n",
       "      <td>0.014795</td>\n",
       "      <td>0.454545</td>\n",
       "      <td>0.014795</td>\n",
       "      <td>0.0</td>\n",
       "      <td>0.01512</td>\n",
       "    </tr>\n",
       "    <tr>\n",
       "      <td>1990-07-31</td>\n",
       "      <td>0.014795</td>\n",
       "      <td>0.545455</td>\n",
       "      <td>0.014795</td>\n",
       "      <td>0.0</td>\n",
       "      <td>0.01512</td>\n",
       "    </tr>\n",
       "  </tbody>\n",
       "</table>\n",
       "</div>"
      ],
      "text/plain": [
       "               price     Month  price_lag  price_diff  rolling_mean_price\n",
       "date                                                                     \n",
       "1990-03-31  0.014795  0.181818   0.014795         0.0             0.01512\n",
       "1990-04-30  0.014795  0.272727   0.014795         0.0             0.01512\n",
       "1990-05-31  0.014795  0.363636   0.014795         0.0             0.01512\n",
       "1990-06-30  0.014795  0.454545   0.014795         0.0             0.01512\n",
       "1990-07-31  0.014795  0.545455   0.014795         0.0             0.01512"
      ]
     },
     "execution_count": 8,
     "metadata": {},
     "output_type": "execute_result"
    }
   ],
   "source": [
    "# normalize stock\n",
    "df_stock_norm = df.copy()\n",
    "df_stock_norm = normalize_data(df_stock_norm)\n",
    "df_stock_norm.head()"
   ]
  },
  {
   "cell_type": "code",
   "execution_count": 9,
   "metadata": {},
   "outputs": [
    {
     "data": {
      "text/plain": [
       "328"
      ]
     },
     "execution_count": 9,
     "metadata": {},
     "output_type": "execute_result"
    }
   ],
   "source": [
    "len(df_stock_norm)"
   ]
  },
  {
   "cell_type": "code",
   "execution_count": 10,
   "metadata": {},
   "outputs": [],
   "source": [
    "X=df_stock_norm.drop([\"price\"],axis=1) \n",
    "y=df_stock_norm['price'] \n",
    "X_train = X[:-1] \n",
    "y_train=y[:-1]"
   ]
  },
  {
   "cell_type": "code",
   "execution_count": 11,
   "metadata": {},
   "outputs": [
    {
     "data": {
      "text/html": [
       "<div>\n",
       "<style scoped>\n",
       "    .dataframe tbody tr th:only-of-type {\n",
       "        vertical-align: middle;\n",
       "    }\n",
       "\n",
       "    .dataframe tbody tr th {\n",
       "        vertical-align: top;\n",
       "    }\n",
       "\n",
       "    .dataframe thead th {\n",
       "        text-align: right;\n",
       "    }\n",
       "</style>\n",
       "<table border=\"1\" class=\"dataframe\">\n",
       "  <thead>\n",
       "    <tr style=\"text-align: right;\">\n",
       "      <th></th>\n",
       "      <th>Month</th>\n",
       "      <th>price_lag</th>\n",
       "      <th>price_diff</th>\n",
       "      <th>rolling_mean_price</th>\n",
       "    </tr>\n",
       "    <tr>\n",
       "      <th>date</th>\n",
       "      <th></th>\n",
       "      <th></th>\n",
       "      <th></th>\n",
       "      <th></th>\n",
       "    </tr>\n",
       "  </thead>\n",
       "  <tbody>\n",
       "    <tr>\n",
       "      <td>1990-03-31</td>\n",
       "      <td>0.181818</td>\n",
       "      <td>0.014795</td>\n",
       "      <td>0.0</td>\n",
       "      <td>0.01512</td>\n",
       "    </tr>\n",
       "    <tr>\n",
       "      <td>1990-04-30</td>\n",
       "      <td>0.272727</td>\n",
       "      <td>0.014795</td>\n",
       "      <td>0.0</td>\n",
       "      <td>0.01512</td>\n",
       "    </tr>\n",
       "    <tr>\n",
       "      <td>1990-05-31</td>\n",
       "      <td>0.363636</td>\n",
       "      <td>0.014795</td>\n",
       "      <td>0.0</td>\n",
       "      <td>0.01512</td>\n",
       "    </tr>\n",
       "    <tr>\n",
       "      <td>1990-06-30</td>\n",
       "      <td>0.454545</td>\n",
       "      <td>0.014795</td>\n",
       "      <td>0.0</td>\n",
       "      <td>0.01512</td>\n",
       "    </tr>\n",
       "    <tr>\n",
       "      <td>1990-07-31</td>\n",
       "      <td>0.545455</td>\n",
       "      <td>0.014795</td>\n",
       "      <td>0.0</td>\n",
       "      <td>0.01512</td>\n",
       "    </tr>\n",
       "  </tbody>\n",
       "</table>\n",
       "</div>"
      ],
      "text/plain": [
       "               Month  price_lag  price_diff  rolling_mean_price\n",
       "date                                                           \n",
       "1990-03-31  0.181818   0.014795         0.0             0.01512\n",
       "1990-04-30  0.272727   0.014795         0.0             0.01512\n",
       "1990-05-31  0.363636   0.014795         0.0             0.01512\n",
       "1990-06-30  0.454545   0.014795         0.0             0.01512\n",
       "1990-07-31  0.545455   0.014795         0.0             0.01512"
      ]
     },
     "execution_count": 11,
     "metadata": {},
     "output_type": "execute_result"
    }
   ],
   "source": [
    "X_train.head()"
   ]
  },
  {
   "cell_type": "code",
   "execution_count": 12,
   "metadata": {},
   "outputs": [
    {
     "name": "stderr",
     "output_type": "stream",
     "text": [
      "C:\\Users\\sumon\\Anaconda3\\envs\\tensorflow\\lib\\site-packages\\ipykernel_launcher.py:1: FutureWarning: Method .as_matrix will be removed in a future version. Use .values instead.\n",
      "  \"\"\"Entry point for launching an IPython kernel.\n"
     ]
    }
   ],
   "source": [
    "data_raw = X_train.as_matrix()"
   ]
  },
  {
   "cell_type": "code",
   "execution_count": 13,
   "metadata": {},
   "outputs": [
    {
     "data": {
      "text/plain": [
       "(327, 4)"
      ]
     },
     "execution_count": 13,
     "metadata": {},
     "output_type": "execute_result"
    }
   ],
   "source": [
    "data_raw.shape"
   ]
  },
  {
   "cell_type": "code",
   "execution_count": 14,
   "metadata": {},
   "outputs": [
    {
     "name": "stdout",
     "output_type": "stream",
     "text": [
      "x_train.shape =  (327, 4)\n",
      "y_train.shape =  (327,)\n"
     ]
    }
   ],
   "source": [
    "print('x_train.shape = ',X_train.shape)\n",
    "print('y_train.shape = ', y_train.shape)"
   ]
  },
  {
   "cell_type": "code",
   "execution_count": 18,
   "metadata": {},
   "outputs": [],
   "source": [
    "#Reshape data for (Sample,Timestep,Features) \n",
    "x_train = data_raw.reshape((data_raw.shape[0],1,X_train.shape[1]))"
   ]
  },
  {
   "cell_type": "code",
   "execution_count": 21,
   "metadata": {},
   "outputs": [
    {
     "name": "stdout",
     "output_type": "stream",
     "text": [
      "Compilation Time :  0.03690147399902344\n"
     ]
    }
   ],
   "source": [
    "#Build the model\n",
    "# model = Sequential()\n",
    "# model.add(LSTM(256,input_shape=(4,1))) # 4 feature with one time stamps\n",
    "# model.add(Dense(64, activation='relu'))\n",
    "# model.add(Dense(1))\n",
    "# model.compile(optimizer='adam',loss='mse', metrics=['accuracy'])\n",
    "\n",
    "model = Sequential()\n",
    "    \n",
    "model.add(LSTM(256, input_shape=(1,4), return_sequences=True)) # 4 feature with one time stamps\n",
    "model.add(Dropout(0.3))\n",
    "\n",
    "model.add(LSTM(256, input_shape=(1,4), return_sequences=False)) # 4 feature with one time stamps\n",
    "model.add(Dropout(0.3))\n",
    "\n",
    "model.add(Dense(32,kernel_initializer=\"uniform\",activation='relu'))        \n",
    "model.add(Dense(1,kernel_initializer=\"uniform\",activation='linear'))\n",
    "\n",
    "# adam = keras.optimizers.Adam(decay=0.2)\n",
    "\n",
    "start = time.time()\n",
    "model.compile(loss='mse',optimizer='adam', metrics=['accuracy'])\n",
    "print(\"Compilation Time : \", time.time() - start)"
   ]
  },
  {
   "cell_type": "code",
   "execution_count": 22,
   "metadata": {},
   "outputs": [
    {
     "name": "stdout",
     "output_type": "stream",
     "text": [
      "Model: \"sequential_3\"\n",
      "_________________________________________________________________\n",
      "Layer (type)                 Output Shape              Param #   \n",
      "=================================================================\n",
      "lstm_5 (LSTM)                (None, 1, 256)            267264    \n",
      "_________________________________________________________________\n",
      "dropout_4 (Dropout)          (None, 1, 256)            0         \n",
      "_________________________________________________________________\n",
      "lstm_6 (LSTM)                (None, 256)               525312    \n",
      "_________________________________________________________________\n",
      "dropout_5 (Dropout)          (None, 256)               0         \n",
      "_________________________________________________________________\n",
      "dense_3 (Dense)              (None, 32)                8224      \n",
      "_________________________________________________________________\n",
      "dense_4 (Dense)              (None, 1)                 33        \n",
      "=================================================================\n",
      "Total params: 800,833\n",
      "Trainable params: 800,833\n",
      "Non-trainable params: 0\n",
      "_________________________________________________________________\n"
     ]
    }
   ],
   "source": [
    "model.summary()"
   ]
  },
  {
   "cell_type": "code",
   "execution_count": 23,
   "metadata": {},
   "outputs": [
    {
     "name": "stdout",
     "output_type": "stream",
     "text": [
      "WARNING:tensorflow:From C:\\Users\\sumon\\Anaconda3\\envs\\tensorflow\\lib\\site-packages\\keras\\backend\\tensorflow_backend.py:422: The name tf.global_variables is deprecated. Please use tf.compat.v1.global_variables instead.\n",
      "\n",
      "Train on 294 samples, validate on 33 samples\n",
      "Epoch 1/20\n",
      "294/294 [==============================] - 1s 3ms/step - loss: 0.1116 - accuracy: 0.0408 - val_loss: 0.0808 - val_accuracy: 0.0000e+00\n",
      "Epoch 2/20\n",
      "294/294 [==============================] - 0s 645us/step - loss: 0.1010 - accuracy: 0.0408 - val_loss: 0.0660 - val_accuracy: 0.0000e+00\n",
      "Epoch 3/20\n",
      "294/294 [==============================] - 0s 624us/step - loss: 0.0807 - accuracy: 0.0408 - val_loss: 0.0430 - val_accuracy: 0.0000e+00\n",
      "Epoch 4/20\n",
      "294/294 [==============================] - 0s 628us/step - loss: 0.0530 - accuracy: 0.0442 - val_loss: 0.0306 - val_accuracy: 0.0000e+00\n",
      "Epoch 5/20\n",
      "294/294 [==============================] - 0s 685us/step - loss: 0.0425 - accuracy: 0.0442 - val_loss: 0.0319 - val_accuracy: 0.0000e+00\n",
      "Epoch 6/20\n",
      "294/294 [==============================] - 0s 645us/step - loss: 0.0365 - accuracy: 0.0442 - val_loss: 0.0465 - val_accuracy: 0.0000e+00\n",
      "Epoch 7/20\n",
      "294/294 [==============================] - 0s 628us/step - loss: 0.0316 - accuracy: 0.0442 - val_loss: 0.0337 - val_accuracy: 0.0000e+00\n",
      "Epoch 8/20\n",
      "294/294 [==============================] - 0s 634us/step - loss: 0.0290 - accuracy: 0.0442 - val_loss: 0.0380 - val_accuracy: 0.0000e+00\n",
      "Epoch 9/20\n",
      "294/294 [==============================] - 0s 628us/step - loss: 0.0276 - accuracy: 0.0442 - val_loss: 0.0453 - val_accuracy: 0.0000e+00\n",
      "Epoch 10/20\n",
      "294/294 [==============================] - 0s 631us/step - loss: 0.0252 - accuracy: 0.0442 - val_loss: 0.0474 - val_accuracy: 0.0000e+00\n",
      "Epoch 11/20\n",
      "294/294 [==============================] - 0s 645us/step - loss: 0.0257 - accuracy: 0.0442 - val_loss: 0.0504 - val_accuracy: 0.0000e+00\n",
      "Epoch 12/20\n",
      "294/294 [==============================] - 0s 777us/step - loss: 0.0237 - accuracy: 0.0442 - val_loss: 0.0513 - val_accuracy: 0.0000e+00\n",
      "Epoch 13/20\n",
      "294/294 [==============================] - 0s 624us/step - loss: 0.0223 - accuracy: 0.0442 - val_loss: 0.0472 - val_accuracy: 0.0000e+00\n",
      "Epoch 14/20\n",
      "294/294 [==============================] - 0s 611us/step - loss: 0.0215 - accuracy: 0.0442 - val_loss: 0.0495 - val_accuracy: 0.0000e+00\n",
      "Epoch 15/20\n",
      "294/294 [==============================] - 0s 638us/step - loss: 0.0193 - accuracy: 0.0442 - val_loss: 0.0502 - val_accuracy: 0.0000e+00\n",
      "Epoch 16/20\n",
      "294/294 [==============================] - 0s 638us/step - loss: 0.0191 - accuracy: 0.0442 - val_loss: 0.0507 - val_accuracy: 0.0000e+00\n",
      "Epoch 17/20\n",
      "294/294 [==============================] - 0s 614us/step - loss: 0.0163 - accuracy: 0.0442 - val_loss: 0.0482 - val_accuracy: 0.0000e+00\n",
      "Epoch 18/20\n",
      "294/294 [==============================] - 0s 614us/step - loss: 0.0156 - accuracy: 0.0442 - val_loss: 0.0366 - val_accuracy: 0.0000e+00\n",
      "Epoch 19/20\n",
      "294/294 [==============================] - 0s 614us/step - loss: 0.0139 - accuracy: 0.0442 - val_loss: 0.0373 - val_accuracy: 0.0000e+00\n",
      "Epoch 20/20\n",
      "294/294 [==============================] - 0s 628us/step - loss: 0.0112 - accuracy: 0.0442 - val_loss: 0.0283 - val_accuracy: 0.0000e+00\n"
     ]
    }
   ],
   "source": [
    "#Fit model with history to check for overfitting\n",
    "history = model.fit(x_train,y_train,epochs=20,validation_split=0.1,shuffle=False)"
   ]
  },
  {
   "cell_type": "code",
   "execution_count": 24,
   "metadata": {},
   "outputs": [
    {
     "data": {
      "text/html": [
       "<div>\n",
       "<style scoped>\n",
       "    .dataframe tbody tr th:only-of-type {\n",
       "        vertical-align: middle;\n",
       "    }\n",
       "\n",
       "    .dataframe tbody tr th {\n",
       "        vertical-align: top;\n",
       "    }\n",
       "\n",
       "    .dataframe thead th {\n",
       "        text-align: right;\n",
       "    }\n",
       "</style>\n",
       "<table border=\"1\" class=\"dataframe\">\n",
       "  <thead>\n",
       "    <tr style=\"text-align: right;\">\n",
       "      <th></th>\n",
       "      <th>Month</th>\n",
       "    </tr>\n",
       "    <tr>\n",
       "      <th>date</th>\n",
       "      <th></th>\n",
       "    </tr>\n",
       "  </thead>\n",
       "  <tbody>\n",
       "    <tr>\n",
       "      <td>2017-07-31</td>\n",
       "      <td>0.545455</td>\n",
       "    </tr>\n",
       "    <tr>\n",
       "      <td>2017-08-31</td>\n",
       "      <td>0.636364</td>\n",
       "    </tr>\n",
       "    <tr>\n",
       "      <td>2017-09-30</td>\n",
       "      <td>0.727273</td>\n",
       "    </tr>\n",
       "    <tr>\n",
       "      <td>2017-10-31</td>\n",
       "      <td>0.818182</td>\n",
       "    </tr>\n",
       "    <tr>\n",
       "      <td>2017-11-30</td>\n",
       "      <td>0.909091</td>\n",
       "    </tr>\n",
       "  </tbody>\n",
       "</table>\n",
       "</div>"
      ],
      "text/plain": [
       "               Month\n",
       "date                \n",
       "2017-07-31  0.545455\n",
       "2017-08-31  0.636364\n",
       "2017-09-30  0.727273\n",
       "2017-10-31  0.818182\n",
       "2017-11-30  0.909091"
      ]
     },
     "execution_count": 24,
     "metadata": {},
     "output_type": "execute_result"
    }
   ],
   "source": [
    "test_data=test.copy()\n",
    "test_data['price'] = min_max_scaler.fit_transform(test_data.price.values.reshape(-1,1))\n",
    "test_data['date']=pd.to_datetime(test_data['date'],format='%d/%m/%Y') \n",
    "test_data=test_data.sort_values('date') \n",
    "test_data['Month']=test_data['date'].dt.month \n",
    "test_data=test_data.set_index('date')\n",
    "test_data['Month'] = min_max_scaler.fit_transform(test_data.Month.values.reshape(-1,1))\n",
    "actual_price=pd.DataFrame() \n",
    "actual_price=test_data['price'] \n",
    "test_data=test_data.drop('price',axis=1) \n",
    "test_data.head()"
   ]
  },
  {
   "cell_type": "code",
   "execution_count": 26,
   "metadata": {},
   "outputs": [
    {
     "name": "stderr",
     "output_type": "stream",
     "text": [
      "C:\\Users\\sumon\\Anaconda3\\envs\\tensorflow\\lib\\site-packages\\ipykernel_launcher.py:1: FutureWarning: Method .as_matrix will be removed in a future version. Use .values instead.\n",
      "  \"\"\"Entry point for launching an IPython kernel.\n"
     ]
    }
   ],
   "source": [
    "x = X[-1:].as_matrix()\n",
    "test_forecast = np.reshape(x,(1,1,4))\n",
    "t = model.predict(test_forecast)"
   ]
  },
  {
   "cell_type": "code",
   "execution_count": 27,
   "metadata": {},
   "outputs": [
    {
     "data": {
      "text/html": [
       "<div>\n",
       "<style scoped>\n",
       "    .dataframe tbody tr th:only-of-type {\n",
       "        vertical-align: middle;\n",
       "    }\n",
       "\n",
       "    .dataframe tbody tr th {\n",
       "        vertical-align: top;\n",
       "    }\n",
       "\n",
       "    .dataframe thead th {\n",
       "        text-align: right;\n",
       "    }\n",
       "</style>\n",
       "<table border=\"1\" class=\"dataframe\">\n",
       "  <thead>\n",
       "    <tr style=\"text-align: right;\">\n",
       "      <th></th>\n",
       "      <th>Month</th>\n",
       "      <th>price_lag</th>\n",
       "    </tr>\n",
       "    <tr>\n",
       "      <th>date</th>\n",
       "      <th></th>\n",
       "      <th></th>\n",
       "    </tr>\n",
       "  </thead>\n",
       "  <tbody>\n",
       "    <tr>\n",
       "      <td>2017-06-30</td>\n",
       "      <td>0.454545</td>\n",
       "      <td>0.285552</td>\n",
       "    </tr>\n",
       "  </tbody>\n",
       "</table>\n",
       "</div>"
      ],
      "text/plain": [
       "               Month  price_lag\n",
       "date                           \n",
       "2017-06-30  0.454545   0.285552"
      ]
     },
     "execution_count": 27,
     "metadata": {},
     "output_type": "execute_result"
    }
   ],
   "source": [
    "temp = X[-1:]\n",
    "temp = temp[['Month','price_lag']]\n",
    "n = temp.values.tolist()[0]\n",
    "temp.head()"
   ]
  },
  {
   "cell_type": "code",
   "execution_count": 28,
   "metadata": {},
   "outputs": [
    {
     "name": "stdout",
     "output_type": "stream",
     "text": [
      "      Month  price_lag  price_diff  rolling_mean_price\n",
      "0  0.454545   0.285552         NaN            0.285552\n",
      "1  0.545455   0.559221    0.273669            0.844772\n",
      "[[0.49554208]]\n",
      "      Month  price_lag  price_diff  rolling_mean_price\n",
      "0  0.545455   0.559221         NaN            0.559221\n",
      "1  0.636364   0.495542   -0.063679            1.054763\n",
      "[[0.539466]]\n",
      "      Month  price_lag  price_diff  rolling_mean_price\n",
      "0  0.636364   0.495542         NaN            0.495542\n",
      "1  0.727273   0.539466    0.043924            1.035008\n",
      "[[0.5541847]]\n",
      "      Month  price_lag  price_diff  rolling_mean_price\n",
      "0  0.727273   0.539466         NaN            0.539466\n",
      "1  0.818182   0.554185    0.014719            1.093651\n",
      "[[0.58373857]]\n",
      "      Month  price_lag  price_diff  rolling_mean_price\n",
      "0  0.818182   0.554185         NaN            0.554185\n",
      "1  0.909091   0.583739    0.029554            1.137923\n",
      "[[0.6150854]]\n",
      "      Month  price_lag  price_diff  rolling_mean_price\n",
      "0  0.909091   0.583739         NaN            0.583739\n",
      "1  1.000000   0.615085    0.031347            1.198824\n",
      "[[0.6535246]]\n",
      "   Month  price_lag  price_diff  rolling_mean_price\n",
      "0    1.0   0.615085         NaN            0.615085\n",
      "1    0.0   0.653525    0.038439            1.268610\n",
      "[[0.658893]]\n",
      "      Month  price_lag  price_diff  rolling_mean_price\n",
      "0  0.000000   0.653525         NaN            0.653525\n",
      "1  0.090909   0.658893    0.005368            1.312418\n",
      "[[0.67944634]]\n",
      "      Month  price_lag  price_diff  rolling_mean_price\n",
      "0  0.090909   0.658893         NaN            0.658893\n",
      "1  0.181818   0.679446    0.020553            1.338339\n",
      "[[0.70096964]]\n",
      "      Month  price_lag  price_diff  rolling_mean_price\n",
      "0  0.181818   0.679446         NaN            0.679446\n",
      "1  0.272727   0.700970    0.021523            1.380416\n",
      "[[0.7286656]]\n",
      "      Month  price_lag  price_diff  rolling_mean_price\n",
      "0  0.272727   0.700970         NaN            0.700970\n",
      "1  0.363636   0.728666    0.027696            1.429635\n",
      "[[0.7617915]]\n",
      "      Month  price_lag  price_diff  rolling_mean_price\n",
      "0  0.363636   0.728666         NaN            0.728666\n",
      "1  0.454545   0.761792    0.033126            1.490457\n",
      "[[0.8017227]]\n",
      "      Month  price_lag  price_diff  rolling_mean_price\n",
      "0  0.454545   0.761792         NaN            0.761792\n",
      "1  0.545455   0.801723    0.039931            1.563514\n",
      "[[0.8492704]]\n",
      "      Month  price_lag  price_diff  rolling_mean_price\n",
      "0  0.545455   0.801723         NaN            0.801723\n",
      "1  0.636364   0.849270    0.047548            1.650993\n",
      "[[0.9055158]]\n",
      "      Month  price_lag  price_diff  rolling_mean_price\n",
      "0  0.636364   0.849270         NaN            0.849270\n",
      "1  0.727273   0.905516    0.056245            1.754786\n",
      "[[0.9714483]]\n",
      "      Month  price_lag  price_diff  rolling_mean_price\n",
      "0  0.727273   0.905516         NaN            0.905516\n",
      "1  0.818182   0.971448    0.065933            1.876964\n",
      "[[1.0478593]]\n",
      "      Month  price_lag  price_diff  rolling_mean_price\n",
      "0  0.818182   0.971448         NaN            0.971448\n",
      "1  0.909091   1.047859    0.076411            2.019308\n",
      "[[1.1350313]]\n",
      "      Month  price_lag  price_diff  rolling_mean_price\n",
      "0  0.909091   1.047859         NaN            1.047859\n",
      "1  1.000000   1.135031    0.087172            2.182891\n",
      "[[1.2323663]]\n"
     ]
    },
    {
     "name": "stderr",
     "output_type": "stream",
     "text": [
      "C:\\Users\\sumon\\Anaconda3\\envs\\tensorflow\\lib\\site-packages\\ipykernel_launcher.py:12: FutureWarning: Method .as_matrix will be removed in a future version. Use .values instead.\n",
      "  if sys.path[0] == '':\n"
     ]
    }
   ],
   "source": [
    "prediction=[]\n",
    "kk = []\n",
    "for i in range(1,len(test_data)+1):\n",
    "    forecastdata=test_data[i-1:i] \n",
    "    o=forecastdata.values \n",
    "    y=list(np.append(o,t))\n",
    "    forecast=pd.DataFrame(columns=['Month','price_lag']) \n",
    "    forecast.loc[0]=n \n",
    "    forecast.loc[1]=y\n",
    "    forecast['price_diff']=forecast['price_lag'].diff(periods=1) \n",
    "    forecast['rolling_mean_price']=forecast['price_lag'].rolling(2,min_periods=1).sum()\n",
    "    x = forecast[-1:].as_matrix()\n",
    "    new_val = np.reshape(x,(1,1,4))\n",
    "    t=model.predict(new_val) \n",
    "    n=y \n",
    "    print(forecast) \n",
    "    print(t)\n",
    "    prediction.append(t)\n",
    "    kk.append(t)"
   ]
  },
  {
   "cell_type": "code",
   "execution_count": 29,
   "metadata": {},
   "outputs": [],
   "source": [
    "pred = []\n",
    "for i in range(len(prediction)):\n",
    "    pred.append(prediction[i][0][0])"
   ]
  },
  {
   "cell_type": "code",
   "execution_count": 30,
   "metadata": {},
   "outputs": [
    {
     "data": {
      "text/plain": [
       "date\n",
       "2017-07-31    0.342771\n",
       "2017-08-31    0.815663\n",
       "2017-09-30    0.493373\n",
       "2017-10-31    0.000000\n",
       "2017-11-30    0.142169\n",
       "2017-12-31    0.643976\n",
       "2018-01-31    0.887349\n",
       "2018-02-28    1.000000\n",
       "2018-03-31    0.618675\n",
       "2018-04-30    0.318072\n",
       "2018-05-31    0.336145\n",
       "2018-06-30    0.350000\n",
       "2018-07-31    0.361446\n",
       "2018-08-31    0.419880\n",
       "2018-09-30    0.466867\n",
       "2018-10-31    0.660843\n",
       "2018-11-30    0.677711\n",
       "2018-12-31    0.472892\n",
       "Name: price, dtype: float64"
      ]
     },
     "execution_count": 30,
     "metadata": {},
     "output_type": "execute_result"
    }
   ],
   "source": [
    "actual_price"
   ]
  },
  {
   "cell_type": "code",
   "execution_count": 31,
   "metadata": {},
   "outputs": [],
   "source": [
    "predictdata=pd.DataFrame(pred,index=test_data.index,columns=['price']) "
   ]
  },
  {
   "cell_type": "code",
   "execution_count": 32,
   "metadata": {},
   "outputs": [],
   "source": [
    "def denormalize(df, normalized_value): \n",
    "    df = df['price'].values.reshape(-1,1)\n",
    "    normalized_value = normalized_value.reshape(-1,1)\n",
    "    #return df.shape, p.shape\n",
    "    min_max_scaler = sklearn.preprocessing.MinMaxScaler()\n",
    "    a = min_max_scaler.fit_transform(df)\n",
    "    new = min_max_scaler.inverse_transform(normalized_value)\n",
    "    return new\n",
    "\n",
    "newp = denormalize(df, np.array(pred))\n",
    "newy_test = denormalize(test, np.array(actual_price))"
   ]
  },
  {
   "cell_type": "code",
   "execution_count": 33,
   "metadata": {},
   "outputs": [],
   "source": [
    "import pandas as pd\n",
    "act_pred = pd.concat([pd.DataFrame(newp), pd.DataFrame(newy_test)], axis=1)\n",
    "act_pred.columns = ['Predicted', 'Actual']"
   ]
  },
  {
   "cell_type": "code",
   "execution_count": 34,
   "metadata": {},
   "outputs": [
    {
     "data": {
      "text/html": [
       "<div>\n",
       "<style scoped>\n",
       "    .dataframe tbody tr th:only-of-type {\n",
       "        vertical-align: middle;\n",
       "    }\n",
       "\n",
       "    .dataframe tbody tr th {\n",
       "        vertical-align: top;\n",
       "    }\n",
       "\n",
       "    .dataframe thead th {\n",
       "        text-align: right;\n",
       "    }\n",
       "</style>\n",
       "<table border=\"1\" class=\"dataframe\">\n",
       "  <thead>\n",
       "    <tr style=\"text-align: right;\">\n",
       "      <th></th>\n",
       "      <th>Predicted</th>\n",
       "      <th>Actual</th>\n",
       "    </tr>\n",
       "  </thead>\n",
       "  <tbody>\n",
       "    <tr>\n",
       "      <td>0</td>\n",
       "      <td>98.531609</td>\n",
       "      <td>66.74</td>\n",
       "    </tr>\n",
       "    <tr>\n",
       "      <td>1</td>\n",
       "      <td>106.250359</td>\n",
       "      <td>74.59</td>\n",
       "    </tr>\n",
       "    <tr>\n",
       "      <td>2</td>\n",
       "      <td>108.836868</td>\n",
       "      <td>69.24</td>\n",
       "    </tr>\n",
       "    <tr>\n",
       "      <td>3</td>\n",
       "      <td>114.030373</td>\n",
       "      <td>61.05</td>\n",
       "    </tr>\n",
       "    <tr>\n",
       "      <td>4</td>\n",
       "      <td>119.538956</td>\n",
       "      <td>63.41</td>\n",
       "    </tr>\n",
       "    <tr>\n",
       "      <td>5</td>\n",
       "      <td>126.293869</td>\n",
       "      <td>71.74</td>\n",
       "    </tr>\n",
       "    <tr>\n",
       "      <td>6</td>\n",
       "      <td>127.237259</td>\n",
       "      <td>75.78</td>\n",
       "    </tr>\n",
       "    <tr>\n",
       "      <td>7</td>\n",
       "      <td>130.849106</td>\n",
       "      <td>77.65</td>\n",
       "    </tr>\n",
       "    <tr>\n",
       "      <td>8</td>\n",
       "      <td>134.631393</td>\n",
       "      <td>71.32</td>\n",
       "    </tr>\n",
       "    <tr>\n",
       "      <td>9</td>\n",
       "      <td>139.498398</td>\n",
       "      <td>66.33</td>\n",
       "    </tr>\n",
       "    <tr>\n",
       "      <td>10</td>\n",
       "      <td>145.319626</td>\n",
       "      <td>66.63</td>\n",
       "    </tr>\n",
       "    <tr>\n",
       "      <td>11</td>\n",
       "      <td>152.336731</td>\n",
       "      <td>66.86</td>\n",
       "    </tr>\n",
       "    <tr>\n",
       "      <td>12</td>\n",
       "      <td>160.692291</td>\n",
       "      <td>67.05</td>\n",
       "    </tr>\n",
       "    <tr>\n",
       "      <td>13</td>\n",
       "      <td>170.576294</td>\n",
       "      <td>68.02</td>\n",
       "    </tr>\n",
       "    <tr>\n",
       "      <td>14</td>\n",
       "      <td>182.162613</td>\n",
       "      <td>68.80</td>\n",
       "    </tr>\n",
       "    <tr>\n",
       "      <td>15</td>\n",
       "      <td>195.590317</td>\n",
       "      <td>72.02</td>\n",
       "    </tr>\n",
       "    <tr>\n",
       "      <td>16</td>\n",
       "      <td>210.909073</td>\n",
       "      <td>72.30</td>\n",
       "    </tr>\n",
       "    <tr>\n",
       "      <td>17</td>\n",
       "      <td>228.013748</td>\n",
       "      <td>68.90</td>\n",
       "    </tr>\n",
       "  </tbody>\n",
       "</table>\n",
       "</div>"
      ],
      "text/plain": [
       "     Predicted  Actual\n",
       "0    98.531609   66.74\n",
       "1   106.250359   74.59\n",
       "2   108.836868   69.24\n",
       "3   114.030373   61.05\n",
       "4   119.538956   63.41\n",
       "5   126.293869   71.74\n",
       "6   127.237259   75.78\n",
       "7   130.849106   77.65\n",
       "8   134.631393   71.32\n",
       "9   139.498398   66.33\n",
       "10  145.319626   66.63\n",
       "11  152.336731   66.86\n",
       "12  160.692291   67.05\n",
       "13  170.576294   68.02\n",
       "14  182.162613   68.80\n",
       "15  195.590317   72.02\n",
       "16  210.909073   72.30\n",
       "17  228.013748   68.90"
      ]
     },
     "execution_count": 34,
     "metadata": {},
     "output_type": "execute_result"
    }
   ],
   "source": [
    "act_pred"
   ]
  },
  {
   "cell_type": "code",
   "execution_count": 35,
   "metadata": {},
   "outputs": [],
   "source": [
    "act_pred['date'] = predictdata.index"
   ]
  },
  {
   "cell_type": "code",
   "execution_count": 36,
   "metadata": {},
   "outputs": [],
   "source": [
    "act_pred=act_pred.set_index('date')"
   ]
  },
  {
   "cell_type": "code",
   "execution_count": 37,
   "metadata": {},
   "outputs": [
    {
     "data": {
      "text/html": [
       "<div>\n",
       "<style scoped>\n",
       "    .dataframe tbody tr th:only-of-type {\n",
       "        vertical-align: middle;\n",
       "    }\n",
       "\n",
       "    .dataframe tbody tr th {\n",
       "        vertical-align: top;\n",
       "    }\n",
       "\n",
       "    .dataframe thead th {\n",
       "        text-align: right;\n",
       "    }\n",
       "</style>\n",
       "<table border=\"1\" class=\"dataframe\">\n",
       "  <thead>\n",
       "    <tr style=\"text-align: right;\">\n",
       "      <th></th>\n",
       "      <th>Predicted</th>\n",
       "      <th>Actual</th>\n",
       "    </tr>\n",
       "    <tr>\n",
       "      <th>date</th>\n",
       "      <th></th>\n",
       "      <th></th>\n",
       "    </tr>\n",
       "  </thead>\n",
       "  <tbody>\n",
       "    <tr>\n",
       "      <td>2017-07-31</td>\n",
       "      <td>98.531609</td>\n",
       "      <td>66.74</td>\n",
       "    </tr>\n",
       "    <tr>\n",
       "      <td>2017-08-31</td>\n",
       "      <td>106.250359</td>\n",
       "      <td>74.59</td>\n",
       "    </tr>\n",
       "    <tr>\n",
       "      <td>2017-09-30</td>\n",
       "      <td>108.836868</td>\n",
       "      <td>69.24</td>\n",
       "    </tr>\n",
       "    <tr>\n",
       "      <td>2017-10-31</td>\n",
       "      <td>114.030373</td>\n",
       "      <td>61.05</td>\n",
       "    </tr>\n",
       "    <tr>\n",
       "      <td>2017-11-30</td>\n",
       "      <td>119.538956</td>\n",
       "      <td>63.41</td>\n",
       "    </tr>\n",
       "    <tr>\n",
       "      <td>2017-12-31</td>\n",
       "      <td>126.293869</td>\n",
       "      <td>71.74</td>\n",
       "    </tr>\n",
       "    <tr>\n",
       "      <td>2018-01-31</td>\n",
       "      <td>127.237259</td>\n",
       "      <td>75.78</td>\n",
       "    </tr>\n",
       "    <tr>\n",
       "      <td>2018-02-28</td>\n",
       "      <td>130.849106</td>\n",
       "      <td>77.65</td>\n",
       "    </tr>\n",
       "    <tr>\n",
       "      <td>2018-03-31</td>\n",
       "      <td>134.631393</td>\n",
       "      <td>71.32</td>\n",
       "    </tr>\n",
       "    <tr>\n",
       "      <td>2018-04-30</td>\n",
       "      <td>139.498398</td>\n",
       "      <td>66.33</td>\n",
       "    </tr>\n",
       "    <tr>\n",
       "      <td>2018-05-31</td>\n",
       "      <td>145.319626</td>\n",
       "      <td>66.63</td>\n",
       "    </tr>\n",
       "    <tr>\n",
       "      <td>2018-06-30</td>\n",
       "      <td>152.336731</td>\n",
       "      <td>66.86</td>\n",
       "    </tr>\n",
       "    <tr>\n",
       "      <td>2018-07-31</td>\n",
       "      <td>160.692291</td>\n",
       "      <td>67.05</td>\n",
       "    </tr>\n",
       "    <tr>\n",
       "      <td>2018-08-31</td>\n",
       "      <td>170.576294</td>\n",
       "      <td>68.02</td>\n",
       "    </tr>\n",
       "    <tr>\n",
       "      <td>2018-09-30</td>\n",
       "      <td>182.162613</td>\n",
       "      <td>68.80</td>\n",
       "    </tr>\n",
       "    <tr>\n",
       "      <td>2018-10-31</td>\n",
       "      <td>195.590317</td>\n",
       "      <td>72.02</td>\n",
       "    </tr>\n",
       "    <tr>\n",
       "      <td>2018-11-30</td>\n",
       "      <td>210.909073</td>\n",
       "      <td>72.30</td>\n",
       "    </tr>\n",
       "    <tr>\n",
       "      <td>2018-12-31</td>\n",
       "      <td>228.013748</td>\n",
       "      <td>68.90</td>\n",
       "    </tr>\n",
       "  </tbody>\n",
       "</table>\n",
       "</div>"
      ],
      "text/plain": [
       "             Predicted  Actual\n",
       "date                          \n",
       "2017-07-31   98.531609   66.74\n",
       "2017-08-31  106.250359   74.59\n",
       "2017-09-30  108.836868   69.24\n",
       "2017-10-31  114.030373   61.05\n",
       "2017-11-30  119.538956   63.41\n",
       "2017-12-31  126.293869   71.74\n",
       "2018-01-31  127.237259   75.78\n",
       "2018-02-28  130.849106   77.65\n",
       "2018-03-31  134.631393   71.32\n",
       "2018-04-30  139.498398   66.33\n",
       "2018-05-31  145.319626   66.63\n",
       "2018-06-30  152.336731   66.86\n",
       "2018-07-31  160.692291   67.05\n",
       "2018-08-31  170.576294   68.02\n",
       "2018-09-30  182.162613   68.80\n",
       "2018-10-31  195.590317   72.02\n",
       "2018-11-30  210.909073   72.30\n",
       "2018-12-31  228.013748   68.90"
      ]
     },
     "execution_count": 37,
     "metadata": {},
     "output_type": "execute_result"
    }
   ],
   "source": [
    "act_pred"
   ]
  },
  {
   "cell_type": "code",
   "execution_count": 38,
   "metadata": {},
   "outputs": [
    {
     "data": {
      "text/plain": [
       "<matplotlib.axes._subplots.AxesSubplot at 0x1ef2da89388>"
      ]
     },
     "execution_count": 38,
     "metadata": {},
     "output_type": "execute_result"
    },
    {
     "data": {
      "image/png": "[encoded data removed]",
      "text/plain": [
       "<Figure size 432x288 with 1 Axes>"
      ]
     },
     "metadata": {
      "needs_background": "light"
     },
     "output_type": "display_data"
    }
   ],
   "source": [
    "act_pred.plot()"
   ]
  },
  {
   "cell_type": "code",
   "execution_count": null,
   "metadata": {},
   "outputs": [],
   "source": []
  }
 ],
 "metadata": {
  "kernelspec": {
   "display_name": "Python 3",
   "language": "python",
   "name": "python3"
  },
  "language_info": {
   "codemirror_mode": {
    "name": "ipython",
    "version": 3
   },
   "file_extension": ".py",
   "mimetype": "text/x-python",
   "name": "python",
   "nbconvert_exporter": "python",
   "pygments_lexer": "ipython3",
   "version": "3.7.4"
  }
 },
 "nbformat": 4,
 "nbformat_minor": 2
}
