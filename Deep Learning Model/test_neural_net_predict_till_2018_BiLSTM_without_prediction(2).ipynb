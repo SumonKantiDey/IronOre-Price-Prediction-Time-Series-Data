{
 "cells": [
  {
   "cell_type": "code",
   "execution_count": 1,
   "metadata": {},
   "outputs": [
    {
     "name": "stderr",
     "output_type": "stream",
     "text": [
      "Using TensorFlow backend.\n"
     ]
    }
   ],
   "source": [
    "import numpy as np\n",
    "import matplotlib.pyplot as plt\n",
    "%matplotlib inline\n",
    "from sklearn.linear_model import LinearRegression \n",
    "import matplotlib.pylab as pylab\n",
    "import math,time\n",
    "import sklearn\n",
    "import sklearn.preprocessing\n",
    "import datetime\n",
    "import os\n",
    "import matplotlib.pyplot as plt\n",
    "import keras\n",
    "from keras.models import Sequential\n",
    "from keras.layers import LSTM\n",
    "from keras.layers.core import Dense, Dropout, Activation\n",
    "from sklearn.preprocessing import MinMaxScaler\n",
    "from statsmodels.graphics.tsaplots import plot_pacf, plot_acf\n",
    "from keras.layers import Bidirectional\n",
    "test_set_size_percentage = 20 \n",
    "import pandas as pd\n",
    "from pandas import read_csv\n",
    "from sklearn.metrics import r2_score,mean_squared_error "
   ]
  },
  {
   "cell_type": "code",
   "execution_count": 2,
   "metadata": {},
   "outputs": [],
   "source": [
    "data=pd.read_csv('dataset/irondata2019.csv',parse_dates=['date'])"
   ]
  },
  {
   "cell_type": "code",
   "execution_count": 3,
   "metadata": {},
   "outputs": [
    {
     "data": {
      "image/png": "[encoded data removed]",
      "text/plain": [
       "<Figure size 432x288 with 1 Axes>"
      ]
     },
     "metadata": {
      "needs_background": "light"
     },
     "output_type": "display_data"
    }
   ],
   "source": [
    "data['price'].plot()\n",
    "data['price_lag']=data['price'].shift(1)\n",
    "data=data.set_index('date')\n",
    "data['rolling_mean_price']=data['price_lag'].rolling(2, min_periods=1).sum()\n",
    "data=data.dropna()"
   ]
  },
  {
   "cell_type": "code",
   "execution_count": 4,
   "metadata": {},
   "outputs": [],
   "source": [
    "# function for min-max normalization of Iron Ore \n",
    "min_max_scaler = sklearn.preprocessing.MinMaxScaler()\n",
    "def normalize_data(df):\n",
    "    df['price'] = min_max_scaler.fit_transform(df.price.values.reshape(-1,1))\n",
    "    df['price_lag'] = min_max_scaler.fit_transform(df.price_lag.values.reshape(-1,1))\n",
    "    df['rolling_mean_price'] = min_max_scaler.fit_transform(df.rolling_mean_price.values.reshape(-1,1))\n",
    "    return df"
   ]
  },
  {
   "cell_type": "code",
   "execution_count": 5,
   "metadata": {},
   "outputs": [
    {
     "data": {
      "text/html": [
       "<div>\n",
       "<style scoped>\n",
       "    .dataframe tbody tr th:only-of-type {\n",
       "        vertical-align: middle;\n",
       "    }\n",
       "\n",
       "    .dataframe tbody tr th {\n",
       "        vertical-align: top;\n",
       "    }\n",
       "\n",
       "    .dataframe thead th {\n",
       "        text-align: right;\n",
       "    }\n",
       "</style>\n",
       "<table border=\"1\" class=\"dataframe\">\n",
       "  <thead>\n",
       "    <tr style=\"text-align: right;\">\n",
       "      <th></th>\n",
       "      <th>price</th>\n",
       "      <th>price_lag</th>\n",
       "      <th>rolling_mean_price</th>\n",
       "    </tr>\n",
       "    <tr>\n",
       "      <th>date</th>\n",
       "      <th></th>\n",
       "      <th></th>\n",
       "      <th></th>\n",
       "    </tr>\n",
       "  </thead>\n",
       "  <tbody>\n",
       "    <tr>\n",
       "      <td>1990-02-28</td>\n",
       "      <td>0.014795</td>\n",
       "      <td>0.014795</td>\n",
       "      <td>0.000000</td>\n",
       "    </tr>\n",
       "    <tr>\n",
       "      <td>1990-03-31</td>\n",
       "      <td>0.014795</td>\n",
       "      <td>0.014795</td>\n",
       "      <td>0.039829</td>\n",
       "    </tr>\n",
       "    <tr>\n",
       "      <td>1990-04-30</td>\n",
       "      <td>0.014795</td>\n",
       "      <td>0.014795</td>\n",
       "      <td>0.039829</td>\n",
       "    </tr>\n",
       "    <tr>\n",
       "      <td>1990-05-31</td>\n",
       "      <td>0.014795</td>\n",
       "      <td>0.014795</td>\n",
       "      <td>0.039829</td>\n",
       "    </tr>\n",
       "    <tr>\n",
       "      <td>1990-06-30</td>\n",
       "      <td>0.014795</td>\n",
       "      <td>0.014795</td>\n",
       "      <td>0.039829</td>\n",
       "    </tr>\n",
       "  </tbody>\n",
       "</table>\n",
       "</div>"
      ],
      "text/plain": [
       "               price  price_lag  rolling_mean_price\n",
       "date                                               \n",
       "1990-02-28  0.014795   0.014795            0.000000\n",
       "1990-03-31  0.014795   0.014795            0.039829\n",
       "1990-04-30  0.014795   0.014795            0.039829\n",
       "1990-05-31  0.014795   0.014795            0.039829\n",
       "1990-06-30  0.014795   0.014795            0.039829"
      ]
     },
     "execution_count": 5,
     "metadata": {},
     "output_type": "execute_result"
    }
   ],
   "source": [
    "# normalize stock\n",
    "df = data.copy()\n",
    "df = normalize_data(df)\n",
    "df.head()"
   ]
  },
  {
   "cell_type": "code",
   "execution_count": 6,
   "metadata": {},
   "outputs": [],
   "source": [
    "train = df[:347]"
   ]
  },
  {
   "cell_type": "code",
   "execution_count": 7,
   "metadata": {},
   "outputs": [
    {
     "data": {
      "text/html": [
       "<div>\n",
       "<style scoped>\n",
       "    .dataframe tbody tr th:only-of-type {\n",
       "        vertical-align: middle;\n",
       "    }\n",
       "\n",
       "    .dataframe tbody tr th {\n",
       "        vertical-align: top;\n",
       "    }\n",
       "\n",
       "    .dataframe thead th {\n",
       "        text-align: right;\n",
       "    }\n",
       "</style>\n",
       "<table border=\"1\" class=\"dataframe\">\n",
       "  <thead>\n",
       "    <tr style=\"text-align: right;\">\n",
       "      <th></th>\n",
       "      <th>price</th>\n",
       "      <th>price_lag</th>\n",
       "      <th>rolling_mean_price</th>\n",
       "    </tr>\n",
       "    <tr>\n",
       "      <th>date</th>\n",
       "      <th></th>\n",
       "      <th></th>\n",
       "      <th></th>\n",
       "    </tr>\n",
       "  </thead>\n",
       "  <tbody>\n",
       "    <tr>\n",
       "      <td>2018-08-31</td>\n",
       "      <td>0.321914</td>\n",
       "      <td>0.316394</td>\n",
       "      <td>0.339778</td>\n",
       "    </tr>\n",
       "    <tr>\n",
       "      <td>2018-09-30</td>\n",
       "      <td>0.326353</td>\n",
       "      <td>0.321914</td>\n",
       "      <td>0.343066</td>\n",
       "    </tr>\n",
       "    <tr>\n",
       "      <td>2018-10-31</td>\n",
       "      <td>0.344676</td>\n",
       "      <td>0.326353</td>\n",
       "      <td>0.348027</td>\n",
       "    </tr>\n",
       "    <tr>\n",
       "      <td>2018-11-30</td>\n",
       "      <td>0.346270</td>\n",
       "      <td>0.344676</td>\n",
       "      <td>0.359366</td>\n",
       "    </tr>\n",
       "    <tr>\n",
       "      <td>2018-12-31</td>\n",
       "      <td>0.326922</td>\n",
       "      <td>0.346270</td>\n",
       "      <td>0.369288</td>\n",
       "    </tr>\n",
       "  </tbody>\n",
       "</table>\n",
       "</div>"
      ],
      "text/plain": [
       "               price  price_lag  rolling_mean_price\n",
       "date                                               \n",
       "2018-08-31  0.321914   0.316394            0.339778\n",
       "2018-09-30  0.326353   0.321914            0.343066\n",
       "2018-10-31  0.344676   0.326353            0.348027\n",
       "2018-11-30  0.346270   0.344676            0.359366\n",
       "2018-12-31  0.326922   0.346270            0.369288"
      ]
     },
     "execution_count": 7,
     "metadata": {},
     "output_type": "execute_result"
    }
   ],
   "source": [
    "train.tail()"
   ]
  },
  {
   "cell_type": "code",
   "execution_count": 8,
   "metadata": {},
   "outputs": [
    {
     "name": "stderr",
     "output_type": "stream",
     "text": [
      "C:\\Users\\sumon\\Anaconda3\\envs\\tensorflow\\lib\\site-packages\\ipykernel_launcher.py:1: FutureWarning: Method .as_matrix will be removed in a future version. Use .values instead.\n",
      "  \"\"\"Entry point for launching an IPython kernel.\n"
     ]
    }
   ],
   "source": [
    "train_data_raw = train.as_matrix()"
   ]
  },
  {
   "cell_type": "code",
   "execution_count": 9,
   "metadata": {},
   "outputs": [],
   "source": [
    "x_train = train_data_raw[:-1,1:] #without price column of train\n",
    "y_train = train_data_raw[:-1,0] #with price column of train\n",
    "\n",
    "x_forecast = train_data_raw[-1:,1:]\n",
    "y_forecast = train_data_raw[-1:,0]"
   ]
  },
  {
   "cell_type": "code",
   "execution_count": 10,
   "metadata": {},
   "outputs": [
    {
     "data": {
      "text/plain": [
       "array([[0.34626985, 0.3692879 ]])"
      ]
     },
     "execution_count": 10,
     "metadata": {},
     "output_type": "execute_result"
    }
   ],
   "source": [
    "x_forecast"
   ]
  },
  {
   "cell_type": "code",
   "execution_count": 11,
   "metadata": {},
   "outputs": [
    {
     "name": "stdout",
     "output_type": "stream",
     "text": [
      "x_train.shape =  (346, 2)\n",
      "y_train.shape =  (346,)\n",
      "x_forecast.shape =  (1, 2)\n",
      "y_forecast.shape  (1,)\n"
     ]
    }
   ],
   "source": [
    "print('x_train.shape = ',x_train.shape)\n",
    "print('y_train.shape = ', y_train.shape)\n",
    "print('x_forecast.shape = ', x_forecast.shape)\n",
    "print('y_forecast.shape ',y_forecast.shape)"
   ]
  },
  {
   "cell_type": "code",
   "execution_count": 12,
   "metadata": {},
   "outputs": [
    {
     "data": {
      "text/plain": [
       "346"
      ]
     },
     "execution_count": 12,
     "metadata": {},
     "output_type": "execute_result"
    }
   ],
   "source": [
    "x_train.shape[0]"
   ]
  },
  {
   "cell_type": "code",
   "execution_count": 13,
   "metadata": {},
   "outputs": [
    {
     "data": {
      "text/plain": [
       "(346, 1, 2)"
      ]
     },
     "execution_count": 13,
     "metadata": {},
     "output_type": "execute_result"
    }
   ],
   "source": [
    "#Reshape data for (Sample,Timestep,Features) \n",
    "x_train = x_train.reshape((x_train.shape[0],1,x_train.shape[1]))\n",
    "#x_test = x_test.reshape((x_test.shape[0],1,x_test.shape[1]))\n",
    "#x_forecast = x_forecast.reshape((x_forecast.shape[0],1,x_test.shape[1]))\n",
    "x_train.shape"
   ]
  },
  {
   "cell_type": "code",
   "execution_count": 14,
   "metadata": {},
   "outputs": [
    {
     "name": "stdout",
     "output_type": "stream",
     "text": [
      "Compilation Time :  0.017960548400878906\n"
     ]
    }
   ],
   "source": [
    "#d = 0.3\n",
    "model = Sequential()\n",
    "\n",
    "model.add(Bidirectional(LSTM(64, input_shape=(1,2), return_sequences=True))) #timestamp with 2 feature\n",
    "#model.add(Dropout(d))\n",
    "\n",
    "model.add(Bidirectional(LSTM(64, input_shape=(1,2), return_sequences=False)))\n",
    "#model.add(Dropout(d))\n",
    "\n",
    "model.add(Dense(32,kernel_initializer=\"uniform\",activation='relu'))        \n",
    "model.add(Dense(1,kernel_initializer=\"uniform\",activation='linear'))\n",
    "\n",
    "# adam = keras.optimizers.Adam(decay=0.2)\n",
    "\n",
    "start = time.time()\n",
    "model.compile(loss='mse',optimizer='adam', metrics=['accuracy'])\n",
    "print(\"Compilation Time : \", time.time() - start)"
   ]
  },
  {
   "cell_type": "code",
   "execution_count": 15,
   "metadata": {},
   "outputs": [],
   "source": [
    "#model.summary()"
   ]
  },
  {
   "cell_type": "code",
   "execution_count": 16,
   "metadata": {},
   "outputs": [
    {
     "name": "stdout",
     "output_type": "stream",
     "text": [
      "WARNING:tensorflow:From C:\\Users\\sumon\\Anaconda3\\envs\\tensorflow\\lib\\site-packages\\keras\\backend\\tensorflow_backend.py:422: The name tf.global_variables is deprecated. Please use tf.compat.v1.global_variables instead.\n",
      "\n",
      "Epoch 1/80\n",
      "346/346 [==============================] - 3s 7ms/step - loss: 0.0306 - accuracy: 0.0347\n",
      "Epoch 2/80\n",
      "346/346 [==============================] - 1s 3ms/step - loss: 0.0165 - accuracy: 0.0376\n",
      "Epoch 3/80\n",
      "346/346 [==============================] - 1s 3ms/step - loss: 0.0043 - accuracy: 0.0376\n",
      "Epoch 4/80\n",
      "346/346 [==============================] - 1s 3ms/step - loss: 0.0040 - accuracy: 0.0376\n",
      "Epoch 5/80\n",
      "346/346 [==============================] - 1s 3ms/step - loss: 0.0040 - accuracy: 0.0376\n",
      "Epoch 6/80\n",
      "346/346 [==============================] - 1s 3ms/step - loss: 0.0053 - accuracy: 0.0376\n",
      "Epoch 7/80\n",
      "346/346 [==============================] - 1s 3ms/step - loss: 0.0075 - accuracy: 0.0376\n",
      "Epoch 8/80\n",
      "346/346 [==============================] - 1s 3ms/step - loss: 0.0071 - accuracy: 0.0376\n",
      "Epoch 9/80\n",
      "346/346 [==============================] - 1s 3ms/step - loss: 0.0062 - accuracy: 0.0376\n",
      "Epoch 10/80\n",
      "346/346 [==============================] - 1s 3ms/step - loss: 0.0058 - accuracy: 0.0376\n",
      "Epoch 11/80\n",
      "346/346 [==============================] - 1s 3ms/step - loss: 0.0063 - accuracy: 0.0376\n",
      "Epoch 12/80\n",
      "346/346 [==============================] - 1s 3ms/step - loss: 0.0052 - accuracy: 0.0376\n",
      "Epoch 13/80\n",
      "346/346 [==============================] - 1s 3ms/step - loss: 0.0053 - accuracy: 0.0376\n",
      "Epoch 14/80\n",
      "346/346 [==============================] - 1s 3ms/step - loss: 0.0053 - accuracy: 0.0376\n",
      "Epoch 15/80\n",
      "346/346 [==============================] - 1s 3ms/step - loss: 0.0052 - accuracy: 0.0376\n",
      "Epoch 16/80\n",
      "346/346 [==============================] - 1s 3ms/step - loss: 0.0052 - accuracy: 0.0376\n",
      "Epoch 17/80\n",
      "346/346 [==============================] - 1s 4ms/step - loss: 0.0052 - accuracy: 0.0376\n",
      "Epoch 18/80\n",
      "346/346 [==============================] - 1s 3ms/step - loss: 0.0052 - accuracy: 0.0376\n",
      "Epoch 19/80\n",
      "346/346 [==============================] - 1s 3ms/step - loss: 0.0053 - accuracy: 0.0376\n",
      "Epoch 20/80\n",
      "346/346 [==============================] - 1s 3ms/step - loss: 0.0051 - accuracy: 0.0376\n",
      "Epoch 21/80\n",
      "346/346 [==============================] - 1s 3ms/step - loss: 0.0052 - accuracy: 0.0376\n",
      "Epoch 22/80\n",
      "346/346 [==============================] - 1s 3ms/step - loss: 0.0051 - accuracy: 0.0376\n",
      "Epoch 23/80\n",
      "346/346 [==============================] - 1s 3ms/step - loss: 0.0052 - accuracy: 0.0376\n",
      "Epoch 24/80\n",
      "346/346 [==============================] - 1s 3ms/step - loss: 0.0051 - accuracy: 0.0376\n",
      "Epoch 25/80\n",
      "346/346 [==============================] - ETA: 0s - loss: 0.0052 - accuracy: 0.03 - 1s 3ms/step - loss: 0.0051 - accuracy: 0.0376\n",
      "Epoch 26/80\n",
      "346/346 [==============================] - 1s 3ms/step - loss: 0.0050 - accuracy: 0.0376\n",
      "Epoch 27/80\n",
      "346/346 [==============================] - 1s 3ms/step - loss: 0.0047 - accuracy: 0.0376\n",
      "Epoch 28/80\n",
      "346/346 [==============================] - 1s 3ms/step - loss: 0.0048 - accuracy: 0.0376\n",
      "Epoch 29/80\n",
      "346/346 [==============================] - 1s 3ms/step - loss: 0.0047 - accuracy: 0.0376\n",
      "Epoch 30/80\n",
      "346/346 [==============================] - 1s 3ms/step - loss: 0.0044 - accuracy: 0.0376\n",
      "Epoch 31/80\n",
      "346/346 [==============================] - 1s 3ms/step - loss: 0.0043 - accuracy: 0.0376\n",
      "Epoch 32/80\n",
      "346/346 [==============================] - 1s 3ms/step - loss: 0.0041 - accuracy: 0.0376\n",
      "Epoch 33/80\n",
      "346/346 [==============================] - 1s 3ms/step - loss: 0.0040 - accuracy: 0.0376\n",
      "Epoch 34/80\n",
      "346/346 [==============================] - 1s 3ms/step - loss: 0.0040 - accuracy: 0.0376\n",
      "Epoch 35/80\n",
      "346/346 [==============================] - 1s 3ms/step - loss: 0.0039 - accuracy: 0.0376\n",
      "Epoch 36/80\n",
      "346/346 [==============================] - 1s 3ms/step - loss: 0.0038 - accuracy: 0.0376\n",
      "Epoch 37/80\n",
      "346/346 [==============================] - 1s 3ms/step - loss: 0.0037 - accuracy: 0.0376\n",
      "Epoch 38/80\n",
      "346/346 [==============================] - 1s 3ms/step - loss: 0.0036 - accuracy: 0.0376\n",
      "Epoch 39/80\n",
      "346/346 [==============================] - 1s 3ms/step - loss: 0.0035 - accuracy: 0.0376\n",
      "Epoch 40/80\n",
      "346/346 [==============================] - 1s 3ms/step - loss: 0.0035 - accuracy: 0.0376\n",
      "Epoch 41/80\n",
      "346/346 [==============================] - 1s 3ms/step - loss: 0.0034 - accuracy: 0.0376\n",
      "Epoch 42/80\n",
      "346/346 [==============================] - 1s 3ms/step - loss: 0.0034 - accuracy: 0.0376\n",
      "Epoch 43/80\n",
      "346/346 [==============================] - 1s 3ms/step - loss: 0.0033 - accuracy: 0.0376\n",
      "Epoch 44/80\n",
      "346/346 [==============================] - 1s 3ms/step - loss: 0.0032 - accuracy: 0.0376\n",
      "Epoch 45/80\n",
      "346/346 [==============================] - 1s 3ms/step - loss: 0.0032 - accuracy: 0.0376\n",
      "Epoch 46/80\n",
      "346/346 [==============================] - 1s 3ms/step - loss: 0.0031 - accuracy: 0.0376\n",
      "Epoch 47/80\n",
      "346/346 [==============================] - 1s 3ms/step - loss: 0.0031 - accuracy: 0.0376\n",
      "Epoch 48/80\n",
      "346/346 [==============================] - 1s 4ms/step - loss: 0.0031 - accuracy: 0.0376\n",
      "Epoch 49/80\n",
      "346/346 [==============================] - 1s 4ms/step - loss: 0.0030 - accuracy: 0.0376\n",
      "Epoch 50/80\n",
      "346/346 [==============================] - 1s 4ms/step - loss: 0.0030 - accuracy: 0.0376\n",
      "Epoch 51/80\n",
      "346/346 [==============================] - 2s 4ms/step - loss: 0.0032 - accuracy: 0.0376\n",
      "Epoch 52/80\n",
      "346/346 [==============================] - 1s 4ms/step - loss: 0.0031 - accuracy: 0.0376\n",
      "Epoch 53/80\n",
      "346/346 [==============================] - 1s 3ms/step - loss: 0.0029 - accuracy: 0.0376\n",
      "Epoch 54/80\n",
      "346/346 [==============================] - 1s 3ms/step - loss: 0.0028 - accuracy: 0.0376\n",
      "Epoch 55/80\n",
      "346/346 [==============================] - 1s 3ms/step - loss: 0.0027 - accuracy: 0.0376\n",
      "Epoch 56/80\n",
      "346/346 [==============================] - 1s 3ms/step - loss: 0.0027 - accuracy: 0.0376\n",
      "Epoch 57/80\n",
      "346/346 [==============================] - 1s 4ms/step - loss: 0.0027 - accuracy: 0.0376\n",
      "Epoch 58/80\n",
      "346/346 [==============================] - 1s 4ms/step - loss: 0.0027 - accuracy: 0.0376\n",
      "Epoch 59/80\n",
      "346/346 [==============================] - 1s 4ms/step - loss: 0.0026 - accuracy: 0.0376\n",
      "Epoch 60/80\n",
      "346/346 [==============================] - 1s 4ms/step - loss: 0.0026 - accuracy: 0.0376\n",
      "Epoch 61/80\n",
      "346/346 [==============================] - 1s 4ms/step - loss: 0.0026 - accuracy: 0.0376\n",
      "Epoch 62/80\n",
      "346/346 [==============================] - 2s 4ms/step - loss: 0.0026 - accuracy: 0.0376\n",
      "Epoch 63/80\n",
      "346/346 [==============================] - 1s 4ms/step - loss: 0.0025 - accuracy: 0.0376\n",
      "Epoch 64/80\n",
      "346/346 [==============================] - 1s 3ms/step - loss: 0.0025 - accuracy: 0.0376\n",
      "Epoch 65/80\n",
      "346/346 [==============================] - 1s 3ms/step - loss: 0.0025 - accuracy: 0.0376\n",
      "Epoch 66/80\n",
      "346/346 [==============================] - 1s 4ms/step - loss: 0.0024 - accuracy: 0.0376\n",
      "Epoch 67/80\n",
      "346/346 [==============================] - 1s 4ms/step - loss: 0.0026 - accuracy: 0.0376\n",
      "Epoch 68/80\n",
      "346/346 [==============================] - 1s 4ms/step - loss: 0.0026 - accuracy: 0.0376\n",
      "Epoch 69/80\n",
      "346/346 [==============================] - 1s 4ms/step - loss: 0.0025 - accuracy: 0.0376\n",
      "Epoch 70/80\n",
      "346/346 [==============================] - 1s 3ms/step - loss: 0.0024 - accuracy: 0.0376\n",
      "Epoch 71/80\n",
      "346/346 [==============================] - 2s 4ms/step - loss: 0.0024 - accuracy: 0.0376\n",
      "Epoch 72/80\n",
      "346/346 [==============================] - 1s 4ms/step - loss: 0.0024 - accuracy: 0.0376\n",
      "Epoch 73/80\n",
      "346/346 [==============================] - 1s 4ms/step - loss: 0.0023 - accuracy: 0.0376\n",
      "Epoch 74/80\n",
      "346/346 [==============================] - 1s 4ms/step - loss: 0.0023 - accuracy: 0.0376\n",
      "Epoch 75/80\n",
      "346/346 [==============================] - 2s 5ms/step - loss: 0.0023 - accuracy: 0.0376\n",
      "Epoch 76/80\n",
      "346/346 [==============================] - 1s 3ms/step - loss: 0.0022 - accuracy: 0.0376\n",
      "Epoch 77/80\n",
      "346/346 [==============================] - 1s 3ms/step - loss: 0.0022 - accuracy: 0.0376\n",
      "Epoch 78/80\n",
      "346/346 [==============================] - 1s 3ms/step - loss: 0.0022 - accuracy: 0.0376\n",
      "Epoch 79/80\n"
     ]
    },
    {
     "name": "stdout",
     "output_type": "stream",
     "text": [
      "346/346 [==============================] - 1s 3ms/step - loss: 0.0022 - accuracy: 0.0376\n",
      "Epoch 80/80\n",
      "346/346 [==============================] - 1s 3ms/step - loss: 0.0023 - accuracy: 0.0376\n"
     ]
    }
   ],
   "source": [
    "#Fit model with history to check for overfitting\n",
    "history = model.fit(x_train,y_train,batch_size=1,epochs=80,shuffle=False)"
   ]
  },
  {
   "cell_type": "code",
   "execution_count": 17,
   "metadata": {},
   "outputs": [
    {
     "name": "stdout",
     "output_type": "stream",
     "text": [
      "Saved model to disk\n"
     ]
    }
   ],
   "source": [
    "# serialize model to JSON\n",
    "model_json = model.to_json()\n",
    "with open(\"model-weight/model.json\", \"w\") as json_file:\n",
    "    json_file.write(model_json)\n",
    "# serialize weights to HDF5\n",
    "model.save_weights(\"model-weight/model.h5\")\n",
    "print(\"Saved model to disk\")"
   ]
  },
  {
   "cell_type": "code",
   "execution_count": 18,
   "metadata": {},
   "outputs": [
    {
     "name": "stdout",
     "output_type": "stream",
     "text": [
      "Loaded model from disk\n"
     ]
    }
   ],
   "source": [
    "# load json and create model\n",
    "from keras.models import model_from_json\n",
    "json_file = open('model-weight/model.json', 'r')\n",
    "loaded_model_json = json_file.read()\n",
    "json_file.close()\n",
    "model = model_from_json(loaded_model_json)\n",
    "# load weights into new model\n",
    "model.load_weights(\"model-weight/model.h5\")\n",
    "print(\"Loaded model from disk\")\n",
    " \n",
    "# evaluate loaded model on test data\n",
    "model.compile(loss='mse',optimizer='adam', metrics=['accuracy'])"
   ]
  },
  {
   "cell_type": "markdown",
   "metadata": {},
   "source": [
    "# forecast till 2018 #"
   ]
  },
  {
   "cell_type": "code",
   "execution_count": 19,
   "metadata": {},
   "outputs": [],
   "source": [
    "temp_x_forecast = x_forecast.copy()"
   ]
  },
  {
   "cell_type": "code",
   "execution_count": 20,
   "metadata": {},
   "outputs": [
    {
     "data": {
      "text/plain": [
       "array([[0.34626985, 0.3692879 ]])"
      ]
     },
     "execution_count": 20,
     "metadata": {},
     "output_type": "execute_result"
    }
   ],
   "source": [
    "temp_x_forecast"
   ]
  },
  {
   "cell_type": "code",
   "execution_count": 21,
   "metadata": {},
   "outputs": [],
   "source": [
    "x_forecast = temp_x_forecast.copy()"
   ]
  },
  {
   "cell_type": "code",
   "execution_count": 22,
   "metadata": {},
   "outputs": [
    {
     "data": {
      "text/plain": [
       "array([[[0.34626985, 0.3692879 ]]])"
      ]
     },
     "execution_count": 22,
     "metadata": {},
     "output_type": "execute_result"
    }
   ],
   "source": [
    "#x_forecast = x_forecast.reshape((x_forecast.shape[0],1,x_forecast.shape[1]))  np.reshape(test_forecast,(1,1,2))\n",
    "x_forecast = np.reshape(x_forecast,(1,1,2))\n",
    "x_forecast"
   ]
  },
  {
   "cell_type": "code",
   "execution_count": 23,
   "metadata": {},
   "outputs": [
    {
     "data": {
      "text/plain": [
       "0.3269219825869231"
      ]
     },
     "execution_count": 23,
     "metadata": {},
     "output_type": "execute_result"
    }
   ],
   "source": [
    "y_forecast[0]"
   ]
  },
  {
   "cell_type": "code",
   "execution_count": 24,
   "metadata": {},
   "outputs": [
    {
     "data": {
      "text/plain": [
       "0.3269219825869231"
      ]
     },
     "execution_count": 24,
     "metadata": {},
     "output_type": "execute_result"
    }
   ],
   "source": [
    "forecast_val=[]\n",
    "#t=x_forecast[0][0][0] #take the price lag of last row\n",
    "t = y_forecast[0] #take the price of last row\n",
    "t"
   ]
  },
  {
   "cell_type": "code",
   "execution_count": 25,
   "metadata": {},
   "outputs": [
    {
     "data": {
      "text/plain": [
       "DatetimeIndex(['2019-01-31', '2019-02-28', '2019-03-31', '2019-04-30',\n",
       "               '2019-05-31', '2019-06-30'],\n",
       "              dtype='datetime64[ns]', freq='M')"
      ]
     },
     "execution_count": 25,
     "metadata": {},
     "output_type": "execute_result"
    }
   ],
   "source": [
    "forecast_data_index = pd.date_range(start='1/1/2019', periods=6,freq='M')\n",
    "forecast_data_index"
   ]
  },
  {
   "cell_type": "code",
   "execution_count": 26,
   "metadata": {},
   "outputs": [],
   "source": [
    "forecast_data = pd.DataFrame()\n",
    "forecast_data['date'] = forecast_data_index"
   ]
  },
  {
   "cell_type": "code",
   "execution_count": 27,
   "metadata": {},
   "outputs": [
    {
     "name": "stdout",
     "output_type": "stream",
     "text": [
      "predict price =  0.3514115810394287\n",
      "last price_lag =  0.3269219825869231\n",
      "   price_lag  rolling_mean_price\n",
      "0   0.326922            0.326922\n",
      "1   0.351412            0.678334\n",
      "matrix    price_lag  rolling_mean_price\n",
      "1   0.351412            0.678334\n",
      "matrix_dd [[0.35141158 0.67833356]]\n",
      "predict price =  0.39736682176589966\n",
      "last price_lag =  0.3514115810394287\n",
      "   price_lag  rolling_mean_price\n",
      "0   0.351412            0.351412\n",
      "1   0.397367            0.748778\n",
      "matrix    price_lag  rolling_mean_price\n",
      "1   0.397367            0.748778\n",
      "matrix_dd [[0.39736682 0.7487784 ]]\n",
      "predict price =  0.42456263303756714\n",
      "last price_lag =  0.39736682176589966\n",
      "   price_lag  rolling_mean_price\n",
      "0   0.397367            0.397367\n",
      "1   0.424563            0.821929\n",
      "matrix    price_lag  rolling_mean_price\n",
      "1   0.424563            0.821929\n",
      "matrix_dd [[0.42456263 0.82192945]]\n",
      "predict price =  0.4511813819408417\n",
      "last price_lag =  0.42456263303756714\n",
      "   price_lag  rolling_mean_price\n",
      "0   0.424563            0.424563\n",
      "1   0.451181            0.875744\n",
      "matrix    price_lag  rolling_mean_price\n",
      "1   0.451181            0.875744\n",
      "matrix_dd [[0.45118138 0.87574401]]\n",
      "predict price =  0.4797725975513458\n",
      "last price_lag =  0.4511813819408417\n",
      "   price_lag  rolling_mean_price\n",
      "0   0.451181            0.451181\n",
      "1   0.479773            0.930954\n",
      "matrix    price_lag  rolling_mean_price\n",
      "1   0.479773            0.930954\n",
      "matrix_dd [[0.4797726  0.93095398]]\n",
      "predict price =  0.5102769732475281\n",
      "last price_lag =  0.4797725975513458\n",
      "   price_lag  rolling_mean_price\n",
      "0   0.479773            0.479773\n",
      "1   0.510277            0.990050\n",
      "matrix    price_lag  rolling_mean_price\n",
      "1   0.510277             0.99005\n",
      "matrix_dd [[0.51027697 0.99004957]]\n"
     ]
    },
    {
     "name": "stderr",
     "output_type": "stream",
     "text": [
      "C:\\Users\\sumon\\Anaconda3\\envs\\tensorflow\\lib\\site-packages\\ipykernel_launcher.py:11: FutureWarning: Method .as_matrix will be removed in a future version. Use .values instead.\n",
      "  # This is added back by InteractiveShellApp.init_path()\n"
     ]
    }
   ],
   "source": [
    "for i in range(1,len(forecast_data)+1):\n",
    "    m=model.predict(x_forecast)\n",
    "    print(\"predict price = \",m.tolist()[0][0])\n",
    "    print(\"last price_lag = \", t)\n",
    "    forecastdf=pd.DataFrame(columns=['price_lag'])\n",
    "    forecastdf['price_lag']=[t,m.tolist()[0][0]]\n",
    "    forecastdf['rolling_mean_price']=forecastdf['price_lag'].rolling(2, min_periods=1).sum()\n",
    "    print(forecastdf)\n",
    "    x_forecast=forecastdf[-1:]\n",
    "    print(\"matrix\",x_forecast)\n",
    "    x_forecast = x_forecast.as_matrix()\n",
    "    print(\"matrix_dd\",x_forecast)\n",
    "    x_forecast = x_forecast.reshape((x_forecast.shape[0],1,x_forecast.shape[1]))\n",
    "    #x_forecast = np.reshape(x_forecast,(1,1,2))\n",
    "    t=m.tolist()[0][0]\n",
    "    forecast_val.append(m.tolist()[0][0])"
   ]
  },
  {
   "cell_type": "code",
   "execution_count": 28,
   "metadata": {},
   "outputs": [
    {
     "data": {
      "text/plain": [
       "[0.3514115810394287,\n",
       " 0.39736682176589966,\n",
       " 0.42456263303756714,\n",
       " 0.4511813819408417,\n",
       " 0.4797725975513458,\n",
       " 0.5102769732475281]"
      ]
     },
     "execution_count": 28,
     "metadata": {},
     "output_type": "execute_result"
    }
   ],
   "source": [
    "forecast_val"
   ]
  },
  {
   "cell_type": "code",
   "execution_count": 29,
   "metadata": {},
   "outputs": [],
   "source": [
    "forecast_data['forecast_price'] = forecast_val #normalize value"
   ]
  },
  {
   "cell_type": "code",
   "execution_count": 30,
   "metadata": {},
   "outputs": [],
   "source": [
    "#data[:335]"
   ]
  },
  {
   "cell_type": "code",
   "execution_count": 31,
   "metadata": {},
   "outputs": [
    {
     "data": {
      "text/plain": [
       "<matplotlib.axes._subplots.AxesSubplot at 0x1c270da08c8>"
      ]
     },
     "execution_count": 31,
     "metadata": {},
     "output_type": "execute_result"
    },
    {
     "data": {
      "image/png": "[encoded data removed]",
      "text/plain": [
       "<Figure size 432x288 with 1 Axes>"
      ]
     },
     "metadata": {
      "needs_background": "light"
     },
     "output_type": "display_data"
    }
   ],
   "source": [
    "forecast_data['forecast_price'].plot()"
   ]
  },
  {
   "cell_type": "code",
   "execution_count": 32,
   "metadata": {},
   "outputs": [],
   "source": [
    "def denormalize(df, normalized_value): \n",
    "    df = df['price'].values.reshape(-1,1)\n",
    "    normalized_value = normalized_value.reshape(-1,1)\n",
    "    #return df.shape, p.shape\n",
    "    min_max_scaler = sklearn.preprocessing.MinMaxScaler()\n",
    "    a = min_max_scaler.fit_transform(df)\n",
    "    new = min_max_scaler.inverse_transform(normalized_value)\n",
    "    return new\n",
    "\n",
    "# newp = denormalize(data, pred_price)\n",
    "# newy_test = denormalize(data, y_test)"
   ]
  },
  {
   "cell_type": "code",
   "execution_count": 33,
   "metadata": {},
   "outputs": [
    {
     "data": {
      "text/plain": [
       "<matplotlib.axes._subplots.AxesSubplot at 0x1c270e2b548>"
      ]
     },
     "execution_count": 33,
     "metadata": {},
     "output_type": "execute_result"
    },
    {
     "data": {
      "image/png": "[encoded data removed]",
      "text/plain": [
       "<Figure size 432x288 with 1 Axes>"
      ]
     },
     "metadata": {
      "needs_background": "light"
     },
     "output_type": "display_data"
    }
   ],
   "source": [
    "new_forecast = denormalize(data[347:], np.array(forecast_val))\n",
    "forecast_data['forecast_price'] = new_forecast #denorm_price\n",
    "forecast_data = forecast_data.set_index('date')\n",
    "forecast_data.forecast_price.plot()"
   ]
  },
  {
   "cell_type": "code",
   "execution_count": 34,
   "metadata": {},
   "outputs": [
    {
     "data": {
      "text/html": [
       "<div>\n",
       "<style scoped>\n",
       "    .dataframe tbody tr th:only-of-type {\n",
       "        vertical-align: middle;\n",
       "    }\n",
       "\n",
       "    .dataframe tbody tr th {\n",
       "        vertical-align: top;\n",
       "    }\n",
       "\n",
       "    .dataframe thead th {\n",
       "        text-align: right;\n",
       "    }\n",
       "</style>\n",
       "<table border=\"1\" class=\"dataframe\">\n",
       "  <thead>\n",
       "    <tr style=\"text-align: right;\">\n",
       "      <th></th>\n",
       "      <th>forecast_price</th>\n",
       "    </tr>\n",
       "    <tr>\n",
       "      <th>date</th>\n",
       "      <th></th>\n",
       "    </tr>\n",
       "  </thead>\n",
       "  <tbody>\n",
       "    <tr>\n",
       "      <td>2019-01-31</td>\n",
       "      <td>80.093759</td>\n",
       "    </tr>\n",
       "    <tr>\n",
       "      <td>2019-02-28</td>\n",
       "      <td>81.518371</td>\n",
       "    </tr>\n",
       "    <tr>\n",
       "      <td>2019-03-31</td>\n",
       "      <td>82.361442</td>\n",
       "    </tr>\n",
       "    <tr>\n",
       "      <td>2019-04-30</td>\n",
       "      <td>83.186623</td>\n",
       "    </tr>\n",
       "    <tr>\n",
       "      <td>2019-05-31</td>\n",
       "      <td>84.072951</td>\n",
       "    </tr>\n",
       "    <tr>\n",
       "      <td>2019-06-30</td>\n",
       "      <td>85.018586</td>\n",
       "    </tr>\n",
       "  </tbody>\n",
       "</table>\n",
       "</div>"
      ],
      "text/plain": [
       "            forecast_price\n",
       "date                      \n",
       "2019-01-31       80.093759\n",
       "2019-02-28       81.518371\n",
       "2019-03-31       82.361442\n",
       "2019-04-30       83.186623\n",
       "2019-05-31       84.072951\n",
       "2019-06-30       85.018586"
      ]
     },
     "execution_count": 34,
     "metadata": {},
     "output_type": "execute_result"
    }
   ],
   "source": [
    "forecast_data"
   ]
  },
  {
   "cell_type": "code",
   "execution_count": 35,
   "metadata": {},
   "outputs": [
    {
     "data": {
      "text/plain": [
       "date\n",
       "2019-01-31     69.2\n",
       "2019-02-28     76.2\n",
       "2019-03-31     88.2\n",
       "2019-04-30     86.5\n",
       "2019-05-31     93.7\n",
       "2019-06-30    100.2\n",
       "Name: price, dtype: float64"
      ]
     },
     "execution_count": 35,
     "metadata": {},
     "output_type": "execute_result"
    }
   ],
   "source": [
    "data[347:]['price'] #actual price"
   ]
  },
  {
   "cell_type": "code",
   "execution_count": 36,
   "metadata": {},
   "outputs": [
    {
     "name": "stdout",
     "output_type": "stream",
     "text": [
      "{'mape': 0.09766255831928576, 'me': -2.9580447256565088, 'mae': 8.362088221311568, 'mpe': -0.021922836844036408}\n"
     ]
    },
    {
     "data": {
      "text/html": [
       "<div>\n",
       "<style scoped>\n",
       "    .dataframe tbody tr th:only-of-type {\n",
       "        vertical-align: middle;\n",
       "    }\n",
       "\n",
       "    .dataframe tbody tr th {\n",
       "        vertical-align: top;\n",
       "    }\n",
       "\n",
       "    .dataframe thead th {\n",
       "        text-align: right;\n",
       "    }\n",
       "</style>\n",
       "<table border=\"1\" class=\"dataframe\">\n",
       "  <thead>\n",
       "    <tr style=\"text-align: right;\">\n",
       "      <th></th>\n",
       "      <th>forecast_price</th>\n",
       "      <th>actual</th>\n",
       "    </tr>\n",
       "    <tr>\n",
       "      <th>date</th>\n",
       "      <th></th>\n",
       "      <th></th>\n",
       "    </tr>\n",
       "  </thead>\n",
       "  <tbody>\n",
       "    <tr>\n",
       "      <td>2019-01-31</td>\n",
       "      <td>80.093759</td>\n",
       "      <td>69.2</td>\n",
       "    </tr>\n",
       "    <tr>\n",
       "      <td>2019-02-28</td>\n",
       "      <td>81.518371</td>\n",
       "      <td>76.2</td>\n",
       "    </tr>\n",
       "    <tr>\n",
       "      <td>2019-03-31</td>\n",
       "      <td>82.361442</td>\n",
       "      <td>88.2</td>\n",
       "    </tr>\n",
       "    <tr>\n",
       "      <td>2019-04-30</td>\n",
       "      <td>83.186623</td>\n",
       "      <td>86.5</td>\n",
       "    </tr>\n",
       "    <tr>\n",
       "      <td>2019-05-31</td>\n",
       "      <td>84.072951</td>\n",
       "      <td>93.7</td>\n",
       "    </tr>\n",
       "    <tr>\n",
       "      <td>2019-06-30</td>\n",
       "      <td>85.018586</td>\n",
       "      <td>100.2</td>\n",
       "    </tr>\n",
       "  </tbody>\n",
       "</table>\n",
       "</div>"
      ],
      "text/plain": [
       "            forecast_price  actual\n",
       "date                              \n",
       "2019-01-31       80.093759    69.2\n",
       "2019-02-28       81.518371    76.2\n",
       "2019-03-31       82.361442    88.2\n",
       "2019-04-30       83.186623    86.5\n",
       "2019-05-31       84.072951    93.7\n",
       "2019-06-30       85.018586   100.2"
      ]
     },
     "execution_count": 36,
     "metadata": {},
     "output_type": "execute_result"
    }
   ],
   "source": [
    "def forecast_accuracy(forecast, actual):\n",
    "    mape=np.mean(np.abs(forecast-actual)/np.abs(actual))# MAPE\n",
    "    me=np.mean(forecast-actual)# ME\n",
    "    mae=np.mean(np.abs(forecast-actual))# MAE\n",
    "    mpe=np.mean((forecast-actual)/actual)# MPE\n",
    "    return({'mape':mape,'me':me,'mae': mae,'mpe': mpe})\n",
    "print(forecast_accuracy(forecast_data.forecast_price.values, data[347:]['price'].values))\n",
    "forecast_data['actual']=data[347:]['price'].values\n",
    "forecast_data"
   ]
  },
  {
   "cell_type": "code",
   "execution_count": 37,
   "metadata": {},
   "outputs": [
    {
     "data": {
      "text/plain": [
       "<matplotlib.axes._subplots.AxesSubplot at 0x1c270ea1408>"
      ]
     },
     "execution_count": 37,
     "metadata": {},
     "output_type": "execute_result"
    },
    {
     "data": {
      "image/png": "[encoded data removed]",
      "text/plain": [
       "<Figure size 1080x360 with 1 Axes>"
      ]
     },
     "metadata": {
      "needs_background": "light"
     },
     "output_type": "display_data"
    }
   ],
   "source": [
    "forecast_data.plot(figsize=(15,5))"
   ]
  },
  {
   "cell_type": "code",
   "execution_count": 38,
   "metadata": {},
   "outputs": [
    {
     "data": {
      "text/plain": [
       "<matplotlib.axes._subplots.AxesSubplot at 0x1c2710909c8>"
      ]
     },
     "execution_count": 38,
     "metadata": {},
     "output_type": "execute_result"
    },
    {
     "data": {
      "image/png": "[encoded data removed]",
      "text/plain": [
       "<Figure size 1080x360 with 1 Axes>"
      ]
     },
     "metadata": {
      "needs_background": "light"
     },
     "output_type": "display_data"
    }
   ],
   "source": [
    "forecast_data['forecast_price'].plot(figsize=(15,5))"
   ]
  }
 ],
 "metadata": {
  "kernelspec": {
   "display_name": "Python 3",
   "language": "python",
   "name": "python3"
  },
  "language_info": {
   "codemirror_mode": {
    "name": "ipython",
    "version": 3
   },
   "file_extension": ".py",
   "mimetype": "text/x-python",
   "name": "python",
   "nbconvert_exporter": "python",
   "pygments_lexer": "ipython3",
   "version": "3.7.4"
  }
 },
 "nbformat": 4,
 "nbformat_minor": 2
}
