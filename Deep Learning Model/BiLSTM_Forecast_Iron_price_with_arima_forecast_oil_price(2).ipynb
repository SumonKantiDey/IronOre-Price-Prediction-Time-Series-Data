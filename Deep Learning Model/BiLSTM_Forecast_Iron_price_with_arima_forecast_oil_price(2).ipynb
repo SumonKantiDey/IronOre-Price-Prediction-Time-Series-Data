{
 "cells": [
  {
   "cell_type": "code",
   "execution_count": 2,
   "metadata": {},
   "outputs": [
    {
     "name": "stderr",
     "output_type": "stream",
     "text": [
      "Using TensorFlow backend.\n"
     ]
    }
   ],
   "source": [
    "import numpy as np\n",
    "import matplotlib.pyplot as plt\n",
    "%matplotlib inline\n",
    "from sklearn.linear_model import LinearRegression \n",
    "import matplotlib.pylab as pylab\n",
    "import math,time\n",
    "import sklearn\n",
    "import sklearn.preprocessing\n",
    "import datetime\n",
    "import os\n",
    "import matplotlib.pyplot as plt\n",
    "import keras\n",
    "from keras.models import Sequential\n",
    "from keras.layers import LSTM\n",
    "from keras.layers.core import Dense, Dropout, Activation,Flatten\n",
    "from sklearn.preprocessing import MinMaxScaler\n",
    "from statsmodels.graphics.tsaplots import plot_pacf, plot_acf\n",
    "from keras.layers import Bidirectional\n",
    "test_set_size_percentage = 20 \n",
    "import pandas as pd\n",
    "from pandas import read_csv\n",
    "from sklearn.metrics import r2_score,mean_squared_error "
   ]
  },
  {
   "cell_type": "code",
   "execution_count": 3,
   "metadata": {},
   "outputs": [
    {
     "data": {
      "text/html": [
       "<div>\n",
       "<style scoped>\n",
       "    .dataframe tbody tr th:only-of-type {\n",
       "        vertical-align: middle;\n",
       "    }\n",
       "\n",
       "    .dataframe tbody tr th {\n",
       "        vertical-align: top;\n",
       "    }\n",
       "\n",
       "    .dataframe thead th {\n",
       "        text-align: right;\n",
       "    }\n",
       "</style>\n",
       "<table border=\"1\" class=\"dataframe\">\n",
       "  <thead>\n",
       "    <tr style=\"text-align: right;\">\n",
       "      <th></th>\n",
       "      <th>ironprice</th>\n",
       "      <th>oildata</th>\n",
       "    </tr>\n",
       "    <tr>\n",
       "      <th>date</th>\n",
       "      <th></th>\n",
       "      <th></th>\n",
       "    </tr>\n",
       "  </thead>\n",
       "  <tbody>\n",
       "    <tr>\n",
       "      <td>2010-10-31</td>\n",
       "      <td>148.48</td>\n",
       "      <td>79.662</td>\n",
       "    </tr>\n",
       "    <tr>\n",
       "      <td>2010-11-30</td>\n",
       "      <td>160.55</td>\n",
       "      <td>79.662</td>\n",
       "    </tr>\n",
       "    <tr>\n",
       "      <td>2010-12-31</td>\n",
       "      <td>168.53</td>\n",
       "      <td>79.662</td>\n",
       "    </tr>\n",
       "    <tr>\n",
       "      <td>2011-01-31</td>\n",
       "      <td>179.63</td>\n",
       "      <td>79.662</td>\n",
       "    </tr>\n",
       "    <tr>\n",
       "      <td>2011-02-28</td>\n",
       "      <td>187.18</td>\n",
       "      <td>79.662</td>\n",
       "    </tr>\n",
       "  </tbody>\n",
       "</table>\n",
       "</div>"
      ],
      "text/plain": [
       "            ironprice  oildata\n",
       "date                          \n",
       "2010-10-31     148.48   79.662\n",
       "2010-11-30     160.55   79.662\n",
       "2010-12-31     168.53   79.662\n",
       "2011-01-31     179.63   79.662\n",
       "2011-02-28     187.18   79.662"
      ]
     },
     "execution_count": 3,
     "metadata": {},
     "output_type": "execute_result"
    }
   ],
   "source": [
    "data=pd.read_csv('dataset/iron_oilmonthly.csv',parse_dates=['date'])\n",
    "data=data.dropna()\n",
    "#df=data[['oildata','date']]\n",
    "data=data.set_index('date')\n",
    "data=data.dropna()\n",
    "data.head()"
   ]
  },
  {
   "cell_type": "code",
   "execution_count": 4,
   "metadata": {},
   "outputs": [],
   "source": [
    "data['oildata_lag']=data['oildata'].shift(1)\n",
    "#data=data.set_index('date')\n",
    "data['rolling_mean_price']=data['oildata_lag'].rolling(2, min_periods=1).sum()\n",
    "data=data.dropna()"
   ]
  },
  {
   "cell_type": "code",
   "execution_count": 5,
   "metadata": {},
   "outputs": [],
   "source": [
    "# function for min-max normalization of Iron Ore \n",
    "min_max_scaler = sklearn.preprocessing.MinMaxScaler()\n",
    "def normalize_data(df):\n",
    "    df['oildata'] = min_max_scaler.fit_transform(df.oildata.values.reshape(-1,1))\n",
    "    df['oildata_lag'] = min_max_scaler.fit_transform(df.oildata_lag.values.reshape(-1,1))\n",
    "    df['ironprice'] = min_max_scaler.fit_transform(df.ironprice.values.reshape(-1,1))\n",
    "    df['rolling_mean_price'] = min_max_scaler.fit_transform(df.rolling_mean_price.values.reshape(-1,1))\n",
    "    return df"
   ]
  },
  {
   "cell_type": "code",
   "execution_count": 6,
   "metadata": {},
   "outputs": [
    {
     "data": {
      "text/html": [
       "<div>\n",
       "<style scoped>\n",
       "    .dataframe tbody tr th:only-of-type {\n",
       "        vertical-align: middle;\n",
       "    }\n",
       "\n",
       "    .dataframe tbody tr th {\n",
       "        vertical-align: top;\n",
       "    }\n",
       "\n",
       "    .dataframe thead th {\n",
       "        text-align: right;\n",
       "    }\n",
       "</style>\n",
       "<table border=\"1\" class=\"dataframe\">\n",
       "  <thead>\n",
       "    <tr style=\"text-align: right;\">\n",
       "      <th></th>\n",
       "      <th>ironprice</th>\n",
       "      <th>oildata</th>\n",
       "      <th>oildata_lag</th>\n",
       "      <th>rolling_mean_price</th>\n",
       "    </tr>\n",
       "    <tr>\n",
       "      <th>date</th>\n",
       "      <th></th>\n",
       "      <th></th>\n",
       "      <th></th>\n",
       "      <th></th>\n",
       "    </tr>\n",
       "  </thead>\n",
       "  <tbody>\n",
       "    <tr>\n",
       "      <td>2010-11-30</td>\n",
       "      <td>0.817977</td>\n",
       "      <td>0.551036</td>\n",
       "      <td>0.551036</td>\n",
       "      <td>0.131441</td>\n",
       "    </tr>\n",
       "    <tr>\n",
       "      <td>2010-12-31</td>\n",
       "      <td>0.872522</td>\n",
       "      <td>0.551036</td>\n",
       "      <td>0.551036</td>\n",
       "      <td>0.559881</td>\n",
       "    </tr>\n",
       "    <tr>\n",
       "      <td>2011-01-31</td>\n",
       "      <td>0.948394</td>\n",
       "      <td>0.551036</td>\n",
       "      <td>0.551036</td>\n",
       "      <td>0.559881</td>\n",
       "    </tr>\n",
       "    <tr>\n",
       "      <td>2011-02-28</td>\n",
       "      <td>1.000000</td>\n",
       "      <td>0.551036</td>\n",
       "      <td>0.551036</td>\n",
       "      <td>0.559881</td>\n",
       "    </tr>\n",
       "    <tr>\n",
       "      <td>2011-03-31</td>\n",
       "      <td>0.878195</td>\n",
       "      <td>0.551036</td>\n",
       "      <td>0.551036</td>\n",
       "      <td>0.559881</td>\n",
       "    </tr>\n",
       "  </tbody>\n",
       "</table>\n",
       "</div>"
      ],
      "text/plain": [
       "            ironprice   oildata  oildata_lag  rolling_mean_price\n",
       "date                                                            \n",
       "2010-11-30   0.817977  0.551036     0.551036            0.131441\n",
       "2010-12-31   0.872522  0.551036     0.551036            0.559881\n",
       "2011-01-31   0.948394  0.551036     0.551036            0.559881\n",
       "2011-02-28   1.000000  0.551036     0.551036            0.559881\n",
       "2011-03-31   0.878195  0.551036     0.551036            0.559881"
      ]
     },
     "execution_count": 6,
     "metadata": {},
     "output_type": "execute_result"
    }
   ],
   "source": [
    "# normalize stock\n",
    "df = data.copy()\n",
    "df = normalize_data(df)\n",
    "df.head()"
   ]
  },
  {
   "cell_type": "code",
   "execution_count": 7,
   "metadata": {},
   "outputs": [],
   "source": [
    "train,test=df[:-5],df[-5:]"
   ]
  },
  {
   "cell_type": "code",
   "execution_count": 8,
   "metadata": {},
   "outputs": [
    {
     "data": {
      "text/html": [
       "<div>\n",
       "<style scoped>\n",
       "    .dataframe tbody tr th:only-of-type {\n",
       "        vertical-align: middle;\n",
       "    }\n",
       "\n",
       "    .dataframe tbody tr th {\n",
       "        vertical-align: top;\n",
       "    }\n",
       "\n",
       "    .dataframe thead th {\n",
       "        text-align: right;\n",
       "    }\n",
       "</style>\n",
       "<table border=\"1\" class=\"dataframe\">\n",
       "  <thead>\n",
       "    <tr style=\"text-align: right;\">\n",
       "      <th></th>\n",
       "      <th>ironprice</th>\n",
       "      <th>oildata</th>\n",
       "      <th>oildata_lag</th>\n",
       "      <th>rolling_mean_price</th>\n",
       "    </tr>\n",
       "    <tr>\n",
       "      <th>date</th>\n",
       "      <th></th>\n",
       "      <th></th>\n",
       "      <th></th>\n",
       "      <th></th>\n",
       "    </tr>\n",
       "  </thead>\n",
       "  <tbody>\n",
       "    <tr>\n",
       "      <td>2018-08-31</td>\n",
       "      <td>0.185509</td>\n",
       "      <td>0.383269</td>\n",
       "      <td>0.418256</td>\n",
       "      <td>0.396333</td>\n",
       "    </tr>\n",
       "    <tr>\n",
       "      <td>2018-09-30</td>\n",
       "      <td>0.190841</td>\n",
       "      <td>0.386173</td>\n",
       "      <td>0.383269</td>\n",
       "      <td>0.403946</td>\n",
       "    </tr>\n",
       "    <tr>\n",
       "      <td>2018-10-31</td>\n",
       "      <td>0.212850</td>\n",
       "      <td>0.434576</td>\n",
       "      <td>0.386173</td>\n",
       "      <td>0.387300</td>\n",
       "    </tr>\n",
       "    <tr>\n",
       "      <td>2018-11-30</td>\n",
       "      <td>0.214764</td>\n",
       "      <td>0.493516</td>\n",
       "      <td>0.434576</td>\n",
       "      <td>0.413920</td>\n",
       "    </tr>\n",
       "    <tr>\n",
       "      <td>2018-12-31</td>\n",
       "      <td>0.191524</td>\n",
       "      <td>0.484264</td>\n",
       "      <td>0.493516</td>\n",
       "      <td>0.469614</td>\n",
       "    </tr>\n",
       "  </tbody>\n",
       "</table>\n",
       "</div>"
      ],
      "text/plain": [
       "            ironprice   oildata  oildata_lag  rolling_mean_price\n",
       "date                                                            \n",
       "2018-08-31   0.185509  0.383269     0.418256            0.396333\n",
       "2018-09-30   0.190841  0.386173     0.383269            0.403946\n",
       "2018-10-31   0.212850  0.434576     0.386173            0.387300\n",
       "2018-11-30   0.214764  0.493516     0.434576            0.413920\n",
       "2018-12-31   0.191524  0.484264     0.493516            0.469614"
      ]
     },
     "execution_count": 8,
     "metadata": {},
     "output_type": "execute_result"
    }
   ],
   "source": [
    "train.tail()"
   ]
  },
  {
   "cell_type": "code",
   "execution_count": 9,
   "metadata": {},
   "outputs": [
    {
     "data": {
      "text/html": [
       "<div>\n",
       "<style scoped>\n",
       "    .dataframe tbody tr th:only-of-type {\n",
       "        vertical-align: middle;\n",
       "    }\n",
       "\n",
       "    .dataframe tbody tr th {\n",
       "        vertical-align: top;\n",
       "    }\n",
       "\n",
       "    .dataframe thead th {\n",
       "        text-align: right;\n",
       "    }\n",
       "</style>\n",
       "<table border=\"1\" class=\"dataframe\">\n",
       "  <thead>\n",
       "    <tr style=\"text-align: right;\">\n",
       "      <th></th>\n",
       "      <th>ironprice</th>\n",
       "      <th>oildata</th>\n",
       "      <th>oildata_lag</th>\n",
       "      <th>rolling_mean_price</th>\n",
       "    </tr>\n",
       "    <tr>\n",
       "      <th>date</th>\n",
       "      <th></th>\n",
       "      <th></th>\n",
       "      <th></th>\n",
       "      <th></th>\n",
       "    </tr>\n",
       "  </thead>\n",
       "  <tbody>\n",
       "    <tr>\n",
       "      <td>2019-01-31</td>\n",
       "      <td>0.193575</td>\n",
       "      <td>0.484739</td>\n",
       "      <td>0.484264</td>\n",
       "      <td>0.495393</td>\n",
       "    </tr>\n",
       "    <tr>\n",
       "      <td>2019-02-28</td>\n",
       "      <td>0.241422</td>\n",
       "      <td>0.474280</td>\n",
       "      <td>0.484739</td>\n",
       "      <td>0.490840</td>\n",
       "    </tr>\n",
       "    <tr>\n",
       "      <td>2019-03-31</td>\n",
       "      <td>0.323445</td>\n",
       "      <td>0.525297</td>\n",
       "      <td>0.474280</td>\n",
       "      <td>0.485660</td>\n",
       "    </tr>\n",
       "    <tr>\n",
       "      <td>2019-04-30</td>\n",
       "      <td>0.311825</td>\n",
       "      <td>0.548185</td>\n",
       "      <td>0.525297</td>\n",
       "      <td>0.506703</td>\n",
       "    </tr>\n",
       "    <tr>\n",
       "      <td>2019-05-31</td>\n",
       "      <td>0.361039</td>\n",
       "      <td>0.402495</td>\n",
       "      <td>0.548185</td>\n",
       "      <td>0.545047</td>\n",
       "    </tr>\n",
       "  </tbody>\n",
       "</table>\n",
       "</div>"
      ],
      "text/plain": [
       "            ironprice   oildata  oildata_lag  rolling_mean_price\n",
       "date                                                            \n",
       "2019-01-31   0.193575  0.484739     0.484264            0.495393\n",
       "2019-02-28   0.241422  0.474280     0.484739            0.490840\n",
       "2019-03-31   0.323445  0.525297     0.474280            0.485660\n",
       "2019-04-30   0.311825  0.548185     0.525297            0.506703\n",
       "2019-05-31   0.361039  0.402495     0.548185            0.545047"
      ]
     },
     "execution_count": 9,
     "metadata": {},
     "output_type": "execute_result"
    }
   ],
   "source": [
    "test.head()"
   ]
  },
  {
   "cell_type": "code",
   "execution_count": 10,
   "metadata": {},
   "outputs": [
    {
     "name": "stdout",
     "output_type": "stream",
     "text": [
      "98 5\n"
     ]
    }
   ],
   "source": [
    "print(len(train), len(test))"
   ]
  },
  {
   "cell_type": "code",
   "execution_count": 11,
   "metadata": {},
   "outputs": [
    {
     "name": "stderr",
     "output_type": "stream",
     "text": [
      "C:\\Users\\sumon\\Anaconda3\\envs\\tensorflow\\lib\\site-packages\\ipykernel_launcher.py:1: FutureWarning: Method .as_matrix will be removed in a future version. Use .values instead.\n",
      "  \"\"\"Entry point for launching an IPython kernel.\n",
      "C:\\Users\\sumon\\Anaconda3\\envs\\tensorflow\\lib\\site-packages\\ipykernel_launcher.py:2: FutureWarning: Method .as_matrix will be removed in a future version. Use .values instead.\n",
      "  \n"
     ]
    }
   ],
   "source": [
    "train_data_raw = train.as_matrix()\n",
    "test_data_raw = test.as_matrix()"
   ]
  },
  {
   "cell_type": "code",
   "execution_count": 12,
   "metadata": {},
   "outputs": [
    {
     "name": "stdout",
     "output_type": "stream",
     "text": [
      "train data shape =  (98, 4)\n",
      "test data shape =  (5, 4)\n"
     ]
    }
   ],
   "source": [
    "print(\"train data shape = \", train_data_raw.shape)\n",
    "print(\"test data shape = \",test_data_raw.shape)"
   ]
  },
  {
   "cell_type": "code",
   "execution_count": 13,
   "metadata": {},
   "outputs": [],
   "source": [
    "x_train = train_data_raw[:,1:] #without Iron price column of train\n",
    "y_train = train_data_raw[:,0] #Only Iron price column of train\n",
    "\n",
    "x_test = test_data_raw[:,1:] #without Iron price column of test\n",
    "y_test = test_data_raw[:,0]  #Only Iron price column of test"
   ]
  },
  {
   "cell_type": "code",
   "execution_count": 14,
   "metadata": {},
   "outputs": [
    {
     "data": {
      "text/plain": [
       "array([[0.55103581, 0.55103581, 0.13144078],\n",
       "       [0.55103581, 0.55103581, 0.55988062],\n",
       "       [0.55103581, 0.55103581, 0.55988062],\n",
       "       [0.55103581, 0.55103581, 0.55988062],\n",
       "       [0.55103581, 0.55103581, 0.55988062]])"
      ]
     },
     "execution_count": 14,
     "metadata": {},
     "output_type": "execute_result"
    }
   ],
   "source": [
    "x_train[0:5]"
   ]
  },
  {
   "cell_type": "code",
   "execution_count": 15,
   "metadata": {},
   "outputs": [
    {
     "data": {
      "text/plain": [
       "array([0.81797676, 0.87252221, 0.94839371, 1.        , 0.87819549])"
      ]
     },
     "execution_count": 15,
     "metadata": {},
     "output_type": "execute_result"
    }
   ],
   "source": [
    "y_train[0:5]"
   ]
  },
  {
   "cell_type": "code",
   "execution_count": 16,
   "metadata": {},
   "outputs": [
    {
     "data": {
      "text/plain": [
       "array([[0.81797676, 0.55103581, 0.55103581, 0.13144078],\n",
       "       [0.87252221, 0.55103581, 0.55103581, 0.55988062],\n",
       "       [0.94839371, 0.55103581, 0.55103581, 0.55988062],\n",
       "       [1.        , 0.55103581, 0.55103581, 0.55988062],\n",
       "       [0.87819549, 0.55103581, 0.55103581, 0.55988062]])"
      ]
     },
     "execution_count": 16,
     "metadata": {},
     "output_type": "execute_result"
    }
   ],
   "source": [
    "train_data_raw[0:5]"
   ]
  },
  {
   "cell_type": "code",
   "execution_count": 17,
   "metadata": {},
   "outputs": [],
   "source": [
    "# def denormalize(df, normalized_value): \n",
    "#     df = df['Price'].values.reshape(-1,1)\n",
    "#     print(df[:5])\n",
    "#     normalized_value = normalized_value.reshape(-1,1)\n",
    "#     #return df.shape, p.shape\n",
    "#     print(normalized_value[0:5])\n",
    "#     min_max_scaler = sklearn.preprocessing.MinMaxScaler()\n",
    "#     a = min_max_scaler.fit_transform(df)\n",
    "#     print(a[:5])\n",
    "#     new = min_max_scaler.inverse_transform(normalized_value)\n",
    "#     print(new[:10])\n",
    "#     return new\n",
    "\n",
    "# #newp = denormalize(test_value_store, pred_price)\n",
    "# newy_test = denormalize(data, y_test)"
   ]
  },
  {
   "cell_type": "code",
   "execution_count": 18,
   "metadata": {},
   "outputs": [
    {
     "name": "stdout",
     "output_type": "stream",
     "text": [
      "x_train.shape =  (98, 3)\n",
      "y_train.shape =  (98,)\n",
      "x_test.shape =  (5, 3)\n",
      "y_test.shape =  (5,)\n"
     ]
    }
   ],
   "source": [
    "print('x_train.shape = ',x_train.shape)\n",
    "print('y_train.shape = ', y_train.shape)\n",
    "print('x_test.shape = ', x_test.shape)\n",
    "print('y_test.shape = ',y_test.shape)"
   ]
  },
  {
   "cell_type": "code",
   "execution_count": 19,
   "metadata": {},
   "outputs": [
    {
     "data": {
      "text/plain": [
       "(5, 1, 3)"
      ]
     },
     "execution_count": 19,
     "metadata": {},
     "output_type": "execute_result"
    }
   ],
   "source": [
    "#Reshape data for (Sample,Timestep,Features) \n",
    "x_train = x_train.reshape((x_train.shape[0],1,x_train.shape[1]))\n",
    "x_test = x_test.reshape((x_test.shape[0],1,x_test.shape[1]))\n",
    "#x_forecast = x_forecast.reshape((x_forecast.shape[0],1,x_test.shape[1]))\n",
    "x_test.shape"
   ]
  },
  {
   "cell_type": "code",
   "execution_count": 20,
   "metadata": {},
   "outputs": [],
   "source": [
    "(train_dim, train_timestep , train_feat) = x_train.shape\n",
    "(test_dim, test_timestep , test_feat) = x_test.shape"
   ]
  },
  {
   "cell_type": "code",
   "execution_count": 21,
   "metadata": {},
   "outputs": [
    {
     "name": "stdout",
     "output_type": "stream",
     "text": [
      "Build Model\n",
      "Compilation Time :  0.018949270248413086\n"
     ]
    }
   ],
   "source": [
    "from keras import optimizers\n",
    "print(\"Build Model\")\n",
    "\"\"\"\n",
    "model = Sequential()\n",
    "\n",
    "model.add(LSTM(16, input_shape=(train_timestep,train_feat), return_sequences=True))\n",
    "#model.add(Dropout(0.3))\n",
    "\n",
    "model.add(LSTM(16, input_shape=(train_timestep,train_feat), return_sequences=False))\n",
    "#model.add(Dropout(0.3))\n",
    "\n",
    "model.add(Dense(8,kernel_initializer=\"uniform\",activation='relu'))        \n",
    "model.add(Dense(1,kernel_initializer=\"uniform\",activation='linear'))\n",
    "\n",
    "# adam = keras.optimizers.Adam(decay=0.2)\n",
    "\n",
    "start = time.time()\n",
    "model.compile(loss='mse',optimizer='adam', metrics=['accuracy'])\n",
    "print(\"Compilation Time : \", time.time() - start)\n",
    "\"\"\"\n",
    "model = Sequential()\n",
    "\n",
    "model.add(Bidirectional(LSTM(16, input_shape=(train_timestep,train_feat), return_sequences=True)))\n",
    "#model.add(Dropout(0.3))\n",
    "\n",
    "model.add(Dense(8,kernel_initializer=\"uniform\",activation='relu'))  \n",
    "model.add(Flatten())\n",
    "model.add(Dense(1,kernel_initializer=\"uniform\",activation='linear'))\n",
    "\n",
    "#adam = keras.optimizers.Adam(decay=0.2)\n",
    "#sgd = optimizers.SGD(lr=0.0001, decay=1e-6, momentum=0.9, nesterov=True)\n",
    "start = time.time()\n",
    "model.compile(loss='mse',optimizer='adam', metrics=['accuracy'])\n",
    "#model.compile(loss='mse',metrics=['accuracy'],optimizer=adam)\n",
    "print(\"Compilation Time : \", time.time() - start)\n"
   ]
  },
  {
   "cell_type": "code",
   "execution_count": 22,
   "metadata": {},
   "outputs": [
    {
     "name": "stdout",
     "output_type": "stream",
     "text": [
      "WARNING:tensorflow:From C:\\Users\\sumon\\Anaconda3\\envs\\tensorflow\\lib\\site-packages\\keras\\backend\\tensorflow_backend.py:422: The name tf.global_variables is deprecated. Please use tf.compat.v1.global_variables instead.\n",
      "\n",
      "Epoch 1/20\n",
      "98/98 [==============================] - 1s 7ms/step - loss: 0.1743 - accuracy: 0.0102\n",
      "Epoch 2/20\n",
      "98/98 [==============================] - 0s 1ms/step - loss: 0.0575 - accuracy: 0.0102\n",
      "Epoch 3/20\n",
      "98/98 [==============================] - 0s 1ms/step - loss: 0.0551 - accuracy: 0.0102\n",
      "Epoch 4/20\n",
      "98/98 [==============================] - 0s 2ms/step - loss: 0.0552 - accuracy: 0.0102\n",
      "Epoch 5/20\n",
      "98/98 [==============================] - 0s 1ms/step - loss: 0.0536 - accuracy: 0.0102\n",
      "Epoch 6/20\n",
      "98/98 [==============================] - 0s 2ms/step - loss: 0.0528 - accuracy: 0.0102\n",
      "Epoch 7/20\n",
      "98/98 [==============================] - 0s 2ms/step - loss: 0.0519 - accuracy: 0.0102\n",
      "Epoch 8/20\n",
      "98/98 [==============================] - 0s 2ms/step - loss: 0.0520 - accuracy: 0.0102\n",
      "Epoch 9/20\n",
      "98/98 [==============================] - 0s 1ms/step - loss: 0.0518 - accuracy: 0.0102\n",
      "Epoch 10/20\n",
      "98/98 [==============================] - 0s 2ms/step - loss: 0.0531 - accuracy: 0.0102\n",
      "Epoch 11/20\n",
      "98/98 [==============================] - 0s 1ms/step - loss: 0.0516 - accuracy: 0.0102\n",
      "Epoch 12/20\n",
      "98/98 [==============================] - 0s 2ms/step - loss: 0.0510 - accuracy: 0.0102\n",
      "Epoch 13/20\n",
      "98/98 [==============================] - 0s 2ms/step - loss: 0.0517 - accuracy: 0.0102\n",
      "Epoch 14/20\n",
      "98/98 [==============================] - 0s 1ms/step - loss: 0.0511 - accuracy: 0.0102\n",
      "Epoch 15/20\n",
      "98/98 [==============================] - 0s 2ms/step - loss: 0.0500 - accuracy: 0.0102\n",
      "Epoch 16/20\n",
      "98/98 [==============================] - 0s 2ms/step - loss: 0.0506 - accuracy: 0.0102\n",
      "Epoch 17/20\n",
      "98/98 [==============================] - 0s 2ms/step - loss: 0.0509 - accuracy: 0.0102\n",
      "Epoch 18/20\n",
      "98/98 [==============================] - 0s 2ms/step - loss: 0.0509 - accuracy: 0.0102\n",
      "Epoch 19/20\n",
      "98/98 [==============================] - 0s 1ms/step - loss: 0.0507 - accuracy: 0.0102\n",
      "Epoch 20/20\n",
      "98/98 [==============================] - 0s 1ms/step - loss: 0.0507 - accuracy: 0.0102\n"
     ]
    }
   ],
   "source": [
    "#Fit model with history to check for overfitting\n",
    "history = model.fit(x_train,y_train,batch_size = 1,epochs=20,shuffle=True)"
   ]
  },
  {
   "cell_type": "code",
   "execution_count": 23,
   "metadata": {},
   "outputs": [
    {
     "name": "stdout",
     "output_type": "stream",
     "text": [
      "Model: \"sequential_1\"\n",
      "_________________________________________________________________\n",
      "Layer (type)                 Output Shape              Param #   \n",
      "=================================================================\n",
      "bidirectional_1 (Bidirection (None, 1, 32)             2560      \n",
      "_________________________________________________________________\n",
      "dense_1 (Dense)              (None, 1, 8)              264       \n",
      "_________________________________________________________________\n",
      "flatten_1 (Flatten)          (None, 8)                 0         \n",
      "_________________________________________________________________\n",
      "dense_2 (Dense)              (None, 1)                 9         \n",
      "=================================================================\n",
      "Total params: 2,833\n",
      "Trainable params: 2,833\n",
      "Non-trainable params: 0\n",
      "_________________________________________________________________\n"
     ]
    }
   ],
   "source": [
    "model.summary()"
   ]
  },
  {
   "cell_type": "code",
   "execution_count": 24,
   "metadata": {},
   "outputs": [
    {
     "name": "stdout",
     "output_type": "stream",
     "text": [
      "Saved model to disk\n"
     ]
    }
   ],
   "source": [
    "# serialize model to JSON\n",
    "model_json = model.to_json()\n",
    "with open(\"model.json\", \"w\") as json_file:\n",
    "    json_file.write(model_json)\n",
    "# serialize weights to HDF5\n",
    "model.save_weights(\"model.h5\")\n",
    "print(\"Saved model to disk\")"
   ]
  },
  {
   "cell_type": "code",
   "execution_count": 25,
   "metadata": {},
   "outputs": [
    {
     "name": "stdout",
     "output_type": "stream",
     "text": [
      "Loaded model from disk\n"
     ]
    }
   ],
   "source": [
    "# load json and create model\n",
    "from keras.models import model_from_json\n",
    "json_file = open('model.json', 'r')\n",
    "loaded_model_json = json_file.read()\n",
    "json_file.close()\n",
    "model = model_from_json(loaded_model_json)\n",
    "# load weights into new model\n",
    "model.load_weights(\"model.h5\")\n",
    "print(\"Loaded model from disk\")\n",
    " \n",
    "# evaluate loaded model on test data\n",
    "model.compile(loss='mse',optimizer='adam', metrics=['accuracy'])"
   ]
  },
  {
   "cell_type": "code",
   "execution_count": 26,
   "metadata": {},
   "outputs": [
    {
     "name": "stdout",
     "output_type": "stream",
     "text": [
      "5/5 [==============================] - 0s 27ms/step\n"
     ]
    }
   ],
   "source": [
    "pred_price = model.predict(x_test,batch_size=1,verbose=1)"
   ]
  },
  {
   "cell_type": "code",
   "execution_count": 27,
   "metadata": {},
   "outputs": [
    {
     "data": {
      "text/plain": [
       "array([[0.35505736],\n",
       "       [0.35197443],\n",
       "       [0.36154446],\n",
       "       [0.3797058 ],\n",
       "       [0.35433984]], dtype=float32)"
      ]
     },
     "execution_count": 27,
     "metadata": {},
     "output_type": "execute_result"
    }
   ],
   "source": [
    "pred_price"
   ]
  },
  {
   "cell_type": "code",
   "execution_count": 28,
   "metadata": {},
   "outputs": [],
   "source": [
    "def denormalize(df, normalized_value): \n",
    "    df = df['ironprice'].values.reshape(-1,1)\n",
    "    normalized_value = normalized_value.reshape(-1,1)\n",
    "    #return df.shape, p.shape\n",
    "    min_max_scaler = sklearn.preprocessing.MinMaxScaler()\n",
    "    a = min_max_scaler.fit_transform(df)\n",
    "    new = min_max_scaler.inverse_transform(normalized_value)\n",
    "    return new\n",
    "\n",
    "newp = denormalize(data, pred_price)\n",
    "newy_test = denormalize(data, y_test)"
   ]
  },
  {
   "cell_type": "code",
   "execution_count": 29,
   "metadata": {},
   "outputs": [
    {
     "data": {
      "text/plain": [
       "array([[92.8249  ],\n",
       "       [92.37386 ],\n",
       "       [93.77396 ],\n",
       "       [96.43096 ],\n",
       "       [92.719925]], dtype=float32)"
      ]
     },
     "execution_count": 29,
     "metadata": {},
     "output_type": "execute_result"
    }
   ],
   "source": [
    "newp"
   ]
  },
  {
   "cell_type": "code",
   "execution_count": 30,
   "metadata": {},
   "outputs": [
    {
     "data": {
      "text/plain": [
       "array([[69.2],\n",
       "       [76.2],\n",
       "       [88.2],\n",
       "       [86.5],\n",
       "       [93.7]])"
      ]
     },
     "execution_count": 30,
     "metadata": {},
     "output_type": "execute_result"
    }
   ],
   "source": [
    "newy_test"
   ]
  },
  {
   "cell_type": "code",
   "execution_count": 31,
   "metadata": {},
   "outputs": [],
   "source": [
    "pred_oil_pirce = pd.concat([pd.DataFrame(newp),pd.DataFrame(newy_test)], axis=1) \n",
    "pred_oil_pirce.columns = ['Pred_Oil_Price','Actual_Oil_Price']\n",
    "pred_oil_pirce['date'] = test.index\n",
    "pred_oil_pirce = pred_oil_pirce.set_index('date')"
   ]
  },
  {
   "cell_type": "code",
   "execution_count": 32,
   "metadata": {},
   "outputs": [
    {
     "data": {
      "text/html": [
       "<div>\n",
       "<style scoped>\n",
       "    .dataframe tbody tr th:only-of-type {\n",
       "        vertical-align: middle;\n",
       "    }\n",
       "\n",
       "    .dataframe tbody tr th {\n",
       "        vertical-align: top;\n",
       "    }\n",
       "\n",
       "    .dataframe thead th {\n",
       "        text-align: right;\n",
       "    }\n",
       "</style>\n",
       "<table border=\"1\" class=\"dataframe\">\n",
       "  <thead>\n",
       "    <tr style=\"text-align: right;\">\n",
       "      <th></th>\n",
       "      <th>Pred_Oil_Price</th>\n",
       "      <th>Actual_Oil_Price</th>\n",
       "    </tr>\n",
       "    <tr>\n",
       "      <th>date</th>\n",
       "      <th></th>\n",
       "      <th></th>\n",
       "    </tr>\n",
       "  </thead>\n",
       "  <tbody>\n",
       "    <tr>\n",
       "      <td>2019-01-31</td>\n",
       "      <td>92.824898</td>\n",
       "      <td>69.2</td>\n",
       "    </tr>\n",
       "    <tr>\n",
       "      <td>2019-02-28</td>\n",
       "      <td>92.373863</td>\n",
       "      <td>76.2</td>\n",
       "    </tr>\n",
       "    <tr>\n",
       "      <td>2019-03-31</td>\n",
       "      <td>93.773956</td>\n",
       "      <td>88.2</td>\n",
       "    </tr>\n",
       "    <tr>\n",
       "      <td>2019-04-30</td>\n",
       "      <td>96.430962</td>\n",
       "      <td>86.5</td>\n",
       "    </tr>\n",
       "    <tr>\n",
       "      <td>2019-05-31</td>\n",
       "      <td>92.719925</td>\n",
       "      <td>93.7</td>\n",
       "    </tr>\n",
       "  </tbody>\n",
       "</table>\n",
       "</div>"
      ],
      "text/plain": [
       "            Pred_Oil_Price  Actual_Oil_Price\n",
       "date                                        \n",
       "2019-01-31       92.824898              69.2\n",
       "2019-02-28       92.373863              76.2\n",
       "2019-03-31       93.773956              88.2\n",
       "2019-04-30       96.430962              86.5\n",
       "2019-05-31       92.719925              93.7"
      ]
     },
     "execution_count": 32,
     "metadata": {},
     "output_type": "execute_result"
    }
   ],
   "source": [
    "pred_oil_pirce"
   ]
  },
  {
   "cell_type": "code",
   "execution_count": 33,
   "metadata": {},
   "outputs": [
    {
     "name": "stdout",
     "output_type": "stream",
     "text": [
      "Train Score: 0.04964 MSE (0.22 RMSE)\n",
      "Test Score: 0.00888 MSE (0.09 RMSE)\n"
     ]
    },
    {
     "data": {
      "text/plain": [
       "(0.049635006913117, 0.008880549110472202)"
      ]
     },
     "execution_count": 33,
     "metadata": {},
     "output_type": "execute_result"
    }
   ],
   "source": [
    "def model_score(model, x_train, y_train, x_test, y_test):\n",
    "    trainScore = model.evaluate(x_train, y_train, verbose=0)\n",
    "    print('Train Score: %.5f MSE (%.2f RMSE)' % (trainScore[0], math.sqrt(trainScore[0])))\n",
    "\n",
    "    testScore = model.evaluate(x_test, y_test, verbose=0)\n",
    "    print('Test Score: %.5f MSE (%.2f RMSE)' % (testScore[0], math.sqrt(testScore[0])))\n",
    "    return trainScore[0], testScore[0]\n",
    "\n",
    "\n",
    "model_score(model, x_train, y_train, x_test, y_test)"
   ]
  },
  {
   "cell_type": "code",
   "execution_count": 34,
   "metadata": {},
   "outputs": [
    {
     "name": "stdout",
     "output_type": "stream",
     "text": [
      "{'mape': 0.1484241960723261, 'me': 10.864720764160154, 'mae': 11.25675079345703, 'mpe': 0.1442403110211321}\n"
     ]
    }
   ],
   "source": [
    "def pred_accuracy(pred, actual):\n",
    "    mape=np.mean(np.abs(pred-actual)/np.abs(actual))# MAPE\n",
    "    me=np.mean(pred-actual)# ME\n",
    "    mae=np.mean(np.abs(pred-actual))# MAE\n",
    "    mpe=np.mean((pred-actual)/actual)# MPE\n",
    "    return({'mape':mape,'me':me,'mae': mae,'mpe': mpe})\n",
    "print(pred_accuracy(newp, newy_test))"
   ]
  },
  {
   "cell_type": "code",
   "execution_count": 37,
   "metadata": {},
   "outputs": [
    {
     "name": "stdout",
     "output_type": "stream",
     "text": [
      "          date  sarima_oilprice  arima_oilprice\n",
      "0   2019-06-30        56.893623       75.921675\n",
      "1   2019-07-31        57.894870       76.545122\n",
      "2   2019-08-31        57.980675       76.124720\n",
      "3   2019-09-30        62.527335       76.425577\n",
      "4   2019-10-31        67.823088       76.223143\n",
      "5   2019-11-30        65.232596       76.580996\n",
      "6   2019-12-31        61.762357       76.418885\n",
      "7   2020-01-31        64.043057       76.765533\n",
      "8   2020-02-29        64.696372       76.615897\n",
      "9   2020-03-31        71.018727       76.942060\n",
      "10  2020-04-30        75.920763       76.800326\n",
      "11  2020-05-31        67.395489       77.105789\n",
      "12  2020-06-30        61.538606       76.971002\n",
      "13  2020-07-31        64.361616       77.256876\n",
      "14  2020-08-31        65.385406       77.128649\n",
      "15  2020-09-30        71.921731       77.396177\n",
      "16  2020-10-31        77.967335       77.274218\n",
      "17  2020-11-30        72.595228       77.524589\n",
      "18  2020-12-31        68.064069       77.408629\n",
      "19  2021-01-31        71.607716       77.642960\n",
      "20  2021-02-28        72.919009       77.532738\n",
      "21  2021-03-31        80.348596       77.752071\n",
      "22  2021-04-30        86.569880       77.647335\n",
      "23  2021-05-31        79.333092       77.852646\n"
     ]
    }
   ],
   "source": [
    "forecast_df = pd.read_csv('dataset/oil_forecast_data.csv')\n",
    "print(forecast_df)\n",
    "forecast_df = forecast_df[['date','sarima_oilprice']]\n",
    "forecast_df = forecast_df.set_index('date')\n"
   ]
  },
  {
   "cell_type": "code",
   "execution_count": 38,
   "metadata": {},
   "outputs": [
    {
     "data": {
      "text/html": [
       "<div>\n",
       "<style scoped>\n",
       "    .dataframe tbody tr th:only-of-type {\n",
       "        vertical-align: middle;\n",
       "    }\n",
       "\n",
       "    .dataframe tbody tr th {\n",
       "        vertical-align: top;\n",
       "    }\n",
       "\n",
       "    .dataframe thead th {\n",
       "        text-align: right;\n",
       "    }\n",
       "</style>\n",
       "<table border=\"1\" class=\"dataframe\">\n",
       "  <thead>\n",
       "    <tr style=\"text-align: right;\">\n",
       "      <th></th>\n",
       "      <th>sarima_oilprice</th>\n",
       "      <th>oildata_lag</th>\n",
       "      <th>rolling_mean_price</th>\n",
       "    </tr>\n",
       "    <tr>\n",
       "      <th>date</th>\n",
       "      <th></th>\n",
       "      <th></th>\n",
       "      <th></th>\n",
       "    </tr>\n",
       "  </thead>\n",
       "  <tbody>\n",
       "    <tr>\n",
       "      <td>2019-07-31</td>\n",
       "      <td>57.894870</td>\n",
       "      <td>56.893623</td>\n",
       "      <td>56.893623</td>\n",
       "    </tr>\n",
       "    <tr>\n",
       "      <td>2019-08-31</td>\n",
       "      <td>57.980675</td>\n",
       "      <td>57.894870</td>\n",
       "      <td>114.788493</td>\n",
       "    </tr>\n",
       "    <tr>\n",
       "      <td>2019-09-30</td>\n",
       "      <td>62.527335</td>\n",
       "      <td>57.980675</td>\n",
       "      <td>115.875545</td>\n",
       "    </tr>\n",
       "    <tr>\n",
       "      <td>2019-10-31</td>\n",
       "      <td>67.823088</td>\n",
       "      <td>62.527335</td>\n",
       "      <td>120.508011</td>\n",
       "    </tr>\n",
       "    <tr>\n",
       "      <td>2019-11-30</td>\n",
       "      <td>65.232596</td>\n",
       "      <td>67.823088</td>\n",
       "      <td>130.350423</td>\n",
       "    </tr>\n",
       "    <tr>\n",
       "      <td>2019-12-31</td>\n",
       "      <td>61.762357</td>\n",
       "      <td>65.232596</td>\n",
       "      <td>133.055684</td>\n",
       "    </tr>\n",
       "    <tr>\n",
       "      <td>2020-01-31</td>\n",
       "      <td>64.043057</td>\n",
       "      <td>61.762357</td>\n",
       "      <td>126.994953</td>\n",
       "    </tr>\n",
       "    <tr>\n",
       "      <td>2020-02-29</td>\n",
       "      <td>64.696372</td>\n",
       "      <td>64.043057</td>\n",
       "      <td>125.805414</td>\n",
       "    </tr>\n",
       "    <tr>\n",
       "      <td>2020-03-31</td>\n",
       "      <td>71.018727</td>\n",
       "      <td>64.696372</td>\n",
       "      <td>128.739429</td>\n",
       "    </tr>\n",
       "    <tr>\n",
       "      <td>2020-04-30</td>\n",
       "      <td>75.920763</td>\n",
       "      <td>71.018727</td>\n",
       "      <td>135.715099</td>\n",
       "    </tr>\n",
       "    <tr>\n",
       "      <td>2020-05-31</td>\n",
       "      <td>67.395489</td>\n",
       "      <td>75.920763</td>\n",
       "      <td>146.939490</td>\n",
       "    </tr>\n",
       "    <tr>\n",
       "      <td>2020-06-30</td>\n",
       "      <td>61.538606</td>\n",
       "      <td>67.395489</td>\n",
       "      <td>143.316252</td>\n",
       "    </tr>\n",
       "    <tr>\n",
       "      <td>2020-07-31</td>\n",
       "      <td>64.361616</td>\n",
       "      <td>61.538606</td>\n",
       "      <td>128.934095</td>\n",
       "    </tr>\n",
       "    <tr>\n",
       "      <td>2020-08-31</td>\n",
       "      <td>65.385406</td>\n",
       "      <td>64.361616</td>\n",
       "      <td>125.900222</td>\n",
       "    </tr>\n",
       "    <tr>\n",
       "      <td>2020-09-30</td>\n",
       "      <td>71.921731</td>\n",
       "      <td>65.385406</td>\n",
       "      <td>129.747022</td>\n",
       "    </tr>\n",
       "    <tr>\n",
       "      <td>2020-10-31</td>\n",
       "      <td>77.967335</td>\n",
       "      <td>71.921731</td>\n",
       "      <td>137.307138</td>\n",
       "    </tr>\n",
       "    <tr>\n",
       "      <td>2020-11-30</td>\n",
       "      <td>72.595228</td>\n",
       "      <td>77.967335</td>\n",
       "      <td>149.889066</td>\n",
       "    </tr>\n",
       "    <tr>\n",
       "      <td>2020-12-31</td>\n",
       "      <td>68.064069</td>\n",
       "      <td>72.595228</td>\n",
       "      <td>150.562563</td>\n",
       "    </tr>\n",
       "    <tr>\n",
       "      <td>2021-01-31</td>\n",
       "      <td>71.607716</td>\n",
       "      <td>68.064069</td>\n",
       "      <td>140.659297</td>\n",
       "    </tr>\n",
       "    <tr>\n",
       "      <td>2021-02-28</td>\n",
       "      <td>72.919009</td>\n",
       "      <td>71.607716</td>\n",
       "      <td>139.671785</td>\n",
       "    </tr>\n",
       "    <tr>\n",
       "      <td>2021-03-31</td>\n",
       "      <td>80.348596</td>\n",
       "      <td>72.919009</td>\n",
       "      <td>144.526725</td>\n",
       "    </tr>\n",
       "    <tr>\n",
       "      <td>2021-04-30</td>\n",
       "      <td>86.569880</td>\n",
       "      <td>80.348596</td>\n",
       "      <td>153.267605</td>\n",
       "    </tr>\n",
       "    <tr>\n",
       "      <td>2021-05-31</td>\n",
       "      <td>79.333092</td>\n",
       "      <td>86.569880</td>\n",
       "      <td>166.918477</td>\n",
       "    </tr>\n",
       "  </tbody>\n",
       "</table>\n",
       "</div>"
      ],
      "text/plain": [
       "            sarima_oilprice  oildata_lag  rolling_mean_price\n",
       "date                                                        \n",
       "2019-07-31        57.894870    56.893623           56.893623\n",
       "2019-08-31        57.980675    57.894870          114.788493\n",
       "2019-09-30        62.527335    57.980675          115.875545\n",
       "2019-10-31        67.823088    62.527335          120.508011\n",
       "2019-11-30        65.232596    67.823088          130.350423\n",
       "2019-12-31        61.762357    65.232596          133.055684\n",
       "2020-01-31        64.043057    61.762357          126.994953\n",
       "2020-02-29        64.696372    64.043057          125.805414\n",
       "2020-03-31        71.018727    64.696372          128.739429\n",
       "2020-04-30        75.920763    71.018727          135.715099\n",
       "2020-05-31        67.395489    75.920763          146.939490\n",
       "2020-06-30        61.538606    67.395489          143.316252\n",
       "2020-07-31        64.361616    61.538606          128.934095\n",
       "2020-08-31        65.385406    64.361616          125.900222\n",
       "2020-09-30        71.921731    65.385406          129.747022\n",
       "2020-10-31        77.967335    71.921731          137.307138\n",
       "2020-11-30        72.595228    77.967335          149.889066\n",
       "2020-12-31        68.064069    72.595228          150.562563\n",
       "2021-01-31        71.607716    68.064069          140.659297\n",
       "2021-02-28        72.919009    71.607716          139.671785\n",
       "2021-03-31        80.348596    72.919009          144.526725\n",
       "2021-04-30        86.569880    80.348596          153.267605\n",
       "2021-05-31        79.333092    86.569880          166.918477"
      ]
     },
     "execution_count": 38,
     "metadata": {},
     "output_type": "execute_result"
    }
   ],
   "source": [
    "#data['Price'].plot() \n",
    "forecast_df['oildata_lag']=forecast_df['sarima_oilprice'].shift(1)\n",
    "#data=data.set_index('date')\n",
    "forecast_df['rolling_mean_price']=forecast_df['oildata_lag'].rolling(2, min_periods=1).sum()\n",
    "forecast_df=forecast_df.dropna()\n",
    "forecast_df"
   ]
  },
  {
   "cell_type": "code",
   "execution_count": 39,
   "metadata": {},
   "outputs": [],
   "source": [
    "# function for min-max normalization of Iron Ore \n",
    "min_max_scaler = sklearn.preprocessing.MinMaxScaler()\n",
    "def normalize_data(df):\n",
    "    df['sarima_oilprice'] = min_max_scaler.fit_transform(df.sarima_oilprice.values.reshape(-1,1))\n",
    "    df['oildata_lag'] = min_max_scaler.fit_transform(df.oildata_lag.values.reshape(-1,1))\n",
    "    df['rolling_mean_price'] = min_max_scaler.fit_transform(df.rolling_mean_price.values.reshape(-1,1))\n",
    "    return df"
   ]
  },
  {
   "cell_type": "code",
   "execution_count": 40,
   "metadata": {},
   "outputs": [
    {
     "data": {
      "text/html": [
       "<div>\n",
       "<style scoped>\n",
       "    .dataframe tbody tr th:only-of-type {\n",
       "        vertical-align: middle;\n",
       "    }\n",
       "\n",
       "    .dataframe tbody tr th {\n",
       "        vertical-align: top;\n",
       "    }\n",
       "\n",
       "    .dataframe thead th {\n",
       "        text-align: right;\n",
       "    }\n",
       "</style>\n",
       "<table border=\"1\" class=\"dataframe\">\n",
       "  <thead>\n",
       "    <tr style=\"text-align: right;\">\n",
       "      <th></th>\n",
       "      <th>sarima_oilprice</th>\n",
       "      <th>oildata_lag</th>\n",
       "      <th>rolling_mean_price</th>\n",
       "    </tr>\n",
       "    <tr>\n",
       "      <th>date</th>\n",
       "      <th></th>\n",
       "      <th></th>\n",
       "      <th></th>\n",
       "    </tr>\n",
       "  </thead>\n",
       "  <tbody>\n",
       "    <tr>\n",
       "      <td>2019-07-31</td>\n",
       "      <td>0.000000</td>\n",
       "      <td>0.000000</td>\n",
       "      <td>0.000000</td>\n",
       "    </tr>\n",
       "    <tr>\n",
       "      <td>2019-08-31</td>\n",
       "      <td>0.002992</td>\n",
       "      <td>0.033739</td>\n",
       "      <td>0.526198</td>\n",
       "    </tr>\n",
       "    <tr>\n",
       "      <td>2019-09-30</td>\n",
       "      <td>0.161551</td>\n",
       "      <td>0.036630</td>\n",
       "      <td>0.536078</td>\n",
       "    </tr>\n",
       "    <tr>\n",
       "      <td>2019-10-31</td>\n",
       "      <td>0.346232</td>\n",
       "      <td>0.189839</td>\n",
       "      <td>0.578182</td>\n",
       "    </tr>\n",
       "    <tr>\n",
       "      <td>2019-11-30</td>\n",
       "      <td>0.255893</td>\n",
       "      <td>0.368290</td>\n",
       "      <td>0.667638</td>\n",
       "    </tr>\n",
       "  </tbody>\n",
       "</table>\n",
       "</div>"
      ],
      "text/plain": [
       "            sarima_oilprice  oildata_lag  rolling_mean_price\n",
       "date                                                        \n",
       "2019-07-31         0.000000     0.000000            0.000000\n",
       "2019-08-31         0.002992     0.033739            0.526198\n",
       "2019-09-30         0.161551     0.036630            0.536078\n",
       "2019-10-31         0.346232     0.189839            0.578182\n",
       "2019-11-30         0.255893     0.368290            0.667638"
      ]
     },
     "execution_count": 40,
     "metadata": {},
     "output_type": "execute_result"
    }
   ],
   "source": [
    "# normalize stock\n",
    "df = forecast_df.copy()\n",
    "df = normalize_data(df)\n",
    "df.head()"
   ]
  },
  {
   "cell_type": "code",
   "execution_count": 41,
   "metadata": {},
   "outputs": [
    {
     "name": "stderr",
     "output_type": "stream",
     "text": [
      "C:\\Users\\sumon\\Anaconda3\\envs\\tensorflow\\lib\\site-packages\\ipykernel_launcher.py:1: FutureWarning: Method .as_matrix will be removed in a future version. Use .values instead.\n",
      "  \"\"\"Entry point for launching an IPython kernel.\n"
     ]
    }
   ],
   "source": [
    "forecast_data_raw = df.as_matrix()"
   ]
  },
  {
   "cell_type": "code",
   "execution_count": 42,
   "metadata": {},
   "outputs": [
    {
     "data": {
      "text/plain": [
       "(23, 3)"
      ]
     },
     "execution_count": 42,
     "metadata": {},
     "output_type": "execute_result"
    }
   ],
   "source": [
    "forecast_data_raw.shape"
   ]
  },
  {
   "cell_type": "code",
   "execution_count": 43,
   "metadata": {},
   "outputs": [
    {
     "data": {
      "text/plain": [
       "(23, 1, 3)"
      ]
     },
     "execution_count": 43,
     "metadata": {},
     "output_type": "execute_result"
    }
   ],
   "source": [
    "forecast_data_raw = forecast_data_raw.reshape((forecast_data_raw.shape[0],1,forecast_data_raw.shape[1]))\n",
    "forecast_data_raw.shape"
   ]
  },
  {
   "cell_type": "code",
   "execution_count": 44,
   "metadata": {},
   "outputs": [
    {
     "name": "stdout",
     "output_type": "stream",
     "text": [
      "23/23 [==============================] - 0s 693us/step\n"
     ]
    }
   ],
   "source": [
    "forecast_price = model.predict(forecast_data_raw,batch_size=1,verbose=1)"
   ]
  },
  {
   "cell_type": "code",
   "execution_count": 45,
   "metadata": {},
   "outputs": [
    {
     "data": {
      "text/plain": [
       "array([[0.08248604],\n",
       "       [0.16181418],\n",
       "       [0.19906029],\n",
       "       [0.27738023],\n",
       "       [0.30278656],\n",
       "       [0.2612972 ],\n",
       "       [0.24992019],\n",
       "       [0.26835424],\n",
       "       [0.32877615],\n",
       "       [0.419029  ],\n",
       "       [0.3919477 ],\n",
       "       [0.28613487],\n",
       "       [0.25359014],\n",
       "       [0.27618423],\n",
       "       [0.34208843],\n",
       "       [0.44360763],\n",
       "       [0.45097432],\n",
       "       [0.38163936],\n",
       "       [0.37056717],\n",
       "       [0.4026068 ],\n",
       "       [0.4780264 ],\n",
       "       [0.5808451 ],\n",
       "       [0.57259613]], dtype=float32)"
      ]
     },
     "execution_count": 45,
     "metadata": {},
     "output_type": "execute_result"
    }
   ],
   "source": [
    "forecast_price"
   ]
  },
  {
   "cell_type": "code",
   "execution_count": 46,
   "metadata": {},
   "outputs": [],
   "source": [
    "def denormalize(df, normalized_value): \n",
    "    df = df['ironprice'].values.reshape(-1,1)\n",
    "    normalized_value = normalized_value.reshape(-1,1)\n",
    "    #return df.shape, p.shape\n",
    "    min_max_scaler = sklearn.preprocessing.MinMaxScaler()\n",
    "    a = min_max_scaler.fit_transform(df)\n",
    "    new = min_max_scaler.inverse_transform(normalized_value)\n",
    "    return new\n",
    "\n",
    "newp = denormalize(data, forecast_price)\n",
    "#newy_test = denormalize(data, y_test)"
   ]
  },
  {
   "cell_type": "code",
   "execution_count": 47,
   "metadata": {},
   "outputs": [
    {
     "data": {
      "text/html": [
       "<div>\n",
       "<style scoped>\n",
       "    .dataframe tbody tr th:only-of-type {\n",
       "        vertical-align: middle;\n",
       "    }\n",
       "\n",
       "    .dataframe tbody tr th {\n",
       "        vertical-align: top;\n",
       "    }\n",
       "\n",
       "    .dataframe thead th {\n",
       "        text-align: right;\n",
       "    }\n",
       "</style>\n",
       "<table border=\"1\" class=\"dataframe\">\n",
       "  <thead>\n",
       "    <tr style=\"text-align: right;\">\n",
       "      <th></th>\n",
       "      <th>sarima_oilprice</th>\n",
       "      <th>oildata_lag</th>\n",
       "      <th>rolling_mean_price</th>\n",
       "    </tr>\n",
       "    <tr>\n",
       "      <th>date</th>\n",
       "      <th></th>\n",
       "      <th></th>\n",
       "      <th></th>\n",
       "    </tr>\n",
       "  </thead>\n",
       "  <tbody>\n",
       "    <tr>\n",
       "      <td>2019-07-31</td>\n",
       "      <td>57.894870</td>\n",
       "      <td>56.893623</td>\n",
       "      <td>56.893623</td>\n",
       "    </tr>\n",
       "    <tr>\n",
       "      <td>2019-08-31</td>\n",
       "      <td>57.980675</td>\n",
       "      <td>57.894870</td>\n",
       "      <td>114.788493</td>\n",
       "    </tr>\n",
       "    <tr>\n",
       "      <td>2019-09-30</td>\n",
       "      <td>62.527335</td>\n",
       "      <td>57.980675</td>\n",
       "      <td>115.875545</td>\n",
       "    </tr>\n",
       "    <tr>\n",
       "      <td>2019-10-31</td>\n",
       "      <td>67.823088</td>\n",
       "      <td>62.527335</td>\n",
       "      <td>120.508011</td>\n",
       "    </tr>\n",
       "    <tr>\n",
       "      <td>2019-11-30</td>\n",
       "      <td>65.232596</td>\n",
       "      <td>67.823088</td>\n",
       "      <td>130.350423</td>\n",
       "    </tr>\n",
       "  </tbody>\n",
       "</table>\n",
       "</div>"
      ],
      "text/plain": [
       "            sarima_oilprice  oildata_lag  rolling_mean_price\n",
       "date                                                        \n",
       "2019-07-31        57.894870    56.893623           56.893623\n",
       "2019-08-31        57.980675    57.894870          114.788493\n",
       "2019-09-30        62.527335    57.980675          115.875545\n",
       "2019-10-31        67.823088    62.527335          120.508011\n",
       "2019-11-30        65.232596    67.823088          130.350423"
      ]
     },
     "execution_count": 47,
     "metadata": {},
     "output_type": "execute_result"
    }
   ],
   "source": [
    "forecast_df.head()"
   ]
  },
  {
   "cell_type": "code",
   "execution_count": 48,
   "metadata": {},
   "outputs": [
    {
     "data": {
      "text/plain": [
       "array([[ 52.94771 ],\n",
       "       [ 64.55341 ],\n",
       "       [ 70.00252 ],\n",
       "       [ 81.46073 ],\n",
       "       [ 85.17767 ],\n",
       "       [ 79.10778 ],\n",
       "       [ 77.44333 ],\n",
       "       [ 80.14023 ],\n",
       "       [ 88.97995 ],\n",
       "       [102.183945],\n",
       "       [ 98.22195 ],\n",
       "       [ 82.74153 ],\n",
       "       [ 77.98023 ],\n",
       "       [ 81.28575 ],\n",
       "       [ 90.927536],\n",
       "       [105.7798  ],\n",
       "       [106.857544],\n",
       "       [ 96.713844],\n",
       "       [ 95.09398 ],\n",
       "       [ 99.78138 ],\n",
       "       [110.81526 ],\n",
       "       [125.85764 ],\n",
       "       [124.65082 ]], dtype=float32)"
      ]
     },
     "execution_count": 48,
     "metadata": {},
     "output_type": "execute_result"
    }
   ],
   "source": [
    "newp"
   ]
  },
  {
   "cell_type": "code",
   "execution_count": 49,
   "metadata": {},
   "outputs": [],
   "source": [
    "act_pred = pd.concat([pd.DataFrame(forecast_df.sarima_oilprice.values),pd.DataFrame(newp)], axis=1) \n",
    "act_pred.columns = ['Forecast_Oil_Price','Forecast_Iron_Price']"
   ]
  },
  {
   "cell_type": "code",
   "execution_count": 50,
   "metadata": {},
   "outputs": [],
   "source": [
    "act_pred['date'] = forecast_df.index"
   ]
  },
  {
   "cell_type": "code",
   "execution_count": 51,
   "metadata": {},
   "outputs": [
    {
     "data": {
      "text/html": [
       "<div>\n",
       "<style scoped>\n",
       "    .dataframe tbody tr th:only-of-type {\n",
       "        vertical-align: middle;\n",
       "    }\n",
       "\n",
       "    .dataframe tbody tr th {\n",
       "        vertical-align: top;\n",
       "    }\n",
       "\n",
       "    .dataframe thead th {\n",
       "        text-align: right;\n",
       "    }\n",
       "</style>\n",
       "<table border=\"1\" class=\"dataframe\">\n",
       "  <thead>\n",
       "    <tr style=\"text-align: right;\">\n",
       "      <th></th>\n",
       "      <th>Forecast_Oil_Price</th>\n",
       "      <th>Forecast_Iron_Price</th>\n",
       "    </tr>\n",
       "    <tr>\n",
       "      <th>date</th>\n",
       "      <th></th>\n",
       "      <th></th>\n",
       "    </tr>\n",
       "  </thead>\n",
       "  <tbody>\n",
       "    <tr>\n",
       "      <td>2019-07-31</td>\n",
       "      <td>57.894870</td>\n",
       "      <td>52.947708</td>\n",
       "    </tr>\n",
       "    <tr>\n",
       "      <td>2019-08-31</td>\n",
       "      <td>57.980675</td>\n",
       "      <td>64.553413</td>\n",
       "    </tr>\n",
       "    <tr>\n",
       "      <td>2019-09-30</td>\n",
       "      <td>62.527335</td>\n",
       "      <td>70.002518</td>\n",
       "    </tr>\n",
       "    <tr>\n",
       "      <td>2019-10-31</td>\n",
       "      <td>67.823088</td>\n",
       "      <td>81.460732</td>\n",
       "    </tr>\n",
       "    <tr>\n",
       "      <td>2019-11-30</td>\n",
       "      <td>65.232596</td>\n",
       "      <td>85.177673</td>\n",
       "    </tr>\n",
       "    <tr>\n",
       "      <td>2019-12-31</td>\n",
       "      <td>61.762357</td>\n",
       "      <td>79.107780</td>\n",
       "    </tr>\n",
       "    <tr>\n",
       "      <td>2020-01-31</td>\n",
       "      <td>64.043057</td>\n",
       "      <td>77.443329</td>\n",
       "    </tr>\n",
       "    <tr>\n",
       "      <td>2020-02-29</td>\n",
       "      <td>64.696372</td>\n",
       "      <td>80.140228</td>\n",
       "    </tr>\n",
       "    <tr>\n",
       "      <td>2020-03-31</td>\n",
       "      <td>71.018727</td>\n",
       "      <td>88.979950</td>\n",
       "    </tr>\n",
       "    <tr>\n",
       "      <td>2020-04-30</td>\n",
       "      <td>75.920763</td>\n",
       "      <td>102.183945</td>\n",
       "    </tr>\n",
       "    <tr>\n",
       "      <td>2020-05-31</td>\n",
       "      <td>67.395489</td>\n",
       "      <td>98.221947</td>\n",
       "    </tr>\n",
       "    <tr>\n",
       "      <td>2020-06-30</td>\n",
       "      <td>61.538606</td>\n",
       "      <td>82.741531</td>\n",
       "    </tr>\n",
       "    <tr>\n",
       "      <td>2020-07-31</td>\n",
       "      <td>64.361616</td>\n",
       "      <td>77.980232</td>\n",
       "    </tr>\n",
       "    <tr>\n",
       "      <td>2020-08-31</td>\n",
       "      <td>65.385406</td>\n",
       "      <td>81.285751</td>\n",
       "    </tr>\n",
       "    <tr>\n",
       "      <td>2020-09-30</td>\n",
       "      <td>71.921731</td>\n",
       "      <td>90.927536</td>\n",
       "    </tr>\n",
       "    <tr>\n",
       "      <td>2020-10-31</td>\n",
       "      <td>77.967335</td>\n",
       "      <td>105.779800</td>\n",
       "    </tr>\n",
       "    <tr>\n",
       "      <td>2020-11-30</td>\n",
       "      <td>72.595228</td>\n",
       "      <td>106.857544</td>\n",
       "    </tr>\n",
       "    <tr>\n",
       "      <td>2020-12-31</td>\n",
       "      <td>68.064069</td>\n",
       "      <td>96.713844</td>\n",
       "    </tr>\n",
       "    <tr>\n",
       "      <td>2021-01-31</td>\n",
       "      <td>71.607716</td>\n",
       "      <td>95.093979</td>\n",
       "    </tr>\n",
       "    <tr>\n",
       "      <td>2021-02-28</td>\n",
       "      <td>72.919009</td>\n",
       "      <td>99.781380</td>\n",
       "    </tr>\n",
       "    <tr>\n",
       "      <td>2021-03-31</td>\n",
       "      <td>80.348596</td>\n",
       "      <td>110.815262</td>\n",
       "    </tr>\n",
       "    <tr>\n",
       "      <td>2021-04-30</td>\n",
       "      <td>86.569880</td>\n",
       "      <td>125.857643</td>\n",
       "    </tr>\n",
       "    <tr>\n",
       "      <td>2021-05-31</td>\n",
       "      <td>79.333092</td>\n",
       "      <td>124.650818</td>\n",
       "    </tr>\n",
       "  </tbody>\n",
       "</table>\n",
       "</div>"
      ],
      "text/plain": [
       "            Forecast_Oil_Price  Forecast_Iron_Price\n",
       "date                                               \n",
       "2019-07-31           57.894870            52.947708\n",
       "2019-08-31           57.980675            64.553413\n",
       "2019-09-30           62.527335            70.002518\n",
       "2019-10-31           67.823088            81.460732\n",
       "2019-11-30           65.232596            85.177673\n",
       "2019-12-31           61.762357            79.107780\n",
       "2020-01-31           64.043057            77.443329\n",
       "2020-02-29           64.696372            80.140228\n",
       "2020-03-31           71.018727            88.979950\n",
       "2020-04-30           75.920763           102.183945\n",
       "2020-05-31           67.395489            98.221947\n",
       "2020-06-30           61.538606            82.741531\n",
       "2020-07-31           64.361616            77.980232\n",
       "2020-08-31           65.385406            81.285751\n",
       "2020-09-30           71.921731            90.927536\n",
       "2020-10-31           77.967335           105.779800\n",
       "2020-11-30           72.595228           106.857544\n",
       "2020-12-31           68.064069            96.713844\n",
       "2021-01-31           71.607716            95.093979\n",
       "2021-02-28           72.919009            99.781380\n",
       "2021-03-31           80.348596           110.815262\n",
       "2021-04-30           86.569880           125.857643\n",
       "2021-05-31           79.333092           124.650818"
      ]
     },
     "execution_count": 51,
     "metadata": {},
     "output_type": "execute_result"
    }
   ],
   "source": [
    "act_pred = act_pred.set_index('date')\n",
    "act_pred"
   ]
  },
  {
   "cell_type": "code",
   "execution_count": 49,
   "metadata": {},
   "outputs": [],
   "source": [
    "#test_value_store"
   ]
  },
  {
   "cell_type": "code",
   "execution_count": null,
   "metadata": {},
   "outputs": [],
   "source": []
  },
  {
   "cell_type": "code",
   "execution_count": null,
   "metadata": {},
   "outputs": [],
   "source": []
  }
 ],
 "metadata": {
  "kernelspec": {
   "display_name": "Python 3",
   "language": "python",
   "name": "python3"
  },
  "language_info": {
   "codemirror_mode": {
    "name": "ipython",
    "version": 3
   },
   "file_extension": ".py",
   "mimetype": "text/x-python",
   "name": "python",
   "nbconvert_exporter": "python",
   "pygments_lexer": "ipython3",
   "version": "3.7.4"
  }
 },
 "nbformat": 4,
 "nbformat_minor": 2
}
