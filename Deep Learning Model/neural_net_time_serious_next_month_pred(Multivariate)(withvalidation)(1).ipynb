{
 "cells": [
  {
   "cell_type": "code",
   "execution_count": 1,
   "metadata": {},
   "outputs": [
    {
     "name": "stderr",
     "output_type": "stream",
     "text": [
      "Using TensorFlow backend.\n"
     ]
    }
   ],
   "source": [
    "import numpy as np\n",
    "import matplotlib.pyplot as plt\n",
    "%matplotlib inline\n",
    "from sklearn.linear_model import LinearRegression \n",
    "import matplotlib.pylab as pylab\n",
    "import math,time\n",
    "import sklearn\n",
    "import sklearn.preprocessing\n",
    "import datetime\n",
    "import os\n",
    "import matplotlib.pyplot as plt\n",
    "import keras\n",
    "from keras.models import Sequential\n",
    "from keras.layers import LSTM\n",
    "from keras.layers.core import Dense, Dropout, Activation\n",
    "from sklearn.preprocessing import MinMaxScaler\n",
    "from statsmodels.graphics.tsaplots import plot_pacf, plot_acf\n",
    "\n",
    "test_set_size_percentage = 20 \n",
    "import pandas as pd\n",
    "from pandas import read_csv\n",
    "params = {'legend.fontsize': 'xx-large',\n",
    "          'figure.figsize': (15, 10),\n",
    "         'axes.labelsize': 'xx-large',\n",
    "         'axes.titlesize':'xx-large',\n",
    "         'xtick.labelsize':'xx-large',\n",
    "         'ytick.labelsize':'xx-large'}\n",
    "pylab.rcParams.update(params)\n",
    "from sklearn.metrics import r2_score,mean_squared_error "
   ]
  },
  {
   "cell_type": "code",
   "execution_count": 2,
   "metadata": {},
   "outputs": [],
   "source": [
    "data = read_csv('dataset/irondata.csv')"
   ]
  },
  {
   "cell_type": "code",
   "execution_count": 3,
   "metadata": {},
   "outputs": [],
   "source": [
    "data['date']=pd.to_datetime(data['date'],format='%d/%m/%Y')"
   ]
  },
  {
   "cell_type": "code",
   "execution_count": 4,
   "metadata": {},
   "outputs": [],
   "source": [
    "data=data.sort_values('date')"
   ]
  },
  {
   "cell_type": "code",
   "execution_count": 5,
   "metadata": {},
   "outputs": [],
   "source": [
    "df = data[:330]\n",
    "test = data[330:]"
   ]
  },
  {
   "cell_type": "code",
   "execution_count": 6,
   "metadata": {},
   "outputs": [
    {
     "name": "stderr",
     "output_type": "stream",
     "text": [
      "C:\\Users\\sumon\\Anaconda3\\envs\\tensorflow\\lib\\site-packages\\ipykernel_launcher.py:1: SettingWithCopyWarning: \n",
      "A value is trying to be set on a copy of a slice from a DataFrame.\n",
      "Try using .loc[row_indexer,col_indexer] = value instead\n",
      "\n",
      "See the caveats in the documentation: http://pandas.pydata.org/pandas-docs/stable/user_guide/indexing.html#returning-a-view-versus-a-copy\n",
      "  \"\"\"Entry point for launching an IPython kernel.\n",
      "C:\\Users\\sumon\\Anaconda3\\envs\\tensorflow\\lib\\site-packages\\ipykernel_launcher.py:2: SettingWithCopyWarning: \n",
      "A value is trying to be set on a copy of a slice from a DataFrame.\n",
      "Try using .loc[row_indexer,col_indexer] = value instead\n",
      "\n",
      "See the caveats in the documentation: http://pandas.pydata.org/pandas-docs/stable/user_guide/indexing.html#returning-a-view-versus-a-copy\n",
      "  \n"
     ]
    },
    {
     "data": {
      "text/html": [
       "<div>\n",
       "<style scoped>\n",
       "    .dataframe tbody tr th:only-of-type {\n",
       "        vertical-align: middle;\n",
       "    }\n",
       "\n",
       "    .dataframe tbody tr th {\n",
       "        vertical-align: top;\n",
       "    }\n",
       "\n",
       "    .dataframe thead th {\n",
       "        text-align: right;\n",
       "    }\n",
       "</style>\n",
       "<table border=\"1\" class=\"dataframe\">\n",
       "  <thead>\n",
       "    <tr style=\"text-align: right;\">\n",
       "      <th></th>\n",
       "      <th>price</th>\n",
       "      <th>price_lag</th>\n",
       "      <th>price_diff</th>\n",
       "      <th>rolling_mean_price</th>\n",
       "    </tr>\n",
       "    <tr>\n",
       "      <th>date</th>\n",
       "      <th></th>\n",
       "      <th></th>\n",
       "      <th></th>\n",
       "      <th></th>\n",
       "    </tr>\n",
       "  </thead>\n",
       "  <tbody>\n",
       "    <tr>\n",
       "      <td>1990-03-31</td>\n",
       "      <td>14.05</td>\n",
       "      <td>14.05</td>\n",
       "      <td>0.0</td>\n",
       "      <td>28.1</td>\n",
       "    </tr>\n",
       "    <tr>\n",
       "      <td>1990-04-30</td>\n",
       "      <td>14.05</td>\n",
       "      <td>14.05</td>\n",
       "      <td>0.0</td>\n",
       "      <td>28.1</td>\n",
       "    </tr>\n",
       "    <tr>\n",
       "      <td>1990-05-31</td>\n",
       "      <td>14.05</td>\n",
       "      <td>14.05</td>\n",
       "      <td>0.0</td>\n",
       "      <td>28.1</td>\n",
       "    </tr>\n",
       "    <tr>\n",
       "      <td>1990-06-30</td>\n",
       "      <td>14.05</td>\n",
       "      <td>14.05</td>\n",
       "      <td>0.0</td>\n",
       "      <td>28.1</td>\n",
       "    </tr>\n",
       "    <tr>\n",
       "      <td>1990-07-31</td>\n",
       "      <td>14.05</td>\n",
       "      <td>14.05</td>\n",
       "      <td>0.0</td>\n",
       "      <td>28.1</td>\n",
       "    </tr>\n",
       "  </tbody>\n",
       "</table>\n",
       "</div>"
      ],
      "text/plain": [
       "            price  price_lag  price_diff  rolling_mean_price\n",
       "date                                                        \n",
       "1990-03-31  14.05      14.05         0.0                28.1\n",
       "1990-04-30  14.05      14.05         0.0                28.1\n",
       "1990-05-31  14.05      14.05         0.0                28.1\n",
       "1990-06-30  14.05      14.05         0.0                28.1\n",
       "1990-07-31  14.05      14.05         0.0                28.1"
      ]
     },
     "execution_count": 6,
     "metadata": {},
     "output_type": "execute_result"
    }
   ],
   "source": [
    "df['price_lag']=df['price'].shift(1)\n",
    "df['price_diff']=df['price_lag'].diff(periods=1)\n",
    "df=df.set_index('date')\n",
    "df['rolling_mean_price']=df['price_lag'].rolling(2, min_periods=1).sum()\n",
    "df=df.dropna()\n",
    "df.head()"
   ]
  },
  {
   "cell_type": "code",
   "execution_count": 7,
   "metadata": {},
   "outputs": [],
   "source": [
    "# function for min-max normalization of Iron Ore \n",
    "min_max_scaler = sklearn.preprocessing.MinMaxScaler()\n",
    "def normalize_data(df):\n",
    "    df['price'] = min_max_scaler.fit_transform(df.price.values.reshape(-1,1))\n",
    "    df['price_lag'] = min_max_scaler.fit_transform(df.price_lag.values.reshape(-1,1))\n",
    "    df['rolling_mean_price'] = min_max_scaler.fit_transform(df.rolling_mean_price.values.reshape(-1,1))\n",
    "    return df"
   ]
  },
  {
   "cell_type": "code",
   "execution_count": 8,
   "metadata": {},
   "outputs": [
    {
     "data": {
      "text/html": [
       "<div>\n",
       "<style scoped>\n",
       "    .dataframe tbody tr th:only-of-type {\n",
       "        vertical-align: middle;\n",
       "    }\n",
       "\n",
       "    .dataframe tbody tr th {\n",
       "        vertical-align: top;\n",
       "    }\n",
       "\n",
       "    .dataframe thead th {\n",
       "        text-align: right;\n",
       "    }\n",
       "</style>\n",
       "<table border=\"1\" class=\"dataframe\">\n",
       "  <thead>\n",
       "    <tr style=\"text-align: right;\">\n",
       "      <th></th>\n",
       "      <th>price</th>\n",
       "      <th>price_lag</th>\n",
       "      <th>price_diff</th>\n",
       "      <th>rolling_mean_price</th>\n",
       "    </tr>\n",
       "    <tr>\n",
       "      <th>date</th>\n",
       "      <th></th>\n",
       "      <th></th>\n",
       "      <th></th>\n",
       "      <th></th>\n",
       "    </tr>\n",
       "  </thead>\n",
       "  <tbody>\n",
       "    <tr>\n",
       "      <td>1990-03-31</td>\n",
       "      <td>0.014795</td>\n",
       "      <td>0.014795</td>\n",
       "      <td>0.0</td>\n",
       "      <td>0.01512</td>\n",
       "    </tr>\n",
       "    <tr>\n",
       "      <td>1990-04-30</td>\n",
       "      <td>0.014795</td>\n",
       "      <td>0.014795</td>\n",
       "      <td>0.0</td>\n",
       "      <td>0.01512</td>\n",
       "    </tr>\n",
       "    <tr>\n",
       "      <td>1990-05-31</td>\n",
       "      <td>0.014795</td>\n",
       "      <td>0.014795</td>\n",
       "      <td>0.0</td>\n",
       "      <td>0.01512</td>\n",
       "    </tr>\n",
       "    <tr>\n",
       "      <td>1990-06-30</td>\n",
       "      <td>0.014795</td>\n",
       "      <td>0.014795</td>\n",
       "      <td>0.0</td>\n",
       "      <td>0.01512</td>\n",
       "    </tr>\n",
       "    <tr>\n",
       "      <td>1990-07-31</td>\n",
       "      <td>0.014795</td>\n",
       "      <td>0.014795</td>\n",
       "      <td>0.0</td>\n",
       "      <td>0.01512</td>\n",
       "    </tr>\n",
       "  </tbody>\n",
       "</table>\n",
       "</div>"
      ],
      "text/plain": [
       "               price  price_lag  price_diff  rolling_mean_price\n",
       "date                                                           \n",
       "1990-03-31  0.014795   0.014795         0.0             0.01512\n",
       "1990-04-30  0.014795   0.014795         0.0             0.01512\n",
       "1990-05-31  0.014795   0.014795         0.0             0.01512\n",
       "1990-06-30  0.014795   0.014795         0.0             0.01512\n",
       "1990-07-31  0.014795   0.014795         0.0             0.01512"
      ]
     },
     "execution_count": 8,
     "metadata": {},
     "output_type": "execute_result"
    }
   ],
   "source": [
    "# normalize stock\n",
    "df_stock_norm = df.copy()\n",
    "df_stock_norm = normalize_data(df_stock_norm)\n",
    "df_stock_norm.head()"
   ]
  },
  {
   "cell_type": "code",
   "execution_count": 9,
   "metadata": {},
   "outputs": [
    {
     "data": {
      "text/plain": [
       "328"
      ]
     },
     "execution_count": 9,
     "metadata": {},
     "output_type": "execute_result"
    }
   ],
   "source": [
    "len(df_stock_norm)"
   ]
  },
  {
   "cell_type": "code",
   "execution_count": 10,
   "metadata": {},
   "outputs": [],
   "source": [
    "X=df_stock_norm.drop([\"price\"],axis=1) \n",
    "y=df_stock_norm['price'] \n",
    "X_train = X[:-1] \n",
    "y_train=y[:-1]"
   ]
  },
  {
   "cell_type": "code",
   "execution_count": 11,
   "metadata": {},
   "outputs": [
    {
     "data": {
      "text/html": [
       "<div>\n",
       "<style scoped>\n",
       "    .dataframe tbody tr th:only-of-type {\n",
       "        vertical-align: middle;\n",
       "    }\n",
       "\n",
       "    .dataframe tbody tr th {\n",
       "        vertical-align: top;\n",
       "    }\n",
       "\n",
       "    .dataframe thead th {\n",
       "        text-align: right;\n",
       "    }\n",
       "</style>\n",
       "<table border=\"1\" class=\"dataframe\">\n",
       "  <thead>\n",
       "    <tr style=\"text-align: right;\">\n",
       "      <th></th>\n",
       "      <th>price_lag</th>\n",
       "      <th>price_diff</th>\n",
       "      <th>rolling_mean_price</th>\n",
       "    </tr>\n",
       "    <tr>\n",
       "      <th>date</th>\n",
       "      <th></th>\n",
       "      <th></th>\n",
       "      <th></th>\n",
       "    </tr>\n",
       "  </thead>\n",
       "  <tbody>\n",
       "    <tr>\n",
       "      <td>1990-03-31</td>\n",
       "      <td>0.014795</td>\n",
       "      <td>0.0</td>\n",
       "      <td>0.01512</td>\n",
       "    </tr>\n",
       "    <tr>\n",
       "      <td>1990-04-30</td>\n",
       "      <td>0.014795</td>\n",
       "      <td>0.0</td>\n",
       "      <td>0.01512</td>\n",
       "    </tr>\n",
       "    <tr>\n",
       "      <td>1990-05-31</td>\n",
       "      <td>0.014795</td>\n",
       "      <td>0.0</td>\n",
       "      <td>0.01512</td>\n",
       "    </tr>\n",
       "    <tr>\n",
       "      <td>1990-06-30</td>\n",
       "      <td>0.014795</td>\n",
       "      <td>0.0</td>\n",
       "      <td>0.01512</td>\n",
       "    </tr>\n",
       "    <tr>\n",
       "      <td>1990-07-31</td>\n",
       "      <td>0.014795</td>\n",
       "      <td>0.0</td>\n",
       "      <td>0.01512</td>\n",
       "    </tr>\n",
       "  </tbody>\n",
       "</table>\n",
       "</div>"
      ],
      "text/plain": [
       "            price_lag  price_diff  rolling_mean_price\n",
       "date                                                 \n",
       "1990-03-31   0.014795         0.0             0.01512\n",
       "1990-04-30   0.014795         0.0             0.01512\n",
       "1990-05-31   0.014795         0.0             0.01512\n",
       "1990-06-30   0.014795         0.0             0.01512\n",
       "1990-07-31   0.014795         0.0             0.01512"
      ]
     },
     "execution_count": 11,
     "metadata": {},
     "output_type": "execute_result"
    }
   ],
   "source": [
    "X_train.head()"
   ]
  },
  {
   "cell_type": "code",
   "execution_count": 12,
   "metadata": {},
   "outputs": [
    {
     "name": "stderr",
     "output_type": "stream",
     "text": [
      "C:\\Users\\sumon\\Anaconda3\\envs\\tensorflow\\lib\\site-packages\\ipykernel_launcher.py:1: FutureWarning: Method .as_matrix will be removed in a future version. Use .values instead.\n",
      "  \"\"\"Entry point for launching an IPython kernel.\n"
     ]
    }
   ],
   "source": [
    "data_raw = X_train.as_matrix()"
   ]
  },
  {
   "cell_type": "code",
   "execution_count": 13,
   "metadata": {},
   "outputs": [
    {
     "data": {
      "text/plain": [
       "(327, 3)"
      ]
     },
     "execution_count": 13,
     "metadata": {},
     "output_type": "execute_result"
    }
   ],
   "source": [
    "data_raw.shape"
   ]
  },
  {
   "cell_type": "code",
   "execution_count": 14,
   "metadata": {},
   "outputs": [
    {
     "name": "stdout",
     "output_type": "stream",
     "text": [
      "x_train.shape =  (327, 3)\n",
      "y_train.shape =  (327,)\n"
     ]
    }
   ],
   "source": [
    "print('x_train.shape = ',X_train.shape)\n",
    "print('y_train.shape = ', y_train.shape)"
   ]
  },
  {
   "cell_type": "code",
   "execution_count": 15,
   "metadata": {},
   "outputs": [],
   "source": [
    "#Reshape data for (Sample,Timestep,Features) \n",
    "x_train = data_raw.reshape((data_raw.shape[0],1,X_train.shape[1]))"
   ]
  },
  {
   "cell_type": "code",
   "execution_count": 16,
   "metadata": {},
   "outputs": [
    {
     "name": "stdout",
     "output_type": "stream",
     "text": [
      "Compilation Time :  0.036900997161865234\n"
     ]
    }
   ],
   "source": [
    "#Build the model\n",
    "# model = Sequential()\n",
    "# model.add(LSTM(256,input_shape=(4,1))) # 4 feature with one time stamps\n",
    "# model.add(Dense(64, activation='relu'))\n",
    "# model.add(Dense(1))\n",
    "# model.compile(optimizer='adam',loss='mse', metrics=['accuracy'])\n",
    "\n",
    "model = Sequential()\n",
    "    \n",
    "model.add(LSTM(64, input_shape=(1,3), return_sequences=True)) # 3 feature with one time stamps\n",
    "model.add(Dropout(0.3))\n",
    "\n",
    "model.add(LSTM(64, input_shape=(1,3), return_sequences=False)) # 3 feature with one time stamps\n",
    "model.add(Dropout(0.3))\n",
    "\n",
    "model.add(Dense(32,kernel_initializer=\"uniform\",activation='relu'))        \n",
    "model.add(Dense(1,kernel_initializer=\"uniform\",activation='linear'))\n",
    "\n",
    "# adam = keras.optimizers.Adam(decay=0.2)\n",
    "\n",
    "start = time.time()\n",
    "model.compile(loss='mse',optimizer='adam', metrics=['accuracy'])\n",
    "print(\"Compilation Time : \", time.time() - start)"
   ]
  },
  {
   "cell_type": "code",
   "execution_count": 17,
   "metadata": {},
   "outputs": [
    {
     "name": "stdout",
     "output_type": "stream",
     "text": [
      "Model: \"sequential_1\"\n",
      "_________________________________________________________________\n",
      "Layer (type)                 Output Shape              Param #   \n",
      "=================================================================\n",
      "lstm_1 (LSTM)                (None, 1, 64)             17408     \n",
      "_________________________________________________________________\n",
      "dropout_1 (Dropout)          (None, 1, 64)             0         \n",
      "_________________________________________________________________\n",
      "lstm_2 (LSTM)                (None, 64)                33024     \n",
      "_________________________________________________________________\n",
      "dropout_2 (Dropout)          (None, 64)                0         \n",
      "_________________________________________________________________\n",
      "dense_1 (Dense)              (None, 32)                2080      \n",
      "_________________________________________________________________\n",
      "dense_2 (Dense)              (None, 1)                 33        \n",
      "=================================================================\n",
      "Total params: 52,545\n",
      "Trainable params: 52,545\n",
      "Non-trainable params: 0\n",
      "_________________________________________________________________\n"
     ]
    }
   ],
   "source": [
    "model.summary()"
   ]
  },
  {
   "cell_type": "code",
   "execution_count": 18,
   "metadata": {},
   "outputs": [
    {
     "name": "stdout",
     "output_type": "stream",
     "text": [
      "WARNING:tensorflow:From C:\\Users\\sumon\\Anaconda3\\envs\\tensorflow\\lib\\site-packages\\keras\\backend\\tensorflow_backend.py:422: The name tf.global_variables is deprecated. Please use tf.compat.v1.global_variables instead.\n",
      "\n",
      "Train on 294 samples, validate on 33 samples\n",
      "Epoch 1/20\n",
      "294/294 [==============================] - 1s 3ms/step - loss: 0.1130 - accuracy: 0.0408 - val_loss: 0.0838 - val_accuracy: 0.0000e+00\n",
      "Epoch 2/20\n",
      "294/294 [==============================] - 0s 105us/step - loss: 0.1086 - accuracy: 0.0408 - val_loss: 0.0772 - val_accuracy: 0.0000e+00\n",
      "Epoch 3/20\n",
      "294/294 [==============================] - 0s 109us/step - loss: 0.1034 - accuracy: 0.0408 - val_loss: 0.0692 - val_accuracy: 0.0000e+00\n",
      "Epoch 4/20\n",
      "294/294 [==============================] - 0s 112us/step - loss: 0.0966 - accuracy: 0.0408 - val_loss: 0.0589 - val_accuracy: 0.0000e+00\n",
      "Epoch 5/20\n",
      "294/294 [==============================] - 0s 109us/step - loss: 0.0868 - accuracy: 0.0408 - val_loss: 0.0456 - val_accuracy: 0.0000e+00\n",
      "Epoch 6/20\n",
      "294/294 [==============================] - 0s 105us/step - loss: 0.0734 - accuracy: 0.0408 - val_loss: 0.0298 - val_accuracy: 0.0000e+00\n",
      "Epoch 7/20\n",
      "294/294 [==============================] - 0s 102us/step - loss: 0.0578 - accuracy: 0.0408 - val_loss: 0.0165 - val_accuracy: 0.0000e+00\n",
      "Epoch 8/20\n",
      "294/294 [==============================] - 0s 95us/step - loss: 0.0444 - accuracy: 0.0408 - val_loss: 0.0159 - val_accuracy: 0.0000e+00\n",
      "Epoch 9/20\n",
      "294/294 [==============================] - 0s 98us/step - loss: 0.0382 - accuracy: 0.0442 - val_loss: 0.0306 - val_accuracy: 0.0000e+00\n",
      "Epoch 10/20\n",
      "294/294 [==============================] - 0s 122us/step - loss: 0.0412 - accuracy: 0.0442 - val_loss: 0.0366 - val_accuracy: 0.0000e+00\n",
      "Epoch 11/20\n",
      "294/294 [==============================] - 0s 156us/step - loss: 0.0370 - accuracy: 0.0442 - val_loss: 0.0293 - val_accuracy: 0.0000e+00\n",
      "Epoch 12/20\n",
      "294/294 [==============================] - 0s 92us/step - loss: 0.0328 - accuracy: 0.0442 - val_loss: 0.0292 - val_accuracy: 0.0000e+00\n",
      "Epoch 13/20\n",
      "294/294 [==============================] - 0s 105us/step - loss: 0.0319 - accuracy: 0.0442 - val_loss: 0.0319 - val_accuracy: 0.0000e+00\n",
      "Epoch 14/20\n",
      "294/294 [==============================] - 0s 105us/step - loss: 0.0273 - accuracy: 0.0442 - val_loss: 0.0336 - val_accuracy: 0.0000e+00\n",
      "Epoch 15/20\n",
      "294/294 [==============================] - 0s 105us/step - loss: 0.0287 - accuracy: 0.0442 - val_loss: 0.0351 - val_accuracy: 0.0000e+00\n",
      "Epoch 16/20\n",
      "294/294 [==============================] - 0s 112us/step - loss: 0.0268 - accuracy: 0.0442 - val_loss: 0.0362 - val_accuracy: 0.0000e+00\n",
      "Epoch 17/20\n",
      "294/294 [==============================] - 0s 102us/step - loss: 0.0233 - accuracy: 0.0442 - val_loss: 0.0377 - val_accuracy: 0.0000e+00\n",
      "Epoch 18/20\n",
      "294/294 [==============================] - 0s 109us/step - loss: 0.0211 - accuracy: 0.0442 - val_loss: 0.0375 - val_accuracy: 0.0000e+00\n",
      "Epoch 19/20\n",
      "294/294 [==============================] - 0s 115us/step - loss: 0.0195 - accuracy: 0.0442 - val_loss: 0.0349 - val_accuracy: 0.0000e+00\n",
      "Epoch 20/20\n",
      "294/294 [==============================] - 0s 109us/step - loss: 0.0222 - accuracy: 0.0442 - val_loss: 0.0343 - val_accuracy: 0.0000e+00\n"
     ]
    }
   ],
   "source": [
    "#Fit model with history to check for overfitting\n",
    "history = model.fit(x_train,y_train,epochs=20,validation_split=0.1,shuffle=False)"
   ]
  },
  {
   "cell_type": "code",
   "execution_count": 19,
   "metadata": {},
   "outputs": [
    {
     "data": {
      "text/html": [
       "<div>\n",
       "<style scoped>\n",
       "    .dataframe tbody tr th:only-of-type {\n",
       "        vertical-align: middle;\n",
       "    }\n",
       "\n",
       "    .dataframe tbody tr th {\n",
       "        vertical-align: top;\n",
       "    }\n",
       "\n",
       "    .dataframe thead th {\n",
       "        text-align: right;\n",
       "    }\n",
       "</style>\n",
       "<table border=\"1\" class=\"dataframe\">\n",
       "  <thead>\n",
       "    <tr style=\"text-align: right;\">\n",
       "      <th></th>\n",
       "    </tr>\n",
       "    <tr>\n",
       "      <th>date</th>\n",
       "    </tr>\n",
       "  </thead>\n",
       "  <tbody>\n",
       "    <tr>\n",
       "      <td>2017-07-31</td>\n",
       "    </tr>\n",
       "    <tr>\n",
       "      <td>2017-08-31</td>\n",
       "    </tr>\n",
       "    <tr>\n",
       "      <td>2017-09-30</td>\n",
       "    </tr>\n",
       "    <tr>\n",
       "      <td>2017-10-31</td>\n",
       "    </tr>\n",
       "    <tr>\n",
       "      <td>2017-11-30</td>\n",
       "    </tr>\n",
       "  </tbody>\n",
       "</table>\n",
       "</div>"
      ],
      "text/plain": [
       "Empty DataFrame\n",
       "Columns: []\n",
       "Index: [2017-07-31 00:00:00, 2017-08-31 00:00:00, 2017-09-30 00:00:00, 2017-10-31 00:00:00, 2017-11-30 00:00:00]"
      ]
     },
     "execution_count": 19,
     "metadata": {},
     "output_type": "execute_result"
    }
   ],
   "source": [
    "test_data=test.copy()\n",
    "test_data['price'] = min_max_scaler.fit_transform(test_data.price.values.reshape(-1,1))\n",
    "test_data['date']=pd.to_datetime(test_data['date'],format='%d/%m/%Y') \n",
    "test_data=test_data.sort_values('date') \n",
    "#test_data['Month']=test_data['date'].dt.month \n",
    "test_data=test_data.set_index('date')\n",
    "#test_data['Month'] = min_max_scaler.fit_transform(test_data.Month.values.reshape(-1,1))\n",
    "actual_price=pd.DataFrame() \n",
    "actual_price=test_data['price'] \n",
    "test_data=test_data.drop('price',axis=1) \n",
    "test_data.head()"
   ]
  },
  {
   "cell_type": "code",
   "execution_count": 20,
   "metadata": {},
   "outputs": [
    {
     "name": "stderr",
     "output_type": "stream",
     "text": [
      "C:\\Users\\sumon\\Anaconda3\\envs\\tensorflow\\lib\\site-packages\\ipykernel_launcher.py:1: FutureWarning: Method .as_matrix will be removed in a future version. Use .values instead.\n",
      "  \"\"\"Entry point for launching an IPython kernel.\n"
     ]
    }
   ],
   "source": [
    "x = X[-1:].as_matrix()\n",
    "test_forecast = np.reshape(x,(1,1,3))\n",
    "t = model.predict(test_forecast)"
   ]
  },
  {
   "cell_type": "code",
   "execution_count": 21,
   "metadata": {},
   "outputs": [
    {
     "data": {
      "text/html": [
       "<div>\n",
       "<style scoped>\n",
       "    .dataframe tbody tr th:only-of-type {\n",
       "        vertical-align: middle;\n",
       "    }\n",
       "\n",
       "    .dataframe tbody tr th {\n",
       "        vertical-align: top;\n",
       "    }\n",
       "\n",
       "    .dataframe thead th {\n",
       "        text-align: right;\n",
       "    }\n",
       "</style>\n",
       "<table border=\"1\" class=\"dataframe\">\n",
       "  <thead>\n",
       "    <tr style=\"text-align: right;\">\n",
       "      <th></th>\n",
       "      <th>price_lag</th>\n",
       "    </tr>\n",
       "    <tr>\n",
       "      <th>date</th>\n",
       "      <th></th>\n",
       "    </tr>\n",
       "  </thead>\n",
       "  <tbody>\n",
       "    <tr>\n",
       "      <td>2017-06-30</td>\n",
       "      <td>0.285552</td>\n",
       "    </tr>\n",
       "  </tbody>\n",
       "</table>\n",
       "</div>"
      ],
      "text/plain": [
       "            price_lag\n",
       "date                 \n",
       "2017-06-30   0.285552"
      ]
     },
     "execution_count": 21,
     "metadata": {},
     "output_type": "execute_result"
    }
   ],
   "source": [
    "temp = X[-1:]\n",
    "temp = temp[['price_lag']]\n",
    "n = temp.values.tolist()[0]\n",
    "temp.head()"
   ]
  },
  {
   "cell_type": "code",
   "execution_count": 22,
   "metadata": {},
   "outputs": [
    {
     "name": "stdout",
     "output_type": "stream",
     "text": [
      "[[0.52564347]]\n",
      "[0.28555169862857793]\n"
     ]
    }
   ],
   "source": [
    "print(t)\n",
    "print(n)"
   ]
  },
  {
   "cell_type": "code",
   "execution_count": 23,
   "metadata": {},
   "outputs": [
    {
     "name": "stderr",
     "output_type": "stream",
     "text": [
      "C:\\Users\\sumon\\Anaconda3\\envs\\tensorflow\\lib\\site-packages\\ipykernel_launcher.py:12: FutureWarning: Method .as_matrix will be removed in a future version. Use .values instead.\n",
      "  if sys.path[0] == '':\n"
     ]
    },
    {
     "name": "stdout",
     "output_type": "stream",
     "text": [
      "   price_lag  price_diff  rolling_mean_price\n",
      "0   0.285552         NaN            0.285552\n",
      "1   0.525643    0.240092            0.811195\n",
      "[[0.30103683]]\n",
      "   price_lag  price_diff  rolling_mean_price\n",
      "0   0.525643         NaN            0.525643\n",
      "1   0.301037   -0.224607            0.826680\n",
      "[[0.24963735]]\n",
      "   price_lag  price_diff  rolling_mean_price\n",
      "0   0.301037         NaN            0.301037\n",
      "1   0.249637   -0.051399            0.550674\n",
      "[[0.19588989]]\n",
      "   price_lag  price_diff  rolling_mean_price\n",
      "0   0.249637         NaN            0.249637\n",
      "1   0.195890   -0.053747            0.445527\n",
      "[[0.16872348]]\n",
      "   price_lag  price_diff  rolling_mean_price\n",
      "0   0.195890         NaN            0.195890\n",
      "1   0.168723   -0.027166            0.364613\n",
      "[[0.15135872]]\n",
      "   price_lag  price_diff  rolling_mean_price\n",
      "0   0.168723         NaN            0.168723\n",
      "1   0.151359   -0.017365            0.320082\n",
      "[[0.14145613]]\n",
      "   price_lag  price_diff  rolling_mean_price\n",
      "0   0.151359         NaN            0.151359\n",
      "1   0.141456   -0.009903            0.292815\n",
      "[[0.13560927]]\n",
      "   price_lag  price_diff  rolling_mean_price\n",
      "0   0.141456         NaN            0.141456\n",
      "1   0.135609   -0.005847            0.277065\n",
      "[[0.13222757]]\n",
      "   price_lag  price_diff  rolling_mean_price\n",
      "0   0.135609         NaN            0.135609\n",
      "1   0.132228   -0.003382            0.267837\n",
      "[[0.13026287]]\n",
      "   price_lag  price_diff  rolling_mean_price\n",
      "0   0.132228         NaN            0.132228\n",
      "1   0.130263   -0.001965            0.262490\n",
      "[[0.12912604]]\n",
      "   price_lag  price_diff  rolling_mean_price\n",
      "0   0.130263         NaN            0.130263\n",
      "1   0.129126   -0.001137            0.259389\n",
      "[[0.12846805]]\n",
      "   price_lag  price_diff  rolling_mean_price\n",
      "0   0.129126         NaN            0.129126\n",
      "1   0.128468   -0.000658            0.257594\n",
      "[[0.12808755]]\n",
      "   price_lag  price_diff  rolling_mean_price\n",
      "0   0.128468         NaN            0.128468\n",
      "1   0.128088   -0.000381            0.256556\n",
      "[[0.12786753]]\n",
      "   price_lag  price_diff  rolling_mean_price\n",
      "0   0.128088         NaN            0.128088\n",
      "1   0.127868    -0.00022            0.255955\n",
      "[[0.12774034]]\n",
      "   price_lag  price_diff  rolling_mean_price\n",
      "0   0.127868         NaN            0.127868\n",
      "1   0.127740   -0.000127            0.255608\n",
      "[[0.1276668]]\n",
      "   price_lag  price_diff  rolling_mean_price\n",
      "0   0.127740         NaN            0.127740\n",
      "1   0.127667   -0.000074            0.255407\n",
      "[[0.1276243]]\n",
      "   price_lag  price_diff  rolling_mean_price\n",
      "0   0.127667         NaN            0.127667\n",
      "1   0.127624   -0.000042            0.255291\n",
      "[[0.12759973]]\n",
      "   price_lag  price_diff  rolling_mean_price\n",
      "0   0.127624         NaN            0.127624\n",
      "1   0.127600   -0.000025            0.255224\n",
      "[[0.12758553]]\n"
     ]
    }
   ],
   "source": [
    "prediction=[]\n",
    "kk = []\n",
    "for i in range(1,len(test_data)+1):\n",
    "    forecastdata=test_data[i-1:i] \n",
    "    o=forecastdata.values \n",
    "    y=list(np.append(o,t))\n",
    "    forecast=pd.DataFrame(columns=['price_lag']) \n",
    "    forecast.loc[0]=n \n",
    "    forecast.loc[1]=y\n",
    "    forecast['price_diff']=forecast['price_lag'].diff(periods=1) \n",
    "    forecast['rolling_mean_price']=forecast['price_lag'].rolling(2,min_periods=1).sum()\n",
    "    x = forecast[-1:].as_matrix()\n",
    "    new_val = np.reshape(x,(1,1,3))\n",
    "    t=model.predict(new_val) \n",
    "    n=y \n",
    "    print(forecast) \n",
    "    print(t)\n",
    "    prediction.append(t)\n",
    "    kk.append(t)"
   ]
  },
  {
   "cell_type": "code",
   "execution_count": 24,
   "metadata": {},
   "outputs": [],
   "source": [
    "pred = []\n",
    "for i in range(len(prediction)):\n",
    "    pred.append(prediction[i][0][0])"
   ]
  },
  {
   "cell_type": "code",
   "execution_count": 25,
   "metadata": {},
   "outputs": [
    {
     "data": {
      "text/plain": [
       "date\n",
       "2017-07-31    0.342771\n",
       "2017-08-31    0.815663\n",
       "2017-09-30    0.493373\n",
       "2017-10-31    0.000000\n",
       "2017-11-30    0.142169\n",
       "2017-12-31    0.643976\n",
       "2018-01-31    0.887349\n",
       "2018-02-28    1.000000\n",
       "2018-03-31    0.618675\n",
       "2018-04-30    0.318072\n",
       "2018-05-31    0.336145\n",
       "2018-06-30    0.350000\n",
       "2018-07-31    0.361446\n",
       "2018-08-31    0.419880\n",
       "2018-09-30    0.466867\n",
       "2018-10-31    0.660843\n",
       "2018-11-30    0.677711\n",
       "2018-12-31    0.472892\n",
       "Name: price, dtype: float64"
      ]
     },
     "execution_count": 25,
     "metadata": {},
     "output_type": "execute_result"
    }
   ],
   "source": [
    "actual_price"
   ]
  },
  {
   "cell_type": "code",
   "execution_count": 26,
   "metadata": {},
   "outputs": [],
   "source": [
    "predictdata=pd.DataFrame(pred,index=test_data.index,columns=['price']) "
   ]
  },
  {
   "cell_type": "code",
   "execution_count": 27,
   "metadata": {},
   "outputs": [],
   "source": [
    "def denormalize(df, normalized_value): \n",
    "    df = df['price'].values.reshape(-1,1)\n",
    "    normalized_value = normalized_value.reshape(-1,1)\n",
    "    #return df.shape, p.shape\n",
    "    min_max_scaler = sklearn.preprocessing.MinMaxScaler()\n",
    "    a = min_max_scaler.fit_transform(df)\n",
    "    new = min_max_scaler.inverse_transform(normalized_value)\n",
    "    return new\n",
    "\n",
    "newp = denormalize(df, np.array(pred))\n",
    "newy_test = denormalize(test, np.array(actual_price))"
   ]
  },
  {
   "cell_type": "code",
   "execution_count": 28,
   "metadata": {},
   "outputs": [],
   "source": [
    "import pandas as pd\n",
    "act_pred = pd.concat([pd.DataFrame(newp), pd.DataFrame(newy_test)], axis=1)\n",
    "act_pred.columns = ['Predicted', 'Actual']"
   ]
  },
  {
   "cell_type": "code",
   "execution_count": 29,
   "metadata": {},
   "outputs": [
    {
     "data": {
      "text/html": [
       "<div>\n",
       "<style scoped>\n",
       "    .dataframe tbody tr th:only-of-type {\n",
       "        vertical-align: middle;\n",
       "    }\n",
       "\n",
       "    .dataframe tbody tr th {\n",
       "        vertical-align: top;\n",
       "    }\n",
       "\n",
       "    .dataframe thead th {\n",
       "        text-align: right;\n",
       "    }\n",
       "</style>\n",
       "<table border=\"1\" class=\"dataframe\">\n",
       "  <thead>\n",
       "    <tr style=\"text-align: right;\">\n",
       "      <th></th>\n",
       "      <th>Predicted</th>\n",
       "      <th>Actual</th>\n",
       "    </tr>\n",
       "  </thead>\n",
       "  <tbody>\n",
       "    <tr>\n",
       "      <td>0</td>\n",
       "      <td>64.351204</td>\n",
       "      <td>66.74</td>\n",
       "    </tr>\n",
       "    <tr>\n",
       "      <td>1</td>\n",
       "      <td>55.318771</td>\n",
       "      <td>74.59</td>\n",
       "    </tr>\n",
       "    <tr>\n",
       "      <td>2</td>\n",
       "      <td>45.873734</td>\n",
       "      <td>69.24</td>\n",
       "    </tr>\n",
       "    <tr>\n",
       "      <td>3</td>\n",
       "      <td>41.099777</td>\n",
       "      <td>61.05</td>\n",
       "    </tr>\n",
       "    <tr>\n",
       "      <td>4</td>\n",
       "      <td>38.048267</td>\n",
       "      <td>63.41</td>\n",
       "    </tr>\n",
       "    <tr>\n",
       "      <td>5</td>\n",
       "      <td>36.308086</td>\n",
       "      <td>71.74</td>\n",
       "    </tr>\n",
       "    <tr>\n",
       "      <td>6</td>\n",
       "      <td>35.280617</td>\n",
       "      <td>75.78</td>\n",
       "    </tr>\n",
       "    <tr>\n",
       "      <td>7</td>\n",
       "      <td>34.686352</td>\n",
       "      <td>77.65</td>\n",
       "    </tr>\n",
       "    <tr>\n",
       "      <td>8</td>\n",
       "      <td>34.341095</td>\n",
       "      <td>71.32</td>\n",
       "    </tr>\n",
       "    <tr>\n",
       "      <td>9</td>\n",
       "      <td>34.141319</td>\n",
       "      <td>66.33</td>\n",
       "    </tr>\n",
       "    <tr>\n",
       "      <td>10</td>\n",
       "      <td>34.025692</td>\n",
       "      <td>66.63</td>\n",
       "    </tr>\n",
       "    <tr>\n",
       "      <td>11</td>\n",
       "      <td>33.958824</td>\n",
       "      <td>66.86</td>\n",
       "    </tr>\n",
       "    <tr>\n",
       "      <td>12</td>\n",
       "      <td>33.920162</td>\n",
       "      <td>67.05</td>\n",
       "    </tr>\n",
       "    <tr>\n",
       "      <td>13</td>\n",
       "      <td>33.897808</td>\n",
       "      <td>68.02</td>\n",
       "    </tr>\n",
       "    <tr>\n",
       "      <td>14</td>\n",
       "      <td>33.884888</td>\n",
       "      <td>68.80</td>\n",
       "    </tr>\n",
       "    <tr>\n",
       "      <td>15</td>\n",
       "      <td>33.877419</td>\n",
       "      <td>72.02</td>\n",
       "    </tr>\n",
       "    <tr>\n",
       "      <td>16</td>\n",
       "      <td>33.873100</td>\n",
       "      <td>72.30</td>\n",
       "    </tr>\n",
       "    <tr>\n",
       "      <td>17</td>\n",
       "      <td>33.870605</td>\n",
       "      <td>68.90</td>\n",
       "    </tr>\n",
       "  </tbody>\n",
       "</table>\n",
       "</div>"
      ],
      "text/plain": [
       "    Predicted  Actual\n",
       "0   64.351204   66.74\n",
       "1   55.318771   74.59\n",
       "2   45.873734   69.24\n",
       "3   41.099777   61.05\n",
       "4   38.048267   63.41\n",
       "5   36.308086   71.74\n",
       "6   35.280617   75.78\n",
       "7   34.686352   77.65\n",
       "8   34.341095   71.32\n",
       "9   34.141319   66.33\n",
       "10  34.025692   66.63\n",
       "11  33.958824   66.86\n",
       "12  33.920162   67.05\n",
       "13  33.897808   68.02\n",
       "14  33.884888   68.80\n",
       "15  33.877419   72.02\n",
       "16  33.873100   72.30\n",
       "17  33.870605   68.90"
      ]
     },
     "execution_count": 29,
     "metadata": {},
     "output_type": "execute_result"
    }
   ],
   "source": [
    "act_pred"
   ]
  },
  {
   "cell_type": "code",
   "execution_count": 30,
   "metadata": {},
   "outputs": [],
   "source": [
    "act_pred['date'] = predictdata.index"
   ]
  },
  {
   "cell_type": "code",
   "execution_count": 31,
   "metadata": {},
   "outputs": [],
   "source": [
    "act_pred=act_pred.set_index('date')"
   ]
  },
  {
   "cell_type": "code",
   "execution_count": 32,
   "metadata": {},
   "outputs": [
    {
     "data": {
      "text/html": [
       "<div>\n",
       "<style scoped>\n",
       "    .dataframe tbody tr th:only-of-type {\n",
       "        vertical-align: middle;\n",
       "    }\n",
       "\n",
       "    .dataframe tbody tr th {\n",
       "        vertical-align: top;\n",
       "    }\n",
       "\n",
       "    .dataframe thead th {\n",
       "        text-align: right;\n",
       "    }\n",
       "</style>\n",
       "<table border=\"1\" class=\"dataframe\">\n",
       "  <thead>\n",
       "    <tr style=\"text-align: right;\">\n",
       "      <th></th>\n",
       "      <th>Predicted</th>\n",
       "      <th>Actual</th>\n",
       "    </tr>\n",
       "    <tr>\n",
       "      <th>date</th>\n",
       "      <th></th>\n",
       "      <th></th>\n",
       "    </tr>\n",
       "  </thead>\n",
       "  <tbody>\n",
       "    <tr>\n",
       "      <td>2017-07-31</td>\n",
       "      <td>64.351204</td>\n",
       "      <td>66.74</td>\n",
       "    </tr>\n",
       "    <tr>\n",
       "      <td>2017-08-31</td>\n",
       "      <td>55.318771</td>\n",
       "      <td>74.59</td>\n",
       "    </tr>\n",
       "    <tr>\n",
       "      <td>2017-09-30</td>\n",
       "      <td>45.873734</td>\n",
       "      <td>69.24</td>\n",
       "    </tr>\n",
       "    <tr>\n",
       "      <td>2017-10-31</td>\n",
       "      <td>41.099777</td>\n",
       "      <td>61.05</td>\n",
       "    </tr>\n",
       "    <tr>\n",
       "      <td>2017-11-30</td>\n",
       "      <td>38.048267</td>\n",
       "      <td>63.41</td>\n",
       "    </tr>\n",
       "    <tr>\n",
       "      <td>2017-12-31</td>\n",
       "      <td>36.308086</td>\n",
       "      <td>71.74</td>\n",
       "    </tr>\n",
       "    <tr>\n",
       "      <td>2018-01-31</td>\n",
       "      <td>35.280617</td>\n",
       "      <td>75.78</td>\n",
       "    </tr>\n",
       "    <tr>\n",
       "      <td>2018-02-28</td>\n",
       "      <td>34.686352</td>\n",
       "      <td>77.65</td>\n",
       "    </tr>\n",
       "    <tr>\n",
       "      <td>2018-03-31</td>\n",
       "      <td>34.341095</td>\n",
       "      <td>71.32</td>\n",
       "    </tr>\n",
       "    <tr>\n",
       "      <td>2018-04-30</td>\n",
       "      <td>34.141319</td>\n",
       "      <td>66.33</td>\n",
       "    </tr>\n",
       "    <tr>\n",
       "      <td>2018-05-31</td>\n",
       "      <td>34.025692</td>\n",
       "      <td>66.63</td>\n",
       "    </tr>\n",
       "    <tr>\n",
       "      <td>2018-06-30</td>\n",
       "      <td>33.958824</td>\n",
       "      <td>66.86</td>\n",
       "    </tr>\n",
       "    <tr>\n",
       "      <td>2018-07-31</td>\n",
       "      <td>33.920162</td>\n",
       "      <td>67.05</td>\n",
       "    </tr>\n",
       "    <tr>\n",
       "      <td>2018-08-31</td>\n",
       "      <td>33.897808</td>\n",
       "      <td>68.02</td>\n",
       "    </tr>\n",
       "    <tr>\n",
       "      <td>2018-09-30</td>\n",
       "      <td>33.884888</td>\n",
       "      <td>68.80</td>\n",
       "    </tr>\n",
       "    <tr>\n",
       "      <td>2018-10-31</td>\n",
       "      <td>33.877419</td>\n",
       "      <td>72.02</td>\n",
       "    </tr>\n",
       "    <tr>\n",
       "      <td>2018-11-30</td>\n",
       "      <td>33.873100</td>\n",
       "      <td>72.30</td>\n",
       "    </tr>\n",
       "    <tr>\n",
       "      <td>2018-12-31</td>\n",
       "      <td>33.870605</td>\n",
       "      <td>68.90</td>\n",
       "    </tr>\n",
       "  </tbody>\n",
       "</table>\n",
       "</div>"
      ],
      "text/plain": [
       "            Predicted  Actual\n",
       "date                         \n",
       "2017-07-31  64.351204   66.74\n",
       "2017-08-31  55.318771   74.59\n",
       "2017-09-30  45.873734   69.24\n",
       "2017-10-31  41.099777   61.05\n",
       "2017-11-30  38.048267   63.41\n",
       "2017-12-31  36.308086   71.74\n",
       "2018-01-31  35.280617   75.78\n",
       "2018-02-28  34.686352   77.65\n",
       "2018-03-31  34.341095   71.32\n",
       "2018-04-30  34.141319   66.33\n",
       "2018-05-31  34.025692   66.63\n",
       "2018-06-30  33.958824   66.86\n",
       "2018-07-31  33.920162   67.05\n",
       "2018-08-31  33.897808   68.02\n",
       "2018-09-30  33.884888   68.80\n",
       "2018-10-31  33.877419   72.02\n",
       "2018-11-30  33.873100   72.30\n",
       "2018-12-31  33.870605   68.90"
      ]
     },
     "execution_count": 32,
     "metadata": {},
     "output_type": "execute_result"
    }
   ],
   "source": [
    "act_pred"
   ]
  },
  {
   "cell_type": "code",
   "execution_count": 33,
   "metadata": {},
   "outputs": [
    {
     "data": {
      "text/plain": [
       "<matplotlib.axes._subplots.AxesSubplot at 0x1ee5ab83048>"
      ]
     },
     "execution_count": 33,
     "metadata": {},
     "output_type": "execute_result"
    },
    {
     "data": {
      "image/png": "[encoded data removed]",
      "text/plain": [
       "<Figure size 432x288 with 1 Axes>"
      ]
     },
     "metadata": {
      "needs_background": "light"
     },
     "output_type": "display_data"
    }
   ],
   "source": [
    "act_pred.plot()"
   ]
  },
  {
   "cell_type": "code",
   "execution_count": null,
   "metadata": {},
   "outputs": [],
   "source": []
  }
 ],
 "metadata": {
  "kernelspec": {
   "display_name": "Python 3",
   "language": "python",
   "name": "python3"
  },
  "language_info": {
   "codemirror_mode": {
    "name": "ipython",
    "version": 3
   },
   "file_extension": ".py",
   "mimetype": "text/x-python",
   "name": "python",
   "nbconvert_exporter": "python",
   "pygments_lexer": "ipython3",
   "version": "3.7.4"
  }
 },
 "nbformat": 4,
 "nbformat_minor": 2
}
