{
 "cells": [
  {
   "cell_type": "code",
   "execution_count": 1,
   "metadata": {},
   "outputs": [
    {
     "name": "stderr",
     "output_type": "stream",
     "text": [
      "Using TensorFlow backend.\n"
     ]
    }
   ],
   "source": [
    "import numpy as np\n",
    "import matplotlib.pyplot as plt\n",
    "%matplotlib inline\n",
    "from sklearn.linear_model import LinearRegression \n",
    "import matplotlib.pylab as pylab\n",
    "import math,time\n",
    "import sklearn\n",
    "import sklearn.preprocessing\n",
    "import datetime\n",
    "import os\n",
    "import matplotlib.pyplot as plt\n",
    "import keras\n",
    "from keras.models import Sequential\n",
    "from keras.layers import LSTM\n",
    "from keras.layers.core import Dense, Dropout, Activation\n",
    "from sklearn.preprocessing import MinMaxScaler\n",
    "from statsmodels.graphics.tsaplots import plot_pacf, plot_acf\n",
    "\n",
    "test_set_size_percentage = 20 \n",
    "import pandas as pd\n",
    "from pandas import read_csv\n",
    "from sklearn.metrics import r2_score,mean_squared_error "
   ]
  },
  {
   "cell_type": "code",
   "execution_count": 2,
   "metadata": {},
   "outputs": [],
   "source": [
    "data=pd.read_csv('dataset/irondata.csv',parse_dates=['date'])"
   ]
  },
  {
   "cell_type": "code",
   "execution_count": 3,
   "metadata": {},
   "outputs": [
    {
     "data": {
      "image/png": "[encoded data removed]",
      "text/plain": [
       "<Figure size 432x288 with 1 Axes>"
      ]
     },
     "metadata": {
      "needs_background": "light"
     },
     "output_type": "display_data"
    }
   ],
   "source": [
    "data['price'].plot()\n",
    "data['price_lag']=data['price'].shift(1)\n",
    "data=data.set_index('date')\n",
    "#data['rolling_mean_price']=data['price_lag'].rolling(2, min_periods=1).sum()\n",
    "data=data.dropna()"
   ]
  },
  {
   "cell_type": "code",
   "execution_count": 4,
   "metadata": {},
   "outputs": [],
   "source": [
    "# function for min-max normalization of Iron Ore \n",
    "min_max_scaler = sklearn.preprocessing.MinMaxScaler()\n",
    "def normalize_data(df):\n",
    "    df['price'] = min_max_scaler.fit_transform(df.price.values.reshape(-1,1))\n",
    "    df['price_lag'] = min_max_scaler.fit_transform(df.price_lag.values.reshape(-1,1))\n",
    "    #df['rolling_mean_price'] = min_max_scaler.fit_transform(df.rolling_mean_price.values.reshape(-1,1))\n",
    "    return df"
   ]
  },
  {
   "cell_type": "code",
   "execution_count": 5,
   "metadata": {},
   "outputs": [
    {
     "data": {
      "text/html": [
       "<div>\n",
       "<style scoped>\n",
       "    .dataframe tbody tr th:only-of-type {\n",
       "        vertical-align: middle;\n",
       "    }\n",
       "\n",
       "    .dataframe tbody tr th {\n",
       "        vertical-align: top;\n",
       "    }\n",
       "\n",
       "    .dataframe thead th {\n",
       "        text-align: right;\n",
       "    }\n",
       "</style>\n",
       "<table border=\"1\" class=\"dataframe\">\n",
       "  <thead>\n",
       "    <tr style=\"text-align: right;\">\n",
       "      <th></th>\n",
       "      <th>price</th>\n",
       "      <th>price_lag</th>\n",
       "    </tr>\n",
       "    <tr>\n",
       "      <th>date</th>\n",
       "      <th></th>\n",
       "      <th></th>\n",
       "    </tr>\n",
       "  </thead>\n",
       "  <tbody>\n",
       "    <tr>\n",
       "      <td>1990-02-28</td>\n",
       "      <td>0.014795</td>\n",
       "      <td>0.014795</td>\n",
       "    </tr>\n",
       "    <tr>\n",
       "      <td>1990-03-31</td>\n",
       "      <td>0.014795</td>\n",
       "      <td>0.014795</td>\n",
       "    </tr>\n",
       "    <tr>\n",
       "      <td>1990-04-30</td>\n",
       "      <td>0.014795</td>\n",
       "      <td>0.014795</td>\n",
       "    </tr>\n",
       "    <tr>\n",
       "      <td>1990-05-31</td>\n",
       "      <td>0.014795</td>\n",
       "      <td>0.014795</td>\n",
       "    </tr>\n",
       "    <tr>\n",
       "      <td>1990-06-30</td>\n",
       "      <td>0.014795</td>\n",
       "      <td>0.014795</td>\n",
       "    </tr>\n",
       "  </tbody>\n",
       "</table>\n",
       "</div>"
      ],
      "text/plain": [
       "               price  price_lag\n",
       "date                           \n",
       "1990-02-28  0.014795   0.014795\n",
       "1990-03-31  0.014795   0.014795\n",
       "1990-04-30  0.014795   0.014795\n",
       "1990-05-31  0.014795   0.014795\n",
       "1990-06-30  0.014795   0.014795"
      ]
     },
     "execution_count": 5,
     "metadata": {},
     "output_type": "execute_result"
    }
   ],
   "source": [
    "# normalize stock\n",
    "df = data.copy()\n",
    "df = normalize_data(df)\n",
    "df.head()"
   ]
  },
  {
   "cell_type": "code",
   "execution_count": 6,
   "metadata": {},
   "outputs": [],
   "source": [
    "train=df[:335]\n",
    "test = df[335:-1]\n",
    "forecast = df[-1:]"
   ]
  },
  {
   "cell_type": "code",
   "execution_count": 7,
   "metadata": {},
   "outputs": [
    {
     "data": {
      "text/html": [
       "<div>\n",
       "<style scoped>\n",
       "    .dataframe tbody tr th:only-of-type {\n",
       "        vertical-align: middle;\n",
       "    }\n",
       "\n",
       "    .dataframe tbody tr th {\n",
       "        vertical-align: top;\n",
       "    }\n",
       "\n",
       "    .dataframe thead th {\n",
       "        text-align: right;\n",
       "    }\n",
       "</style>\n",
       "<table border=\"1\" class=\"dataframe\">\n",
       "  <thead>\n",
       "    <tr style=\"text-align: right;\">\n",
       "      <th></th>\n",
       "      <th>price</th>\n",
       "      <th>price_lag</th>\n",
       "    </tr>\n",
       "    <tr>\n",
       "      <th>date</th>\n",
       "      <th></th>\n",
       "      <th></th>\n",
       "    </tr>\n",
       "  </thead>\n",
       "  <tbody>\n",
       "    <tr>\n",
       "      <td>2018-01-31</td>\n",
       "      <td>0.366073</td>\n",
       "      <td>0.343083</td>\n",
       "    </tr>\n",
       "    <tr>\n",
       "      <td>2018-02-28</td>\n",
       "      <td>0.376714</td>\n",
       "      <td>0.366073</td>\n",
       "    </tr>\n",
       "    <tr>\n",
       "      <td>2018-03-31</td>\n",
       "      <td>0.340693</td>\n",
       "      <td>0.376714</td>\n",
       "    </tr>\n",
       "    <tr>\n",
       "      <td>2018-04-30</td>\n",
       "      <td>0.312297</td>\n",
       "      <td>0.340693</td>\n",
       "    </tr>\n",
       "    <tr>\n",
       "      <td>2018-05-31</td>\n",
       "      <td>0.314004</td>\n",
       "      <td>0.312297</td>\n",
       "    </tr>\n",
       "    <tr>\n",
       "      <td>2018-06-30</td>\n",
       "      <td>0.315313</td>\n",
       "      <td>0.314004</td>\n",
       "    </tr>\n",
       "    <tr>\n",
       "      <td>2018-07-31</td>\n",
       "      <td>0.316394</td>\n",
       "      <td>0.315313</td>\n",
       "    </tr>\n",
       "    <tr>\n",
       "      <td>2018-08-31</td>\n",
       "      <td>0.321914</td>\n",
       "      <td>0.316394</td>\n",
       "    </tr>\n",
       "    <tr>\n",
       "      <td>2018-09-30</td>\n",
       "      <td>0.326353</td>\n",
       "      <td>0.321914</td>\n",
       "    </tr>\n",
       "    <tr>\n",
       "      <td>2018-10-31</td>\n",
       "      <td>0.344676</td>\n",
       "      <td>0.326353</td>\n",
       "    </tr>\n",
       "    <tr>\n",
       "      <td>2018-11-30</td>\n",
       "      <td>0.346270</td>\n",
       "      <td>0.344676</td>\n",
       "    </tr>\n",
       "  </tbody>\n",
       "</table>\n",
       "</div>"
      ],
      "text/plain": [
       "               price  price_lag\n",
       "date                           \n",
       "2018-01-31  0.366073   0.343083\n",
       "2018-02-28  0.376714   0.366073\n",
       "2018-03-31  0.340693   0.376714\n",
       "2018-04-30  0.312297   0.340693\n",
       "2018-05-31  0.314004   0.312297\n",
       "2018-06-30  0.315313   0.314004\n",
       "2018-07-31  0.316394   0.315313\n",
       "2018-08-31  0.321914   0.316394\n",
       "2018-09-30  0.326353   0.321914\n",
       "2018-10-31  0.344676   0.326353\n",
       "2018-11-30  0.346270   0.344676"
      ]
     },
     "execution_count": 7,
     "metadata": {},
     "output_type": "execute_result"
    }
   ],
   "source": [
    "test"
   ]
  },
  {
   "cell_type": "code",
   "execution_count": 8,
   "metadata": {},
   "outputs": [
    {
     "name": "stderr",
     "output_type": "stream",
     "text": [
      "C:\\Users\\sumon\\Anaconda3\\envs\\tensorflow\\lib\\site-packages\\ipykernel_launcher.py:1: FutureWarning: Method .as_matrix will be removed in a future version. Use .values instead.\n",
      "  \"\"\"Entry point for launching an IPython kernel.\n",
      "C:\\Users\\sumon\\Anaconda3\\envs\\tensorflow\\lib\\site-packages\\ipykernel_launcher.py:2: FutureWarning: Method .as_matrix will be removed in a future version. Use .values instead.\n",
      "  \n",
      "C:\\Users\\sumon\\Anaconda3\\envs\\tensorflow\\lib\\site-packages\\ipykernel_launcher.py:3: FutureWarning: Method .as_matrix will be removed in a future version. Use .values instead.\n",
      "  This is separate from the ipykernel package so we can avoid doing imports until\n"
     ]
    }
   ],
   "source": [
    "train_data_raw = train.as_matrix()\n",
    "test_data_raw = test.as_matrix()\n",
    "forecast_data_raw = forecast.as_matrix()"
   ]
  },
  {
   "cell_type": "code",
   "execution_count": 9,
   "metadata": {},
   "outputs": [
    {
     "data": {
      "text/plain": [
       "array([[0.32692198, 0.34626985]])"
      ]
     },
     "execution_count": 9,
     "metadata": {},
     "output_type": "execute_result"
    }
   ],
   "source": [
    "forecast_data_raw"
   ]
  },
  {
   "cell_type": "code",
   "execution_count": 10,
   "metadata": {},
   "outputs": [],
   "source": [
    "x_train = train_data_raw[:,1:] #without price column of train\n",
    "y_train = train_data_raw[:,0] #with price column of train\n",
    "\n",
    "x_test = test_data_raw[:,1:] #without price column of train\n",
    "y_test = test_data_raw[:,0]  #with price column of train\n",
    "\n",
    "x_forecast = forecast_data_raw[:,1:]\n",
    "y_forecast = forecast_data_raw[:,0]"
   ]
  },
  {
   "cell_type": "code",
   "execution_count": 11,
   "metadata": {},
   "outputs": [
    {
     "name": "stdout",
     "output_type": "stream",
     "text": [
      "x_train.shape =  (335, 1)\n",
      "y_train.shape =  (335,)\n",
      "x_test.shape =  (11, 1)\n",
      "y_test.shape =  (11,)\n",
      "x_forecast.shape =  (1, 1)\n",
      "y_forecast.shape  (1,)\n"
     ]
    }
   ],
   "source": [
    "print('x_train.shape = ',x_train.shape)\n",
    "print('y_train.shape = ', y_train.shape)\n",
    "print('x_test.shape = ', x_test.shape)\n",
    "print('y_test.shape = ',y_test.shape)\n",
    "print('x_forecast.shape = ', x_forecast.shape)\n",
    "print('y_forecast.shape ',y_forecast.shape)"
   ]
  },
  {
   "cell_type": "code",
   "execution_count": 12,
   "metadata": {},
   "outputs": [
    {
     "data": {
      "text/plain": [
       "335"
      ]
     },
     "execution_count": 12,
     "metadata": {},
     "output_type": "execute_result"
    }
   ],
   "source": [
    "x_train.shape[0]"
   ]
  },
  {
   "cell_type": "code",
   "execution_count": 13,
   "metadata": {},
   "outputs": [
    {
     "data": {
      "text/plain": [
       "(11, 1, 1)"
      ]
     },
     "execution_count": 13,
     "metadata": {},
     "output_type": "execute_result"
    }
   ],
   "source": [
    "#Reshape data for (Sample,Timestep,Features) \n",
    "x_train = x_train.reshape((x_train.shape[0],1,x_train.shape[1]))\n",
    "x_test = x_test.reshape((x_test.shape[0],1,x_test.shape[1]))\n",
    "#x_forecast = x_forecast.reshape((x_forecast.shape[0],1,x_test.shape[1]))\n",
    "x_test.shape"
   ]
  },
  {
   "cell_type": "code",
   "execution_count": 14,
   "metadata": {},
   "outputs": [
    {
     "name": "stdout",
     "output_type": "stream",
     "text": [
      "Compilation Time :  0.08362555503845215\n"
     ]
    }
   ],
   "source": [
    "d = 0.3\n",
    "model = Sequential()\n",
    "\n",
    "model.add(LSTM(32, input_shape=(1,1), return_sequences=True)) #timestamp with 2 feature\n",
    "#model.add(Dropout(d))\n",
    "\n",
    "model.add(LSTM(32, input_shape=(1,1), return_sequences=False))\n",
    "#model.add(Dropout(d))\n",
    "\n",
    "model.add(Dense(16,kernel_initializer=\"uniform\",activation='relu'))        \n",
    "model.add(Dense(1,kernel_initializer=\"uniform\",activation='linear'))\n",
    "\n",
    "# adam = keras.optimizers.Adam(decay=0.2)\n",
    "\n",
    "start = time.time()\n",
    "model.compile(loss='mse',optimizer='adam', metrics=['accuracy'])\n",
    "print(\"Compilation Time : \", time.time() - start)"
   ]
  },
  {
   "cell_type": "code",
   "execution_count": 15,
   "metadata": {},
   "outputs": [
    {
     "name": "stdout",
     "output_type": "stream",
     "text": [
      "Model: \"sequential_1\"\n",
      "_________________________________________________________________\n",
      "Layer (type)                 Output Shape              Param #   \n",
      "=================================================================\n",
      "lstm_1 (LSTM)                (None, 1, 32)             4352      \n",
      "_________________________________________________________________\n",
      "lstm_2 (LSTM)                (None, 32)                8320      \n",
      "_________________________________________________________________\n",
      "dense_1 (Dense)              (None, 16)                528       \n",
      "_________________________________________________________________\n",
      "dense_2 (Dense)              (None, 1)                 17        \n",
      "=================================================================\n",
      "Total params: 13,217\n",
      "Trainable params: 13,217\n",
      "Non-trainable params: 0\n",
      "_________________________________________________________________\n"
     ]
    }
   ],
   "source": [
    "model.summary()"
   ]
  },
  {
   "cell_type": "code",
   "execution_count": 16,
   "metadata": {},
   "outputs": [
    {
     "name": "stdout",
     "output_type": "stream",
     "text": [
      "WARNING:tensorflow:From C:\\Users\\sumon\\Anaconda3\\envs\\tensorflow\\lib\\site-packages\\keras\\backend\\tensorflow_backend.py:422: The name tf.global_variables is deprecated. Please use tf.compat.v1.global_variables instead.\n",
      "\n",
      "Epoch 1/80\n",
      "335/335 [==============================] - 1s 2ms/step - loss: 0.1100 - accuracy: 0.0358    \n",
      "Epoch 2/80\n",
      "335/335 [==============================] - 0s 80us/step - loss: 0.1063 - accuracy: 0.0358   \n",
      "Epoch 3/80\n",
      "335/335 [==============================] - 0s 71us/step - loss: 0.1022 - accuracy: 0.0358   \n",
      "Epoch 4/80\n",
      "335/335 [==============================] - 0s 98us/step - loss: 0.0976 - accuracy: 0.0358   \n",
      "Epoch 5/80\n",
      "335/335 [==============================] - 0s 74us/step - loss: 0.0926 - accuracy: 0.0358   \n",
      "Epoch 6/80\n",
      "335/335 [==============================] - 0s 84us/step - loss: 0.0869 - accuracy: 0.0358\n",
      "Epoch 7/80\n",
      "335/335 [==============================] - 0s 77us/step - loss: 0.0808 - accuracy: 0.0358\n",
      "Epoch 8/80\n",
      "335/335 [==============================] - 0s 83us/step - loss: 0.0745 - accuracy: 0.0358\n",
      "Epoch 9/80\n",
      "335/335 [==============================] - 0s 80us/step - loss: 0.0687 - accuracy: 0.0358\n",
      "Epoch 10/80\n",
      "335/335 [==============================] - 0s 74us/step - loss: 0.0638 - accuracy: 0.0358\n",
      "Epoch 11/80\n",
      "335/335 [==============================] - 0s 77us/step - loss: 0.0601 - accuracy: 0.0358\n",
      "Epoch 12/80\n",
      "335/335 [==============================] - 0s 113us/step - loss: 0.0574 - accuracy: 0.0358\n",
      "Epoch 13/80\n",
      "335/335 [==============================] - 0s 77us/step - loss: 0.0552 - accuracy: 0.0358\n",
      "Epoch 14/80\n",
      "335/335 [==============================] - 0s 92us/step - loss: 0.0530 - accuracy: 0.0358\n",
      "Epoch 15/80\n",
      "335/335 [==============================] - 0s 77us/step - loss: 0.0507 - accuracy: 0.0358\n",
      "Epoch 16/80\n",
      "335/335 [==============================] - 0s 83us/step - loss: 0.0479 - accuracy: 0.0358\n",
      "Epoch 17/80\n",
      "335/335 [==============================] - 0s 89us/step - loss: 0.0449 - accuracy: 0.0358\n",
      "Epoch 18/80\n",
      "335/335 [==============================] - 0s 74us/step - loss: 0.0417 - accuracy: 0.0358\n",
      "Epoch 19/80\n",
      "335/335 [==============================] - 0s 80us/step - loss: 0.0382 - accuracy: 0.0388\n",
      "Epoch 20/80\n",
      "335/335 [==============================] - 0s 119us/step - loss: 0.0346 - accuracy: 0.0388\n",
      "Epoch 21/80\n",
      "335/335 [==============================] - 0s 104us/step - loss: 0.0309 - accuracy: 0.0388\n",
      "Epoch 22/80\n",
      "335/335 [==============================] - 0s 80us/step - loss: 0.0271 - accuracy: 0.0388\n",
      "Epoch 23/80\n",
      "335/335 [==============================] - 0s 86us/step - loss: 0.0233 - accuracy: 0.0388\n",
      "Epoch 24/80\n",
      "335/335 [==============================] - 0s 80us/step - loss: 0.0196 - accuracy: 0.0388\n",
      "Epoch 25/80\n",
      "335/335 [==============================] - 0s 77us/step - loss: 0.0161 - accuracy: 0.0388\n",
      "Epoch 26/80\n",
      "335/335 [==============================] - 0s 77us/step - loss: 0.0129 - accuracy: 0.0388\n",
      "Epoch 27/80\n",
      "335/335 [==============================] - 0s 86us/step - loss: 0.0101 - accuracy: 0.0388\n",
      "Epoch 28/80\n",
      "335/335 [==============================] - 0s 86us/step - loss: 0.0078 - accuracy: 0.0388\n",
      "Epoch 29/80\n",
      "335/335 [==============================] - 0s 71us/step - loss: 0.0059 - accuracy: 0.0388\n",
      "Epoch 30/80\n",
      "335/335 [==============================] - 0s 77us/step - loss: 0.0045 - accuracy: 0.0388\n",
      "Epoch 31/80\n",
      "335/335 [==============================] - 0s 71us/step - loss: 0.0035 - accuracy: 0.0388\n",
      "Epoch 32/80\n",
      "335/335 [==============================] - 0s 77us/step - loss: 0.0028 - accuracy: 0.0388\n",
      "Epoch 33/80\n",
      "335/335 [==============================] - 0s 74us/step - loss: 0.0024 - accuracy: 0.0388\n",
      "Epoch 34/80\n",
      "335/335 [==============================] - 0s 77us/step - loss: 0.0022 - accuracy: 0.0388\n",
      "Epoch 35/80\n",
      "335/335 [==============================] - 0s 74us/step - loss: 0.0021 - accuracy: 0.0388   \n",
      "Epoch 36/80\n",
      "335/335 [==============================] - 0s 101us/step - loss: 0.0020 - accuracy: 0.0388  \n",
      "Epoch 37/80\n",
      "335/335 [==============================] - 0s 74us/step - loss: 0.0019 - accuracy: 0.0388   \n",
      "Epoch 38/80\n",
      "335/335 [==============================] - 0s 80us/step - loss: 0.0019 - accuracy: 0.0388   \n",
      "Epoch 39/80\n",
      "335/335 [==============================] - 0s 83us/step - loss: 0.0019 - accuracy: 0.0388   \n",
      "Epoch 40/80\n",
      "335/335 [==============================] - 0s 74us/step - loss: 0.0018 - accuracy: 0.0388   \n",
      "Epoch 41/80\n",
      "335/335 [==============================] - 0s 80us/step - loss: 0.0018 - accuracy: 0.0388   \n",
      "Epoch 42/80\n",
      "335/335 [==============================] - 0s 65us/step - loss: 0.0017 - accuracy: 0.0388   \n",
      "Epoch 43/80\n",
      "335/335 [==============================] - 0s 77us/step - loss: 0.0017 - accuracy: 0.0388   \n",
      "Epoch 44/80\n",
      "335/335 [==============================] - 0s 75us/step - loss: 0.0016 - accuracy: 0.0388   \n",
      "Epoch 45/80\n",
      "335/335 [==============================] - 0s 143us/step - loss: 0.0015 - accuracy: 0.0388  \n",
      "Epoch 46/80\n",
      "335/335 [==============================] - 0s 68us/step - loss: 0.0015 - accuracy: 0.0388   \n",
      "Epoch 47/80\n",
      "335/335 [==============================] - 0s 80us/step - loss: 0.0014 - accuracy: 0.0388   \n",
      "Epoch 48/80\n",
      "335/335 [==============================] - 0s 68us/step - loss: 0.0014 - accuracy: 0.0388   \n",
      "Epoch 49/80\n",
      "335/335 [==============================] - 0s 80us/step - loss: 0.0014 - accuracy: 0.0388   \n",
      "Epoch 50/80\n",
      "335/335 [==============================] - 0s 80us/step - loss: 0.0013 - accuracy: 0.0388   \n",
      "Epoch 51/80\n",
      "335/335 [==============================] - 0s 77us/step - loss: 0.0013 - accuracy: 0.0388   \n",
      "Epoch 52/80\n",
      "335/335 [==============================] - 0s 68us/step - loss: 0.0013 - accuracy: 0.0388   \n",
      "Epoch 53/80\n",
      "335/335 [==============================] - 0s 98us/step - loss: 0.0013 - accuracy: 0.0388   \n",
      "Epoch 54/80\n",
      "335/335 [==============================] - 0s 71us/step - loss: 0.0012 - accuracy: 0.0388   \n",
      "Epoch 55/80\n",
      "335/335 [==============================] - 0s 74us/step - loss: 0.0012 - accuracy: 0.0388   \n",
      "Epoch 56/80\n",
      "335/335 [==============================] - 0s 74us/step - loss: 0.0012 - accuracy: 0.0388   \n",
      "Epoch 57/80\n",
      "335/335 [==============================] - 0s 68us/step - loss: 0.0012 - accuracy: 0.0388   \n",
      "Epoch 58/80\n",
      "335/335 [==============================] - 0s 68us/step - loss: 0.0012 - accuracy: 0.0388   \n",
      "Epoch 59/80\n",
      "335/335 [==============================] - 0s 68us/step - loss: 0.0012 - accuracy: 0.0388   \n",
      "Epoch 60/80\n",
      "335/335 [==============================] - 0s 65us/step - loss: 0.0012 - accuracy: 0.0388   \n",
      "Epoch 61/80\n",
      "335/335 [==============================] - 0s 71us/step - loss: 0.0012 - accuracy: 0.0388   \n",
      "Epoch 62/80\n",
      "335/335 [==============================] - 0s 101us/step - loss: 0.0011 - accuracy: 0.0388  \n",
      "Epoch 63/80\n",
      "335/335 [==============================] - 0s 71us/step - loss: 0.0011 - accuracy: 0.0388   \n",
      "Epoch 64/80\n",
      "335/335 [==============================] - 0s 65us/step - loss: 0.0011 - accuracy: 0.0388   \n",
      "Epoch 65/80\n",
      "335/335 [==============================] - 0s 77us/step - loss: 0.0011 - accuracy: 0.0388   \n",
      "Epoch 66/80\n",
      "335/335 [==============================] - 0s 74us/step - loss: 0.0011 - accuracy: 0.0388   \n",
      "Epoch 67/80\n",
      "335/335 [==============================] - 0s 68us/step - loss: 0.0011 - accuracy: 0.0388   \n",
      "Epoch 68/80\n",
      "335/335 [==============================] - 0s 80us/step - loss: 0.0011 - accuracy: 0.0388   \n",
      "Epoch 69/80\n",
      "335/335 [==============================] - 0s 74us/step - loss: 0.0011 - accuracy: 0.0388   \n",
      "Epoch 70/80\n",
      "335/335 [==============================] - 0s 74us/step - loss: 0.0011 - accuracy: 0.0388   \n",
      "Epoch 71/80\n",
      "335/335 [==============================] - 0s 98us/step - loss: 0.0011 - accuracy: 0.0388   \n",
      "Epoch 72/80\n",
      "335/335 [==============================] - 0s 80us/step - loss: 0.0011 - accuracy: 0.0388   \n",
      "Epoch 73/80\n",
      "335/335 [==============================] - 0s 74us/step - loss: 0.0011 - accuracy: 0.0388   \n",
      "Epoch 74/80\n",
      "335/335 [==============================] - 0s 94us/step - loss: 0.0011 - accuracy: 0.0388   \n",
      "Epoch 75/80\n",
      "335/335 [==============================] - 0s 77us/step - loss: 0.0011 - accuracy: 0.0388   \n",
      "Epoch 76/80\n",
      "335/335 [==============================] - 0s 71us/step - loss: 0.0011 - accuracy: 0.0388   \n",
      "Epoch 77/80\n"
     ]
    },
    {
     "name": "stdout",
     "output_type": "stream",
     "text": [
      "335/335 [==============================] - 0s 74us/step - loss: 0.0011 - accuracy: 0.0388   \n",
      "Epoch 78/80\n",
      "335/335 [==============================] - 0s 83us/step - loss: 0.0011 - accuracy: 0.0388   \n",
      "Epoch 79/80\n",
      "335/335 [==============================] - 0s 63us/step - loss: 0.0011 - accuracy: 0.0388   \n",
      "Epoch 80/80\n",
      "335/335 [==============================] - 0s 86us/step - loss: 0.0011 - accuracy: 0.0388   \n"
     ]
    }
   ],
   "source": [
    "#Fit model with history to check for overfitting\n",
    "history = model.fit(x_train,y_train,epochs=80,shuffle=False)"
   ]
  },
  {
   "cell_type": "code",
   "execution_count": 17,
   "metadata": {},
   "outputs": [
    {
     "name": "stdout",
     "output_type": "stream",
     "text": [
      "Saved model to disk\n"
     ]
    }
   ],
   "source": [
    "# serialize model to JSON\n",
    "model_json = model.to_json()\n",
    "with open(\"model-weight/model.json\", \"w\") as json_file:\n",
    "    json_file.write(model_json)\n",
    "# serialize weights to HDF5\n",
    "model.save_weights(\"model.h5\")\n",
    "print(\"Saved model to disk\")"
   ]
  },
  {
   "cell_type": "code",
   "execution_count": 18,
   "metadata": {},
   "outputs": [
    {
     "name": "stdout",
     "output_type": "stream",
     "text": [
      "Loaded model from disk\n"
     ]
    }
   ],
   "source": [
    "# load json and create model\n",
    "from keras.models import model_from_json\n",
    "json_file = open('model-weight/model.json', 'r')\n",
    "loaded_model_json = json_file.read()\n",
    "json_file.close()\n",
    "model = model_from_json(loaded_model_json)\n",
    "# load weights into new model\n",
    "model.load_weights(\"model.h5\")\n",
    "print(\"Loaded model from disk\")\n",
    " \n",
    "# evaluate loaded model on test data\n",
    "model.compile(loss='mse',optimizer='adam', metrics=['accuracy'])"
   ]
  },
  {
   "cell_type": "code",
   "execution_count": 19,
   "metadata": {},
   "outputs": [
    {
     "name": "stdout",
     "output_type": "stream",
     "text": [
      "11/11 [==============================] - 0s 14ms/step\n"
     ]
    }
   ],
   "source": [
    "pred_price = model.predict(x_test,batch_size=1,verbose=1)"
   ]
  },
  {
   "cell_type": "code",
   "execution_count": 20,
   "metadata": {},
   "outputs": [],
   "source": [
    "def denormalize(df, normalized_value): \n",
    "    df = df['price'].values.reshape(-1,1)\n",
    "    normalized_value = normalized_value.reshape(-1,1)\n",
    "    #return df.shape, p.shape\n",
    "    min_max_scaler = sklearn.preprocessing.MinMaxScaler()\n",
    "    a = min_max_scaler.fit_transform(df)\n",
    "    new = min_max_scaler.inverse_transform(normalized_value)\n",
    "    return new\n",
    "\n",
    "newp = denormalize(data, pred_price)\n",
    "newy_test = denormalize(data, y_test)"
   ]
  },
  {
   "cell_type": "code",
   "execution_count": 21,
   "metadata": {},
   "outputs": [
    {
     "data": {
      "text/plain": [
       "array([[71.70426],\n",
       "       [75.37008],\n",
       "       [77.08456],\n",
       "       [71.32622],\n",
       "       [66.88008],\n",
       "       [67.14499],\n",
       "       [67.34828],\n",
       "       [67.51637],\n",
       "       [68.37641],\n",
       "       [69.07032],\n",
       "       [71.95661]], dtype=float32)"
      ]
     },
     "execution_count": 21,
     "metadata": {},
     "output_type": "execute_result"
    }
   ],
   "source": [
    "newp"
   ]
  },
  {
   "cell_type": "code",
   "execution_count": 22,
   "metadata": {},
   "outputs": [
    {
     "data": {
      "text/plain": [
       "array([[75.78],\n",
       "       [77.65],\n",
       "       [71.32],\n",
       "       [66.33],\n",
       "       [66.63],\n",
       "       [66.86],\n",
       "       [67.05],\n",
       "       [68.02],\n",
       "       [68.8 ],\n",
       "       [72.02],\n",
       "       [72.3 ]])"
      ]
     },
     "execution_count": 22,
     "metadata": {},
     "output_type": "execute_result"
    }
   ],
   "source": [
    "newy_test"
   ]
  },
  {
   "cell_type": "code",
   "execution_count": 23,
   "metadata": {},
   "outputs": [
    {
     "name": "stdout",
     "output_type": "stream",
     "text": [
      "Train Score: 0.00109 MSE (0.03 RMSE)\n",
      "Test Score: 0.00026 MSE (0.02 RMSE)\n"
     ]
    },
    {
     "data": {
      "text/plain": [
       "(0.001090176828948819, 0.0002634339325595647)"
      ]
     },
     "execution_count": 23,
     "metadata": {},
     "output_type": "execute_result"
    }
   ],
   "source": [
    "def model_score(model, x_train, y_train, x_test, y_test):\n",
    "    trainScore = model.evaluate(x_train, y_train, verbose=0)\n",
    "    print('Train Score: %.5f MSE (%.2f RMSE)' % (trainScore[0], math.sqrt(trainScore[0])))\n",
    "\n",
    "    testScore = model.evaluate(x_test, y_test, verbose=0)\n",
    "    print('Test Score: %.5f MSE (%.2f RMSE)' % (testScore[0], math.sqrt(testScore[0])))\n",
    "    return trainScore[0], testScore[0]\n",
    "\n",
    "\n",
    "model_score(model, x_train, y_train, x_test, y_test)"
   ]
  },
  {
   "cell_type": "code",
   "execution_count": 24,
   "metadata": {},
   "outputs": [],
   "source": [
    "# plt.figure(figsize=(15, 5));\n",
    "# plt.plot(newp,color='red', label='Prediction')\n",
    "# plt.plot(newy_test,color='blue', label='Actual')\n",
    "# plt.legend(loc='best')\n",
    "# plt.show()"
   ]
  },
  {
   "cell_type": "code",
   "execution_count": 25,
   "metadata": {},
   "outputs": [],
   "source": [
    "act_pred = pd.concat([pd.DataFrame(newp), pd.DataFrame(newy_test)], axis=1)\n",
    "act_pred.columns = ['Predicted', 'Actual']"
   ]
  },
  {
   "cell_type": "code",
   "execution_count": 26,
   "metadata": {},
   "outputs": [
    {
     "data": {
      "text/html": [
       "<div>\n",
       "<style scoped>\n",
       "    .dataframe tbody tr th:only-of-type {\n",
       "        vertical-align: middle;\n",
       "    }\n",
       "\n",
       "    .dataframe tbody tr th {\n",
       "        vertical-align: top;\n",
       "    }\n",
       "\n",
       "    .dataframe thead th {\n",
       "        text-align: right;\n",
       "    }\n",
       "</style>\n",
       "<table border=\"1\" class=\"dataframe\">\n",
       "  <thead>\n",
       "    <tr style=\"text-align: right;\">\n",
       "      <th></th>\n",
       "      <th>Predicted</th>\n",
       "      <th>Actual</th>\n",
       "    </tr>\n",
       "  </thead>\n",
       "  <tbody>\n",
       "    <tr>\n",
       "      <td>0</td>\n",
       "      <td>71.704262</td>\n",
       "      <td>75.78</td>\n",
       "    </tr>\n",
       "    <tr>\n",
       "      <td>1</td>\n",
       "      <td>75.370079</td>\n",
       "      <td>77.65</td>\n",
       "    </tr>\n",
       "    <tr>\n",
       "      <td>2</td>\n",
       "      <td>77.084557</td>\n",
       "      <td>71.32</td>\n",
       "    </tr>\n",
       "    <tr>\n",
       "      <td>3</td>\n",
       "      <td>71.326218</td>\n",
       "      <td>66.33</td>\n",
       "    </tr>\n",
       "    <tr>\n",
       "      <td>4</td>\n",
       "      <td>66.880081</td>\n",
       "      <td>66.63</td>\n",
       "    </tr>\n",
       "    <tr>\n",
       "      <td>5</td>\n",
       "      <td>67.144989</td>\n",
       "      <td>66.86</td>\n",
       "    </tr>\n",
       "    <tr>\n",
       "      <td>6</td>\n",
       "      <td>67.348282</td>\n",
       "      <td>67.05</td>\n",
       "    </tr>\n",
       "    <tr>\n",
       "      <td>7</td>\n",
       "      <td>67.516373</td>\n",
       "      <td>68.02</td>\n",
       "    </tr>\n",
       "    <tr>\n",
       "      <td>8</td>\n",
       "      <td>68.376411</td>\n",
       "      <td>68.80</td>\n",
       "    </tr>\n",
       "    <tr>\n",
       "      <td>9</td>\n",
       "      <td>69.070320</td>\n",
       "      <td>72.02</td>\n",
       "    </tr>\n",
       "    <tr>\n",
       "      <td>10</td>\n",
       "      <td>71.956612</td>\n",
       "      <td>72.30</td>\n",
       "    </tr>\n",
       "  </tbody>\n",
       "</table>\n",
       "</div>"
      ],
      "text/plain": [
       "    Predicted  Actual\n",
       "0   71.704262   75.78\n",
       "1   75.370079   77.65\n",
       "2   77.084557   71.32\n",
       "3   71.326218   66.33\n",
       "4   66.880081   66.63\n",
       "5   67.144989   66.86\n",
       "6   67.348282   67.05\n",
       "7   67.516373   68.02\n",
       "8   68.376411   68.80\n",
       "9   69.070320   72.02\n",
       "10  71.956612   72.30"
      ]
     },
     "execution_count": 26,
     "metadata": {},
     "output_type": "execute_result"
    }
   ],
   "source": [
    "act_pred"
   ]
  },
  {
   "cell_type": "code",
   "execution_count": 27,
   "metadata": {},
   "outputs": [
    {
     "data": {
      "text/plain": [
       "Text(0, 0.5, 'Price')"
      ]
     },
     "execution_count": 27,
     "metadata": {},
     "output_type": "execute_result"
    },
    {
     "data": {
      "image/png": "[encoded data removed]",
      "text/plain": [
       "<Figure size 1080x360 with 1 Axes>"
      ]
     },
     "metadata": {
      "needs_background": "light"
     },
     "output_type": "display_data"
    }
   ],
   "source": [
    "# In normalize condition\n",
    "new_df = pd.DataFrame(columns=['date','actual_price','predict_price'])\n",
    "new_df['date'] = test.index\n",
    "new_df['actual_price'] = act_pred['Actual'].values\n",
    "new_df['predict_price'] = act_pred['Predicted'].values\n",
    "new_df = new_df.set_index('date')\n",
    "new_df.plot(figsize=(15,5))\n",
    "plt.ylabel(\"Price\")"
   ]
  },
  {
   "cell_type": "markdown",
   "metadata": {},
   "source": [
    "# forecast till 2020 #"
   ]
  },
  {
   "cell_type": "code",
   "execution_count": 28,
   "metadata": {},
   "outputs": [
    {
     "data": {
      "text/plain": [
       "array([[[0.34626985]]])"
      ]
     },
     "execution_count": 28,
     "metadata": {},
     "output_type": "execute_result"
    }
   ],
   "source": [
    "#x_forecast = x_forecast.reshape((x_forecast.shape[0],1,x_forecast.shape[1]))  np.reshape(test_forecast,(1,1,2))\n",
    "pp = x_forecast.copy()\n",
    "xx_forecast = np.reshape(pp,(1,1,1))\n",
    "xx_forecast"
   ]
  },
  {
   "cell_type": "code",
   "execution_count": 29,
   "metadata": {},
   "outputs": [
    {
     "data": {
      "text/plain": [
       "0.34626984578614917"
      ]
     },
     "execution_count": 29,
     "metadata": {},
     "output_type": "execute_result"
    }
   ],
   "source": [
    "forecast_val=[]\n",
    "t=xx_forecast[0][0][0] #take the price lag of last value\n",
    "t"
   ]
  },
  {
   "cell_type": "code",
   "execution_count": 30,
   "metadata": {},
   "outputs": [
    {
     "data": {
      "text/plain": [
       "DatetimeIndex(['2019-01-31', '2019-02-28', '2019-03-31', '2019-04-30',\n",
       "               '2019-05-31', '2019-06-30', '2019-07-31', '2019-08-31',\n",
       "               '2019-09-30', '2019-10-31', '2019-11-30', '2019-12-31'],\n",
       "              dtype='datetime64[ns]', freq='M')"
      ]
     },
     "execution_count": 30,
     "metadata": {},
     "output_type": "execute_result"
    }
   ],
   "source": [
    "forecast_data_index = pd.date_range(start='1/1/2019', periods=12,freq='M')\n",
    "forecast_data_index"
   ]
  },
  {
   "cell_type": "code",
   "execution_count": 31,
   "metadata": {},
   "outputs": [],
   "source": [
    "forecast_data = pd.DataFrame()\n",
    "forecast_data['date'] = forecast_data_index"
   ]
  },
  {
   "cell_type": "code",
   "execution_count": 32,
   "metadata": {},
   "outputs": [
    {
     "name": "stdout",
     "output_type": "stream",
     "text": [
      "predict price =  0.3457532525062561\n",
      "last price_lag =  0.34626984578614917\n",
      "   price_lag  rolling_mean_price\n",
      "0   0.346270            0.346270\n",
      "1   0.345753            0.692023\n",
      "matrix 1    0.345753\n",
      "Name: price_lag, dtype: float64\n",
      "matrix_dd [0.34575325]\n",
      "predict price =  0.345287024974823\n",
      "last price_lag =  0.3457532525062561\n",
      "   price_lag  rolling_mean_price\n",
      "0   0.345753            0.345753\n",
      "1   0.345287            0.691040\n",
      "matrix 1    0.345287\n",
      "Name: price_lag, dtype: float64\n",
      "matrix_dd [0.34528702]\n",
      "predict price =  0.34486645460128784\n",
      "last price_lag =  0.345287024974823\n",
      "   price_lag  rolling_mean_price\n",
      "0   0.345287            0.345287\n",
      "1   0.344866            0.690153\n",
      "matrix 1    0.344866\n",
      "Name: price_lag, dtype: float64\n",
      "matrix_dd [0.34486645]\n",
      "predict price =  0.3444870412349701\n",
      "last price_lag =  0.34486645460128784\n",
      "   price_lag  rolling_mean_price\n",
      "0   0.344866            0.344866\n",
      "1   0.344487            0.689353\n",
      "matrix 1    0.344487\n",
      "Name: price_lag, dtype: float64\n",
      "matrix_dd [0.34448704]\n",
      "predict price =  0.34414491057395935\n",
      "last price_lag =  0.3444870412349701\n",
      "   price_lag  rolling_mean_price\n",
      "0   0.344487            0.344487\n",
      "1   0.344145            0.688632\n",
      "matrix 1    0.344145\n",
      "Name: price_lag, dtype: float64\n",
      "matrix_dd [0.34414491]\n",
      "predict price =  0.34383654594421387\n",
      "last price_lag =  0.34414491057395935\n",
      "   price_lag  rolling_mean_price\n",
      "0   0.344145            0.344145\n",
      "1   0.343837            0.687981\n",
      "matrix 1    0.343837\n",
      "Name: price_lag, dtype: float64\n",
      "matrix_dd [0.34383655]\n",
      "predict price =  0.34355854988098145\n",
      "last price_lag =  0.34383654594421387\n",
      "   price_lag  rolling_mean_price\n",
      "0   0.343837            0.343837\n",
      "1   0.343559            0.687395\n",
      "matrix 1    0.343559\n",
      "Name: price_lag, dtype: float64\n",
      "matrix_dd [0.34355855]\n",
      "predict price =  0.34330806136131287\n",
      "last price_lag =  0.34355854988098145\n",
      "   price_lag  rolling_mean_price\n",
      "0   0.343559            0.343559\n",
      "1   0.343308            0.686867\n",
      "matrix 1    0.343308\n",
      "Name: price_lag, dtype: float64\n",
      "matrix_dd [0.34330806]\n",
      "predict price =  0.3430823087692261\n",
      "last price_lag =  0.34330806136131287\n",
      "   price_lag  rolling_mean_price\n",
      "0   0.343308            0.343308\n",
      "1   0.343082            0.686390\n",
      "matrix 1    0.343082\n",
      "Name: price_lag, dtype: float64\n",
      "matrix_dd [0.34308231]\n",
      "predict price =  0.3428790271282196\n",
      "last price_lag =  0.3430823087692261\n",
      "   price_lag  rolling_mean_price\n",
      "0   0.343082            0.343082\n",
      "1   0.342879            0.685961\n",
      "matrix 1    0.342879\n",
      "Name: price_lag, dtype: float64\n",
      "matrix_dd [0.34287903]\n",
      "predict price =  0.34269586205482483\n",
      "last price_lag =  0.3428790271282196\n",
      "   price_lag  rolling_mean_price\n",
      "0   0.342879            0.342879\n",
      "1   0.342696            0.685575\n",
      "matrix 1    0.342696\n",
      "Name: price_lag, dtype: float64\n",
      "matrix_dd [0.34269586]\n",
      "predict price =  0.34253090620040894\n",
      "last price_lag =  0.34269586205482483\n",
      "   price_lag  rolling_mean_price\n",
      "0   0.342696            0.342696\n",
      "1   0.342531            0.685227\n",
      "matrix 1    0.342531\n",
      "Name: price_lag, dtype: float64\n",
      "matrix_dd [0.34253091]\n"
     ]
    },
    {
     "name": "stderr",
     "output_type": "stream",
     "text": [
      "C:\\Users\\sumon\\Anaconda3\\envs\\tensorflow\\lib\\site-packages\\ipykernel_launcher.py:11: FutureWarning: Method .as_matrix will be removed in a future version. Use .values instead.\n",
      "  # This is added back by InteractiveShellApp.init_path()\n"
     ]
    }
   ],
   "source": [
    "for i in range(1,len(forecast_data)+1):\n",
    "    m=model.predict(xx_forecast)\n",
    "    print(\"predict price = \",m.tolist()[0][0])\n",
    "    print(\"last price_lag = \", t)\n",
    "    forecastdf=pd.DataFrame(columns=['price_lag'])\n",
    "    forecastdf['price_lag']=[t,m.tolist()[0][0]]\n",
    "    forecastdf['rolling_mean_price']=forecastdf['price_lag'].rolling(2, min_periods=1).sum()\n",
    "    print(forecastdf)\n",
    "    xx_forecast=forecastdf[-1:]['price_lag']\n",
    "    print(\"matrix\",xx_forecast)\n",
    "    xx_forecast = xx_forecast.as_matrix()\n",
    "    print(\"matrix_dd\",xx_forecast)\n",
    "    #x_forecast = x_forecast.reshape((x_forecast.shape[0],1,x_forecast.shape[1]))\n",
    "    xx_forecast = np.reshape(xx_forecast,(1,1,1))\n",
    "    t=m.tolist()[0][0]\n",
    "    forecast_val.append(m.tolist()[0][0])"
   ]
  },
  {
   "cell_type": "code",
   "execution_count": 33,
   "metadata": {},
   "outputs": [
    {
     "data": {
      "text/plain": [
       "[0.3457532525062561,\n",
       " 0.345287024974823,\n",
       " 0.34486645460128784,\n",
       " 0.3444870412349701,\n",
       " 0.34414491057395935,\n",
       " 0.34383654594421387,\n",
       " 0.34355854988098145,\n",
       " 0.34330806136131287,\n",
       " 0.3430823087692261,\n",
       " 0.3428790271282196,\n",
       " 0.34269586205482483,\n",
       " 0.34253090620040894]"
      ]
     },
     "execution_count": 33,
     "metadata": {},
     "output_type": "execute_result"
    }
   ],
   "source": [
    "forecast_val"
   ]
  },
  {
   "cell_type": "code",
   "execution_count": 34,
   "metadata": {},
   "outputs": [],
   "source": [
    "forecast_data['forecast_price'] = forecast_val #normalize value"
   ]
  },
  {
   "cell_type": "code",
   "execution_count": 35,
   "metadata": {},
   "outputs": [
    {
     "data": {
      "text/plain": [
       "<matplotlib.axes._subplots.AxesSubplot at 0x2c362d6e208>"
      ]
     },
     "execution_count": 35,
     "metadata": {},
     "output_type": "execute_result"
    },
    {
     "data": {
      "image/png": "[encoded data removed]",
      "text/plain": [
       "<Figure size 432x288 with 1 Axes>"
      ]
     },
     "metadata": {
      "needs_background": "light"
     },
     "output_type": "display_data"
    }
   ],
   "source": [
    "new_forecast = denormalize(data, np.array(forecast_val))\n",
    "forecast_data['denorm_price'] = new_forecast\n",
    "forecast_data = forecast_data.set_index('date')\n",
    "forecast_data.denorm_price.plot()"
   ]
  },
  {
   "cell_type": "code",
   "execution_count": 36,
   "metadata": {},
   "outputs": [
    {
     "data": {
      "text/html": [
       "<div>\n",
       "<style scoped>\n",
       "    .dataframe tbody tr th:only-of-type {\n",
       "        vertical-align: middle;\n",
       "    }\n",
       "\n",
       "    .dataframe tbody tr th {\n",
       "        vertical-align: top;\n",
       "    }\n",
       "\n",
       "    .dataframe thead th {\n",
       "        text-align: right;\n",
       "    }\n",
       "</style>\n",
       "<table border=\"1\" class=\"dataframe\">\n",
       "  <thead>\n",
       "    <tr style=\"text-align: right;\">\n",
       "      <th></th>\n",
       "      <th>forecast_price</th>\n",
       "      <th>denorm_price</th>\n",
       "    </tr>\n",
       "    <tr>\n",
       "      <th>date</th>\n",
       "      <th></th>\n",
       "      <th></th>\n",
       "    </tr>\n",
       "  </thead>\n",
       "  <tbody>\n",
       "    <tr>\n",
       "      <td>2019-01-31</td>\n",
       "      <td>0.345753</td>\n",
       "      <td>72.209219</td>\n",
       "    </tr>\n",
       "    <tr>\n",
       "      <td>2019-02-28</td>\n",
       "      <td>0.345287</td>\n",
       "      <td>72.127289</td>\n",
       "    </tr>\n",
       "    <tr>\n",
       "      <td>2019-03-31</td>\n",
       "      <td>0.344866</td>\n",
       "      <td>72.053382</td>\n",
       "    </tr>\n",
       "    <tr>\n",
       "      <td>2019-04-30</td>\n",
       "      <td>0.344487</td>\n",
       "      <td>71.986708</td>\n",
       "    </tr>\n",
       "    <tr>\n",
       "      <td>2019-05-31</td>\n",
       "      <td>0.344145</td>\n",
       "      <td>71.926585</td>\n",
       "    </tr>\n",
       "    <tr>\n",
       "      <td>2019-06-30</td>\n",
       "      <td>0.343837</td>\n",
       "      <td>71.872396</td>\n",
       "    </tr>\n",
       "    <tr>\n",
       "      <td>2019-07-31</td>\n",
       "      <td>0.343559</td>\n",
       "      <td>71.823544</td>\n",
       "    </tr>\n",
       "    <tr>\n",
       "      <td>2019-08-31</td>\n",
       "      <td>0.343308</td>\n",
       "      <td>71.779526</td>\n",
       "    </tr>\n",
       "    <tr>\n",
       "      <td>2019-09-30</td>\n",
       "      <td>0.343082</td>\n",
       "      <td>71.739854</td>\n",
       "    </tr>\n",
       "    <tr>\n",
       "      <td>2019-10-31</td>\n",
       "      <td>0.342879</td>\n",
       "      <td>71.704131</td>\n",
       "    </tr>\n",
       "    <tr>\n",
       "      <td>2019-11-30</td>\n",
       "      <td>0.342696</td>\n",
       "      <td>71.671944</td>\n",
       "    </tr>\n",
       "    <tr>\n",
       "      <td>2019-12-31</td>\n",
       "      <td>0.342531</td>\n",
       "      <td>71.642956</td>\n",
       "    </tr>\n",
       "  </tbody>\n",
       "</table>\n",
       "</div>"
      ],
      "text/plain": [
       "            forecast_price  denorm_price\n",
       "date                                    \n",
       "2019-01-31        0.345753     72.209219\n",
       "2019-02-28        0.345287     72.127289\n",
       "2019-03-31        0.344866     72.053382\n",
       "2019-04-30        0.344487     71.986708\n",
       "2019-05-31        0.344145     71.926585\n",
       "2019-06-30        0.343837     71.872396\n",
       "2019-07-31        0.343559     71.823544\n",
       "2019-08-31        0.343308     71.779526\n",
       "2019-09-30        0.343082     71.739854\n",
       "2019-10-31        0.342879     71.704131\n",
       "2019-11-30        0.342696     71.671944\n",
       "2019-12-31        0.342531     71.642956"
      ]
     },
     "execution_count": 36,
     "metadata": {},
     "output_type": "execute_result"
    }
   ],
   "source": [
    "forecast_data"
   ]
  },
  {
   "cell_type": "code",
   "execution_count": 37,
   "metadata": {},
   "outputs": [
    {
     "data": {
      "text/html": [
       "<div>\n",
       "<style scoped>\n",
       "    .dataframe tbody tr th:only-of-type {\n",
       "        vertical-align: middle;\n",
       "    }\n",
       "\n",
       "    .dataframe tbody tr th {\n",
       "        vertical-align: top;\n",
       "    }\n",
       "\n",
       "    .dataframe thead th {\n",
       "        text-align: right;\n",
       "    }\n",
       "</style>\n",
       "<table border=\"1\" class=\"dataframe\">\n",
       "  <thead>\n",
       "    <tr style=\"text-align: right;\">\n",
       "      <th></th>\n",
       "      <th>actual_price</th>\n",
       "      <th>predict_price</th>\n",
       "    </tr>\n",
       "    <tr>\n",
       "      <th>date</th>\n",
       "      <th></th>\n",
       "      <th></th>\n",
       "    </tr>\n",
       "  </thead>\n",
       "  <tbody>\n",
       "    <tr>\n",
       "      <td>2018-01-31</td>\n",
       "      <td>75.78</td>\n",
       "      <td>71.704262</td>\n",
       "    </tr>\n",
       "    <tr>\n",
       "      <td>2018-02-28</td>\n",
       "      <td>77.65</td>\n",
       "      <td>75.370079</td>\n",
       "    </tr>\n",
       "    <tr>\n",
       "      <td>2018-03-31</td>\n",
       "      <td>71.32</td>\n",
       "      <td>77.084557</td>\n",
       "    </tr>\n",
       "    <tr>\n",
       "      <td>2018-04-30</td>\n",
       "      <td>66.33</td>\n",
       "      <td>71.326218</td>\n",
       "    </tr>\n",
       "    <tr>\n",
       "      <td>2018-05-31</td>\n",
       "      <td>66.63</td>\n",
       "      <td>66.880081</td>\n",
       "    </tr>\n",
       "    <tr>\n",
       "      <td>2018-06-30</td>\n",
       "      <td>66.86</td>\n",
       "      <td>67.144989</td>\n",
       "    </tr>\n",
       "    <tr>\n",
       "      <td>2018-07-31</td>\n",
       "      <td>67.05</td>\n",
       "      <td>67.348282</td>\n",
       "    </tr>\n",
       "    <tr>\n",
       "      <td>2018-08-31</td>\n",
       "      <td>68.02</td>\n",
       "      <td>67.516373</td>\n",
       "    </tr>\n",
       "    <tr>\n",
       "      <td>2018-09-30</td>\n",
       "      <td>68.80</td>\n",
       "      <td>68.376411</td>\n",
       "    </tr>\n",
       "    <tr>\n",
       "      <td>2018-10-31</td>\n",
       "      <td>72.02</td>\n",
       "      <td>69.070320</td>\n",
       "    </tr>\n",
       "    <tr>\n",
       "      <td>2018-11-30</td>\n",
       "      <td>72.30</td>\n",
       "      <td>71.956612</td>\n",
       "    </tr>\n",
       "  </tbody>\n",
       "</table>\n",
       "</div>"
      ],
      "text/plain": [
       "            actual_price  predict_price\n",
       "date                                   \n",
       "2018-01-31         75.78      71.704262\n",
       "2018-02-28         77.65      75.370079\n",
       "2018-03-31         71.32      77.084557\n",
       "2018-04-30         66.33      71.326218\n",
       "2018-05-31         66.63      66.880081\n",
       "2018-06-30         66.86      67.144989\n",
       "2018-07-31         67.05      67.348282\n",
       "2018-08-31         68.02      67.516373\n",
       "2018-09-30         68.80      68.376411\n",
       "2018-10-31         72.02      69.070320\n",
       "2018-11-30         72.30      71.956612"
      ]
     },
     "execution_count": 37,
     "metadata": {},
     "output_type": "execute_result"
    }
   ],
   "source": [
    "new_df"
   ]
  },
  {
   "cell_type": "code",
   "execution_count": 38,
   "metadata": {},
   "outputs": [
    {
     "data": {
      "text/html": [
       "<div>\n",
       "<style scoped>\n",
       "    .dataframe tbody tr th:only-of-type {\n",
       "        vertical-align: middle;\n",
       "    }\n",
       "\n",
       "    .dataframe tbody tr th {\n",
       "        vertical-align: top;\n",
       "    }\n",
       "\n",
       "    .dataframe thead th {\n",
       "        text-align: right;\n",
       "    }\n",
       "</style>\n",
       "<table border=\"1\" class=\"dataframe\">\n",
       "  <thead>\n",
       "    <tr style=\"text-align: right;\">\n",
       "      <th></th>\n",
       "      <th>Predicted</th>\n",
       "      <th>Actual</th>\n",
       "    </tr>\n",
       "  </thead>\n",
       "  <tbody>\n",
       "    <tr>\n",
       "      <td>0</td>\n",
       "      <td>71.704262</td>\n",
       "      <td>75.78</td>\n",
       "    </tr>\n",
       "    <tr>\n",
       "      <td>1</td>\n",
       "      <td>75.370079</td>\n",
       "      <td>77.65</td>\n",
       "    </tr>\n",
       "    <tr>\n",
       "      <td>2</td>\n",
       "      <td>77.084557</td>\n",
       "      <td>71.32</td>\n",
       "    </tr>\n",
       "    <tr>\n",
       "      <td>3</td>\n",
       "      <td>71.326218</td>\n",
       "      <td>66.33</td>\n",
       "    </tr>\n",
       "    <tr>\n",
       "      <td>4</td>\n",
       "      <td>66.880081</td>\n",
       "      <td>66.63</td>\n",
       "    </tr>\n",
       "    <tr>\n",
       "      <td>5</td>\n",
       "      <td>67.144989</td>\n",
       "      <td>66.86</td>\n",
       "    </tr>\n",
       "    <tr>\n",
       "      <td>6</td>\n",
       "      <td>67.348282</td>\n",
       "      <td>67.05</td>\n",
       "    </tr>\n",
       "    <tr>\n",
       "      <td>7</td>\n",
       "      <td>67.516373</td>\n",
       "      <td>68.02</td>\n",
       "    </tr>\n",
       "    <tr>\n",
       "      <td>8</td>\n",
       "      <td>68.376411</td>\n",
       "      <td>68.80</td>\n",
       "    </tr>\n",
       "    <tr>\n",
       "      <td>9</td>\n",
       "      <td>69.070320</td>\n",
       "      <td>72.02</td>\n",
       "    </tr>\n",
       "    <tr>\n",
       "      <td>10</td>\n",
       "      <td>71.956612</td>\n",
       "      <td>72.30</td>\n",
       "    </tr>\n",
       "  </tbody>\n",
       "</table>\n",
       "</div>"
      ],
      "text/plain": [
       "    Predicted  Actual\n",
       "0   71.704262   75.78\n",
       "1   75.370079   77.65\n",
       "2   77.084557   71.32\n",
       "3   71.326218   66.33\n",
       "4   66.880081   66.63\n",
       "5   67.144989   66.86\n",
       "6   67.348282   67.05\n",
       "7   67.516373   68.02\n",
       "8   68.376411   68.80\n",
       "9   69.070320   72.02\n",
       "10  71.956612   72.30"
      ]
     },
     "execution_count": 38,
     "metadata": {},
     "output_type": "execute_result"
    }
   ],
   "source": [
    "act_pred"
   ]
  },
  {
   "cell_type": "code",
   "execution_count": null,
   "metadata": {},
   "outputs": [],
   "source": []
  }
 ],
 "metadata": {
  "kernelspec": {
   "display_name": "Python 3",
   "language": "python",
   "name": "python3"
  },
  "language_info": {
   "codemirror_mode": {
    "name": "ipython",
    "version": 3
   },
   "file_extension": ".py",
   "mimetype": "text/x-python",
   "name": "python",
   "nbconvert_exporter": "python",
   "pygments_lexer": "ipython3",
   "version": "3.7.4"
  }
 },
 "nbformat": 4,
 "nbformat_minor": 2
}
