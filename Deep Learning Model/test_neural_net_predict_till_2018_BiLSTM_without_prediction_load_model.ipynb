{
 "cells": [
  {
   "cell_type": "code",
   "execution_count": 1,
   "metadata": {},
   "outputs": [
    {
     "name": "stderr",
     "output_type": "stream",
     "text": [
      "Using TensorFlow backend.\n"
     ]
    }
   ],
   "source": [
    "import numpy as np\n",
    "import matplotlib.pyplot as plt\n",
    "%matplotlib inline\n",
    "from sklearn.linear_model import LinearRegression \n",
    "import matplotlib.pylab as pylab\n",
    "import math,time\n",
    "import sklearn\n",
    "import sklearn.preprocessing\n",
    "import datetime\n",
    "import os\n",
    "import matplotlib.pyplot as plt\n",
    "import keras\n",
    "from keras.models import Sequential\n",
    "from keras.layers import LSTM\n",
    "from keras.layers.core import Dense, Dropout, Activation\n",
    "from sklearn.preprocessing import MinMaxScaler\n",
    "from statsmodels.graphics.tsaplots import plot_pacf, plot_acf\n",
    "from keras.layers import Bidirectional\n",
    "test_set_size_percentage = 20 \n",
    "import pandas as pd\n",
    "from pandas import read_csv\n",
    "from sklearn.metrics import r2_score,mean_squared_error "
   ]
  },
  {
   "cell_type": "code",
   "execution_count": 2,
   "metadata": {},
   "outputs": [],
   "source": [
    "data=pd.read_csv('dataset/irondata.csv',parse_dates=['date'])"
   ]
  },
  {
   "cell_type": "code",
   "execution_count": 3,
   "metadata": {},
   "outputs": [
    {
     "data": {
      "image/png": "[encoded data removed]",
      "text/plain": [
       "<Figure size 432x288 with 1 Axes>"
      ]
     },
     "metadata": {
      "needs_background": "light"
     },
     "output_type": "display_data"
    }
   ],
   "source": [
    "data['price'].plot()\n",
    "data['price_lag']=data['price'].shift(1)\n",
    "data=data.set_index('date')\n",
    "data['rolling_mean_price']=data['price_lag'].rolling(2, min_periods=1).sum()\n",
    "data=data.dropna()"
   ]
  },
  {
   "cell_type": "code",
   "execution_count": 4,
   "metadata": {},
   "outputs": [],
   "source": [
    "# function for min-max normalization of Iron Ore \n",
    "min_max_scaler = sklearn.preprocessing.MinMaxScaler()\n",
    "def normalize_data(df):\n",
    "    df['price'] = min_max_scaler.fit_transform(df.price.values.reshape(-1,1))\n",
    "    df['price_lag'] = min_max_scaler.fit_transform(df.price_lag.values.reshape(-1,1))\n",
    "    df['rolling_mean_price'] = min_max_scaler.fit_transform(df.rolling_mean_price.values.reshape(-1,1))\n",
    "    return df"
   ]
  },
  {
   "cell_type": "code",
   "execution_count": 5,
   "metadata": {},
   "outputs": [
    {
     "data": {
      "text/html": [
       "<div>\n",
       "<style scoped>\n",
       "    .dataframe tbody tr th:only-of-type {\n",
       "        vertical-align: middle;\n",
       "    }\n",
       "\n",
       "    .dataframe tbody tr th {\n",
       "        vertical-align: top;\n",
       "    }\n",
       "\n",
       "    .dataframe thead th {\n",
       "        text-align: right;\n",
       "    }\n",
       "</style>\n",
       "<table border=\"1\" class=\"dataframe\">\n",
       "  <thead>\n",
       "    <tr style=\"text-align: right;\">\n",
       "      <th></th>\n",
       "      <th>price</th>\n",
       "      <th>price_lag</th>\n",
       "      <th>rolling_mean_price</th>\n",
       "    </tr>\n",
       "    <tr>\n",
       "      <th>date</th>\n",
       "      <th></th>\n",
       "      <th></th>\n",
       "      <th></th>\n",
       "    </tr>\n",
       "  </thead>\n",
       "  <tbody>\n",
       "    <tr>\n",
       "      <td>1990-02-28</td>\n",
       "      <td>0.014795</td>\n",
       "      <td>0.014795</td>\n",
       "      <td>0.000000</td>\n",
       "    </tr>\n",
       "    <tr>\n",
       "      <td>1990-03-31</td>\n",
       "      <td>0.014795</td>\n",
       "      <td>0.014795</td>\n",
       "      <td>0.039829</td>\n",
       "    </tr>\n",
       "    <tr>\n",
       "      <td>1990-04-30</td>\n",
       "      <td>0.014795</td>\n",
       "      <td>0.014795</td>\n",
       "      <td>0.039829</td>\n",
       "    </tr>\n",
       "    <tr>\n",
       "      <td>1990-05-31</td>\n",
       "      <td>0.014795</td>\n",
       "      <td>0.014795</td>\n",
       "      <td>0.039829</td>\n",
       "    </tr>\n",
       "    <tr>\n",
       "      <td>1990-06-30</td>\n",
       "      <td>0.014795</td>\n",
       "      <td>0.014795</td>\n",
       "      <td>0.039829</td>\n",
       "    </tr>\n",
       "  </tbody>\n",
       "</table>\n",
       "</div>"
      ],
      "text/plain": [
       "               price  price_lag  rolling_mean_price\n",
       "date                                               \n",
       "1990-02-28  0.014795   0.014795            0.000000\n",
       "1990-03-31  0.014795   0.014795            0.039829\n",
       "1990-04-30  0.014795   0.014795            0.039829\n",
       "1990-05-31  0.014795   0.014795            0.039829\n",
       "1990-06-30  0.014795   0.014795            0.039829"
      ]
     },
     "execution_count": 5,
     "metadata": {},
     "output_type": "execute_result"
    }
   ],
   "source": [
    "# normalize stock\n",
    "df = data.copy()\n",
    "df = normalize_data(df)\n",
    "df.head()"
   ]
  },
  {
   "cell_type": "code",
   "execution_count": 6,
   "metadata": {},
   "outputs": [],
   "source": [
    "train=df[:335]"
   ]
  },
  {
   "cell_type": "code",
   "execution_count": 7,
   "metadata": {},
   "outputs": [
    {
     "data": {
      "text/html": [
       "<div>\n",
       "<style scoped>\n",
       "    .dataframe tbody tr th:only-of-type {\n",
       "        vertical-align: middle;\n",
       "    }\n",
       "\n",
       "    .dataframe tbody tr th {\n",
       "        vertical-align: top;\n",
       "    }\n",
       "\n",
       "    .dataframe thead th {\n",
       "        text-align: right;\n",
       "    }\n",
       "</style>\n",
       "<table border=\"1\" class=\"dataframe\">\n",
       "  <thead>\n",
       "    <tr style=\"text-align: right;\">\n",
       "      <th></th>\n",
       "      <th>price</th>\n",
       "      <th>price_lag</th>\n",
       "      <th>rolling_mean_price</th>\n",
       "    </tr>\n",
       "    <tr>\n",
       "      <th>date</th>\n",
       "      <th></th>\n",
       "      <th></th>\n",
       "      <th></th>\n",
       "    </tr>\n",
       "  </thead>\n",
       "  <tbody>\n",
       "    <tr>\n",
       "      <td>2017-08-31</td>\n",
       "      <td>0.359301</td>\n",
       "      <td>0.314630</td>\n",
       "      <td>0.313386</td>\n",
       "    </tr>\n",
       "    <tr>\n",
       "      <td>2017-09-30</td>\n",
       "      <td>0.328857</td>\n",
       "      <td>0.359301</td>\n",
       "      <td>0.360812</td>\n",
       "    </tr>\n",
       "    <tr>\n",
       "      <td>2017-10-31</td>\n",
       "      <td>0.282251</td>\n",
       "      <td>0.328857</td>\n",
       "      <td>0.367899</td>\n",
       "    </tr>\n",
       "    <tr>\n",
       "      <td>2017-11-30</td>\n",
       "      <td>0.295681</td>\n",
       "      <td>0.282251</td>\n",
       "      <td>0.329516</td>\n",
       "    </tr>\n",
       "    <tr>\n",
       "      <td>2017-12-31</td>\n",
       "      <td>0.343083</td>\n",
       "      <td>0.295681</td>\n",
       "      <td>0.312989</td>\n",
       "    </tr>\n",
       "  </tbody>\n",
       "</table>\n",
       "</div>"
      ],
      "text/plain": [
       "               price  price_lag  rolling_mean_price\n",
       "date                                               \n",
       "2017-08-31  0.359301   0.314630            0.313386\n",
       "2017-09-30  0.328857   0.359301            0.360812\n",
       "2017-10-31  0.282251   0.328857            0.367899\n",
       "2017-11-30  0.295681   0.282251            0.329516\n",
       "2017-12-31  0.343083   0.295681            0.312989"
      ]
     },
     "execution_count": 7,
     "metadata": {},
     "output_type": "execute_result"
    }
   ],
   "source": [
    "train.tail()"
   ]
  },
  {
   "cell_type": "code",
   "execution_count": 8,
   "metadata": {},
   "outputs": [
    {
     "name": "stderr",
     "output_type": "stream",
     "text": [
      "C:\\Users\\sumon\\Anaconda3\\envs\\tensorflow\\lib\\site-packages\\ipykernel_launcher.py:1: FutureWarning: Method .as_matrix will be removed in a future version. Use .values instead.\n",
      "  \"\"\"Entry point for launching an IPython kernel.\n"
     ]
    }
   ],
   "source": [
    "train_data_raw = train.as_matrix()"
   ]
  },
  {
   "cell_type": "code",
   "execution_count": 9,
   "metadata": {},
   "outputs": [],
   "source": [
    "x_train = train_data_raw[:-1,1:] #without price column of train\n",
    "y_train = train_data_raw[:-1,0] #with price column of train\n",
    "\n",
    "x_forecast = train_data_raw[-1:,1:]\n",
    "y_forecast = train_data_raw[-1:,0]"
   ]
  },
  {
   "cell_type": "code",
   "execution_count": 10,
   "metadata": {},
   "outputs": [
    {
     "data": {
      "text/plain": [
       "array([[0.29568087, 0.312989  ]])"
      ]
     },
     "execution_count": 10,
     "metadata": {},
     "output_type": "execute_result"
    }
   ],
   "source": [
    "x_forecast"
   ]
  },
  {
   "cell_type": "code",
   "execution_count": 11,
   "metadata": {},
   "outputs": [
    {
     "name": "stdout",
     "output_type": "stream",
     "text": [
      "x_train.shape =  (334, 2)\n",
      "y_train.shape =  (334,)\n",
      "x_forecast.shape =  (1, 2)\n",
      "y_forecast.shape  (1,)\n"
     ]
    }
   ],
   "source": [
    "print('x_train.shape = ',x_train.shape)\n",
    "print('y_train.shape = ', y_train.shape)\n",
    "print('x_forecast.shape = ', x_forecast.shape)\n",
    "print('y_forecast.shape ',y_forecast.shape)"
   ]
  },
  {
   "cell_type": "code",
   "execution_count": 12,
   "metadata": {},
   "outputs": [
    {
     "data": {
      "text/plain": [
       "334"
      ]
     },
     "execution_count": 12,
     "metadata": {},
     "output_type": "execute_result"
    }
   ],
   "source": [
    "x_train.shape[0]"
   ]
  },
  {
   "cell_type": "code",
   "execution_count": 13,
   "metadata": {},
   "outputs": [
    {
     "data": {
      "text/plain": [
       "(334, 1, 2)"
      ]
     },
     "execution_count": 13,
     "metadata": {},
     "output_type": "execute_result"
    }
   ],
   "source": [
    "#Reshape data for (Sample,Timestep,Features) \n",
    "x_train = x_train.reshape((x_train.shape[0],1,x_train.shape[1]))\n",
    "#x_test = x_test.reshape((x_test.shape[0],1,x_test.shape[1]))\n",
    "#x_forecast = x_forecast.reshape((x_forecast.shape[0],1,x_test.shape[1]))\n",
    "x_train.shape"
   ]
  },
  {
   "cell_type": "code",
   "execution_count": 14,
   "metadata": {},
   "outputs": [
    {
     "name": "stdout",
     "output_type": "stream",
     "text": [
      "Compilation Time :  0.02046823501586914\n"
     ]
    }
   ],
   "source": [
    "d = 0.3\n",
    "model = Sequential()\n",
    "\n",
    "model.add(Bidirectional(LSTM(64, input_shape=(1,2), return_sequences=False))) #timestamp with 2 feature\n",
    "#model.add(Dropout(d))\n",
    "\n",
    "#model.add(LSTM(32, input_shape=(1,2), return_sequences=False))\n",
    "#model.add(Dropout(d))\n",
    "\n",
    "model.add(Dense(32,kernel_initializer=\"uniform\",activation='relu'))        \n",
    "model.add(Dense(1,kernel_initializer=\"uniform\",activation='linear'))\n",
    "\n",
    "# adam = keras.optimizers.Adam(decay=0.2)\n",
    "\n",
    "start = time.time()\n",
    "model.compile(loss='mse',optimizer='adam', metrics=['accuracy'])\n",
    "print(\"Compilation Time : \", time.time() - start)"
   ]
  },
  {
   "cell_type": "code",
   "execution_count": 15,
   "metadata": {},
   "outputs": [],
   "source": [
    "#model.summary()"
   ]
  },
  {
   "cell_type": "code",
   "execution_count": null,
   "metadata": {},
   "outputs": [
    {
     "name": "stdout",
     "output_type": "stream",
     "text": [
      "Epoch 1/80\n",
      "334/334 [==============================] - 1s 2ms/step - loss: 0.0022 - accuracy: 0.0389\n",
      "Epoch 2/80\n",
      "334/334 [==============================] - 1s 2ms/step - loss: 0.0020 - accuracy: 0.0389\n",
      "Epoch 3/80\n",
      "334/334 [==============================] - 1s 2ms/step - loss: 0.0020 - accuracy: 0.0389\n",
      "Epoch 4/80\n",
      "334/334 [==============================] - ETA: 0s - loss: 0.0020 - accuracy: 0.04 - 1s 2ms/step - loss: 0.0021 - accuracy: 0.0389\n",
      "Epoch 5/80\n",
      "334/334 [==============================] - 1s 2ms/step - loss: 0.0021 - accuracy: 0.0389\n",
      "Epoch 6/80\n",
      "334/334 [==============================] - 1s 2ms/step - loss: 0.0021 - accuracy: 0.0389\n",
      "Epoch 7/80\n",
      "334/334 [==============================] - 1s 2ms/step - loss: 0.0020 - accuracy: 0.0389\n",
      "Epoch 8/80\n",
      "334/334 [==============================] - 1s 2ms/step - loss: 0.0020 - accuracy: 0.0389\n",
      "Epoch 9/80\n",
      "334/334 [==============================] - 1s 2ms/step - loss: 0.0020 - accuracy: 0.0389\n",
      "Epoch 10/80\n",
      "334/334 [==============================] - 1s 2ms/step - loss: 0.0020 - accuracy: 0.0389\n",
      "Epoch 11/80\n",
      "334/334 [==============================] - 1s 2ms/step - loss: 0.0020 - accuracy: 0.0389\n",
      "Epoch 12/80\n",
      "334/334 [==============================] - 1s 2ms/step - loss: 0.0020 - accuracy: 0.0389\n",
      "Epoch 13/80\n",
      "334/334 [==============================] - 1s 2ms/step - loss: 0.0020 - accuracy: 0.0389\n",
      "Epoch 14/80\n",
      "334/334 [==============================] - 1s 2ms/step - loss: 0.0020 - accuracy: 0.0389\n",
      "Epoch 15/80\n",
      "334/334 [==============================] - 1s 2ms/step - loss: 0.0020 - accuracy: 0.0389\n",
      "Epoch 16/80\n",
      "334/334 [==============================] - 1s 2ms/step - loss: 0.0020 - accuracy: 0.0389\n",
      "Epoch 17/80\n",
      "334/334 [==============================] - 1s 2ms/step - loss: 0.0019 - accuracy: 0.0389\n",
      "Epoch 18/80\n",
      "334/334 [==============================] - 1s 2ms/step - loss: 0.0019 - accuracy: 0.0389\n",
      "Epoch 19/80\n",
      "334/334 [==============================] - 1s 2ms/step - loss: 0.0020 - accuracy: 0.0389\n",
      "Epoch 20/80\n",
      "334/334 [==============================] - 1s 2ms/step - loss: 0.0020 - accuracy: 0.0389\n",
      "Epoch 21/80\n",
      "334/334 [==============================] - 1s 2ms/step - loss: 0.0020 - accuracy: 0.0389\n",
      "Epoch 22/80\n",
      "334/334 [==============================] - 1s 2ms/step - loss: 0.0020 - accuracy: 0.0389\n",
      "Epoch 23/80\n",
      "334/334 [==============================] - 1s 2ms/step - loss: 0.0020 - accuracy: 0.0389\n",
      "Epoch 24/80\n",
      "334/334 [==============================] - 1s 2ms/step - loss: 0.0020 - accuracy: 0.0389\n",
      "Epoch 25/80\n",
      "334/334 [==============================] - 1s 2ms/step - loss: 0.0020 - accuracy: 0.0389\n",
      "Epoch 26/80\n",
      "334/334 [==============================] - 1s 2ms/step - loss: 0.0020 - accuracy: 0.0389\n",
      "Epoch 27/80\n",
      "334/334 [==============================] - 1s 2ms/step - loss: 0.0020 - accuracy: 0.0389\n",
      "Epoch 28/80\n",
      "334/334 [==============================] - 1s 2ms/step - loss: 0.0020 - accuracy: 0.0389\n",
      "Epoch 29/80\n",
      "334/334 [==============================] - 1s 2ms/step - loss: 0.0019 - accuracy: 0.0389\n",
      "Epoch 30/80\n",
      "334/334 [==============================] - 1s 2ms/step - loss: 0.0019 - accuracy: 0.0389\n",
      "Epoch 31/80\n",
      "334/334 [==============================] - 1s 2ms/step - loss: 0.0019 - accuracy: 0.0389\n",
      "Epoch 32/80\n",
      "334/334 [==============================] - 1s 2ms/step - loss: 0.0019 - accuracy: 0.0389\n",
      "Epoch 33/80\n",
      "334/334 [==============================] - 1s 2ms/step - loss: 0.0019 - accuracy: 0.0389\n",
      "Epoch 34/80\n",
      "334/334 [==============================] - 1s 2ms/step - loss: 0.0019 - accuracy: 0.0389\n",
      "Epoch 35/80\n",
      "334/334 [==============================] - 1s 2ms/step - loss: 0.0019 - accuracy: 0.0389\n",
      "Epoch 36/80\n",
      "334/334 [==============================] - 1s 2ms/step - loss: 0.0019 - accuracy: 0.0389\n",
      "Epoch 37/80\n",
      "334/334 [==============================] - 1s 2ms/step - loss: 0.0019 - accuracy: 0.0389\n",
      "Epoch 38/80\n",
      "334/334 [==============================] - 1s 2ms/step - loss: 0.0019 - accuracy: 0.0389\n",
      "Epoch 39/80\n",
      "334/334 [==============================] - 1s 2ms/step - loss: 0.0019 - accuracy: 0.0389\n",
      "Epoch 40/80\n",
      "194/334 [================>.............] - ETA: 0s - loss: 6.1437e-05 - accuracy: 0.0619"
     ]
    }
   ],
   "source": [
    "#Fit model with history to check for overfitting\n",
    "history = model.fit(x_train,y_train,batch_size=1,epochs=80,shuffle=False)"
   ]
  },
  {
   "cell_type": "code",
   "execution_count": null,
   "metadata": {},
   "outputs": [],
   "source": [
    "# serialize model to JSON\n",
    "model_json = model.to_json()\n",
    "with open(\"model-weight/model.json\", \"w\") as json_file:\n",
    "    json_file.write(model_json)\n",
    "# serialize weights to HDF5\n",
    "model.save_weights(\"model-weight/model.h5\")\n",
    "print(\"Saved model to disk\")"
   ]
  },
  {
   "cell_type": "code",
   "execution_count": null,
   "metadata": {},
   "outputs": [],
   "source": [
    "# load json and create model\n",
    "from keras.models import model_from_json\n",
    "json_file = open('model-weight/model.json', 'r')\n",
    "loaded_model_json = json_file.read()\n",
    "json_file.close()\n",
    "model = model_from_json(loaded_model_json)\n",
    "# load weights into new model\n",
    "model.load_weights(\"model-weight/model.h5\")\n",
    "print(\"Loaded model from disk\")\n",
    " \n",
    "# evaluate loaded model on test data\n",
    "model.compile(loss='mse',optimizer='adam', metrics=['accuracy'])"
   ]
  },
  {
   "cell_type": "markdown",
   "metadata": {},
   "source": [
    "# forecast till 2018 #"
   ]
  },
  {
   "cell_type": "code",
   "execution_count": null,
   "metadata": {},
   "outputs": [],
   "source": [
    "temp_x_forecast = x_forecast.copy()"
   ]
  },
  {
   "cell_type": "code",
   "execution_count": null,
   "metadata": {},
   "outputs": [],
   "source": [
    "temp_x_forecast"
   ]
  },
  {
   "cell_type": "code",
   "execution_count": null,
   "metadata": {},
   "outputs": [],
   "source": [
    "x_forecast = temp_x_forecast.copy()"
   ]
  },
  {
   "cell_type": "code",
   "execution_count": null,
   "metadata": {},
   "outputs": [],
   "source": [
    "#x_forecast = x_forecast.reshape((x_forecast.shape[0],1,x_forecast.shape[1]))  np.reshape(test_forecast,(1,1,2))\n",
    "x_forecast = np.reshape(x_forecast,(1,1,2))\n",
    "x_forecast"
   ]
  },
  {
   "cell_type": "code",
   "execution_count": null,
   "metadata": {},
   "outputs": [],
   "source": [
    "y_forecast[0]"
   ]
  },
  {
   "cell_type": "code",
   "execution_count": null,
   "metadata": {},
   "outputs": [],
   "source": [
    "forecast_val=[]\n",
    "#t=x_forecast[0][0][0] #take the price lag of last row\n",
    "t = y_forecast[0] #take the price of last row\n",
    "t"
   ]
  },
  {
   "cell_type": "code",
   "execution_count": null,
   "metadata": {},
   "outputs": [],
   "source": [
    "forecast_data_index = pd.date_range(start='1/1/2018', periods=12,freq='M')\n",
    "forecast_data_index"
   ]
  },
  {
   "cell_type": "code",
   "execution_count": null,
   "metadata": {},
   "outputs": [],
   "source": [
    "forecast_data = pd.DataFrame()\n",
    "forecast_data['date'] = forecast_data_index"
   ]
  },
  {
   "cell_type": "code",
   "execution_count": null,
   "metadata": {},
   "outputs": [],
   "source": [
    "for i in range(1,len(forecast_data)+1):\n",
    "    m=model.predict(x_forecast)\n",
    "    print(\"predict price = \",m.tolist()[0][0])\n",
    "    print(\"last price_lag = \", t)\n",
    "    forecastdf=pd.DataFrame(columns=['price_lag'])\n",
    "    forecastdf['price_lag']=[t,m.tolist()[0][0]]\n",
    "    forecastdf['rolling_mean_price']=forecastdf['price_lag'].rolling(2, min_periods=1).sum()\n",
    "    print(forecastdf)\n",
    "    x_forecast=forecastdf[:]\n",
    "    print(\"matrix\",x_forecast)\n",
    "    x_forecast = x_forecast.as_matrix()\n",
    "    print(\"matrix_dd\",x_forecast)\n",
    "    x_forecast = x_forecast.reshape((x_forecast.shape[0],1,x_forecast.shape[1]))\n",
    "    #x_forecast = np.reshape(x_forecast,(1,1,2))\n",
    "    t=m.tolist()[0][0]\n",
    "    forecast_val.append(m.tolist()[0][0])"
   ]
  },
  {
   "cell_type": "code",
   "execution_count": null,
   "metadata": {},
   "outputs": [],
   "source": [
    "forecast_val"
   ]
  },
  {
   "cell_type": "code",
   "execution_count": null,
   "metadata": {},
   "outputs": [],
   "source": [
    "forecast_data['forecast_price'] = forecast_val #normalize value"
   ]
  },
  {
   "cell_type": "code",
   "execution_count": null,
   "metadata": {},
   "outputs": [],
   "source": [
    "#data[:335]"
   ]
  },
  {
   "cell_type": "code",
   "execution_count": null,
   "metadata": {},
   "outputs": [],
   "source": [
    "forecast_data['forecast_price'].plot()"
   ]
  },
  {
   "cell_type": "code",
   "execution_count": null,
   "metadata": {},
   "outputs": [],
   "source": [
    "def denormalize(df, normalized_value): \n",
    "    df = df['price'].values.reshape(-1,1)\n",
    "    normalized_value = normalized_value.reshape(-1,1)\n",
    "    #return df.shape, p.shape\n",
    "    min_max_scaler = sklearn.preprocessing.MinMaxScaler()\n",
    "    a = min_max_scaler.fit_transform(df)\n",
    "    new = min_max_scaler.inverse_transform(normalized_value)\n",
    "    return new\n",
    "\n",
    "# newp = denormalize(data, pred_price)\n",
    "# newy_test = denormalize(data, y_test)"
   ]
  },
  {
   "cell_type": "code",
   "execution_count": null,
   "metadata": {},
   "outputs": [],
   "source": [
    "new_forecast = denormalize(data[:335], np.array(forecast_val))\n",
    "forecast_data['forecast_price'] = new_forecast #denorm_price\n",
    "forecast_data = forecast_data.set_index('date')\n",
    "forecast_data.forecast_price.plot()"
   ]
  },
  {
   "cell_type": "code",
   "execution_count": null,
   "metadata": {},
   "outputs": [],
   "source": [
    "forecast_data"
   ]
  },
  {
   "cell_type": "code",
   "execution_count": null,
   "metadata": {},
   "outputs": [],
   "source": [
    "data[335:]['price'] #actual price"
   ]
  },
  {
   "cell_type": "code",
   "execution_count": null,
   "metadata": {},
   "outputs": [],
   "source": [
    "def forecast_accuracy(forecast, actual):\n",
    "    mape=np.mean(np.abs(forecast-actual)/np.abs(actual))# MAPE\n",
    "    me=np.mean(forecast-actual)# ME\n",
    "    mae=np.mean(np.abs(forecast-actual))# MAE\n",
    "    mpe=np.mean((forecast-actual)/actual)# MPE\n",
    "    return({'mape':mape,'me':me,'mae': mae,'mpe': mpe})\n",
    "print(forecast_accuracy(forecast_data.forecast_price.values, data[335:]['price'].values))\n",
    "forecast_data['actual']=data[335:]['price'].values\n",
    "forecast_data"
   ]
  },
  {
   "cell_type": "code",
   "execution_count": null,
   "metadata": {},
   "outputs": [],
   "source": [
    "forecast_data.plot(figsize=(15,5))"
   ]
  },
  {
   "cell_type": "code",
   "execution_count": null,
   "metadata": {},
   "outputs": [],
   "source": []
  },
  {
   "cell_type": "code",
   "execution_count": null,
   "metadata": {},
   "outputs": [],
   "source": []
  }
 ],
 "metadata": {
  "kernelspec": {
   "display_name": "Python 3",
   "language": "python",
   "name": "python3"
  },
  "language_info": {
   "codemirror_mode": {
    "name": "ipython",
    "version": 3
   },
   "file_extension": ".py",
   "mimetype": "text/x-python",
   "name": "python",
   "nbconvert_exporter": "python",
   "pygments_lexer": "ipython3",
   "version": "3.7.4"
  }
 },
 "nbformat": 4,
 "nbformat_minor": 2
}
