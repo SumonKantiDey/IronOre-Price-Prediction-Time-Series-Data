{
 "cells": [
  {
   "cell_type": "code",
   "execution_count": 1,
   "metadata": {},
   "outputs": [
    {
     "name": "stderr",
     "output_type": "stream",
     "text": [
      "Using TensorFlow backend.\n"
     ]
    }
   ],
   "source": [
    "import numpy as np\n",
    "import matplotlib.pyplot as plt\n",
    "%matplotlib inline\n",
    "from sklearn.linear_model import LinearRegression \n",
    "import matplotlib.pylab as pylab\n",
    "import math,time\n",
    "import sklearn\n",
    "import sklearn.preprocessing\n",
    "import datetime\n",
    "import os\n",
    "import matplotlib.pyplot as plt\n",
    "import keras\n",
    "from keras.models import Sequential\n",
    "from keras.layers import LSTM\n",
    "from keras.layers.core import Dense, Dropout, Activation\n",
    "from sklearn.preprocessing import MinMaxScaler\n",
    "from statsmodels.graphics.tsaplots import plot_pacf, plot_acf\n",
    "\n",
    "test_set_size_percentage = 20 \n",
    "import pandas as pd\n",
    "from pandas import read_csv\n",
    "params = {'legend.fontsize': 'xx-large',\n",
    "          'figure.figsize': (15, 10),\n",
    "         'axes.labelsize': 'xx-large',\n",
    "         'axes.titlesize':'xx-large',\n",
    "         'xtick.labelsize':'xx-large',\n",
    "         'ytick.labelsize':'xx-large'}\n",
    "pylab.rcParams.update(params)"
   ]
  },
  {
   "cell_type": "code",
   "execution_count": 2,
   "metadata": {},
   "outputs": [],
   "source": [
    "df = read_csv('dataset/irondata.csv')"
   ]
  },
  {
   "cell_type": "code",
   "execution_count": 3,
   "metadata": {},
   "outputs": [],
   "source": [
    "df['date']=pd.to_datetime(df['date'],format='%d/%m/%Y')"
   ]
  },
  {
   "cell_type": "code",
   "execution_count": 4,
   "metadata": {},
   "outputs": [
    {
     "data": {
      "text/html": [
       "<div>\n",
       "<style scoped>\n",
       "    .dataframe tbody tr th:only-of-type {\n",
       "        vertical-align: middle;\n",
       "    }\n",
       "\n",
       "    .dataframe tbody tr th {\n",
       "        vertical-align: top;\n",
       "    }\n",
       "\n",
       "    .dataframe thead th {\n",
       "        text-align: right;\n",
       "    }\n",
       "</style>\n",
       "<table border=\"1\" class=\"dataframe\">\n",
       "  <thead>\n",
       "    <tr style=\"text-align: right;\">\n",
       "      <th></th>\n",
       "      <th>price</th>\n",
       "      <th>Month</th>\n",
       "      <th>price_lag</th>\n",
       "      <th>price_diff</th>\n",
       "      <th>rolling_mean_price</th>\n",
       "    </tr>\n",
       "    <tr>\n",
       "      <th>date</th>\n",
       "      <th></th>\n",
       "      <th></th>\n",
       "      <th></th>\n",
       "      <th></th>\n",
       "      <th></th>\n",
       "    </tr>\n",
       "  </thead>\n",
       "  <tbody>\n",
       "    <tr>\n",
       "      <td>1990-03-31</td>\n",
       "      <td>14.05</td>\n",
       "      <td>3</td>\n",
       "      <td>14.05</td>\n",
       "      <td>0.0</td>\n",
       "      <td>28.1</td>\n",
       "    </tr>\n",
       "    <tr>\n",
       "      <td>1990-04-30</td>\n",
       "      <td>14.05</td>\n",
       "      <td>4</td>\n",
       "      <td>14.05</td>\n",
       "      <td>0.0</td>\n",
       "      <td>28.1</td>\n",
       "    </tr>\n",
       "    <tr>\n",
       "      <td>1990-05-31</td>\n",
       "      <td>14.05</td>\n",
       "      <td>5</td>\n",
       "      <td>14.05</td>\n",
       "      <td>0.0</td>\n",
       "      <td>28.1</td>\n",
       "    </tr>\n",
       "    <tr>\n",
       "      <td>1990-06-30</td>\n",
       "      <td>14.05</td>\n",
       "      <td>6</td>\n",
       "      <td>14.05</td>\n",
       "      <td>0.0</td>\n",
       "      <td>28.1</td>\n",
       "    </tr>\n",
       "    <tr>\n",
       "      <td>1990-07-31</td>\n",
       "      <td>14.05</td>\n",
       "      <td>7</td>\n",
       "      <td>14.05</td>\n",
       "      <td>0.0</td>\n",
       "      <td>28.1</td>\n",
       "    </tr>\n",
       "  </tbody>\n",
       "</table>\n",
       "</div>"
      ],
      "text/plain": [
       "            price  Month  price_lag  price_diff  rolling_mean_price\n",
       "date                                                               \n",
       "1990-03-31  14.05      3      14.05         0.0                28.1\n",
       "1990-04-30  14.05      4      14.05         0.0                28.1\n",
       "1990-05-31  14.05      5      14.05         0.0                28.1\n",
       "1990-06-30  14.05      6      14.05         0.0                28.1\n",
       "1990-07-31  14.05      7      14.05         0.0                28.1"
      ]
     },
     "execution_count": 4,
     "metadata": {},
     "output_type": "execute_result"
    }
   ],
   "source": [
    "df=df.sort_values('date')\n",
    "df['Month']=df['date'].dt.month\n",
    "df['price_lag']=df['price'].shift(1)\n",
    "df['price_diff']=df['price_lag'].diff(periods=1)\n",
    "df=df.set_index('date')\n",
    "df['rolling_mean_price']=df['price_lag'].rolling(2, min_periods=1).sum()\n",
    "df=df.dropna()\n",
    "df.head()"
   ]
  },
  {
   "cell_type": "code",
   "execution_count": 5,
   "metadata": {},
   "outputs": [],
   "source": [
    "# function for min-max normalization of Iron Ore \n",
    "min_max_scaler = sklearn.preprocessing.MinMaxScaler()\n",
    "def normalize_data(df):\n",
    "    df['price'] = min_max_scaler.fit_transform(df.price.values.reshape(-1,1))\n",
    "    df['Month'] = min_max_scaler.fit_transform(df.Month.values.reshape(-1,1))\n",
    "    df['price_lag'] = min_max_scaler.fit_transform(df.price_lag.values.reshape(-1,1))\n",
    "    df['rolling_mean_price'] = min_max_scaler.fit_transform(df.rolling_mean_price.values.reshape(-1,1))\n",
    "    return df"
   ]
  },
  {
   "cell_type": "code",
   "execution_count": 6,
   "metadata": {},
   "outputs": [
    {
     "data": {
      "text/html": [
       "<div>\n",
       "<style scoped>\n",
       "    .dataframe tbody tr th:only-of-type {\n",
       "        vertical-align: middle;\n",
       "    }\n",
       "\n",
       "    .dataframe tbody tr th {\n",
       "        vertical-align: top;\n",
       "    }\n",
       "\n",
       "    .dataframe thead th {\n",
       "        text-align: right;\n",
       "    }\n",
       "</style>\n",
       "<table border=\"1\" class=\"dataframe\">\n",
       "  <thead>\n",
       "    <tr style=\"text-align: right;\">\n",
       "      <th></th>\n",
       "      <th>price</th>\n",
       "      <th>Month</th>\n",
       "      <th>price_lag</th>\n",
       "      <th>price_diff</th>\n",
       "      <th>rolling_mean_price</th>\n",
       "    </tr>\n",
       "    <tr>\n",
       "      <th>date</th>\n",
       "      <th></th>\n",
       "      <th></th>\n",
       "      <th></th>\n",
       "      <th></th>\n",
       "      <th></th>\n",
       "    </tr>\n",
       "  </thead>\n",
       "  <tbody>\n",
       "    <tr>\n",
       "      <td>1990-03-31</td>\n",
       "      <td>0.014795</td>\n",
       "      <td>0.181818</td>\n",
       "      <td>0.014795</td>\n",
       "      <td>0.0</td>\n",
       "      <td>0.01512</td>\n",
       "    </tr>\n",
       "    <tr>\n",
       "      <td>1990-04-30</td>\n",
       "      <td>0.014795</td>\n",
       "      <td>0.272727</td>\n",
       "      <td>0.014795</td>\n",
       "      <td>0.0</td>\n",
       "      <td>0.01512</td>\n",
       "    </tr>\n",
       "    <tr>\n",
       "      <td>1990-05-31</td>\n",
       "      <td>0.014795</td>\n",
       "      <td>0.363636</td>\n",
       "      <td>0.014795</td>\n",
       "      <td>0.0</td>\n",
       "      <td>0.01512</td>\n",
       "    </tr>\n",
       "    <tr>\n",
       "      <td>1990-06-30</td>\n",
       "      <td>0.014795</td>\n",
       "      <td>0.454545</td>\n",
       "      <td>0.014795</td>\n",
       "      <td>0.0</td>\n",
       "      <td>0.01512</td>\n",
       "    </tr>\n",
       "    <tr>\n",
       "      <td>1990-07-31</td>\n",
       "      <td>0.014795</td>\n",
       "      <td>0.545455</td>\n",
       "      <td>0.014795</td>\n",
       "      <td>0.0</td>\n",
       "      <td>0.01512</td>\n",
       "    </tr>\n",
       "  </tbody>\n",
       "</table>\n",
       "</div>"
      ],
      "text/plain": [
       "               price     Month  price_lag  price_diff  rolling_mean_price\n",
       "date                                                                     \n",
       "1990-03-31  0.014795  0.181818   0.014795         0.0             0.01512\n",
       "1990-04-30  0.014795  0.272727   0.014795         0.0             0.01512\n",
       "1990-05-31  0.014795  0.363636   0.014795         0.0             0.01512\n",
       "1990-06-30  0.014795  0.454545   0.014795         0.0             0.01512\n",
       "1990-07-31  0.014795  0.545455   0.014795         0.0             0.01512"
      ]
     },
     "execution_count": 6,
     "metadata": {},
     "output_type": "execute_result"
    }
   ],
   "source": [
    "# normalize stock\n",
    "df_stock_norm = df.copy()\n",
    "df_stock_norm = normalize_data(df_stock_norm)\n",
    "df_stock_norm.head()"
   ]
  },
  {
   "cell_type": "code",
   "execution_count": 7,
   "metadata": {},
   "outputs": [],
   "source": [
    "# function to create train, validation, test data given stock data and sequence length\n",
    "def load_data(stock, seq_len):\n",
    "    data_raw = stock.as_matrix()\n",
    "    #print(data_raw.shape)\n",
    "    data = []\n",
    "    cnt = 0\n",
    "    # create all possible sequences of length seq_len\n",
    "    for index in range(len(data_raw) - seq_len): \n",
    "        data.append(data_raw[index: index + seq_len])\n",
    "    \n",
    "    \n",
    "    data = np.array(data);\n",
    "   # print(data.shape)  \n",
    "    test_set_size = int(np.round(test_set_size_percentage/100*data.shape[0]));\n",
    "    train_set_size = data.shape[0] - (test_set_size);\n",
    "    \n",
    "    \n",
    "    x_train = data[:train_set_size,:-1,:]\n",
    "    y_train = data[:train_set_size,-1,:]\n",
    "    print(x_train[1].shape, y_train[1].shape)\n",
    "    print(data[0])\n",
    "    print(x_train[0],y_train[0])\n",
    "    print(\"--------------------------\")\n",
    "    print(data[2])\n",
    "    print(x_train[2],y_train[2])\n",
    "   \n",
    "    \n",
    "    x_test = data[train_set_size:,:-1,:]\n",
    "    y_test = data[train_set_size:,-1,:]\n",
    "    \n",
    "    return [x_train, y_train, x_test, y_test]"
   ]
  },
  {
   "cell_type": "code",
   "execution_count": 8,
   "metadata": {},
   "outputs": [
    {
     "name": "stdout",
     "output_type": "stream",
     "text": [
      "(2, 5) (5,)\n",
      "[[0.01479542 0.18181818 0.01479542 0.         0.01512023]\n",
      " [0.01479542 0.27272727 0.01479542 0.         0.01512023]\n",
      " [0.01479542 0.36363636 0.01479542 0.         0.01512023]]\n",
      "[[0.01479542 0.18181818 0.01479542 0.         0.01512023]\n",
      " [0.01479542 0.27272727 0.01479542 0.         0.01512023]] [0.01479542 0.36363636 0.01479542 0.         0.01512023]\n",
      "--------------------------\n",
      "[[0.01479542 0.36363636 0.01479542 0.         0.01512023]\n",
      " [0.01479542 0.45454545 0.01479542 0.         0.01512023]\n",
      " [0.01479542 0.54545455 0.01479542 0.         0.01512023]]\n",
      "[[0.01479542 0.36363636 0.01479542 0.         0.01512023]\n",
      " [0.01479542 0.45454545 0.01479542 0.         0.01512023]] [0.01479542 0.54545455 0.01479542 0.         0.01512023]\n",
      "x_train.shape =  (274, 2, 5)\n",
      "y_train.shape =  (274, 5)\n",
      "x_test.shape =  (69, 2, 5)\n",
      "y_test.shape =  (69, 5)\n"
     ]
    },
    {
     "name": "stderr",
     "output_type": "stream",
     "text": [
      "C:\\Users\\sumon\\Anaconda3\\envs\\tensorflow\\lib\\site-packages\\ipykernel_launcher.py:3: FutureWarning: Method .as_matrix will be removed in a future version. Use .values instead.\n",
      "  This is separate from the ipykernel package so we can avoid doing imports until\n"
     ]
    }
   ],
   "source": [
    "# create train, test data\n",
    "seq_len = 2 # choose sequence length\n",
    "x_train, y_train, x_test, y_test = load_data(df_stock_norm, seq_len+1)\n",
    "print('x_train.shape = ',x_train.shape)\n",
    "print('y_train.shape = ', y_train.shape)\n",
    "print('x_test.shape = ', x_test.shape)\n",
    "print('y_test.shape = ',y_test.shape)"
   ]
  },
  {
   "cell_type": "code",
   "execution_count": 9,
   "metadata": {},
   "outputs": [
    {
     "data": {
      "text/plain": [
       "(274, 2, 5)"
      ]
     },
     "execution_count": 9,
     "metadata": {},
     "output_type": "execute_result"
    }
   ],
   "source": [
    "# x_train[0]\n",
    "# x_train[0][1][1:]\n",
    "x_train.shape"
   ]
  },
  {
   "cell_type": "code",
   "execution_count": 10,
   "metadata": {},
   "outputs": [],
   "source": [
    "# x_train = x_train[:,:,1:]\n",
    "# x_valid = x_valid[:,:,1:]\n",
    "# x_test = x_test[:,:,1:]"
   ]
  },
  {
   "cell_type": "code",
   "execution_count": 11,
   "metadata": {},
   "outputs": [],
   "source": [
    "# print('x_train.shape = ',x_train.shape)\n",
    "# print('y_train.shape = ', y_train.shape)\n",
    "# print('x_valid.shape = ',x_valid.shape)\n",
    "# print('y_valid.shape = ', y_valid.shape)\n",
    "# print('x_test.shape = ', x_test.shape)\n",
    "# print('y_test.shape = ',y_test.shape)"
   ]
  },
  {
   "cell_type": "code",
   "execution_count": 12,
   "metadata": {},
   "outputs": [
    {
     "name": "stdout",
     "output_type": "stream",
     "text": [
      "x_train.shape =  (274, 2, 4)\n",
      "y_train.shape =  (274,)\n",
      "x_test.shape =  (69, 2, 4)\n",
      "y_test.shape =  (69,)\n"
     ]
    }
   ],
   "source": [
    "# Choose only  prices\n",
    "x_train, y_train, x_test, y_test = x_train[:,:,1:], y_train[:,0], x_test[:,:,1:], y_test[:,0]\n",
    "print('x_train.shape = ',x_train.shape)\n",
    "print('y_train.shape = ', y_train.shape)\n",
    "print('x_test.shape = ', x_test.shape)\n",
    "print('y_test.shape = ',y_test.shape)"
   ]
  },
  {
   "cell_type": "code",
   "execution_count": 13,
   "metadata": {},
   "outputs": [
    {
     "name": "stdout",
     "output_type": "stream",
     "text": [
      "Build model\n"
     ]
    }
   ],
   "source": [
    "print(\"Build model\")\n",
    "def build_model(layers):\n",
    "    d = 0.3\n",
    "    model = Sequential()\n",
    "    \n",
    "    model.add(LSTM(256, input_shape=(layers[1], layers[0]), return_sequences=True))\n",
    "    model.add(Dropout(d))\n",
    "        \n",
    "    model.add(LSTM(256, input_shape=(layers[1], layers[0]), return_sequences=False))\n",
    "    model.add(Dropout(d))\n",
    "        \n",
    "    model.add(Dense(32,kernel_initializer=\"uniform\",activation='relu'))        \n",
    "    model.add(Dense(1,kernel_initializer=\"uniform\",activation='linear'))\n",
    "    \n",
    "    # adam = keras.optimizers.Adam(decay=0.2)\n",
    "        \n",
    "    start = time.time()\n",
    "    model.compile(loss='mse',optimizer='adam', metrics=['accuracy'])\n",
    "    print(\"Compilation Time : \", time.time() - start)\n",
    "    return model"
   ]
  },
  {
   "cell_type": "code",
   "execution_count": 14,
   "metadata": {},
   "outputs": [
    {
     "name": "stdout",
     "output_type": "stream",
     "text": [
      "Compilation Time :  0.031241893768310547\n"
     ]
    }
   ],
   "source": [
    "model = build_model([4,seq_len,1]) #input 4 feature"
   ]
  },
  {
   "cell_type": "code",
   "execution_count": 15,
   "metadata": {},
   "outputs": [
    {
     "name": "stdout",
     "output_type": "stream",
     "text": [
      "WARNING:tensorflow:From C:\\Users\\sumon\\Anaconda3\\envs\\tensorflow\\lib\\site-packages\\keras\\backend\\tensorflow_backend.py:422: The name tf.global_variables is deprecated. Please use tf.compat.v1.global_variables instead.\n",
      "\n",
      "Train on 246 samples, validate on 28 samples\n",
      "Epoch 1/10\n",
      "246/246 [==============================] - 5s 19ms/step - loss: 0.0208 - accuracy: 0.0488 - val_loss: 0.0821 - val_accuracy: 0.0357\n",
      "Epoch 2/10\n",
      "246/246 [==============================] - 4s 16ms/step - loss: 0.0122 - accuracy: 0.0488 - val_loss: 0.0202 - val_accuracy: 0.0357\n",
      "Epoch 3/10\n",
      "246/246 [==============================] - 4s 16ms/step - loss: 0.0069 - accuracy: 0.0488 - val_loss: 0.0983 - val_accuracy: 0.0357\n",
      "Epoch 4/10\n",
      "246/246 [==============================] - 4s 16ms/step - loss: 0.0035 - accuracy: 0.0488 - val_loss: 0.0332 - val_accuracy: 0.0357\n",
      "Epoch 5/10\n",
      "246/246 [==============================] - 4s 16ms/step - loss: 0.0044 - accuracy: 0.0488 - val_loss: 0.1283 - val_accuracy: 0.0357\n",
      "Epoch 6/10\n",
      "246/246 [==============================] - 4s 18ms/step - loss: 0.0034 - accuracy: 0.0488 - val_loss: 0.0677 - val_accuracy: 0.0357\n",
      "Epoch 7/10\n",
      "246/246 [==============================] - 4s 16ms/step - loss: 0.0036 - accuracy: 0.0488 - val_loss: 0.0200 - val_accuracy: 0.0357\n",
      "Epoch 8/10\n",
      "246/246 [==============================] - 4s 16ms/step - loss: 0.0043 - accuracy: 0.0488 - val_loss: 0.0090 - val_accuracy: 0.0357\n",
      "Epoch 9/10\n",
      "246/246 [==============================] - 4s 15ms/step - loss: 0.0028 - accuracy: 0.0488 - val_loss: 0.0157 - val_accuracy: 0.0357\n",
      "Epoch 10/10\n",
      "246/246 [==============================] - 4s 15ms/step - loss: 0.0034 - accuracy: 0.0488 - val_loss: 0.0707 - val_accuracy: 0.0000e+00\n"
     ]
    },
    {
     "data": {
      "text/plain": [
       "<keras.callbacks.callbacks.History at 0x1fcb2842748>"
      ]
     },
     "execution_count": 15,
     "metadata": {},
     "output_type": "execute_result"
    }
   ],
   "source": [
    "model.fit(x_train,y_train,batch_size=1,epochs=10,validation_split=0.1,verbose=1)"
   ]
  },
  {
   "cell_type": "code",
   "execution_count": 16,
   "metadata": {},
   "outputs": [
    {
     "name": "stdout",
     "output_type": "stream",
     "text": [
      "69/69 [==============================] - 0s 3ms/step\n"
     ]
    }
   ],
   "source": [
    "pred_price = model.predict(x_test,batch_size=1,verbose=1)"
   ]
  },
  {
   "cell_type": "code",
   "execution_count": 17,
   "metadata": {},
   "outputs": [],
   "source": [
    "def denormalize(df, normalized_value): \n",
    "    df = df['price'].values.reshape(-1,1)\n",
    "    normalized_value = normalized_value.reshape(-1,1)\n",
    "    #return df.shape, p.shape\n",
    "    min_max_scaler = sklearn.preprocessing.MinMaxScaler()\n",
    "    a = min_max_scaler.fit_transform(df)\n",
    "    new = min_max_scaler.inverse_transform(normalized_value)\n",
    "    return new\n",
    "\n",
    "newp = denormalize(df, pred_price)\n",
    "newy_test = denormalize(df, y_test)"
   ]
  },
  {
   "cell_type": "code",
   "execution_count": 18,
   "metadata": {},
   "outputs": [
    {
     "name": "stdout",
     "output_type": "stream",
     "text": [
      "Train Score: 0.01375 MSE (0.12 RMSE)\n",
      "Test Score: 0.02198 MSE (0.15 RMSE)\n"
     ]
    },
    {
     "data": {
      "text/plain": [
       "(0.013746988769267162, 0.02197699560581342)"
      ]
     },
     "execution_count": 18,
     "metadata": {},
     "output_type": "execute_result"
    }
   ],
   "source": [
    "def model_score(model, x_train, y_train, x_test, y_test):\n",
    "    trainScore = model.evaluate(x_train, y_train, verbose=0)\n",
    "    print('Train Score: %.5f MSE (%.2f RMSE)' % (trainScore[0], math.sqrt(trainScore[0])))\n",
    "\n",
    "    testScore = model.evaluate(x_test, y_test, verbose=0)\n",
    "    print('Test Score: %.5f MSE (%.2f RMSE)' % (testScore[0], math.sqrt(testScore[0])))\n",
    "    return trainScore[0], testScore[0]\n",
    "\n",
    "\n",
    "model_score(model, x_train, y_train, x_test, y_test)"
   ]
  },
  {
   "cell_type": "code",
   "execution_count": 19,
   "metadata": {},
   "outputs": [
    {
     "data": {
      "image/png": "[encoded data removed]",
      "text/plain": [
       "<Figure size 1080x360 with 1 Axes>"
      ]
     },
     "metadata": {
      "needs_background": "light"
     },
     "output_type": "display_data"
    }
   ],
   "source": [
    "plt.figure(figsize=(15, 5));\n",
    "plt.plot(newp,color='red', label='Prediction')\n",
    "plt.plot(newy_test,color='blue', label='Actual')\n",
    "plt.legend(loc='best')\n",
    "plt.show()"
   ]
  },
  {
   "cell_type": "code",
   "execution_count": 20,
   "metadata": {},
   "outputs": [],
   "source": [
    "import pandas as pd\n",
    "act_pred = pd.concat([pd.DataFrame(newp), pd.DataFrame(newy_test)], axis=1)\n",
    "act_pred.columns = ['Predicted', 'Actual']"
   ]
  },
  {
   "cell_type": "code",
   "execution_count": 21,
   "metadata": {},
   "outputs": [
    {
     "data": {
      "text/html": [
       "<div>\n",
       "<style scoped>\n",
       "    .dataframe tbody tr th:only-of-type {\n",
       "        vertical-align: middle;\n",
       "    }\n",
       "\n",
       "    .dataframe tbody tr th {\n",
       "        vertical-align: top;\n",
       "    }\n",
       "\n",
       "    .dataframe thead th {\n",
       "        text-align: right;\n",
       "    }\n",
       "</style>\n",
       "<table border=\"1\" class=\"dataframe\">\n",
       "  <thead>\n",
       "    <tr style=\"text-align: right;\">\n",
       "      <th></th>\n",
       "      <th>Predicted</th>\n",
       "      <th>Actual</th>\n",
       "    </tr>\n",
       "  </thead>\n",
       "  <tbody>\n",
       "    <tr>\n",
       "      <td>0</td>\n",
       "      <td>83.257202</td>\n",
       "      <td>139.87</td>\n",
       "    </tr>\n",
       "    <tr>\n",
       "      <td>1</td>\n",
       "      <td>87.604187</td>\n",
       "      <td>137.39</td>\n",
       "    </tr>\n",
       "    <tr>\n",
       "      <td>2</td>\n",
       "      <td>113.770744</td>\n",
       "      <td>124.01</td>\n",
       "    </tr>\n",
       "    <tr>\n",
       "      <td>3</td>\n",
       "      <td>147.160629</td>\n",
       "      <td>114.82</td>\n",
       "    </tr>\n",
       "    <tr>\n",
       "      <td>4</td>\n",
       "      <td>120.460175</td>\n",
       "      <td>127.19</td>\n",
       "    </tr>\n",
       "    <tr>\n",
       "      <td>...</td>\n",
       "      <td>...</td>\n",
       "      <td>...</td>\n",
       "    </tr>\n",
       "    <tr>\n",
       "      <td>64</td>\n",
       "      <td>74.022942</td>\n",
       "      <td>67.05</td>\n",
       "    </tr>\n",
       "    <tr>\n",
       "      <td>65</td>\n",
       "      <td>51.678230</td>\n",
       "      <td>68.02</td>\n",
       "    </tr>\n",
       "    <tr>\n",
       "      <td>66</td>\n",
       "      <td>52.468437</td>\n",
       "      <td>68.80</td>\n",
       "    </tr>\n",
       "    <tr>\n",
       "      <td>67</td>\n",
       "      <td>52.642735</td>\n",
       "      <td>72.02</td>\n",
       "    </tr>\n",
       "    <tr>\n",
       "      <td>68</td>\n",
       "      <td>51.210106</td>\n",
       "      <td>72.30</td>\n",
       "    </tr>\n",
       "  </tbody>\n",
       "</table>\n",
       "<p>69 rows × 2 columns</p>\n",
       "</div>"
      ],
      "text/plain": [
       "     Predicted  Actual\n",
       "0    83.257202  139.87\n",
       "1    87.604187  137.39\n",
       "2   113.770744  124.01\n",
       "3   147.160629  114.82\n",
       "4   120.460175  127.19\n",
       "..         ...     ...\n",
       "64   74.022942   67.05\n",
       "65   51.678230   68.02\n",
       "66   52.468437   68.80\n",
       "67   52.642735   72.02\n",
       "68   51.210106   72.30\n",
       "\n",
       "[69 rows x 2 columns]"
      ]
     },
     "execution_count": 21,
     "metadata": {},
     "output_type": "execute_result"
    }
   ],
   "source": [
    "act_pred"
   ]
  },
  {
   "cell_type": "code",
   "execution_count": 22,
   "metadata": {},
   "outputs": [
    {
     "data": {
      "text/html": [
       "<div>\n",
       "<style scoped>\n",
       "    .dataframe tbody tr th:only-of-type {\n",
       "        vertical-align: middle;\n",
       "    }\n",
       "\n",
       "    .dataframe tbody tr th {\n",
       "        vertical-align: top;\n",
       "    }\n",
       "\n",
       "    .dataframe thead th {\n",
       "        text-align: right;\n",
       "    }\n",
       "</style>\n",
       "<table border=\"1\" class=\"dataframe\">\n",
       "  <thead>\n",
       "    <tr style=\"text-align: right;\">\n",
       "      <th></th>\n",
       "      <th>price</th>\n",
       "      <th>Month</th>\n",
       "      <th>price_lag</th>\n",
       "      <th>price_diff</th>\n",
       "      <th>rolling_mean_price</th>\n",
       "    </tr>\n",
       "    <tr>\n",
       "      <th>date</th>\n",
       "      <th></th>\n",
       "      <th></th>\n",
       "      <th></th>\n",
       "      <th></th>\n",
       "      <th></th>\n",
       "    </tr>\n",
       "  </thead>\n",
       "  <tbody>\n",
       "    <tr>\n",
       "      <td>2013-03-31</td>\n",
       "      <td>139.87</td>\n",
       "      <td>3</td>\n",
       "      <td>154.64</td>\n",
       "      <td>4.15</td>\n",
       "      <td>305.13</td>\n",
       "    </tr>\n",
       "    <tr>\n",
       "      <td>2013-04-30</td>\n",
       "      <td>137.39</td>\n",
       "      <td>4</td>\n",
       "      <td>139.87</td>\n",
       "      <td>-14.77</td>\n",
       "      <td>294.51</td>\n",
       "    </tr>\n",
       "    <tr>\n",
       "      <td>2013-05-31</td>\n",
       "      <td>124.01</td>\n",
       "      <td>5</td>\n",
       "      <td>137.39</td>\n",
       "      <td>-2.48</td>\n",
       "      <td>277.26</td>\n",
       "    </tr>\n",
       "    <tr>\n",
       "      <td>2013-06-30</td>\n",
       "      <td>114.82</td>\n",
       "      <td>6</td>\n",
       "      <td>124.01</td>\n",
       "      <td>-13.38</td>\n",
       "      <td>261.40</td>\n",
       "    </tr>\n",
       "    <tr>\n",
       "      <td>2013-07-31</td>\n",
       "      <td>127.19</td>\n",
       "      <td>7</td>\n",
       "      <td>114.82</td>\n",
       "      <td>-9.19</td>\n",
       "      <td>238.83</td>\n",
       "    </tr>\n",
       "    <tr>\n",
       "      <td>...</td>\n",
       "      <td>...</td>\n",
       "      <td>...</td>\n",
       "      <td>...</td>\n",
       "      <td>...</td>\n",
       "      <td>...</td>\n",
       "    </tr>\n",
       "    <tr>\n",
       "      <td>2018-08-31</td>\n",
       "      <td>68.02</td>\n",
       "      <td>8</td>\n",
       "      <td>67.05</td>\n",
       "      <td>0.19</td>\n",
       "      <td>133.91</td>\n",
       "    </tr>\n",
       "    <tr>\n",
       "      <td>2018-09-30</td>\n",
       "      <td>68.80</td>\n",
       "      <td>9</td>\n",
       "      <td>68.02</td>\n",
       "      <td>0.97</td>\n",
       "      <td>135.07</td>\n",
       "    </tr>\n",
       "    <tr>\n",
       "      <td>2018-10-31</td>\n",
       "      <td>72.02</td>\n",
       "      <td>10</td>\n",
       "      <td>68.80</td>\n",
       "      <td>0.78</td>\n",
       "      <td>136.82</td>\n",
       "    </tr>\n",
       "    <tr>\n",
       "      <td>2018-11-30</td>\n",
       "      <td>72.30</td>\n",
       "      <td>11</td>\n",
       "      <td>72.02</td>\n",
       "      <td>3.22</td>\n",
       "      <td>140.82</td>\n",
       "    </tr>\n",
       "    <tr>\n",
       "      <td>2018-12-31</td>\n",
       "      <td>68.90</td>\n",
       "      <td>12</td>\n",
       "      <td>72.30</td>\n",
       "      <td>0.28</td>\n",
       "      <td>144.32</td>\n",
       "    </tr>\n",
       "  </tbody>\n",
       "</table>\n",
       "<p>70 rows × 5 columns</p>\n",
       "</div>"
      ],
      "text/plain": [
       "             price  Month  price_lag  price_diff  rolling_mean_price\n",
       "date                                                                \n",
       "2013-03-31  139.87      3     154.64        4.15              305.13\n",
       "2013-04-30  137.39      4     139.87      -14.77              294.51\n",
       "2013-05-31  124.01      5     137.39       -2.48              277.26\n",
       "2013-06-30  114.82      6     124.01      -13.38              261.40\n",
       "2013-07-31  127.19      7     114.82       -9.19              238.83\n",
       "...            ...    ...        ...         ...                 ...\n",
       "2018-08-31   68.02      8      67.05        0.19              133.91\n",
       "2018-09-30   68.80      9      68.02        0.97              135.07\n",
       "2018-10-31   72.02     10      68.80        0.78              136.82\n",
       "2018-11-30   72.30     11      72.02        3.22              140.82\n",
       "2018-12-31   68.90     12      72.30        0.28              144.32\n",
       "\n",
       "[70 rows x 5 columns]"
      ]
     },
     "execution_count": 22,
     "metadata": {},
     "output_type": "execute_result"
    }
   ],
   "source": [
    "df[276:]"
   ]
  },
  {
   "cell_type": "code",
   "execution_count": 23,
   "metadata": {},
   "outputs": [
    {
     "data": {
      "text/plain": [
       "array([[0.40862232],\n",
       "       [0.43335906],\n",
       "       [0.58226115],\n",
       "       [0.7722679 ],\n",
       "       [0.62032765],\n",
       "       [0.73198855],\n",
       "       [0.6496002 ],\n",
       "       [0.36276776],\n",
       "       [0.44676673],\n",
       "       [0.61194694],\n",
       "       [0.5807244 ],\n",
       "       [0.5070103 ],\n",
       "       [0.57337576],\n",
       "       [0.66470677],\n",
       "       [0.6353369 ],\n",
       "       [0.64620376],\n",
       "       [0.4698952 ],\n",
       "       [0.6914512 ],\n",
       "       [0.54934895],\n",
       "       [0.33418745],\n",
       "       [0.46305496],\n",
       "       [0.5722748 ],\n",
       "       [0.42321005],\n",
       "       [0.4722397 ],\n",
       "       [0.38143235],\n",
       "       [0.259168  ],\n",
       "       [0.36979306],\n",
       "       [0.35520902],\n",
       "       [0.30208448],\n",
       "       [0.11051556],\n",
       "       [0.24579641],\n",
       "       [0.41658503],\n",
       "       [0.12657005],\n",
       "       [0.21700105],\n",
       "       [0.2876399 ],\n",
       "       [0.3324805 ],\n",
       "       [0.24714059],\n",
       "       [0.09275421],\n",
       "       [0.08313393],\n",
       "       [0.08720981],\n",
       "       [0.1674061 ],\n",
       "       [0.32014343],\n",
       "       [0.23647878],\n",
       "       [0.11697568],\n",
       "       [0.17048724],\n",
       "       [0.26795286],\n",
       "       [0.18717334],\n",
       "       [0.14411005],\n",
       "       [0.20107198],\n",
       "       [0.2618543 ],\n",
       "       [0.23419237],\n",
       "       [0.44726995],\n",
       "       [0.65688133],\n",
       "       [0.4521342 ],\n",
       "       [0.27244416],\n",
       "       [0.1254543 ],\n",
       "       [0.20356256],\n",
       "       [0.4223675 ],\n",
       "       [0.4272776 ],\n",
       "       [0.17278278],\n",
       "       [0.14003569],\n",
       "       [0.19955504],\n",
       "       [0.28238347],\n",
       "       [0.43343085],\n",
       "       [0.3560743 ],\n",
       "       [0.22892067],\n",
       "       [0.23341736],\n",
       "       [0.23440921],\n",
       "       [0.22625679]], dtype=float32)"
      ]
     },
     "execution_count": 23,
     "metadata": {},
     "output_type": "execute_result"
    }
   ],
   "source": [
    "pred_price"
   ]
  }
 ],
 "metadata": {
  "kernelspec": {
   "display_name": "Python 3",
   "language": "python",
   "name": "python3"
  },
  "language_info": {
   "codemirror_mode": {
    "name": "ipython",
    "version": 3
   },
   "file_extension": ".py",
   "mimetype": "text/x-python",
   "name": "python",
   "nbconvert_exporter": "python",
   "pygments_lexer": "ipython3",
   "version": "3.7.4"
  }
 },
 "nbformat": 4,
 "nbformat_minor": 2
}
