{
 "cells": [
  {
   "cell_type": "code",
   "execution_count": 1,
   "metadata": {},
   "outputs": [
    {
     "name": "stderr",
     "output_type": "stream",
     "text": [
      "Using TensorFlow backend.\n"
     ]
    }
   ],
   "source": [
    "import numpy as np\n",
    "import matplotlib.pyplot as plt\n",
    "%matplotlib inline\n",
    "from sklearn.linear_model import LinearRegression \n",
    "import matplotlib.pylab as pylab\n",
    "import math,time\n",
    "import sklearn\n",
    "import sklearn.preprocessing\n",
    "import datetime\n",
    "import os\n",
    "import matplotlib.pyplot as plt\n",
    "import keras\n",
    "from keras.models import Sequential\n",
    "from keras.layers import LSTM\n",
    "from keras.layers import TimeDistributed\n",
    "from keras.layers.convolutional import Conv1D\n",
    "from keras.layers.convolutional import MaxPooling1D\n",
    "from keras.layers import Flatten\n",
    "from keras.layers.core import Dense, Dropout, Activation\n",
    "from sklearn.preprocessing import MinMaxScaler\n",
    "from statsmodels.graphics.tsaplots import plot_pacf, plot_acf\n",
    "from keras.layers import Bidirectional\n",
    "test_set_size_percentage = 20 \n",
    "import pandas as pd\n",
    "from pandas import read_csv\n",
    "from sklearn.metrics import r2_score,mean_squared_error "
   ]
  },
  {
   "cell_type": "code",
   "execution_count": 2,
   "metadata": {},
   "outputs": [],
   "source": [
    "data=pd.read_csv('dataset/irondata.csv',parse_dates=['date'])"
   ]
  },
  {
   "cell_type": "code",
   "execution_count": 3,
   "metadata": {},
   "outputs": [
    {
     "data": {
      "image/png": "[encoded data removed]",
      "text/plain": [
       "<Figure size 432x288 with 1 Axes>"
      ]
     },
     "metadata": {
      "needs_background": "light"
     },
     "output_type": "display_data"
    }
   ],
   "source": [
    "data['price'].plot()\n",
    "data['price_lag']=data['price'].shift(1)\n",
    "data=data.set_index('date')\n",
    "data['rolling_mean_price']=data['price_lag'].rolling(2, min_periods=1).sum()\n",
    "data=data.dropna()"
   ]
  },
  {
   "cell_type": "code",
   "execution_count": 4,
   "metadata": {},
   "outputs": [],
   "source": [
    "# function for min-max normalization of Iron Ore \n",
    "min_max_scaler = sklearn.preprocessing.MinMaxScaler()\n",
    "def normalize_data(df):\n",
    "    df['price'] = min_max_scaler.fit_transform(df.price.values.reshape(-1,1))\n",
    "    df['price_lag'] = min_max_scaler.fit_transform(df.price_lag.values.reshape(-1,1))\n",
    "    df['rolling_mean_price'] = min_max_scaler.fit_transform(df.rolling_mean_price.values.reshape(-1,1))\n",
    "    return df"
   ]
  },
  {
   "cell_type": "code",
   "execution_count": 5,
   "metadata": {},
   "outputs": [
    {
     "data": {
      "text/html": [
       "<div>\n",
       "<style scoped>\n",
       "    .dataframe tbody tr th:only-of-type {\n",
       "        vertical-align: middle;\n",
       "    }\n",
       "\n",
       "    .dataframe tbody tr th {\n",
       "        vertical-align: top;\n",
       "    }\n",
       "\n",
       "    .dataframe thead th {\n",
       "        text-align: right;\n",
       "    }\n",
       "</style>\n",
       "<table border=\"1\" class=\"dataframe\">\n",
       "  <thead>\n",
       "    <tr style=\"text-align: right;\">\n",
       "      <th></th>\n",
       "      <th>price</th>\n",
       "      <th>price_lag</th>\n",
       "      <th>rolling_mean_price</th>\n",
       "    </tr>\n",
       "    <tr>\n",
       "      <th>date</th>\n",
       "      <th></th>\n",
       "      <th></th>\n",
       "      <th></th>\n",
       "    </tr>\n",
       "  </thead>\n",
       "  <tbody>\n",
       "    <tr>\n",
       "      <td>1990-02-28</td>\n",
       "      <td>0.014795</td>\n",
       "      <td>0.014795</td>\n",
       "      <td>0.000000</td>\n",
       "    </tr>\n",
       "    <tr>\n",
       "      <td>1990-03-31</td>\n",
       "      <td>0.014795</td>\n",
       "      <td>0.014795</td>\n",
       "      <td>0.039829</td>\n",
       "    </tr>\n",
       "    <tr>\n",
       "      <td>1990-04-30</td>\n",
       "      <td>0.014795</td>\n",
       "      <td>0.014795</td>\n",
       "      <td>0.039829</td>\n",
       "    </tr>\n",
       "    <tr>\n",
       "      <td>1990-05-31</td>\n",
       "      <td>0.014795</td>\n",
       "      <td>0.014795</td>\n",
       "      <td>0.039829</td>\n",
       "    </tr>\n",
       "    <tr>\n",
       "      <td>1990-06-30</td>\n",
       "      <td>0.014795</td>\n",
       "      <td>0.014795</td>\n",
       "      <td>0.039829</td>\n",
       "    </tr>\n",
       "  </tbody>\n",
       "</table>\n",
       "</div>"
      ],
      "text/plain": [
       "               price  price_lag  rolling_mean_price\n",
       "date                                               \n",
       "1990-02-28  0.014795   0.014795            0.000000\n",
       "1990-03-31  0.014795   0.014795            0.039829\n",
       "1990-04-30  0.014795   0.014795            0.039829\n",
       "1990-05-31  0.014795   0.014795            0.039829\n",
       "1990-06-30  0.014795   0.014795            0.039829"
      ]
     },
     "execution_count": 5,
     "metadata": {},
     "output_type": "execute_result"
    }
   ],
   "source": [
    "# normalize stock\n",
    "df = data.copy()\n",
    "df = normalize_data(df)\n",
    "df.head()"
   ]
  },
  {
   "cell_type": "code",
   "execution_count": 6,
   "metadata": {},
   "outputs": [],
   "source": [
    "train=df[:335]"
   ]
  },
  {
   "cell_type": "code",
   "execution_count": 7,
   "metadata": {},
   "outputs": [
    {
     "data": {
      "text/html": [
       "<div>\n",
       "<style scoped>\n",
       "    .dataframe tbody tr th:only-of-type {\n",
       "        vertical-align: middle;\n",
       "    }\n",
       "\n",
       "    .dataframe tbody tr th {\n",
       "        vertical-align: top;\n",
       "    }\n",
       "\n",
       "    .dataframe thead th {\n",
       "        text-align: right;\n",
       "    }\n",
       "</style>\n",
       "<table border=\"1\" class=\"dataframe\">\n",
       "  <thead>\n",
       "    <tr style=\"text-align: right;\">\n",
       "      <th></th>\n",
       "      <th>price</th>\n",
       "      <th>price_lag</th>\n",
       "      <th>rolling_mean_price</th>\n",
       "    </tr>\n",
       "    <tr>\n",
       "      <th>date</th>\n",
       "      <th></th>\n",
       "      <th></th>\n",
       "      <th></th>\n",
       "    </tr>\n",
       "  </thead>\n",
       "  <tbody>\n",
       "    <tr>\n",
       "      <td>2017-08-31</td>\n",
       "      <td>0.359301</td>\n",
       "      <td>0.314630</td>\n",
       "      <td>0.313386</td>\n",
       "    </tr>\n",
       "    <tr>\n",
       "      <td>2017-09-30</td>\n",
       "      <td>0.328857</td>\n",
       "      <td>0.359301</td>\n",
       "      <td>0.360812</td>\n",
       "    </tr>\n",
       "    <tr>\n",
       "      <td>2017-10-31</td>\n",
       "      <td>0.282251</td>\n",
       "      <td>0.328857</td>\n",
       "      <td>0.367899</td>\n",
       "    </tr>\n",
       "    <tr>\n",
       "      <td>2017-11-30</td>\n",
       "      <td>0.295681</td>\n",
       "      <td>0.282251</td>\n",
       "      <td>0.329516</td>\n",
       "    </tr>\n",
       "    <tr>\n",
       "      <td>2017-12-31</td>\n",
       "      <td>0.343083</td>\n",
       "      <td>0.295681</td>\n",
       "      <td>0.312989</td>\n",
       "    </tr>\n",
       "  </tbody>\n",
       "</table>\n",
       "</div>"
      ],
      "text/plain": [
       "               price  price_lag  rolling_mean_price\n",
       "date                                               \n",
       "2017-08-31  0.359301   0.314630            0.313386\n",
       "2017-09-30  0.328857   0.359301            0.360812\n",
       "2017-10-31  0.282251   0.328857            0.367899\n",
       "2017-11-30  0.295681   0.282251            0.329516\n",
       "2017-12-31  0.343083   0.295681            0.312989"
      ]
     },
     "execution_count": 7,
     "metadata": {},
     "output_type": "execute_result"
    }
   ],
   "source": [
    "train.tail()"
   ]
  },
  {
   "cell_type": "code",
   "execution_count": 8,
   "metadata": {},
   "outputs": [
    {
     "name": "stderr",
     "output_type": "stream",
     "text": [
      "C:\\Users\\sumon\\Anaconda3\\envs\\tensorflow\\lib\\site-packages\\ipykernel_launcher.py:1: FutureWarning: Method .as_matrix will be removed in a future version. Use .values instead.\n",
      "  \"\"\"Entry point for launching an IPython kernel.\n"
     ]
    }
   ],
   "source": [
    "train_data_raw = train.as_matrix()"
   ]
  },
  {
   "cell_type": "code",
   "execution_count": 9,
   "metadata": {},
   "outputs": [],
   "source": [
    "x_train = train_data_raw[:-1,1:] #without price column of train\n",
    "y_train = train_data_raw[:-1,0] #with price column of train\n",
    "\n",
    "x_forecast = train_data_raw[-1:,1:]\n",
    "y_forecast = train_data_raw[-1:,0]"
   ]
  },
  {
   "cell_type": "code",
   "execution_count": 10,
   "metadata": {},
   "outputs": [
    {
     "data": {
      "text/plain": [
       "array([[0.29568087, 0.312989  ]])"
      ]
     },
     "execution_count": 10,
     "metadata": {},
     "output_type": "execute_result"
    }
   ],
   "source": [
    "x_forecast"
   ]
  },
  {
   "cell_type": "code",
   "execution_count": 11,
   "metadata": {},
   "outputs": [
    {
     "name": "stdout",
     "output_type": "stream",
     "text": [
      "x_train.shape =  (334, 2)\n",
      "y_train.shape =  (334,)\n",
      "x_forecast.shape =  (1, 2)\n",
      "y_forecast.shape  (1,)\n"
     ]
    }
   ],
   "source": [
    "print('x_train.shape = ',x_train.shape)\n",
    "print('y_train.shape = ', y_train.shape)\n",
    "print('x_forecast.shape = ', x_forecast.shape)\n",
    "print('y_forecast.shape ',y_forecast.shape)"
   ]
  },
  {
   "cell_type": "code",
   "execution_count": 12,
   "metadata": {},
   "outputs": [
    {
     "data": {
      "text/plain": [
       "334"
      ]
     },
     "execution_count": 12,
     "metadata": {},
     "output_type": "execute_result"
    }
   ],
   "source": [
    "x_train.shape[0]"
   ]
  },
  {
   "cell_type": "code",
   "execution_count": 13,
   "metadata": {},
   "outputs": [
    {
     "data": {
      "text/plain": [
       "(334, 1, 1, 2)"
      ]
     },
     "execution_count": 13,
     "metadata": {},
     "output_type": "execute_result"
    }
   ],
   "source": [
    "# reshape from [samples, timesteps] into [samples, subsequences, timesteps, features]\n",
    "x_train = x_train.reshape((x_train.shape[0], 1, 1, 2))\n",
    "#x_train = x_train.reshape((x_train.shape[0],1,x_train.shape[1]))\n",
    "#x_test = x_test.reshape((x_test.shape[0],1,x_test.shape[1]))\n",
    "#x_forecast = x_forecast.reshape((x_forecast.shape[0],1,x_test.shape[1]))\n",
    "x_train.shape"
   ]
  },
  {
   "cell_type": "code",
   "execution_count": 14,
   "metadata": {},
   "outputs": [
    {
     "name": "stdout",
     "output_type": "stream",
     "text": [
      "WARNING:tensorflow:From C:\\Users\\sumon\\Anaconda3\\envs\\tensorflow\\lib\\site-packages\\keras\\backend\\tensorflow_backend.py:4070: The name tf.nn.max_pool is deprecated. Please use tf.nn.max_pool2d instead.\n",
      "\n"
     ]
    }
   ],
   "source": [
    "# #d = 0.3\n",
    "# model = Sequential()\n",
    "\n",
    "# model.add(Bidirectional(LSTM(64, input_shape=(1,2), return_sequences=True))) #timestamp with 2 feature\n",
    "# #model.add(Dropout(d))\n",
    "\n",
    "# model.add(Bidirectional(LSTM(64, input_shape=(1,2), return_sequences=False)))\n",
    "# #model.add(Dropout(d))\n",
    "\n",
    "# model.add(Dense(32,kernel_initializer=\"uniform\",activation='relu'))        \n",
    "# model.add(Dense(1,kernel_initializer=\"uniform\",activation='linear'))\n",
    "\n",
    "# # adam = keras.optimizers.Adam(decay=0.2)\n",
    "\n",
    "# start = time.time()\n",
    "# model.compile(loss='mse',optimizer='adam', metrics=['accuracy'])\n",
    "# print(\"Compilation Time : \", time.time() - start)\n",
    "\n",
    "model = Sequential()\n",
    "model.add(TimeDistributed(Conv1D(filters=64, kernel_size=1, activation='relu'), input_shape=(None, 1, 2)))\n",
    "model.add(TimeDistributed(MaxPooling1D(pool_size=1)))\n",
    "model.add(TimeDistributed(Flatten()))\n",
    "model.add(LSTM(50, activation='relu'))\n",
    "model.add(Dense(1))\n",
    "model.compile(optimizer='adam', loss='mse')\n"
   ]
  },
  {
   "cell_type": "code",
   "execution_count": 15,
   "metadata": {},
   "outputs": [
    {
     "name": "stdout",
     "output_type": "stream",
     "text": [
      "WARNING:tensorflow:From C:\\Users\\sumon\\Anaconda3\\envs\\tensorflow\\lib\\site-packages\\keras\\backend\\tensorflow_backend.py:422: The name tf.global_variables is deprecated. Please use tf.compat.v1.global_variables instead.\n",
      "\n",
      "Epoch 1/80\n",
      "334/334 [==============================] - 1s 3ms/step - loss: 0.0022\n",
      "Epoch 2/80\n",
      "334/334 [==============================] - 1s 2ms/step - loss: 0.0042\n",
      "Epoch 3/80\n",
      "334/334 [==============================] - 1s 2ms/step - loss: 0.0045\n",
      "Epoch 4/80\n",
      "334/334 [==============================] - 1s 2ms/step - loss: 0.0039\n",
      "Epoch 5/80\n",
      "334/334 [==============================] - 1s 2ms/step - loss: 0.0036\n",
      "Epoch 6/80\n",
      "334/334 [==============================] - 1s 2ms/step - loss: 0.0032\n",
      "Epoch 7/80\n",
      "334/334 [==============================] - 1s 2ms/step - loss: 0.0030\n",
      "Epoch 8/80\n",
      "334/334 [==============================] - 0s 1ms/step - loss: 0.0029\n",
      "Epoch 9/80\n",
      "334/334 [==============================] - 0s 1ms/step - loss: 0.0030\n",
      "Epoch 10/80\n",
      "334/334 [==============================] - 0s 1ms/step - loss: 0.0031\n",
      "Epoch 11/80\n",
      "334/334 [==============================] - 0s 1ms/step - loss: 0.0033\n",
      "Epoch 12/80\n",
      "334/334 [==============================] - 0s 1ms/step - loss: 0.0034\n",
      "Epoch 13/80\n",
      "334/334 [==============================] - 0s 1ms/step - loss: 0.0034\n",
      "Epoch 14/80\n",
      "334/334 [==============================] - 0s 1ms/step - loss: 0.0033\n",
      "Epoch 15/80\n",
      "334/334 [==============================] - 0s 1ms/step - loss: 0.0031\n",
      "Epoch 16/80\n",
      "334/334 [==============================] - 0s 1ms/step - loss: 0.0030\n",
      "Epoch 17/80\n",
      "334/334 [==============================] - 0s 1ms/step - loss: 0.0029\n",
      "Epoch 18/80\n",
      "334/334 [==============================] - 0s 1ms/step - loss: 0.0030\n",
      "Epoch 19/80\n",
      "334/334 [==============================] - 0s 1ms/step - loss: 0.0028\n",
      "Epoch 20/80\n",
      "334/334 [==============================] - 0s 1ms/step - loss: 0.0028\n",
      "Epoch 21/80\n",
      "334/334 [==============================] - 0s 1ms/step - loss: 0.0027\n",
      "Epoch 22/80\n",
      "334/334 [==============================] - 0s 1ms/step - loss: 0.0026\n",
      "Epoch 23/80\n",
      "334/334 [==============================] - 0s 1ms/step - loss: 0.0027\n",
      "Epoch 24/80\n",
      "334/334 [==============================] - 0s 1ms/step - loss: 0.0027\n",
      "Epoch 25/80\n",
      "334/334 [==============================] - 0s 1ms/step - loss: 0.0027\n",
      "Epoch 26/80\n",
      "334/334 [==============================] - 1s 2ms/step - loss: 0.0027\n",
      "Epoch 27/80\n",
      "334/334 [==============================] - 0s 1ms/step - loss: 0.0027\n",
      "Epoch 28/80\n",
      "334/334 [==============================] - 0s 1ms/step - loss: 0.0026\n",
      "Epoch 29/80\n",
      "334/334 [==============================] - 0s 1ms/step - loss: 0.0027\n",
      "Epoch 30/80\n",
      "334/334 [==============================] - 0s 1ms/step - loss: 0.0027\n",
      "Epoch 31/80\n",
      "334/334 [==============================] - 0s 1ms/step - loss: 0.0027\n",
      "Epoch 32/80\n",
      "334/334 [==============================] - 0s 1ms/step - loss: 0.0027\n",
      "Epoch 33/80\n",
      "334/334 [==============================] - 0s 1ms/step - loss: 0.0027\n",
      "Epoch 34/80\n",
      "334/334 [==============================] - 0s 1ms/step - loss: 0.0027\n",
      "Epoch 35/80\n",
      "334/334 [==============================] - 0s 1ms/step - loss: 0.0027\n",
      "Epoch 36/80\n",
      "334/334 [==============================] - 0s 1ms/step - loss: 0.0027\n",
      "Epoch 37/80\n",
      "334/334 [==============================] - 0s 1ms/step - loss: 0.0027\n",
      "Epoch 38/80\n",
      "334/334 [==============================] - 0s 1ms/step - loss: 0.0027\n",
      "Epoch 39/80\n",
      "334/334 [==============================] - 0s 1ms/step - loss: 0.0027\n",
      "Epoch 40/80\n",
      "334/334 [==============================] - 0s 1ms/step - loss: 0.0026\n",
      "Epoch 41/80\n",
      "334/334 [==============================] - 0s 1ms/step - loss: 0.0026\n",
      "Epoch 42/80\n",
      "334/334 [==============================] - 0s 1ms/step - loss: 0.0026\n",
      "Epoch 43/80\n",
      "334/334 [==============================] - 0s 1ms/step - loss: 0.0026\n",
      "Epoch 44/80\n",
      "334/334 [==============================] - 0s 1ms/step - loss: 0.0026\n",
      "Epoch 45/80\n",
      "334/334 [==============================] - 0s 1ms/step - loss: 0.0026\n",
      "Epoch 46/80\n",
      "334/334 [==============================] - 0s 1ms/step - loss: 0.0025\n",
      "Epoch 47/80\n",
      "334/334 [==============================] - 0s 1ms/step - loss: 0.0025\n",
      "Epoch 48/80\n",
      "334/334 [==============================] - 0s 1ms/step - loss: 0.0025\n",
      "Epoch 49/80\n",
      "334/334 [==============================] - 0s 1ms/step - loss: 0.0025\n",
      "Epoch 50/80\n",
      "334/334 [==============================] - 0s 1ms/step - loss: 0.0025\n",
      "Epoch 51/80\n",
      "334/334 [==============================] - 0s 1ms/step - loss: 0.0025\n",
      "Epoch 52/80\n",
      "334/334 [==============================] - 0s 1ms/step - loss: 0.0025\n",
      "Epoch 53/80\n",
      "334/334 [==============================] - 0s 1ms/step - loss: 0.0025\n",
      "Epoch 54/80\n",
      "334/334 [==============================] - 0s 1ms/step - loss: 0.0025\n",
      "Epoch 55/80\n",
      "334/334 [==============================] - 0s 1ms/step - loss: 0.0025\n",
      "Epoch 56/80\n",
      "334/334 [==============================] - 0s 1ms/step - loss: 0.0024\n",
      "Epoch 57/80\n",
      "334/334 [==============================] - 0s 1ms/step - loss: 0.0024\n",
      "Epoch 58/80\n",
      "334/334 [==============================] - 0s 1ms/step - loss: 0.0024\n",
      "Epoch 59/80\n",
      "334/334 [==============================] - 0s 1ms/step - loss: 0.0024\n",
      "Epoch 60/80\n",
      "334/334 [==============================] - 0s 1ms/step - loss: 0.0024\n",
      "Epoch 61/80\n",
      "334/334 [==============================] - 0s 1ms/step - loss: 0.0024\n",
      "Epoch 62/80\n",
      "334/334 [==============================] - 0s 1ms/step - loss: 0.0024\n",
      "Epoch 63/80\n",
      "334/334 [==============================] - 0s 1ms/step - loss: 0.0024\n",
      "Epoch 64/80\n",
      "334/334 [==============================] - 0s 1ms/step - loss: 0.0023\n",
      "Epoch 65/80\n",
      "334/334 [==============================] - 0s 1ms/step - loss: 0.0023\n",
      "Epoch 66/80\n",
      "334/334 [==============================] - 0s 1ms/step - loss: 0.0022\n",
      "Epoch 67/80\n",
      "334/334 [==============================] - 0s 1ms/step - loss: 0.0023\n",
      "Epoch 68/80\n",
      "334/334 [==============================] - 0s 1ms/step - loss: 0.0023\n",
      "Epoch 69/80\n",
      "334/334 [==============================] - 0s 1ms/step - loss: 0.0022\n",
      "Epoch 70/80\n",
      "334/334 [==============================] - 0s 1ms/step - loss: 0.0022\n",
      "Epoch 71/80\n",
      "334/334 [==============================] - 0s 1ms/step - loss: 0.0022\n",
      "Epoch 72/80\n",
      "334/334 [==============================] - 0s 1ms/step - loss: 0.0022\n",
      "Epoch 73/80\n",
      "334/334 [==============================] - 0s 1ms/step - loss: 0.0022\n",
      "Epoch 74/80\n",
      "334/334 [==============================] - 0s 1ms/step - loss: 0.0023\n",
      "Epoch 75/80\n",
      "334/334 [==============================] - 0s 1ms/step - loss: 0.0022\n",
      "Epoch 76/80\n",
      "334/334 [==============================] - 0s 1ms/step - loss: 0.0022\n",
      "Epoch 77/80\n",
      "334/334 [==============================] - 1s 2ms/step - loss: 0.0022\n",
      "Epoch 78/80\n",
      "334/334 [==============================] - 1s 2ms/step - loss: 0.0023\n",
      "Epoch 79/80\n",
      "334/334 [==============================] - 1s 2ms/step - loss: 0.0022\n",
      "Epoch 80/80\n",
      "334/334 [==============================] - 1s 2ms/step - loss: 0.0022\n"
     ]
    }
   ],
   "source": [
    "#Fit model with history to check for overfitting\n",
    "history = model.fit(x_train,y_train,batch_size=1,epochs=80,shuffle=False)"
   ]
  },
  {
   "cell_type": "code",
   "execution_count": 16,
   "metadata": {},
   "outputs": [
    {
     "name": "stdout",
     "output_type": "stream",
     "text": [
      "Model: \"sequential_1\"\n",
      "_________________________________________________________________\n",
      "Layer (type)                 Output Shape              Param #   \n",
      "=================================================================\n",
      "time_distributed_1 (TimeDist (None, None, 1, 64)       192       \n",
      "_________________________________________________________________\n",
      "time_distributed_2 (TimeDist (None, None, 1, 64)       0         \n",
      "_________________________________________________________________\n",
      "time_distributed_3 (TimeDist (None, None, 64)          0         \n",
      "_________________________________________________________________\n",
      "lstm_1 (LSTM)                (None, 50)                23000     \n",
      "_________________________________________________________________\n",
      "dense_1 (Dense)              (None, 1)                 51        \n",
      "=================================================================\n",
      "Total params: 23,243\n",
      "Trainable params: 23,243\n",
      "Non-trainable params: 0\n",
      "_________________________________________________________________\n"
     ]
    }
   ],
   "source": [
    "model.summary()"
   ]
  },
  {
   "cell_type": "code",
   "execution_count": 17,
   "metadata": {},
   "outputs": [
    {
     "name": "stdout",
     "output_type": "stream",
     "text": [
      "Saved model to disk\n"
     ]
    }
   ],
   "source": [
    "# serialize model to JSON\n",
    "model_json = model.to_json()\n",
    "with open(\"model-weight/model.json\", \"w\") as json_file:\n",
    "    json_file.write(model_json)\n",
    "# serialize weights to HDF5\n",
    "model.save_weights(\"model-weight/model.h5\")\n",
    "print(\"Saved model to disk\")"
   ]
  },
  {
   "cell_type": "code",
   "execution_count": 18,
   "metadata": {},
   "outputs": [
    {
     "name": "stdout",
     "output_type": "stream",
     "text": [
      "Loaded model from disk\n"
     ]
    }
   ],
   "source": [
    "# load json and create model\n",
    "from keras.models import model_from_json\n",
    "json_file = open('model-weight/model.json', 'r')\n",
    "loaded_model_json = json_file.read()\n",
    "json_file.close()\n",
    "model = model_from_json(loaded_model_json)\n",
    "# load weights into new model\n",
    "model.load_weights(\"model-weight/model.h5\")\n",
    "print(\"Loaded model from disk\")\n",
    " \n",
    "# evaluate loaded model on test data\n",
    "model.compile(loss='mse',optimizer='adam', metrics=['accuracy'])"
   ]
  },
  {
   "cell_type": "markdown",
   "metadata": {},
   "source": [
    "# forecast till 2018 #"
   ]
  },
  {
   "cell_type": "code",
   "execution_count": 19,
   "metadata": {},
   "outputs": [],
   "source": [
    "temp_x_forecast = x_forecast.copy()"
   ]
  },
  {
   "cell_type": "code",
   "execution_count": 20,
   "metadata": {},
   "outputs": [
    {
     "data": {
      "text/plain": [
       "array([[0.29568087, 0.312989  ]])"
      ]
     },
     "execution_count": 20,
     "metadata": {},
     "output_type": "execute_result"
    }
   ],
   "source": [
    "temp_x_forecast"
   ]
  },
  {
   "cell_type": "code",
   "execution_count": 21,
   "metadata": {},
   "outputs": [],
   "source": [
    "x_forecast = temp_x_forecast.copy()"
   ]
  },
  {
   "cell_type": "code",
   "execution_count": 22,
   "metadata": {},
   "outputs": [],
   "source": [
    "#x_forecast = x_forecast.reshape((x_forecast.shape[0],1,x_forecast.shape[1]))  np.reshape(test_forecast,(1,1,2))\n",
    "#x_forecast = np.reshape(x_forecast,(1,1,2))\n",
    "x_forecast = x_forecast.reshape((x_forecast.shape[0], 1, 1, 2))\n",
    "#x_forecast.shape"
   ]
  },
  {
   "cell_type": "code",
   "execution_count": 23,
   "metadata": {},
   "outputs": [
    {
     "data": {
      "text/plain": [
       "0.3430831389062766"
      ]
     },
     "execution_count": 23,
     "metadata": {},
     "output_type": "execute_result"
    }
   ],
   "source": [
    "y_forecast[0]"
   ]
  },
  {
   "cell_type": "code",
   "execution_count": 24,
   "metadata": {},
   "outputs": [
    {
     "data": {
      "text/plain": [
       "0.3430831389062766"
      ]
     },
     "execution_count": 24,
     "metadata": {},
     "output_type": "execute_result"
    }
   ],
   "source": [
    "forecast_val=[]\n",
    "#t=x_forecast[0][0][0] #take the price lag of last row\n",
    "t = y_forecast[0] #take the price of last row\n",
    "t"
   ]
  },
  {
   "cell_type": "code",
   "execution_count": 25,
   "metadata": {},
   "outputs": [
    {
     "data": {
      "text/plain": [
       "DatetimeIndex(['2018-01-31', '2018-02-28', '2018-03-31', '2018-04-30',\n",
       "               '2018-05-31', '2018-06-30', '2018-07-31', '2018-08-31',\n",
       "               '2018-09-30', '2018-10-31', '2018-11-30', '2018-12-31'],\n",
       "              dtype='datetime64[ns]', freq='M')"
      ]
     },
     "execution_count": 25,
     "metadata": {},
     "output_type": "execute_result"
    }
   ],
   "source": [
    "forecast_data_index = pd.date_range(start='1/1/2018', periods=12,freq='M')\n",
    "forecast_data_index"
   ]
  },
  {
   "cell_type": "code",
   "execution_count": 26,
   "metadata": {},
   "outputs": [],
   "source": [
    "forecast_data = pd.DataFrame()\n",
    "forecast_data['date'] = forecast_data_index"
   ]
  },
  {
   "cell_type": "code",
   "execution_count": 27,
   "metadata": {},
   "outputs": [
    {
     "name": "stdout",
     "output_type": "stream",
     "text": [
      "predict price =  0.2891739010810852\n",
      "last price_lag =  0.3430831389062766\n",
      "   price_lag  rolling_mean_price\n",
      "0   0.343083            0.343083\n",
      "1   0.289174            0.632257\n",
      "matrix    price_lag  rolling_mean_price\n",
      "0   0.343083            0.343083\n",
      "1   0.289174            0.632257\n",
      "matrix_dd [[0.34308314 0.34308314]\n",
      " [0.2891739  0.63225704]]\n",
      "predict price =  0.31800398230552673\n",
      "last price_lag =  0.2891739010810852\n",
      "   price_lag  rolling_mean_price\n",
      "0   0.289174            0.289174\n",
      "1   0.318004            0.607178\n",
      "matrix    price_lag  rolling_mean_price\n",
      "0   0.289174            0.289174\n",
      "1   0.318004            0.607178\n",
      "matrix_dd [[0.2891739  0.2891739 ]\n",
      " [0.31800398 0.60717788]]\n",
      "predict price =  0.28332385420799255\n",
      "last price_lag =  0.31800398230552673\n",
      "   price_lag  rolling_mean_price\n",
      "0   0.318004            0.318004\n",
      "1   0.283324            0.601328\n",
      "matrix    price_lag  rolling_mean_price\n",
      "0   0.318004            0.318004\n",
      "1   0.283324            0.601328\n",
      "matrix_dd [[0.31800398 0.31800398]\n",
      " [0.28332385 0.60132784]]\n",
      "predict price =  0.30018746852874756\n",
      "last price_lag =  0.28332385420799255\n",
      "   price_lag  rolling_mean_price\n",
      "0   0.283324            0.283324\n",
      "1   0.300187            0.583511\n",
      "matrix    price_lag  rolling_mean_price\n",
      "0   0.283324            0.283324\n",
      "1   0.300187            0.583511\n",
      "matrix_dd [[0.28332385 0.28332385]\n",
      " [0.30018747 0.58351132]]\n",
      "predict price =  0.28053921461105347\n",
      "last price_lag =  0.30018746852874756\n",
      "   price_lag  rolling_mean_price\n",
      "0   0.300187            0.300187\n",
      "1   0.280539            0.580727\n",
      "matrix    price_lag  rolling_mean_price\n",
      "0   0.300187            0.300187\n",
      "1   0.280539            0.580727\n",
      "matrix_dd [[0.30018747 0.30018747]\n",
      " [0.28053921 0.58072668]]\n",
      "predict price =  0.2895139455795288\n",
      "last price_lag =  0.28053921461105347\n",
      "   price_lag  rolling_mean_price\n",
      "0   0.280539            0.280539\n",
      "1   0.289514            0.570053\n",
      "matrix    price_lag  rolling_mean_price\n",
      "0   0.280539            0.280539\n",
      "1   0.289514            0.570053\n",
      "matrix_dd [[0.28053921 0.28053921]\n",
      " [0.28951395 0.57005316]]\n",
      "predict price =  0.2792089581489563\n",
      "last price_lag =  0.2895139455795288\n",
      "   price_lag  rolling_mean_price\n",
      "0   0.289514            0.289514\n",
      "1   0.279209            0.568723\n",
      "matrix    price_lag  rolling_mean_price\n",
      "0   0.289514            0.289514\n",
      "1   0.279209            0.568723\n",
      "matrix_dd [[0.28951395 0.28951395]\n",
      " [0.27920896 0.5687229 ]]\n",
      "predict price =  0.2834852933883667\n",
      "last price_lag =  0.2792089581489563\n",
      "   price_lag  rolling_mean_price\n",
      "0   0.279209            0.279209\n",
      "1   0.283485            0.562694\n",
      "matrix    price_lag  rolling_mean_price\n",
      "0   0.279209            0.279209\n",
      "1   0.283485            0.562694\n",
      "matrix_dd [[0.27920896 0.27920896]\n",
      " [0.28348529 0.56269425]]\n",
      "predict price =  0.2785723805427551\n",
      "last price_lag =  0.2834852933883667\n",
      "   price_lag  rolling_mean_price\n",
      "0   0.283485            0.283485\n",
      "1   0.278572            0.562058\n",
      "matrix    price_lag  rolling_mean_price\n",
      "0   0.283485            0.283485\n",
      "1   0.278572            0.562058\n",
      "matrix_dd [[0.28348529 0.28348529]\n",
      " [0.27857238 0.56205767]]\n",
      "predict price =  0.28061625361442566\n",
      "last price_lag =  0.2785723805427551\n",
      "   price_lag  rolling_mean_price\n",
      "0   0.278572            0.278572\n",
      "1   0.280616            0.559189\n",
      "matrix    price_lag  rolling_mean_price\n",
      "0   0.278572            0.278572\n",
      "1   0.280616            0.559189\n",
      "matrix_dd [[0.27857238 0.27857238]\n",
      " [0.28061625 0.55918863]]\n",
      "predict price =  0.278267502784729\n",
      "last price_lag =  0.28061625361442566\n",
      "   price_lag  rolling_mean_price\n",
      "0   0.280616            0.280616\n",
      "1   0.278268            0.558884\n",
      "matrix    price_lag  rolling_mean_price\n",
      "0   0.280616            0.280616\n",
      "1   0.278268            0.558884\n",
      "matrix_dd [[0.28061625 0.28061625]\n",
      " [0.2782675  0.55888376]]\n",
      "predict price =  0.2792458236217499\n",
      "last price_lag =  0.278267502784729\n",
      "   price_lag  rolling_mean_price\n",
      "0   0.278268            0.278268\n",
      "1   0.279246            0.557513\n",
      "matrix    price_lag  rolling_mean_price\n",
      "0   0.278268            0.278268\n",
      "1   0.279246            0.557513\n",
      "matrix_dd [[0.2782675  0.2782675 ]\n",
      " [0.27924582 0.55751333]]\n"
     ]
    },
    {
     "name": "stderr",
     "output_type": "stream",
     "text": [
      "C:\\Users\\sumon\\Anaconda3\\envs\\tensorflow\\lib\\site-packages\\ipykernel_launcher.py:11: FutureWarning: Method .as_matrix will be removed in a future version. Use .values instead.\n",
      "  # This is added back by InteractiveShellApp.init_path()\n"
     ]
    }
   ],
   "source": [
    "for i in range(1,len(forecast_data)+1):\n",
    "    m=model.predict(x_forecast)\n",
    "    print(\"predict price = \",m.tolist()[0][0])\n",
    "    print(\"last price_lag = \", t)\n",
    "    forecastdf=pd.DataFrame(columns=['price_lag'])\n",
    "    forecastdf['price_lag']=[t,m.tolist()[0][0]]\n",
    "    forecastdf['rolling_mean_price']=forecastdf['price_lag'].rolling(2, min_periods=1).sum()\n",
    "    print(forecastdf)\n",
    "    x_forecast=forecastdf[:]\n",
    "    print(\"matrix\",x_forecast)\n",
    "    x_forecast = x_forecast.as_matrix()\n",
    "    print(\"matrix_dd\",x_forecast)\n",
    "    x_forecast = x_forecast.reshape((x_forecast.shape[0], 1, 1, 2))\n",
    "    #x_forecast = np.reshape(x_forecast,(1,1,2))\n",
    "    t=m.tolist()[0][0]\n",
    "    forecast_val.append(m.tolist()[0][0])"
   ]
  },
  {
   "cell_type": "code",
   "execution_count": 28,
   "metadata": {},
   "outputs": [
    {
     "data": {
      "text/plain": [
       "[0.2891739010810852,\n",
       " 0.31800398230552673,\n",
       " 0.28332385420799255,\n",
       " 0.30018746852874756,\n",
       " 0.28053921461105347,\n",
       " 0.2895139455795288,\n",
       " 0.2792089581489563,\n",
       " 0.2834852933883667,\n",
       " 0.2785723805427551,\n",
       " 0.28061625361442566,\n",
       " 0.278267502784729,\n",
       " 0.2792458236217499]"
      ]
     },
     "execution_count": 28,
     "metadata": {},
     "output_type": "execute_result"
    }
   ],
   "source": [
    "forecast_val"
   ]
  },
  {
   "cell_type": "code",
   "execution_count": 29,
   "metadata": {},
   "outputs": [],
   "source": [
    "forecast_data['forecast_price'] = forecast_val #normalize value"
   ]
  },
  {
   "cell_type": "code",
   "execution_count": 30,
   "metadata": {},
   "outputs": [],
   "source": [
    "#data[:335]"
   ]
  },
  {
   "cell_type": "code",
   "execution_count": 31,
   "metadata": {},
   "outputs": [
    {
     "data": {
      "text/plain": [
       "<matplotlib.axes._subplots.AxesSubplot at 0x19fe99517c8>"
      ]
     },
     "execution_count": 31,
     "metadata": {},
     "output_type": "execute_result"
    },
    {
     "data": {
      "image/png": "[encoded data removed]",
      "text/plain": [
       "<Figure size 432x288 with 1 Axes>"
      ]
     },
     "metadata": {
      "needs_background": "light"
     },
     "output_type": "display_data"
    }
   ],
   "source": [
    "forecast_data['forecast_price'].plot()"
   ]
  },
  {
   "cell_type": "code",
   "execution_count": 32,
   "metadata": {},
   "outputs": [],
   "source": [
    "def denormalize(df, normalized_value): \n",
    "    df = df['price'].values.reshape(-1,1)\n",
    "    normalized_value = normalized_value.reshape(-1,1)\n",
    "    #return df.shape, p.shape\n",
    "    min_max_scaler = sklearn.preprocessing.MinMaxScaler()\n",
    "    a = min_max_scaler.fit_transform(df)\n",
    "    new = min_max_scaler.inverse_transform(normalized_value)\n",
    "    return new\n",
    "\n",
    "# newp = denormalize(data, pred_price)\n",
    "# newy_test = denormalize(data, y_test)"
   ]
  },
  {
   "cell_type": "code",
   "execution_count": 33,
   "metadata": {},
   "outputs": [
    {
     "data": {
      "text/plain": [
       "<matplotlib.axes._subplots.AxesSubplot at 0x19fe99d90c8>"
      ]
     },
     "execution_count": 33,
     "metadata": {},
     "output_type": "execute_result"
    },
    {
     "data": {
      "image/png": "[encoded data removed]",
      "text/plain": [
       "<Figure size 432x288 with 1 Axes>"
      ]
     },
     "metadata": {
      "needs_background": "light"
     },
     "output_type": "display_data"
    }
   ],
   "source": [
    "new_forecast = denormalize(data[:335], np.array(forecast_val))\n",
    "forecast_data['forecast_price'] = new_forecast #denorm_price\n",
    "forecast_data = forecast_data.set_index('date')\n",
    "forecast_data.forecast_price.plot()"
   ]
  },
  {
   "cell_type": "code",
   "execution_count": 34,
   "metadata": {},
   "outputs": [
    {
     "data": {
      "text/html": [
       "<div>\n",
       "<style scoped>\n",
       "    .dataframe tbody tr th:only-of-type {\n",
       "        vertical-align: middle;\n",
       "    }\n",
       "\n",
       "    .dataframe tbody tr th {\n",
       "        vertical-align: top;\n",
       "    }\n",
       "\n",
       "    .dataframe thead th {\n",
       "        text-align: right;\n",
       "    }\n",
       "</style>\n",
       "<table border=\"1\" class=\"dataframe\">\n",
       "  <thead>\n",
       "    <tr style=\"text-align: right;\">\n",
       "      <th></th>\n",
       "      <th>forecast_price</th>\n",
       "    </tr>\n",
       "    <tr>\n",
       "      <th>date</th>\n",
       "      <th></th>\n",
       "    </tr>\n",
       "  </thead>\n",
       "  <tbody>\n",
       "    <tr>\n",
       "      <td>2018-01-31</td>\n",
       "      <td>62.266530</td>\n",
       "    </tr>\n",
       "    <tr>\n",
       "      <td>2018-02-28</td>\n",
       "      <td>67.332840</td>\n",
       "    </tr>\n",
       "    <tr>\n",
       "      <td>2018-03-31</td>\n",
       "      <td>61.238501</td>\n",
       "    </tr>\n",
       "    <tr>\n",
       "      <td>2018-04-30</td>\n",
       "      <td>64.201944</td>\n",
       "    </tr>\n",
       "    <tr>\n",
       "      <td>2018-05-31</td>\n",
       "      <td>60.749156</td>\n",
       "    </tr>\n",
       "    <tr>\n",
       "      <td>2018-06-30</td>\n",
       "      <td>62.326286</td>\n",
       "    </tr>\n",
       "    <tr>\n",
       "      <td>2018-07-31</td>\n",
       "      <td>60.515390</td>\n",
       "    </tr>\n",
       "    <tr>\n",
       "      <td>2018-08-31</td>\n",
       "      <td>61.266871</td>\n",
       "    </tr>\n",
       "    <tr>\n",
       "      <td>2018-09-30</td>\n",
       "      <td>60.403524</td>\n",
       "    </tr>\n",
       "    <tr>\n",
       "      <td>2018-10-31</td>\n",
       "      <td>60.762694</td>\n",
       "    </tr>\n",
       "    <tr>\n",
       "      <td>2018-11-30</td>\n",
       "      <td>60.349948</td>\n",
       "    </tr>\n",
       "    <tr>\n",
       "      <td>2018-12-31</td>\n",
       "      <td>60.521869</td>\n",
       "    </tr>\n",
       "  </tbody>\n",
       "</table>\n",
       "</div>"
      ],
      "text/plain": [
       "            forecast_price\n",
       "date                      \n",
       "2018-01-31       62.266530\n",
       "2018-02-28       67.332840\n",
       "2018-03-31       61.238501\n",
       "2018-04-30       64.201944\n",
       "2018-05-31       60.749156\n",
       "2018-06-30       62.326286\n",
       "2018-07-31       60.515390\n",
       "2018-08-31       61.266871\n",
       "2018-09-30       60.403524\n",
       "2018-10-31       60.762694\n",
       "2018-11-30       60.349948\n",
       "2018-12-31       60.521869"
      ]
     },
     "execution_count": 34,
     "metadata": {},
     "output_type": "execute_result"
    }
   ],
   "source": [
    "forecast_data"
   ]
  },
  {
   "cell_type": "code",
   "execution_count": 35,
   "metadata": {},
   "outputs": [
    {
     "data": {
      "text/plain": [
       "date\n",
       "2018-01-31    75.78\n",
       "2018-02-28    77.65\n",
       "2018-03-31    71.32\n",
       "2018-04-30    66.33\n",
       "2018-05-31    66.63\n",
       "2018-06-30    66.86\n",
       "2018-07-31    67.05\n",
       "2018-08-31    68.02\n",
       "2018-09-30    68.80\n",
       "2018-10-31    72.02\n",
       "2018-11-30    72.30\n",
       "2018-12-31    68.90\n",
       "Name: price, dtype: float64"
      ]
     },
     "execution_count": 35,
     "metadata": {},
     "output_type": "execute_result"
    }
   ],
   "source": [
    "data[335:]['price'] #actual price"
   ]
  },
  {
   "cell_type": "code",
   "execution_count": 36,
   "metadata": {},
   "outputs": [
    {
     "name": "stdout",
     "output_type": "stream",
     "text": [
      "{'mape': 0.11688952493897527, 'me': -8.31037063459555, 'mae': 8.31037063459555, 'mpe': -0.11688952493897527}\n"
     ]
    },
    {
     "data": {
      "text/html": [
       "<div>\n",
       "<style scoped>\n",
       "    .dataframe tbody tr th:only-of-type {\n",
       "        vertical-align: middle;\n",
       "    }\n",
       "\n",
       "    .dataframe tbody tr th {\n",
       "        vertical-align: top;\n",
       "    }\n",
       "\n",
       "    .dataframe thead th {\n",
       "        text-align: right;\n",
       "    }\n",
       "</style>\n",
       "<table border=\"1\" class=\"dataframe\">\n",
       "  <thead>\n",
       "    <tr style=\"text-align: right;\">\n",
       "      <th></th>\n",
       "      <th>forecast_price</th>\n",
       "      <th>actual</th>\n",
       "    </tr>\n",
       "    <tr>\n",
       "      <th>date</th>\n",
       "      <th></th>\n",
       "      <th></th>\n",
       "    </tr>\n",
       "  </thead>\n",
       "  <tbody>\n",
       "    <tr>\n",
       "      <td>2018-01-31</td>\n",
       "      <td>62.266530</td>\n",
       "      <td>75.78</td>\n",
       "    </tr>\n",
       "    <tr>\n",
       "      <td>2018-02-28</td>\n",
       "      <td>67.332840</td>\n",
       "      <td>77.65</td>\n",
       "    </tr>\n",
       "    <tr>\n",
       "      <td>2018-03-31</td>\n",
       "      <td>61.238501</td>\n",
       "      <td>71.32</td>\n",
       "    </tr>\n",
       "    <tr>\n",
       "      <td>2018-04-30</td>\n",
       "      <td>64.201944</td>\n",
       "      <td>66.33</td>\n",
       "    </tr>\n",
       "    <tr>\n",
       "      <td>2018-05-31</td>\n",
       "      <td>60.749156</td>\n",
       "      <td>66.63</td>\n",
       "    </tr>\n",
       "    <tr>\n",
       "      <td>2018-06-30</td>\n",
       "      <td>62.326286</td>\n",
       "      <td>66.86</td>\n",
       "    </tr>\n",
       "    <tr>\n",
       "      <td>2018-07-31</td>\n",
       "      <td>60.515390</td>\n",
       "      <td>67.05</td>\n",
       "    </tr>\n",
       "    <tr>\n",
       "      <td>2018-08-31</td>\n",
       "      <td>61.266871</td>\n",
       "      <td>68.02</td>\n",
       "    </tr>\n",
       "    <tr>\n",
       "      <td>2018-09-30</td>\n",
       "      <td>60.403524</td>\n",
       "      <td>68.80</td>\n",
       "    </tr>\n",
       "    <tr>\n",
       "      <td>2018-10-31</td>\n",
       "      <td>60.762694</td>\n",
       "      <td>72.02</td>\n",
       "    </tr>\n",
       "    <tr>\n",
       "      <td>2018-11-30</td>\n",
       "      <td>60.349948</td>\n",
       "      <td>72.30</td>\n",
       "    </tr>\n",
       "    <tr>\n",
       "      <td>2018-12-31</td>\n",
       "      <td>60.521869</td>\n",
       "      <td>68.90</td>\n",
       "    </tr>\n",
       "  </tbody>\n",
       "</table>\n",
       "</div>"
      ],
      "text/plain": [
       "            forecast_price  actual\n",
       "date                              \n",
       "2018-01-31       62.266530   75.78\n",
       "2018-02-28       67.332840   77.65\n",
       "2018-03-31       61.238501   71.32\n",
       "2018-04-30       64.201944   66.33\n",
       "2018-05-31       60.749156   66.63\n",
       "2018-06-30       62.326286   66.86\n",
       "2018-07-31       60.515390   67.05\n",
       "2018-08-31       61.266871   68.02\n",
       "2018-09-30       60.403524   68.80\n",
       "2018-10-31       60.762694   72.02\n",
       "2018-11-30       60.349948   72.30\n",
       "2018-12-31       60.521869   68.90"
      ]
     },
     "execution_count": 36,
     "metadata": {},
     "output_type": "execute_result"
    }
   ],
   "source": [
    "def forecast_accuracy(forecast, actual):\n",
    "    mape=np.mean(np.abs(forecast-actual)/np.abs(actual))# MAPE\n",
    "    me=np.mean(forecast-actual)# ME\n",
    "    mae=np.mean(np.abs(forecast-actual))# MAE\n",
    "    mpe=np.mean((forecast-actual)/actual)# MPE\n",
    "    return({'mape':mape,'me':me,'mae': mae,'mpe': mpe})\n",
    "print(forecast_accuracy(forecast_data.forecast_price.values, data[335:]['price'].values))\n",
    "forecast_data['actual']=data[335:]['price'].values\n",
    "forecast_data"
   ]
  },
  {
   "cell_type": "code",
   "execution_count": 37,
   "metadata": {},
   "outputs": [
    {
     "data": {
      "text/plain": [
       "<matplotlib.axes._subplots.AxesSubplot at 0x19fe9a5ba88>"
      ]
     },
     "execution_count": 37,
     "metadata": {},
     "output_type": "execute_result"
    },
    {
     "data": {
      "image/png": "[encoded data removed]",
      "text/plain": [
       "<Figure size 1080x360 with 1 Axes>"
      ]
     },
     "metadata": {
      "needs_background": "light"
     },
     "output_type": "display_data"
    }
   ],
   "source": [
    "forecast_data.plot(figsize=(15,5))"
   ]
  },
  {
   "cell_type": "code",
   "execution_count": null,
   "metadata": {},
   "outputs": [],
   "source": []
  },
  {
   "cell_type": "code",
   "execution_count": null,
   "metadata": {},
   "outputs": [],
   "source": []
  }
 ],
 "metadata": {
  "kernelspec": {
   "display_name": "Python 3",
   "language": "python",
   "name": "python3"
  },
  "language_info": {
   "codemirror_mode": {
    "name": "ipython",
    "version": 3
   },
   "file_extension": ".py",
   "mimetype": "text/x-python",
   "name": "python",
   "nbconvert_exporter": "python",
   "pygments_lexer": "ipython3",
   "version": "3.7.4"
  }
 },
 "nbformat": 4,
 "nbformat_minor": 2
}
