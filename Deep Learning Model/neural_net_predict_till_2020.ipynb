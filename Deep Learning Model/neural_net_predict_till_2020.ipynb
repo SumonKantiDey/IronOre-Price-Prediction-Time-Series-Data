{
 "cells": [
  {
   "cell_type": "code",
   "execution_count": 1,
   "metadata": {},
   "outputs": [
    {
     "name": "stderr",
     "output_type": "stream",
     "text": [
      "Using TensorFlow backend.\n"
     ]
    }
   ],
   "source": [
    "import numpy as np\n",
    "import matplotlib.pyplot as plt\n",
    "%matplotlib inline\n",
    "from sklearn.linear_model import LinearRegression \n",
    "import matplotlib.pylab as pylab\n",
    "import math,time\n",
    "import sklearn\n",
    "import sklearn.preprocessing\n",
    "import datetime\n",
    "import os\n",
    "import matplotlib.pyplot as plt\n",
    "import keras\n",
    "from keras.models import Sequential\n",
    "from keras.layers import LSTM\n",
    "from keras.layers.core import Dense, Dropout, Activation\n",
    "from sklearn.preprocessing import MinMaxScaler\n",
    "from statsmodels.graphics.tsaplots import plot_pacf, plot_acf\n",
    "\n",
    "test_set_size_percentage = 20 \n",
    "import pandas as pd\n",
    "from pandas import read_csv\n",
    "from sklearn.metrics import r2_score,mean_squared_error "
   ]
  },
  {
   "cell_type": "code",
   "execution_count": 2,
   "metadata": {},
   "outputs": [],
   "source": [
    "data=pd.read_csv('dataset/irondata.csv',parse_dates=['date'])\n",
    "df=data[:]"
   ]
  },
  {
   "cell_type": "code",
   "execution_count": 3,
   "metadata": {},
   "outputs": [
    {
     "data": {
      "text/html": [
       "<div>\n",
       "<style scoped>\n",
       "    .dataframe tbody tr th:only-of-type {\n",
       "        vertical-align: middle;\n",
       "    }\n",
       "\n",
       "    .dataframe tbody tr th {\n",
       "        vertical-align: top;\n",
       "    }\n",
       "\n",
       "    .dataframe thead th {\n",
       "        text-align: right;\n",
       "    }\n",
       "</style>\n",
       "<table border=\"1\" class=\"dataframe\">\n",
       "  <thead>\n",
       "    <tr style=\"text-align: right;\">\n",
       "      <th></th>\n",
       "      <th>price</th>\n",
       "      <th>date</th>\n",
       "    </tr>\n",
       "  </thead>\n",
       "  <tbody>\n",
       "    <tr>\n",
       "      <td>343</td>\n",
       "      <td>68.02</td>\n",
       "      <td>2018-08-31</td>\n",
       "    </tr>\n",
       "    <tr>\n",
       "      <td>344</td>\n",
       "      <td>68.80</td>\n",
       "      <td>2018-09-30</td>\n",
       "    </tr>\n",
       "    <tr>\n",
       "      <td>345</td>\n",
       "      <td>72.02</td>\n",
       "      <td>2018-10-31</td>\n",
       "    </tr>\n",
       "    <tr>\n",
       "      <td>346</td>\n",
       "      <td>72.30</td>\n",
       "      <td>2018-11-30</td>\n",
       "    </tr>\n",
       "    <tr>\n",
       "      <td>347</td>\n",
       "      <td>68.90</td>\n",
       "      <td>2018-12-31</td>\n",
       "    </tr>\n",
       "  </tbody>\n",
       "</table>\n",
       "</div>"
      ],
      "text/plain": [
       "     price       date\n",
       "343  68.02 2018-08-31\n",
       "344  68.80 2018-09-30\n",
       "345  72.02 2018-10-31\n",
       "346  72.30 2018-11-30\n",
       "347  68.90 2018-12-31"
      ]
     },
     "execution_count": 3,
     "metadata": {},
     "output_type": "execute_result"
    }
   ],
   "source": [
    "df.tail()"
   ]
  },
  {
   "cell_type": "code",
   "execution_count": 4,
   "metadata": {},
   "outputs": [
    {
     "name": "stderr",
     "output_type": "stream",
     "text": [
      "C:\\Users\\sumon\\Anaconda3\\envs\\tensorflow\\lib\\site-packages\\ipykernel_launcher.py:2: SettingWithCopyWarning: \n",
      "A value is trying to be set on a copy of a slice from a DataFrame.\n",
      "Try using .loc[row_indexer,col_indexer] = value instead\n",
      "\n",
      "See the caveats in the documentation: http://pandas.pydata.org/pandas-docs/stable/user_guide/indexing.html#returning-a-view-versus-a-copy\n",
      "  \n"
     ]
    },
    {
     "data": {
      "image/png": "[encoded data removed]",
      "text/plain": [
       "<Figure size 432x288 with 1 Axes>"
      ]
     },
     "metadata": {
      "needs_background": "light"
     },
     "output_type": "display_data"
    }
   ],
   "source": [
    "df['price'].plot()\n",
    "df['price_lag']=df['price'].shift(1)\n",
    "df=df.set_index('date')\n",
    "df['rolling_mean_price']=df['price_lag'].rolling(2, min_periods=1).sum()\n",
    "df=df.dropna()"
   ]
  },
  {
   "cell_type": "code",
   "execution_count": 5,
   "metadata": {},
   "outputs": [],
   "source": [
    "#df.tail()"
   ]
  },
  {
   "cell_type": "code",
   "execution_count": 6,
   "metadata": {},
   "outputs": [],
   "source": [
    "# function for min-max normalization of Iron Ore \n",
    "min_max_scaler = sklearn.preprocessing.MinMaxScaler()\n",
    "def normalize_data(df):\n",
    "    df['price'] = min_max_scaler.fit_transform(df.price.values.reshape(-1,1))\n",
    "    df['price_lag'] = min_max_scaler.fit_transform(df.price_lag.values.reshape(-1,1))\n",
    "    df['rolling_mean_price'] = min_max_scaler.fit_transform(df.rolling_mean_price.values.reshape(-1,1))\n",
    "    return df"
   ]
  },
  {
   "cell_type": "code",
   "execution_count": 7,
   "metadata": {},
   "outputs": [
    {
     "data": {
      "text/html": [
       "<div>\n",
       "<style scoped>\n",
       "    .dataframe tbody tr th:only-of-type {\n",
       "        vertical-align: middle;\n",
       "    }\n",
       "\n",
       "    .dataframe tbody tr th {\n",
       "        vertical-align: top;\n",
       "    }\n",
       "\n",
       "    .dataframe thead th {\n",
       "        text-align: right;\n",
       "    }\n",
       "</style>\n",
       "<table border=\"1\" class=\"dataframe\">\n",
       "  <thead>\n",
       "    <tr style=\"text-align: right;\">\n",
       "      <th></th>\n",
       "      <th>price</th>\n",
       "      <th>price_lag</th>\n",
       "      <th>rolling_mean_price</th>\n",
       "    </tr>\n",
       "    <tr>\n",
       "      <th>date</th>\n",
       "      <th></th>\n",
       "      <th></th>\n",
       "      <th></th>\n",
       "    </tr>\n",
       "  </thead>\n",
       "  <tbody>\n",
       "    <tr>\n",
       "      <th>1990-02-28</th>\n",
       "      <td>0.014795</td>\n",
       "      <td>0.014795</td>\n",
       "      <td>0.000000</td>\n",
       "    </tr>\n",
       "    <tr>\n",
       "      <th>1990-03-31</th>\n",
       "      <td>0.014795</td>\n",
       "      <td>0.014795</td>\n",
       "      <td>0.039829</td>\n",
       "    </tr>\n",
       "    <tr>\n",
       "      <th>1990-04-30</th>\n",
       "      <td>0.014795</td>\n",
       "      <td>0.014795</td>\n",
       "      <td>0.039829</td>\n",
       "    </tr>\n",
       "    <tr>\n",
       "      <th>1990-05-31</th>\n",
       "      <td>0.014795</td>\n",
       "      <td>0.014795</td>\n",
       "      <td>0.039829</td>\n",
       "    </tr>\n",
       "    <tr>\n",
       "      <th>1990-06-30</th>\n",
       "      <td>0.014795</td>\n",
       "      <td>0.014795</td>\n",
       "      <td>0.039829</td>\n",
       "    </tr>\n",
       "  </tbody>\n",
       "</table>\n",
       "</div>"
      ],
      "text/plain": [
       "               price  price_lag  rolling_mean_price\n",
       "date                                               \n",
       "1990-02-28  0.014795   0.014795            0.000000\n",
       "1990-03-31  0.014795   0.014795            0.039829\n",
       "1990-04-30  0.014795   0.014795            0.039829\n",
       "1990-05-31  0.014795   0.014795            0.039829\n",
       "1990-06-30  0.014795   0.014795            0.039829"
      ]
     },
     "execution_count": 7,
     "metadata": {},
     "output_type": "execute_result"
    }
   ],
   "source": [
    "# normalize stock\n",
    "df_stock_norm = df.copy()\n",
    "df_stock_norm = normalize_data(df_stock_norm)\n",
    "df_stock_norm.head()"
   ]
  },
  {
   "cell_type": "code",
   "execution_count": 8,
   "metadata": {},
   "outputs": [],
   "source": [
    "#df_stock_norm.tail()"
   ]
  },
  {
   "cell_type": "code",
   "execution_count": 9,
   "metadata": {},
   "outputs": [
    {
     "data": {
      "text/plain": [
       "<matplotlib.axes._subplots.AxesSubplot at 0x11a75238cf8>"
      ]
     },
     "execution_count": 9,
     "metadata": {},
     "output_type": "execute_result"
    },
    {
     "data": {
      "image/png": "[encoded data removed]",
      "text/plain": [
       "<Figure size 432x288 with 1 Axes>"
      ]
     },
     "metadata": {
      "needs_background": "light"
     },
     "output_type": "display_data"
    }
   ],
   "source": [
    "df.plot()"
   ]
  },
  {
   "cell_type": "code",
   "execution_count": 10,
   "metadata": {},
   "outputs": [],
   "source": [
    "X=df_stock_norm.drop([\"price\"],axis=1)\n",
    "y=df_stock_norm['price']\n",
    "X_train=X[:-1]\n",
    "y_train=y[:-1]"
   ]
  },
  {
   "cell_type": "code",
   "execution_count": 11,
   "metadata": {},
   "outputs": [
    {
     "name": "stderr",
     "output_type": "stream",
     "text": [
      "C:\\Users\\sumon\\Anaconda3\\envs\\tensorflow\\lib\\site-packages\\ipykernel_launcher.py:1: FutureWarning: Method .as_matrix will be removed in a future version. Use .values instead.\n",
      "  \"\"\"Entry point for launching an IPython kernel.\n"
     ]
    }
   ],
   "source": [
    "X_train = X_train.as_matrix() #convert X_train as a matrix for RNN input"
   ]
  },
  {
   "cell_type": "code",
   "execution_count": 12,
   "metadata": {},
   "outputs": [
    {
     "name": "stdout",
     "output_type": "stream",
     "text": [
      "X_train.shape =  (346, 2)\n",
      "y_train.shape =  (346,)\n"
     ]
    }
   ],
   "source": [
    "print('X_train.shape = ',X_train.shape)\n",
    "print('y_train.shape = ', y_train.shape)"
   ]
  },
  {
   "cell_type": "code",
   "execution_count": 13,
   "metadata": {},
   "outputs": [
    {
     "data": {
      "text/plain": [
       "(346, 1, 2)"
      ]
     },
     "execution_count": 13,
     "metadata": {},
     "output_type": "execute_result"
    }
   ],
   "source": [
    "#Reshape data for (Sample,Timestep,Features) \n",
    "x_train = X_train.reshape((X_train.shape[0],1,X_train.shape[1]))\n",
    "x_train.shape"
   ]
  },
  {
   "cell_type": "code",
   "execution_count": 134,
   "metadata": {},
   "outputs": [
    {
     "name": "stdout",
     "output_type": "stream",
     "text": [
      "Compilation Time :  0.026849985122680664\n"
     ]
    }
   ],
   "source": [
    "#Build the model\n",
    "# model = Sequential()\n",
    "# model.add(LSTM(256,input_shape=(2,1))) # 2 feature with one time stamps\n",
    "# model.add(Dense(64, activation='relu'))\n",
    "# model.add(Dense(1))\n",
    "# model.compile(optimizer='adam',loss='mse', metrics=['accuracy'])\n",
    "\n",
    "d = 0.3\n",
    "model = Sequential()\n",
    "\n",
    "model.add(LSTM(32, input_shape=(1,2), return_sequences=True))\n",
    "model.add(Dropout(d))\n",
    "\n",
    "model.add(LSTM(32, input_shape=(1,2), return_sequences=False))\n",
    "model.add(Dropout(d))\n",
    "\n",
    "model.add(Dense(16,kernel_initializer=\"uniform\",activation='relu'))        \n",
    "model.add(Dense(1,kernel_initializer=\"uniform\",activation='linear'))\n",
    "\n",
    "# adam = keras.optimizers.Adam(decay=0.2)\n",
    "\n",
    "start = time.time()\n",
    "model.compile(loss='mse',optimizer='adam', metrics=['accuracy'])\n",
    "print(\"Compilation Time : \", time.time() - start)"
   ]
  },
  {
   "cell_type": "code",
   "execution_count": 135,
   "metadata": {},
   "outputs": [
    {
     "name": "stdout",
     "output_type": "stream",
     "text": [
      "_________________________________________________________________\n",
      "Layer (type)                 Output Shape              Param #   \n",
      "=================================================================\n",
      "lstm_9 (LSTM)                (None, 1, 32)             4480      \n",
      "_________________________________________________________________\n",
      "dropout_9 (Dropout)          (None, 1, 32)             0         \n",
      "_________________________________________________________________\n",
      "lstm_10 (LSTM)               (None, 32)                8320      \n",
      "_________________________________________________________________\n",
      "dropout_10 (Dropout)         (None, 32)                0         \n",
      "_________________________________________________________________\n",
      "dense_9 (Dense)              (None, 16)                528       \n",
      "_________________________________________________________________\n",
      "dense_10 (Dense)             (None, 1)                 17        \n",
      "=================================================================\n",
      "Total params: 13,345\n",
      "Trainable params: 13,345\n",
      "Non-trainable params: 0\n",
      "_________________________________________________________________\n"
     ]
    }
   ],
   "source": [
    "model.summary()"
   ]
  },
  {
   "cell_type": "code",
   "execution_count": 136,
   "metadata": {},
   "outputs": [
    {
     "name": "stdout",
     "output_type": "stream",
     "text": [
      "Epoch 1/20\n",
      "346/346 [==============================] - 2s 6ms/step - loss: 0.1099 - acc: 0.0347     \n",
      "Epoch 2/20\n",
      "346/346 [==============================] - 0s 92us/step - loss: 0.1062 - acc: 0.0347   \n",
      "Epoch 3/20\n",
      "346/346 [==============================] - 0s 98us/step - loss: 0.1022 - acc: 0.0347   \n",
      "Epoch 4/20\n",
      "346/346 [==============================] - 0s 95us/step - loss: 0.0978 - acc: 0.0347   \n",
      "Epoch 5/20\n",
      "346/346 [==============================] - 0s 92us/step - loss: 0.0929 - acc: 0.0347   \n",
      "Epoch 6/20\n",
      "346/346 [==============================] - 0s 92us/step - loss: 0.0871 - acc: 0.0347\n",
      "Epoch 7/20\n",
      "346/346 [==============================] - 0s 95us/step - loss: 0.0805 - acc: 0.0347\n",
      "Epoch 8/20\n",
      "346/346 [==============================] - 0s 95us/step - loss: 0.0738 - acc: 0.0347\n",
      "Epoch 9/20\n",
      "346/346 [==============================] - 0s 92us/step - loss: 0.0665 - acc: 0.0347\n",
      "Epoch 10/20\n",
      "346/346 [==============================] - 0s 98us/step - loss: 0.0598 - acc: 0.0347\n",
      "Epoch 11/20\n",
      "346/346 [==============================] - 0s 95us/step - loss: 0.0536 - acc: 0.0347\n",
      "Epoch 12/20\n",
      "346/346 [==============================] - 0s 89us/step - loss: 0.0481 - acc: 0.0347\n",
      "Epoch 13/20\n",
      "346/346 [==============================] - 0s 101us/step - loss: 0.0455 - acc: 0.0347\n",
      "Epoch 14/20\n",
      "346/346 [==============================] - 0s 92us/step - loss: 0.0418 - acc: 0.0347\n",
      "Epoch 15/20\n",
      "346/346 [==============================] - 0s 92us/step - loss: 0.0390 - acc: 0.0347\n",
      "Epoch 16/20\n",
      "346/346 [==============================] - 0s 95us/step - loss: 0.0374 - acc: 0.0347\n",
      "Epoch 17/20\n",
      "346/346 [==============================] - 0s 98us/step - loss: 0.0317 - acc: 0.0376\n",
      "Epoch 18/20\n",
      "346/346 [==============================] - 0s 98us/step - loss: 0.0305 - acc: 0.0376\n",
      "Epoch 19/20\n",
      "346/346 [==============================] - 0s 95us/step - loss: 0.0251 - acc: 0.0376\n",
      "Epoch 20/20\n",
      "346/346 [==============================] - 0s 92us/step - loss: 0.0214 - acc: 0.0376\n"
     ]
    }
   ],
   "source": [
    "#Fit model with history to check for overfitting\n",
    "history = model.fit(x_train,y_train,epochs=20,shuffle=False)"
   ]
  },
  {
   "cell_type": "code",
   "execution_count": 137,
   "metadata": {},
   "outputs": [
    {
     "name": "stdout",
     "output_type": "stream",
     "text": [
      "Saved model to disk\n"
     ]
    }
   ],
   "source": [
    "# serialize model to JSON\n",
    "model_json = model.to_json()\n",
    "with open(\"model.json\", \"w\") as json_file:\n",
    "    json_file.write(model_json)\n",
    "# serialize weights to HDF5\n",
    "model.save_weights(\"model.h5\")\n",
    "print(\"Saved model to disk\")"
   ]
  },
  {
   "cell_type": "code",
   "execution_count": 138,
   "metadata": {},
   "outputs": [
    {
     "name": "stdout",
     "output_type": "stream",
     "text": [
      "Loaded model from disk\n"
     ]
    }
   ],
   "source": [
    "# load json and create model\n",
    "from keras.models import model_from_json\n",
    "json_file = open('model.json', 'r')\n",
    "loaded_model_json = json_file.read()\n",
    "json_file.close()\n",
    "model = model_from_json(loaded_model_json)\n",
    "# load weights into new model\n",
    "model.load_weights(\"model.h5\")\n",
    "print(\"Loaded model from disk\")\n",
    " \n",
    "# evaluate loaded model on test data\n",
    "model.compile(loss='binary_crossentropy', optimizer='rmsprop', metrics=['accuracy'])"
   ]
  },
  {
   "cell_type": "code",
   "execution_count": 139,
   "metadata": {},
   "outputs": [
    {
     "data": {
      "text/html": [
       "<div>\n",
       "<style scoped>\n",
       "    .dataframe tbody tr th:only-of-type {\n",
       "        vertical-align: middle;\n",
       "    }\n",
       "\n",
       "    .dataframe tbody tr th {\n",
       "        vertical-align: top;\n",
       "    }\n",
       "\n",
       "    .dataframe thead th {\n",
       "        text-align: right;\n",
       "    }\n",
       "</style>\n",
       "<table border=\"1\" class=\"dataframe\">\n",
       "  <thead>\n",
       "    <tr style=\"text-align: right;\">\n",
       "      <th></th>\n",
       "      <th>price_lag</th>\n",
       "      <th>rolling_mean_price</th>\n",
       "    </tr>\n",
       "    <tr>\n",
       "      <th>date</th>\n",
       "      <th></th>\n",
       "      <th></th>\n",
       "    </tr>\n",
       "  </thead>\n",
       "  <tbody>\n",
       "    <tr>\n",
       "      <th>2018-12-31</th>\n",
       "      <td>0.34627</td>\n",
       "      <td>0.369288</td>\n",
       "    </tr>\n",
       "  </tbody>\n",
       "</table>\n",
       "</div>"
      ],
      "text/plain": [
       "            price_lag  rolling_mean_price\n",
       "date                                     \n",
       "2018-12-31    0.34627            0.369288"
      ]
     },
     "execution_count": 139,
     "metadata": {},
     "output_type": "execute_result"
    }
   ],
   "source": [
    "prediction=[]\n",
    "test_forecast=X[-1:]\n",
    "t=test_forecast.values\n",
    "t=t[0][0]\n",
    "test_forecast"
   ]
  },
  {
   "cell_type": "code",
   "execution_count": 140,
   "metadata": {},
   "outputs": [
    {
     "data": {
      "text/plain": [
       "0.34626984578614917"
      ]
     },
     "execution_count": 140,
     "metadata": {},
     "output_type": "execute_result"
    }
   ],
   "source": [
    "t #last row price lag value"
   ]
  },
  {
   "cell_type": "code",
   "execution_count": 141,
   "metadata": {},
   "outputs": [
    {
     "name": "stdout",
     "output_type": "stream",
     "text": [
      "            price_lag  rolling_mean_price\n",
      "date                                     \n",
      "2018-12-31    0.34627            0.369288\n",
      "date\n",
      "2018-12-31    0.326922\n",
      "Name: price, dtype: float64\n"
     ]
    }
   ],
   "source": [
    "#last value which will have predicted\n",
    "print(X[-1:])\n",
    "print(y[-1:])"
   ]
  },
  {
   "cell_type": "code",
   "execution_count": 142,
   "metadata": {},
   "outputs": [
    {
     "name": "stdout",
     "output_type": "stream",
     "text": [
      "(1, 2)\n",
      "(1, 1, 2)\n"
     ]
    },
    {
     "name": "stderr",
     "output_type": "stream",
     "text": [
      "C:\\Users\\sumon\\Anaconda3\\envs\\tensorflow\\lib\\site-packages\\ipykernel_launcher.py:2: FutureWarning: Method .as_matrix will be removed in a future version. Use .values instead.\n",
      "  \n"
     ]
    }
   ],
   "source": [
    "print(test_forecast.shape)\n",
    "test_forecast = test_forecast.as_matrix()\n",
    "test_forecast = np.reshape(test_forecast,(1,1,2))\n",
    "print(test_forecast.shape)"
   ]
  },
  {
   "cell_type": "code",
   "execution_count": 143,
   "metadata": {},
   "outputs": [
    {
     "data": {
      "text/plain": [
       "DatetimeIndex(['2019-01-31', '2019-02-28', '2019-03-31', '2019-04-30',\n",
       "               '2019-05-31', '2019-06-30', '2019-07-31', '2019-08-31',\n",
       "               '2019-09-30', '2019-10-31', '2019-11-30', '2019-12-31',\n",
       "               '2020-01-31', '2020-02-29', '2020-03-31', '2020-04-30',\n",
       "               '2020-05-31', '2020-06-30', '2020-07-31', '2020-08-31',\n",
       "               '2020-09-30', '2020-10-31', '2020-11-30', '2020-12-31'],\n",
       "              dtype='datetime64[ns]', freq='M')"
      ]
     },
     "execution_count": 143,
     "metadata": {},
     "output_type": "execute_result"
    }
   ],
   "source": [
    "test_data_index = pd.date_range(start='1/1/2019', periods=24,freq='M')\n",
    "test_data_index"
   ]
  },
  {
   "cell_type": "code",
   "execution_count": 144,
   "metadata": {},
   "outputs": [],
   "source": [
    "test_data = pd.DataFrame()\n",
    "test_data['date'] = test_data_index"
   ]
  },
  {
   "cell_type": "code",
   "execution_count": 145,
   "metadata": {},
   "outputs": [
    {
     "name": "stdout",
     "output_type": "stream",
     "text": [
      "predict price =  0.32933467626571655\n",
      "last price_lag =  0.34626984578614917\n",
      "   price_lag  rolling_mean_price\n",
      "0   0.346270            0.346270\n",
      "1   0.329335            0.337802\n",
      "predict price =  0.3154999613761902\n",
      "last price_lag =  0.32933467626571655\n",
      "   price_lag  rolling_mean_price\n",
      "0   0.329335            0.329335\n",
      "1   0.315500            0.322417\n",
      "predict price =  0.30722397565841675\n",
      "last price_lag =  0.3154999613761902\n",
      "   price_lag  rolling_mean_price\n",
      "0   0.315500            0.315500\n",
      "1   0.307224            0.311362\n",
      "predict price =  0.3017897605895996\n",
      "last price_lag =  0.30722397565841675\n",
      "   price_lag  rolling_mean_price\n",
      "0   0.307224            0.307224\n",
      "1   0.301790            0.304507\n",
      "predict price =  0.29835033416748047\n",
      "last price_lag =  0.3017897605895996\n",
      "   price_lag  rolling_mean_price\n",
      "0    0.30179             0.30179\n",
      "1    0.29835             0.30007\n",
      "predict price =  0.2961527109146118\n",
      "last price_lag =  0.29835033416748047\n",
      "   price_lag  rolling_mean_price\n",
      "0   0.298350            0.298350\n",
      "1   0.296153            0.297252\n",
      "predict price =  0.29475581645965576\n",
      "last price_lag =  0.2961527109146118\n",
      "   price_lag  rolling_mean_price\n",
      "0   0.296153            0.296153\n",
      "1   0.294756            0.295454\n",
      "predict price =  0.2938673496246338\n",
      "last price_lag =  0.29475581645965576\n",
      "   price_lag  rolling_mean_price\n",
      "0   0.294756            0.294756\n",
      "1   0.293867            0.294312\n",
      "predict price =  0.29330283403396606\n",
      "last price_lag =  0.2938673496246338\n",
      "   price_lag  rolling_mean_price\n",
      "0   0.293867            0.293867\n",
      "1   0.293303            0.293585\n",
      "predict price =  0.2929442226886749\n",
      "last price_lag =  0.29330283403396606\n",
      "   price_lag  rolling_mean_price\n",
      "0   0.293303            0.293303\n",
      "1   0.292944            0.293124\n",
      "predict price =  0.29271647334098816\n",
      "last price_lag =  0.2929442226886749\n",
      "   price_lag  rolling_mean_price\n",
      "0   0.292944            0.292944\n",
      "1   0.292716            0.292830\n",
      "predict price =  0.2925718426704407\n",
      "last price_lag =  0.29271647334098816\n",
      "   price_lag  rolling_mean_price\n",
      "0   0.292716            0.292716\n",
      "1   0.292572            0.292644\n",
      "predict price =  0.2924800217151642\n",
      "last price_lag =  0.2925718426704407\n",
      "   price_lag  rolling_mean_price\n",
      "0   0.292572            0.292572\n",
      "1   0.292480            0.292526\n",
      "predict price =  0.29242169857025146\n",
      "last price_lag =  0.2924800217151642\n",
      "   price_lag  rolling_mean_price\n",
      "0   0.292480            0.292480\n",
      "1   0.292422            0.292451\n",
      "predict price =  0.29238468408584595\n",
      "last price_lag =  0.29242169857025146\n",
      "   price_lag  rolling_mean_price\n",
      "0   0.292422            0.292422\n",
      "1   0.292385            0.292403\n",
      "predict price =  0.29236114025115967\n",
      "last price_lag =  0.29238468408584595\n",
      "   price_lag  rolling_mean_price\n",
      "0   0.292385            0.292385\n",
      "1   0.292361            0.292373\n",
      "predict price =  0.2923462390899658\n",
      "last price_lag =  0.29236114025115967\n",
      "   price_lag  rolling_mean_price\n",
      "0   0.292361            0.292361\n",
      "1   0.292346            0.292354\n",
      "predict price =  0.2923367917537689\n",
      "last price_lag =  0.2923462390899658\n",
      "   price_lag  rolling_mean_price\n",
      "0   0.292346            0.292346\n",
      "1   0.292337            0.292342\n",
      "predict price =  0.292330801486969\n",
      "last price_lag =  0.2923367917537689\n",
      "   price_lag  rolling_mean_price\n",
      "0   0.292337            0.292337\n",
      "1   0.292331            0.292334\n",
      "predict price =  0.29232698678970337\n",
      "last price_lag =  0.292330801486969\n",
      "   price_lag  rolling_mean_price\n",
      "0   0.292331            0.292331\n",
      "1   0.292327            0.292329\n",
      "predict price =  0.2923245429992676\n",
      "last price_lag =  0.29232698678970337\n",
      "   price_lag  rolling_mean_price\n",
      "0   0.292327            0.292327\n",
      "1   0.292325            0.292326\n",
      "predict price =  0.2923229932785034\n",
      "last price_lag =  0.2923245429992676\n",
      "   price_lag  rolling_mean_price\n",
      "0   0.292325            0.292325\n",
      "1   0.292323            0.292324\n",
      "predict price =  0.29232197999954224\n",
      "last price_lag =  0.2923229932785034\n",
      "   price_lag  rolling_mean_price\n",
      "0   0.292323            0.292323\n",
      "1   0.292322            0.292322\n",
      "predict price =  0.2923213839530945\n",
      "last price_lag =  0.29232197999954224\n",
      "   price_lag  rolling_mean_price\n",
      "0   0.292322            0.292322\n",
      "1   0.292321            0.292322\n"
     ]
    },
    {
     "name": "stderr",
     "output_type": "stream",
     "text": [
      "C:\\Users\\sumon\\Anaconda3\\envs\\tensorflow\\lib\\site-packages\\ipykernel_launcher.py:10: FutureWarning: Method .as_matrix will be removed in a future version. Use .values instead.\n",
      "  # Remove the CWD from sys.path while we load stuff.\n"
     ]
    }
   ],
   "source": [
    "for i in range(1,len(test_data)+1):\n",
    "    m=model.predict(test_forecast)\n",
    "    print(\"predict price = \",m.tolist()[0][0])\n",
    "    print(\"last price_lag = \", t)\n",
    "    forecastdf=pd.DataFrame(columns=['price_lag'])\n",
    "    forecastdf['price_lag']=[t,m.tolist()[0][0]]\n",
    "    forecastdf['rolling_mean_price']=forecastdf['price_lag'].rolling(2, min_periods=1).mean()\n",
    "    print(forecastdf)\n",
    "    test_forecast=forecastdf[-1:]\n",
    "    test_forecast = test_forecast.as_matrix()\n",
    "    test_forecast = np.reshape(test_forecast,(1,1,2))\n",
    "    t=m.tolist()[0][0]\n",
    "    prediction.append(m.tolist()[0][0])"
   ]
  },
  {
   "cell_type": "code",
   "execution_count": 146,
   "metadata": {},
   "outputs": [],
   "source": [
    "#prediction\n",
    "#len(prediction)"
   ]
  },
  {
   "cell_type": "code",
   "execution_count": 147,
   "metadata": {},
   "outputs": [],
   "source": [
    "test_data['forecast_price'] = prediction #normalize value"
   ]
  },
  {
   "cell_type": "code",
   "execution_count": 148,
   "metadata": {},
   "outputs": [
    {
     "data": {
      "text/html": [
       "<div>\n",
       "<style scoped>\n",
       "    .dataframe tbody tr th:only-of-type {\n",
       "        vertical-align: middle;\n",
       "    }\n",
       "\n",
       "    .dataframe tbody tr th {\n",
       "        vertical-align: top;\n",
       "    }\n",
       "\n",
       "    .dataframe thead th {\n",
       "        text-align: right;\n",
       "    }\n",
       "</style>\n",
       "<table border=\"1\" class=\"dataframe\">\n",
       "  <thead>\n",
       "    <tr style=\"text-align: right;\">\n",
       "      <th></th>\n",
       "      <th>date</th>\n",
       "      <th>forecast_price</th>\n",
       "    </tr>\n",
       "  </thead>\n",
       "  <tbody>\n",
       "    <tr>\n",
       "      <th>0</th>\n",
       "      <td>2019-01-31</td>\n",
       "      <td>0.329335</td>\n",
       "    </tr>\n",
       "    <tr>\n",
       "      <th>1</th>\n",
       "      <td>2019-02-28</td>\n",
       "      <td>0.315500</td>\n",
       "    </tr>\n",
       "    <tr>\n",
       "      <th>2</th>\n",
       "      <td>2019-03-31</td>\n",
       "      <td>0.307224</td>\n",
       "    </tr>\n",
       "    <tr>\n",
       "      <th>3</th>\n",
       "      <td>2019-04-30</td>\n",
       "      <td>0.301790</td>\n",
       "    </tr>\n",
       "    <tr>\n",
       "      <th>4</th>\n",
       "      <td>2019-05-31</td>\n",
       "      <td>0.298350</td>\n",
       "    </tr>\n",
       "    <tr>\n",
       "      <th>5</th>\n",
       "      <td>2019-06-30</td>\n",
       "      <td>0.296153</td>\n",
       "    </tr>\n",
       "    <tr>\n",
       "      <th>6</th>\n",
       "      <td>2019-07-31</td>\n",
       "      <td>0.294756</td>\n",
       "    </tr>\n",
       "    <tr>\n",
       "      <th>7</th>\n",
       "      <td>2019-08-31</td>\n",
       "      <td>0.293867</td>\n",
       "    </tr>\n",
       "    <tr>\n",
       "      <th>8</th>\n",
       "      <td>2019-09-30</td>\n",
       "      <td>0.293303</td>\n",
       "    </tr>\n",
       "    <tr>\n",
       "      <th>9</th>\n",
       "      <td>2019-10-31</td>\n",
       "      <td>0.292944</td>\n",
       "    </tr>\n",
       "    <tr>\n",
       "      <th>10</th>\n",
       "      <td>2019-11-30</td>\n",
       "      <td>0.292716</td>\n",
       "    </tr>\n",
       "    <tr>\n",
       "      <th>11</th>\n",
       "      <td>2019-12-31</td>\n",
       "      <td>0.292572</td>\n",
       "    </tr>\n",
       "    <tr>\n",
       "      <th>12</th>\n",
       "      <td>2020-01-31</td>\n",
       "      <td>0.292480</td>\n",
       "    </tr>\n",
       "    <tr>\n",
       "      <th>13</th>\n",
       "      <td>2020-02-29</td>\n",
       "      <td>0.292422</td>\n",
       "    </tr>\n",
       "    <tr>\n",
       "      <th>14</th>\n",
       "      <td>2020-03-31</td>\n",
       "      <td>0.292385</td>\n",
       "    </tr>\n",
       "    <tr>\n",
       "      <th>15</th>\n",
       "      <td>2020-04-30</td>\n",
       "      <td>0.292361</td>\n",
       "    </tr>\n",
       "    <tr>\n",
       "      <th>16</th>\n",
       "      <td>2020-05-31</td>\n",
       "      <td>0.292346</td>\n",
       "    </tr>\n",
       "    <tr>\n",
       "      <th>17</th>\n",
       "      <td>2020-06-30</td>\n",
       "      <td>0.292337</td>\n",
       "    </tr>\n",
       "    <tr>\n",
       "      <th>18</th>\n",
       "      <td>2020-07-31</td>\n",
       "      <td>0.292331</td>\n",
       "    </tr>\n",
       "    <tr>\n",
       "      <th>19</th>\n",
       "      <td>2020-08-31</td>\n",
       "      <td>0.292327</td>\n",
       "    </tr>\n",
       "    <tr>\n",
       "      <th>20</th>\n",
       "      <td>2020-09-30</td>\n",
       "      <td>0.292325</td>\n",
       "    </tr>\n",
       "    <tr>\n",
       "      <th>21</th>\n",
       "      <td>2020-10-31</td>\n",
       "      <td>0.292323</td>\n",
       "    </tr>\n",
       "    <tr>\n",
       "      <th>22</th>\n",
       "      <td>2020-11-30</td>\n",
       "      <td>0.292322</td>\n",
       "    </tr>\n",
       "    <tr>\n",
       "      <th>23</th>\n",
       "      <td>2020-12-31</td>\n",
       "      <td>0.292321</td>\n",
       "    </tr>\n",
       "  </tbody>\n",
       "</table>\n",
       "</div>"
      ],
      "text/plain": [
       "         date  forecast_price\n",
       "0  2019-01-31        0.329335\n",
       "1  2019-02-28        0.315500\n",
       "2  2019-03-31        0.307224\n",
       "3  2019-04-30        0.301790\n",
       "4  2019-05-31        0.298350\n",
       "5  2019-06-30        0.296153\n",
       "6  2019-07-31        0.294756\n",
       "7  2019-08-31        0.293867\n",
       "8  2019-09-30        0.293303\n",
       "9  2019-10-31        0.292944\n",
       "10 2019-11-30        0.292716\n",
       "11 2019-12-31        0.292572\n",
       "12 2020-01-31        0.292480\n",
       "13 2020-02-29        0.292422\n",
       "14 2020-03-31        0.292385\n",
       "15 2020-04-30        0.292361\n",
       "16 2020-05-31        0.292346\n",
       "17 2020-06-30        0.292337\n",
       "18 2020-07-31        0.292331\n",
       "19 2020-08-31        0.292327\n",
       "20 2020-09-30        0.292325\n",
       "21 2020-10-31        0.292323\n",
       "22 2020-11-30        0.292322\n",
       "23 2020-12-31        0.292321"
      ]
     },
     "execution_count": 148,
     "metadata": {},
     "output_type": "execute_result"
    }
   ],
   "source": [
    "test_data"
   ]
  },
  {
   "cell_type": "code",
   "execution_count": 149,
   "metadata": {},
   "outputs": [
    {
     "data": {
      "text/html": [
       "<div>\n",
       "<style scoped>\n",
       "    .dataframe tbody tr th:only-of-type {\n",
       "        vertical-align: middle;\n",
       "    }\n",
       "\n",
       "    .dataframe tbody tr th {\n",
       "        vertical-align: top;\n",
       "    }\n",
       "\n",
       "    .dataframe thead th {\n",
       "        text-align: right;\n",
       "    }\n",
       "</style>\n",
       "<table border=\"1\" class=\"dataframe\">\n",
       "  <thead>\n",
       "    <tr style=\"text-align: right;\">\n",
       "      <th></th>\n",
       "      <th>price</th>\n",
       "      <th>date</th>\n",
       "    </tr>\n",
       "  </thead>\n",
       "  <tbody>\n",
       "    <tr>\n",
       "      <th>0</th>\n",
       "      <td>14.05</td>\n",
       "      <td>1990-01-31</td>\n",
       "    </tr>\n",
       "    <tr>\n",
       "      <th>1</th>\n",
       "      <td>14.05</td>\n",
       "      <td>1990-02-28</td>\n",
       "    </tr>\n",
       "    <tr>\n",
       "      <th>2</th>\n",
       "      <td>14.05</td>\n",
       "      <td>1990-03-31</td>\n",
       "    </tr>\n",
       "    <tr>\n",
       "      <th>3</th>\n",
       "      <td>14.05</td>\n",
       "      <td>1990-04-30</td>\n",
       "    </tr>\n",
       "    <tr>\n",
       "      <th>4</th>\n",
       "      <td>14.05</td>\n",
       "      <td>1990-05-31</td>\n",
       "    </tr>\n",
       "    <tr>\n",
       "      <th>5</th>\n",
       "      <td>14.05</td>\n",
       "      <td>1990-06-30</td>\n",
       "    </tr>\n",
       "    <tr>\n",
       "      <th>6</th>\n",
       "      <td>14.05</td>\n",
       "      <td>1990-07-31</td>\n",
       "    </tr>\n",
       "    <tr>\n",
       "      <th>7</th>\n",
       "      <td>14.05</td>\n",
       "      <td>1990-08-31</td>\n",
       "    </tr>\n",
       "    <tr>\n",
       "      <th>8</th>\n",
       "      <td>14.05</td>\n",
       "      <td>1990-09-30</td>\n",
       "    </tr>\n",
       "    <tr>\n",
       "      <th>9</th>\n",
       "      <td>14.05</td>\n",
       "      <td>1990-10-31</td>\n",
       "    </tr>\n",
       "    <tr>\n",
       "      <th>10</th>\n",
       "      <td>14.05</td>\n",
       "      <td>1990-11-30</td>\n",
       "    </tr>\n",
       "    <tr>\n",
       "      <th>11</th>\n",
       "      <td>14.05</td>\n",
       "      <td>1990-12-31</td>\n",
       "    </tr>\n",
       "    <tr>\n",
       "      <th>12</th>\n",
       "      <td>15.03</td>\n",
       "      <td>1991-01-31</td>\n",
       "    </tr>\n",
       "    <tr>\n",
       "      <th>13</th>\n",
       "      <td>15.03</td>\n",
       "      <td>1991-02-28</td>\n",
       "    </tr>\n",
       "    <tr>\n",
       "      <th>14</th>\n",
       "      <td>15.03</td>\n",
       "      <td>1991-03-31</td>\n",
       "    </tr>\n",
       "    <tr>\n",
       "      <th>15</th>\n",
       "      <td>15.03</td>\n",
       "      <td>1991-04-30</td>\n",
       "    </tr>\n",
       "    <tr>\n",
       "      <th>16</th>\n",
       "      <td>15.03</td>\n",
       "      <td>1991-05-31</td>\n",
       "    </tr>\n",
       "    <tr>\n",
       "      <th>17</th>\n",
       "      <td>15.03</td>\n",
       "      <td>1991-06-30</td>\n",
       "    </tr>\n",
       "    <tr>\n",
       "      <th>18</th>\n",
       "      <td>15.03</td>\n",
       "      <td>1991-07-31</td>\n",
       "    </tr>\n",
       "    <tr>\n",
       "      <th>19</th>\n",
       "      <td>15.03</td>\n",
       "      <td>1991-08-31</td>\n",
       "    </tr>\n",
       "    <tr>\n",
       "      <th>20</th>\n",
       "      <td>15.03</td>\n",
       "      <td>1991-09-30</td>\n",
       "    </tr>\n",
       "    <tr>\n",
       "      <th>21</th>\n",
       "      <td>15.03</td>\n",
       "      <td>1991-10-31</td>\n",
       "    </tr>\n",
       "    <tr>\n",
       "      <th>22</th>\n",
       "      <td>15.03</td>\n",
       "      <td>1991-11-30</td>\n",
       "    </tr>\n",
       "    <tr>\n",
       "      <th>23</th>\n",
       "      <td>15.03</td>\n",
       "      <td>1991-12-31</td>\n",
       "    </tr>\n",
       "    <tr>\n",
       "      <th>24</th>\n",
       "      <td>14.31</td>\n",
       "      <td>1992-01-31</td>\n",
       "    </tr>\n",
       "    <tr>\n",
       "      <th>25</th>\n",
       "      <td>14.31</td>\n",
       "      <td>1992-02-29</td>\n",
       "    </tr>\n",
       "    <tr>\n",
       "      <th>26</th>\n",
       "      <td>14.31</td>\n",
       "      <td>1992-03-31</td>\n",
       "    </tr>\n",
       "    <tr>\n",
       "      <th>27</th>\n",
       "      <td>14.31</td>\n",
       "      <td>1992-04-30</td>\n",
       "    </tr>\n",
       "    <tr>\n",
       "      <th>28</th>\n",
       "      <td>14.31</td>\n",
       "      <td>1992-05-31</td>\n",
       "    </tr>\n",
       "    <tr>\n",
       "      <th>29</th>\n",
       "      <td>14.31</td>\n",
       "      <td>1992-06-30</td>\n",
       "    </tr>\n",
       "    <tr>\n",
       "      <th>...</th>\n",
       "      <td>...</td>\n",
       "      <td>...</td>\n",
       "    </tr>\n",
       "    <tr>\n",
       "      <th>318</th>\n",
       "      <td>57.31</td>\n",
       "      <td>2016-07-31</td>\n",
       "    </tr>\n",
       "    <tr>\n",
       "      <th>319</th>\n",
       "      <td>60.87</td>\n",
       "      <td>2016-08-31</td>\n",
       "    </tr>\n",
       "    <tr>\n",
       "      <th>320</th>\n",
       "      <td>57.66</td>\n",
       "      <td>2016-09-30</td>\n",
       "    </tr>\n",
       "    <tr>\n",
       "      <th>321</th>\n",
       "      <td>58.95</td>\n",
       "      <td>2016-10-31</td>\n",
       "    </tr>\n",
       "    <tr>\n",
       "      <th>322</th>\n",
       "      <td>74.14</td>\n",
       "      <td>2016-11-30</td>\n",
       "    </tr>\n",
       "    <tr>\n",
       "      <th>323</th>\n",
       "      <td>79.43</td>\n",
       "      <td>2016-12-31</td>\n",
       "    </tr>\n",
       "    <tr>\n",
       "      <th>324</th>\n",
       "      <td>80.82</td>\n",
       "      <td>2017-01-31</td>\n",
       "    </tr>\n",
       "    <tr>\n",
       "      <th>325</th>\n",
       "      <td>88.95</td>\n",
       "      <td>2017-02-28</td>\n",
       "    </tr>\n",
       "    <tr>\n",
       "      <th>326</th>\n",
       "      <td>87.20</td>\n",
       "      <td>2017-03-31</td>\n",
       "    </tr>\n",
       "    <tr>\n",
       "      <th>327</th>\n",
       "      <td>70.40</td>\n",
       "      <td>2017-04-30</td>\n",
       "    </tr>\n",
       "    <tr>\n",
       "      <th>328</th>\n",
       "      <td>61.63</td>\n",
       "      <td>2017-05-31</td>\n",
       "    </tr>\n",
       "    <tr>\n",
       "      <th>329</th>\n",
       "      <td>57.86</td>\n",
       "      <td>2017-06-30</td>\n",
       "    </tr>\n",
       "    <tr>\n",
       "      <th>330</th>\n",
       "      <td>66.74</td>\n",
       "      <td>2017-07-31</td>\n",
       "    </tr>\n",
       "    <tr>\n",
       "      <th>331</th>\n",
       "      <td>74.59</td>\n",
       "      <td>2017-08-31</td>\n",
       "    </tr>\n",
       "    <tr>\n",
       "      <th>332</th>\n",
       "      <td>69.24</td>\n",
       "      <td>2017-09-30</td>\n",
       "    </tr>\n",
       "    <tr>\n",
       "      <th>333</th>\n",
       "      <td>61.05</td>\n",
       "      <td>2017-10-31</td>\n",
       "    </tr>\n",
       "    <tr>\n",
       "      <th>334</th>\n",
       "      <td>63.41</td>\n",
       "      <td>2017-11-30</td>\n",
       "    </tr>\n",
       "    <tr>\n",
       "      <th>335</th>\n",
       "      <td>71.74</td>\n",
       "      <td>2017-12-31</td>\n",
       "    </tr>\n",
       "    <tr>\n",
       "      <th>336</th>\n",
       "      <td>75.78</td>\n",
       "      <td>2018-01-31</td>\n",
       "    </tr>\n",
       "    <tr>\n",
       "      <th>337</th>\n",
       "      <td>77.65</td>\n",
       "      <td>2018-02-28</td>\n",
       "    </tr>\n",
       "    <tr>\n",
       "      <th>338</th>\n",
       "      <td>71.32</td>\n",
       "      <td>2018-03-31</td>\n",
       "    </tr>\n",
       "    <tr>\n",
       "      <th>339</th>\n",
       "      <td>66.33</td>\n",
       "      <td>2018-04-30</td>\n",
       "    </tr>\n",
       "    <tr>\n",
       "      <th>340</th>\n",
       "      <td>66.63</td>\n",
       "      <td>2018-05-31</td>\n",
       "    </tr>\n",
       "    <tr>\n",
       "      <th>341</th>\n",
       "      <td>66.86</td>\n",
       "      <td>2018-06-30</td>\n",
       "    </tr>\n",
       "    <tr>\n",
       "      <th>342</th>\n",
       "      <td>67.05</td>\n",
       "      <td>2018-07-31</td>\n",
       "    </tr>\n",
       "    <tr>\n",
       "      <th>343</th>\n",
       "      <td>68.02</td>\n",
       "      <td>2018-08-31</td>\n",
       "    </tr>\n",
       "    <tr>\n",
       "      <th>344</th>\n",
       "      <td>68.80</td>\n",
       "      <td>2018-09-30</td>\n",
       "    </tr>\n",
       "    <tr>\n",
       "      <th>345</th>\n",
       "      <td>72.02</td>\n",
       "      <td>2018-10-31</td>\n",
       "    </tr>\n",
       "    <tr>\n",
       "      <th>346</th>\n",
       "      <td>72.30</td>\n",
       "      <td>2018-11-30</td>\n",
       "    </tr>\n",
       "    <tr>\n",
       "      <th>347</th>\n",
       "      <td>68.90</td>\n",
       "      <td>2018-12-31</td>\n",
       "    </tr>\n",
       "  </tbody>\n",
       "</table>\n",
       "<p>348 rows × 2 columns</p>\n",
       "</div>"
      ],
      "text/plain": [
       "     price       date\n",
       "0    14.05 1990-01-31\n",
       "1    14.05 1990-02-28\n",
       "2    14.05 1990-03-31\n",
       "3    14.05 1990-04-30\n",
       "4    14.05 1990-05-31\n",
       "5    14.05 1990-06-30\n",
       "6    14.05 1990-07-31\n",
       "7    14.05 1990-08-31\n",
       "8    14.05 1990-09-30\n",
       "9    14.05 1990-10-31\n",
       "10   14.05 1990-11-30\n",
       "11   14.05 1990-12-31\n",
       "12   15.03 1991-01-31\n",
       "13   15.03 1991-02-28\n",
       "14   15.03 1991-03-31\n",
       "15   15.03 1991-04-30\n",
       "16   15.03 1991-05-31\n",
       "17   15.03 1991-06-30\n",
       "18   15.03 1991-07-31\n",
       "19   15.03 1991-08-31\n",
       "20   15.03 1991-09-30\n",
       "21   15.03 1991-10-31\n",
       "22   15.03 1991-11-30\n",
       "23   15.03 1991-12-31\n",
       "24   14.31 1992-01-31\n",
       "25   14.31 1992-02-29\n",
       "26   14.31 1992-03-31\n",
       "27   14.31 1992-04-30\n",
       "28   14.31 1992-05-31\n",
       "29   14.31 1992-06-30\n",
       "..     ...        ...\n",
       "318  57.31 2016-07-31\n",
       "319  60.87 2016-08-31\n",
       "320  57.66 2016-09-30\n",
       "321  58.95 2016-10-31\n",
       "322  74.14 2016-11-30\n",
       "323  79.43 2016-12-31\n",
       "324  80.82 2017-01-31\n",
       "325  88.95 2017-02-28\n",
       "326  87.20 2017-03-31\n",
       "327  70.40 2017-04-30\n",
       "328  61.63 2017-05-31\n",
       "329  57.86 2017-06-30\n",
       "330  66.74 2017-07-31\n",
       "331  74.59 2017-08-31\n",
       "332  69.24 2017-09-30\n",
       "333  61.05 2017-10-31\n",
       "334  63.41 2017-11-30\n",
       "335  71.74 2017-12-31\n",
       "336  75.78 2018-01-31\n",
       "337  77.65 2018-02-28\n",
       "338  71.32 2018-03-31\n",
       "339  66.33 2018-04-30\n",
       "340  66.63 2018-05-31\n",
       "341  66.86 2018-06-30\n",
       "342  67.05 2018-07-31\n",
       "343  68.02 2018-08-31\n",
       "344  68.80 2018-09-30\n",
       "345  72.02 2018-10-31\n",
       "346  72.30 2018-11-30\n",
       "347  68.90 2018-12-31\n",
       "\n",
       "[348 rows x 2 columns]"
      ]
     },
     "execution_count": 149,
     "metadata": {},
     "output_type": "execute_result"
    }
   ],
   "source": [
    "data"
   ]
  },
  {
   "cell_type": "code",
   "execution_count": 150,
   "metadata": {},
   "outputs": [],
   "source": [
    "def denormalize(df, normalized_value): \n",
    "    df = df['price'].values.reshape(-1,1)\n",
    "    normalized_value = normalized_value.reshape(-1,1)\n",
    "    #return df.shape, p.shape\n",
    "    min_max_scaler = sklearn.preprocessing.MinMaxScaler()\n",
    "    a = min_max_scaler.fit_transform(df)\n",
    "    new = min_max_scaler.inverse_transform(normalized_value)\n",
    "    return new\n",
    "\n",
    "newp = denormalize(data, np.array(prediction))\n",
    "#newy_test = denormalize(data[90:], np.array(actual_price))"
   ]
  },
  {
   "cell_type": "code",
   "execution_count": 151,
   "metadata": {},
   "outputs": [
    {
     "data": {
      "text/plain": [
       "array([[69.32398266],\n",
       "       [66.89280821],\n",
       "       [65.43846924],\n",
       "       [64.48351463],\n",
       "       [63.87910422],\n",
       "       [63.49291589],\n",
       "       [63.24743963],\n",
       "       [63.09130935],\n",
       "       [62.99210702],\n",
       "       [62.92908825],\n",
       "       [62.88906586],\n",
       "       [62.86364991],\n",
       "       [62.84751422],\n",
       "       [62.83726509],\n",
       "       [62.83076053],\n",
       "       [62.82662318],\n",
       "       [62.8240046 ],\n",
       "       [62.82234441],\n",
       "       [62.82129175],\n",
       "       [62.82062139],\n",
       "       [62.82019194],\n",
       "       [62.81991961],\n",
       "       [62.81974155],\n",
       "       [62.8196368 ]])"
      ]
     },
     "execution_count": 151,
     "metadata": {},
     "output_type": "execute_result"
    }
   ],
   "source": [
    "newp"
   ]
  },
  {
   "cell_type": "code",
   "execution_count": 152,
   "metadata": {},
   "outputs": [],
   "source": [
    "test_data['denorm_price'] = newp"
   ]
  },
  {
   "cell_type": "code",
   "execution_count": 153,
   "metadata": {},
   "outputs": [],
   "source": [
    "test_data = test_data.set_index('date')"
   ]
  },
  {
   "cell_type": "code",
   "execution_count": 154,
   "metadata": {},
   "outputs": [
    {
     "data": {
      "text/plain": [
       "<matplotlib.axes._subplots.AxesSubplot at 0x11a0f935f28>"
      ]
     },
     "execution_count": 154,
     "metadata": {},
     "output_type": "execute_result"
    },
    {
     "data": {
      "image/png": "[encoded data removed]",
      "text/plain": [
       "<Figure size 1440x720 with 1 Axes>"
      ]
     },
     "metadata": {
      "needs_background": "light"
     },
     "output_type": "display_data"
    }
   ],
   "source": [
    "test_data['denorm_price'].plot()"
   ]
  },
  {
   "cell_type": "code",
   "execution_count": 155,
   "metadata": {},
   "outputs": [
    {
     "data": {
      "text/plain": [
       "<matplotlib.legend.Legend at 0x11a0fe24f28>"
      ]
     },
     "execution_count": 155,
     "metadata": {},
     "output_type": "execute_result"
    },
    {
     "data": {
      "image/png": "[encoded data removed]",
      "text/plain": [
       "<Figure size 1440x720 with 1 Axes>"
      ]
     },
     "metadata": {
      "needs_background": "light"
     },
     "output_type": "display_data"
    }
   ],
   "source": [
    "predictdata=pd.DataFrame(df['price'],index=df.index)\n",
    "plt.rcParams[\"figure.figsize\"]=(20,10)\n",
    "plt.plot(predictdata)\n",
    "plt.plot(test_data['denorm_price'])\n",
    "plt.gca().legend(('price','forecast_price'))"
   ]
  },
  {
   "cell_type": "code",
   "execution_count": 156,
   "metadata": {},
   "outputs": [
    {
     "data": {
      "text/html": [
       "<div>\n",
       "<style scoped>\n",
       "    .dataframe tbody tr th:only-of-type {\n",
       "        vertical-align: middle;\n",
       "    }\n",
       "\n",
       "    .dataframe tbody tr th {\n",
       "        vertical-align: top;\n",
       "    }\n",
       "\n",
       "    .dataframe thead th {\n",
       "        text-align: right;\n",
       "    }\n",
       "</style>\n",
       "<table border=\"1\" class=\"dataframe\">\n",
       "  <thead>\n",
       "    <tr style=\"text-align: right;\">\n",
       "      <th></th>\n",
       "      <th>forecast_price</th>\n",
       "      <th>denorm_price</th>\n",
       "    </tr>\n",
       "    <tr>\n",
       "      <th>date</th>\n",
       "      <th></th>\n",
       "      <th></th>\n",
       "    </tr>\n",
       "  </thead>\n",
       "  <tbody>\n",
       "    <tr>\n",
       "      <th>2019-01-31</th>\n",
       "      <td>0.329335</td>\n",
       "      <td>69.323983</td>\n",
       "    </tr>\n",
       "    <tr>\n",
       "      <th>2019-02-28</th>\n",
       "      <td>0.315500</td>\n",
       "      <td>66.892808</td>\n",
       "    </tr>\n",
       "    <tr>\n",
       "      <th>2019-03-31</th>\n",
       "      <td>0.307224</td>\n",
       "      <td>65.438469</td>\n",
       "    </tr>\n",
       "    <tr>\n",
       "      <th>2019-04-30</th>\n",
       "      <td>0.301790</td>\n",
       "      <td>64.483515</td>\n",
       "    </tr>\n",
       "    <tr>\n",
       "      <th>2019-05-31</th>\n",
       "      <td>0.298350</td>\n",
       "      <td>63.879104</td>\n",
       "    </tr>\n",
       "    <tr>\n",
       "      <th>2019-06-30</th>\n",
       "      <td>0.296153</td>\n",
       "      <td>63.492916</td>\n",
       "    </tr>\n",
       "    <tr>\n",
       "      <th>2019-07-31</th>\n",
       "      <td>0.294756</td>\n",
       "      <td>63.247440</td>\n",
       "    </tr>\n",
       "    <tr>\n",
       "      <th>2019-08-31</th>\n",
       "      <td>0.293867</td>\n",
       "      <td>63.091309</td>\n",
       "    </tr>\n",
       "    <tr>\n",
       "      <th>2019-09-30</th>\n",
       "      <td>0.293303</td>\n",
       "      <td>62.992107</td>\n",
       "    </tr>\n",
       "    <tr>\n",
       "      <th>2019-10-31</th>\n",
       "      <td>0.292944</td>\n",
       "      <td>62.929088</td>\n",
       "    </tr>\n",
       "    <tr>\n",
       "      <th>2019-11-30</th>\n",
       "      <td>0.292716</td>\n",
       "      <td>62.889066</td>\n",
       "    </tr>\n",
       "    <tr>\n",
       "      <th>2019-12-31</th>\n",
       "      <td>0.292572</td>\n",
       "      <td>62.863650</td>\n",
       "    </tr>\n",
       "    <tr>\n",
       "      <th>2020-01-31</th>\n",
       "      <td>0.292480</td>\n",
       "      <td>62.847514</td>\n",
       "    </tr>\n",
       "    <tr>\n",
       "      <th>2020-02-29</th>\n",
       "      <td>0.292422</td>\n",
       "      <td>62.837265</td>\n",
       "    </tr>\n",
       "    <tr>\n",
       "      <th>2020-03-31</th>\n",
       "      <td>0.292385</td>\n",
       "      <td>62.830761</td>\n",
       "    </tr>\n",
       "    <tr>\n",
       "      <th>2020-04-30</th>\n",
       "      <td>0.292361</td>\n",
       "      <td>62.826623</td>\n",
       "    </tr>\n",
       "    <tr>\n",
       "      <th>2020-05-31</th>\n",
       "      <td>0.292346</td>\n",
       "      <td>62.824005</td>\n",
       "    </tr>\n",
       "    <tr>\n",
       "      <th>2020-06-30</th>\n",
       "      <td>0.292337</td>\n",
       "      <td>62.822344</td>\n",
       "    </tr>\n",
       "    <tr>\n",
       "      <th>2020-07-31</th>\n",
       "      <td>0.292331</td>\n",
       "      <td>62.821292</td>\n",
       "    </tr>\n",
       "    <tr>\n",
       "      <th>2020-08-31</th>\n",
       "      <td>0.292327</td>\n",
       "      <td>62.820621</td>\n",
       "    </tr>\n",
       "    <tr>\n",
       "      <th>2020-09-30</th>\n",
       "      <td>0.292325</td>\n",
       "      <td>62.820192</td>\n",
       "    </tr>\n",
       "    <tr>\n",
       "      <th>2020-10-31</th>\n",
       "      <td>0.292323</td>\n",
       "      <td>62.819920</td>\n",
       "    </tr>\n",
       "    <tr>\n",
       "      <th>2020-11-30</th>\n",
       "      <td>0.292322</td>\n",
       "      <td>62.819742</td>\n",
       "    </tr>\n",
       "    <tr>\n",
       "      <th>2020-12-31</th>\n",
       "      <td>0.292321</td>\n",
       "      <td>62.819637</td>\n",
       "    </tr>\n",
       "  </tbody>\n",
       "</table>\n",
       "</div>"
      ],
      "text/plain": [
       "            forecast_price  denorm_price\n",
       "date                                    \n",
       "2019-01-31        0.329335     69.323983\n",
       "2019-02-28        0.315500     66.892808\n",
       "2019-03-31        0.307224     65.438469\n",
       "2019-04-30        0.301790     64.483515\n",
       "2019-05-31        0.298350     63.879104\n",
       "2019-06-30        0.296153     63.492916\n",
       "2019-07-31        0.294756     63.247440\n",
       "2019-08-31        0.293867     63.091309\n",
       "2019-09-30        0.293303     62.992107\n",
       "2019-10-31        0.292944     62.929088\n",
       "2019-11-30        0.292716     62.889066\n",
       "2019-12-31        0.292572     62.863650\n",
       "2020-01-31        0.292480     62.847514\n",
       "2020-02-29        0.292422     62.837265\n",
       "2020-03-31        0.292385     62.830761\n",
       "2020-04-30        0.292361     62.826623\n",
       "2020-05-31        0.292346     62.824005\n",
       "2020-06-30        0.292337     62.822344\n",
       "2020-07-31        0.292331     62.821292\n",
       "2020-08-31        0.292327     62.820621\n",
       "2020-09-30        0.292325     62.820192\n",
       "2020-10-31        0.292323     62.819920\n",
       "2020-11-30        0.292322     62.819742\n",
       "2020-12-31        0.292321     62.819637"
      ]
     },
     "execution_count": 156,
     "metadata": {},
     "output_type": "execute_result"
    }
   ],
   "source": [
    "test_data #denorm price the forecast price till 2019 to 2020"
   ]
  },
  {
   "cell_type": "code",
   "execution_count": 157,
   "metadata": {},
   "outputs": [
    {
     "data": {
      "text/plain": [
       "<matplotlib.axes._subplots.AxesSubplot at 0x11a1011f2e8>"
      ]
     },
     "execution_count": 157,
     "metadata": {},
     "output_type": "execute_result"
    },
    {
     "data": {
      "image/png": "[encoded data removed]",
      "text/plain": [
       "<Figure size 1440x720 with 1 Axes>"
      ]
     },
     "metadata": {
      "needs_background": "light"
     },
     "output_type": "display_data"
    }
   ],
   "source": [
    "test_data.denorm_price.plot()"
   ]
  },
  {
   "cell_type": "code",
   "execution_count": null,
   "metadata": {},
   "outputs": [],
   "source": []
  }
 ],
 "metadata": {
  "kernelspec": {
   "display_name": "Python 3",
   "language": "python",
   "name": "python3"
  },
  "language_info": {
   "codemirror_mode": {
    "name": "ipython",
    "version": 3
   },
   "file_extension": ".py",
   "mimetype": "text/x-python",
   "name": "python",
   "nbconvert_exporter": "python",
   "pygments_lexer": "ipython3",
   "version": "3.7.4"
  }
 },
 "nbformat": 4,
 "nbformat_minor": 2
}
