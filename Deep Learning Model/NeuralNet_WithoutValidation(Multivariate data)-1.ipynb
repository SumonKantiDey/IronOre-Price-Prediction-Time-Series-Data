{
 "cells": [
  {
   "cell_type": "code",
   "execution_count": 1,
   "metadata": {},
   "outputs": [
    {
     "name": "stderr",
     "output_type": "stream",
     "text": [
      "Using TensorFlow backend.\n"
     ]
    }
   ],
   "source": [
    "import numpy as np\n",
    "import matplotlib.pyplot as plt\n",
    "%matplotlib inline\n",
    "from sklearn.linear_model import LinearRegression \n",
    "import matplotlib.pylab as pylab\n",
    "import math,time\n",
    "import sklearn\n",
    "import sklearn.preprocessing\n",
    "import datetime\n",
    "import os\n",
    "import matplotlib.pyplot as plt\n",
    "import keras\n",
    "from keras.models import Sequential\n",
    "from keras.layers import LSTM\n",
    "from keras.layers.core import Dense, Dropout, Activation\n",
    "from sklearn.preprocessing import MinMaxScaler\n",
    "from statsmodels.graphics.tsaplots import plot_pacf, plot_acf\n",
    "from keras.layers import Bidirectional\n",
    "test_set_size_percentage = 20 \n",
    "import pandas as pd\n",
    "from pandas import read_csv\n",
    "from sklearn.metrics import r2_score,mean_squared_error "
   ]
  },
  {
   "cell_type": "code",
   "execution_count": 2,
   "metadata": {},
   "outputs": [],
   "source": [
    "data=pd.read_csv('dataset/iron_oildaily.csv',parse_dates=['date'])"
   ]
  },
  {
   "cell_type": "code",
   "execution_count": 3,
   "metadata": {},
   "outputs": [],
   "source": [
    "data = data.dropna()"
   ]
  },
  {
   "cell_type": "code",
   "execution_count": 4,
   "metadata": {},
   "outputs": [],
   "source": [
    "data = data.reset_index(drop = True)"
   ]
  },
  {
   "cell_type": "code",
   "execution_count": 5,
   "metadata": {},
   "outputs": [],
   "source": [
    "new_data = pd.DataFrame(columns=['date','iron_price','oil_price'])\n",
    "new_data['date'] = data.date\n",
    "new_data['iron_price'] = data.Price\n",
    "new_data['oil_price'] = data.oildata"
   ]
  },
  {
   "cell_type": "code",
   "execution_count": 6,
   "metadata": {},
   "outputs": [
    {
     "data": {
      "text/html": [
       "<div>\n",
       "<style scoped>\n",
       "    .dataframe tbody tr th:only-of-type {\n",
       "        vertical-align: middle;\n",
       "    }\n",
       "\n",
       "    .dataframe tbody tr th {\n",
       "        vertical-align: top;\n",
       "    }\n",
       "\n",
       "    .dataframe thead th {\n",
       "        text-align: right;\n",
       "    }\n",
       "</style>\n",
       "<table border=\"1\" class=\"dataframe\">\n",
       "  <thead>\n",
       "    <tr style=\"text-align: right;\">\n",
       "      <th></th>\n",
       "      <th>date</th>\n",
       "      <th>iron_price</th>\n",
       "      <th>oil_price</th>\n",
       "    </tr>\n",
       "  </thead>\n",
       "  <tbody>\n",
       "    <tr>\n",
       "      <td>0</td>\n",
       "      <td>2010-10-25</td>\n",
       "      <td>145.0</td>\n",
       "      <td>80.03</td>\n",
       "    </tr>\n",
       "    <tr>\n",
       "      <td>1</td>\n",
       "      <td>2010-10-26</td>\n",
       "      <td>145.1</td>\n",
       "      <td>79.75</td>\n",
       "    </tr>\n",
       "    <tr>\n",
       "      <td>2</td>\n",
       "      <td>2010-10-27</td>\n",
       "      <td>144.5</td>\n",
       "      <td>79.19</td>\n",
       "    </tr>\n",
       "    <tr>\n",
       "      <td>3</td>\n",
       "      <td>2010-10-28</td>\n",
       "      <td>144.0</td>\n",
       "      <td>79.92</td>\n",
       "    </tr>\n",
       "    <tr>\n",
       "      <td>4</td>\n",
       "      <td>2010-10-29</td>\n",
       "      <td>147.5</td>\n",
       "      <td>79.42</td>\n",
       "    </tr>\n",
       "  </tbody>\n",
       "</table>\n",
       "</div>"
      ],
      "text/plain": [
       "        date  iron_price  oil_price\n",
       "0 2010-10-25       145.0      80.03\n",
       "1 2010-10-26       145.1      79.75\n",
       "2 2010-10-27       144.5      79.19\n",
       "3 2010-10-28       144.0      79.92\n",
       "4 2010-10-29       147.5      79.42"
      ]
     },
     "execution_count": 6,
     "metadata": {},
     "output_type": "execute_result"
    }
   ],
   "source": [
    "new_data.head()"
   ]
  },
  {
   "cell_type": "code",
   "execution_count": 7,
   "metadata": {},
   "outputs": [],
   "source": [
    "#data['Price'].plot()\n",
    "new_data['oil_price_lag']=new_data['oil_price'].shift(1)\n",
    "new_data=new_data.set_index('date')\n",
    "new_data['rolling_mean_price']=new_data['oil_price_lag'].rolling(2, min_periods=1).sum()\n",
    "new_data=new_data.dropna()"
   ]
  },
  {
   "cell_type": "code",
   "execution_count": 8,
   "metadata": {},
   "outputs": [
    {
     "data": {
      "text/plain": [
       "array([93.65, 93.6 , 93.81, 93.51, 94.75, 94.19, 94.24, 95.08, 94.38,\n",
       "       93.88, 94.82, 96.13, 96.34, 96.38, 96.56, 97.04, 97.31, 98.14,\n",
       "       98.38, 98.59, 98.72, 98.76])"
      ]
     },
     "execution_count": 8,
     "metadata": {},
     "output_type": "execute_result"
    }
   ],
   "source": [
    "split_date = '2019-05-01'\n",
    "test_value_store = new_data[split_date:] #2121\n",
    "test_value_store.iron_price.values"
   ]
  },
  {
   "cell_type": "code",
   "execution_count": 9,
   "metadata": {},
   "outputs": [],
   "source": [
    "# function for min-max normalization of Iron Ore \n",
    "min_max_scaler = sklearn.preprocessing.MinMaxScaler()\n",
    "def normalize_data(df):\n",
    "    df['oil_price'] = min_max_scaler.fit_transform(df.oil_price.values.reshape(-1,1))\n",
    "    df['oil_price_lag'] = min_max_scaler.fit_transform(df.oil_price_lag.values.reshape(-1,1))\n",
    "    df['iron_price'] = min_max_scaler.fit_transform(df.iron_price.values.reshape(-1,1))\n",
    "    df['rolling_mean_price'] = min_max_scaler.fit_transform(df.rolling_mean_price.values.reshape(-1,1))\n",
    "    return df"
   ]
  },
  {
   "cell_type": "code",
   "execution_count": 10,
   "metadata": {},
   "outputs": [
    {
     "data": {
      "text/html": [
       "<div>\n",
       "<style scoped>\n",
       "    .dataframe tbody tr th:only-of-type {\n",
       "        vertical-align: middle;\n",
       "    }\n",
       "\n",
       "    .dataframe tbody tr th {\n",
       "        vertical-align: top;\n",
       "    }\n",
       "\n",
       "    .dataframe thead th {\n",
       "        text-align: right;\n",
       "    }\n",
       "</style>\n",
       "<table border=\"1\" class=\"dataframe\">\n",
       "  <thead>\n",
       "    <tr style=\"text-align: right;\">\n",
       "      <th></th>\n",
       "      <th>iron_price</th>\n",
       "      <th>oil_price</th>\n",
       "      <th>oil_price_lag</th>\n",
       "      <th>rolling_mean_price</th>\n",
       "    </tr>\n",
       "    <tr>\n",
       "      <th>date</th>\n",
       "      <th></th>\n",
       "      <th></th>\n",
       "      <th></th>\n",
       "      <th></th>\n",
       "    </tr>\n",
       "  </thead>\n",
       "  <tbody>\n",
       "    <tr>\n",
       "      <td>2010-10-26</td>\n",
       "      <td>0.708699</td>\n",
       "      <td>0.560591</td>\n",
       "      <td>0.563332</td>\n",
       "      <td>0.170227</td>\n",
       "    </tr>\n",
       "    <tr>\n",
       "      <td>2010-10-27</td>\n",
       "      <td>0.704709</td>\n",
       "      <td>0.555110</td>\n",
       "      <td>0.560591</td>\n",
       "      <td>0.561908</td>\n",
       "    </tr>\n",
       "    <tr>\n",
       "      <td>2010-10-28</td>\n",
       "      <td>0.701383</td>\n",
       "      <td>0.562255</td>\n",
       "      <td>0.555110</td>\n",
       "      <td>0.557782</td>\n",
       "    </tr>\n",
       "    <tr>\n",
       "      <td>2010-10-29</td>\n",
       "      <td>0.724661</td>\n",
       "      <td>0.557361</td>\n",
       "      <td>0.562255</td>\n",
       "      <td>0.558617</td>\n",
       "    </tr>\n",
       "    <tr>\n",
       "      <td>2010-11-01</td>\n",
       "      <td>0.714685</td>\n",
       "      <td>0.568422</td>\n",
       "      <td>0.557361</td>\n",
       "      <td>0.559747</td>\n",
       "    </tr>\n",
       "  </tbody>\n",
       "</table>\n",
       "</div>"
      ],
      "text/plain": [
       "            iron_price  oil_price  oil_price_lag  rolling_mean_price\n",
       "date                                                                \n",
       "2010-10-26    0.708699   0.560591       0.563332            0.170227\n",
       "2010-10-27    0.704709   0.555110       0.560591            0.561908\n",
       "2010-10-28    0.701383   0.562255       0.555110            0.557782\n",
       "2010-10-29    0.724661   0.557361       0.562255            0.558617\n",
       "2010-11-01    0.714685   0.568422       0.557361            0.559747"
      ]
     },
     "execution_count": 10,
     "metadata": {},
     "output_type": "execute_result"
    }
   ],
   "source": [
    "# normalize stock\n",
    "df = new_data.copy()\n",
    "df = normalize_data(df)\n",
    "df.head()"
   ]
  },
  {
   "cell_type": "code",
   "execution_count": 11,
   "metadata": {},
   "outputs": [],
   "source": [
    "train = df[:split_date]\n",
    "test = df[split_date:]"
   ]
  },
  {
   "cell_type": "code",
   "execution_count": 12,
   "metadata": {},
   "outputs": [
    {
     "data": {
      "text/html": [
       "<div>\n",
       "<style scoped>\n",
       "    .dataframe tbody tr th:only-of-type {\n",
       "        vertical-align: middle;\n",
       "    }\n",
       "\n",
       "    .dataframe tbody tr th {\n",
       "        vertical-align: top;\n",
       "    }\n",
       "\n",
       "    .dataframe thead th {\n",
       "        text-align: right;\n",
       "    }\n",
       "</style>\n",
       "<table border=\"1\" class=\"dataframe\">\n",
       "  <thead>\n",
       "    <tr style=\"text-align: right;\">\n",
       "      <th></th>\n",
       "      <th>iron_price</th>\n",
       "      <th>oil_price</th>\n",
       "      <th>oil_price_lag</th>\n",
       "      <th>rolling_mean_price</th>\n",
       "    </tr>\n",
       "    <tr>\n",
       "      <th>date</th>\n",
       "      <th></th>\n",
       "      <th></th>\n",
       "      <th></th>\n",
       "      <th></th>\n",
       "    </tr>\n",
       "  </thead>\n",
       "  <tbody>\n",
       "    <tr>\n",
       "      <td>2019-04-25</td>\n",
       "      <td>0.363128</td>\n",
       "      <td>0.504699</td>\n",
       "      <td>0.498727</td>\n",
       "      <td>0.498158</td>\n",
       "    </tr>\n",
       "    <tr>\n",
       "      <td>2019-04-26</td>\n",
       "      <td>0.363262</td>\n",
       "      <td>0.488449</td>\n",
       "      <td>0.504699</td>\n",
       "      <td>0.501449</td>\n",
       "    </tr>\n",
       "    <tr>\n",
       "      <td>2019-04-29</td>\n",
       "      <td>0.363328</td>\n",
       "      <td>0.475626</td>\n",
       "      <td>0.488449</td>\n",
       "      <td>0.496292</td>\n",
       "    </tr>\n",
       "    <tr>\n",
       "      <td>2019-04-30</td>\n",
       "      <td>0.363794</td>\n",
       "      <td>0.483849</td>\n",
       "      <td>0.475626</td>\n",
       "      <td>0.481705</td>\n",
       "    </tr>\n",
       "    <tr>\n",
       "      <td>2019-05-01</td>\n",
       "      <td>0.366520</td>\n",
       "      <td>0.484730</td>\n",
       "      <td>0.483849</td>\n",
       "      <td>0.479397</td>\n",
       "    </tr>\n",
       "  </tbody>\n",
       "</table>\n",
       "</div>"
      ],
      "text/plain": [
       "            iron_price  oil_price  oil_price_lag  rolling_mean_price\n",
       "date                                                                \n",
       "2019-04-25    0.363128   0.504699       0.498727            0.498158\n",
       "2019-04-26    0.363262   0.488449       0.504699            0.501449\n",
       "2019-04-29    0.363328   0.475626       0.488449            0.496292\n",
       "2019-04-30    0.363794   0.483849       0.475626            0.481705\n",
       "2019-05-01    0.366520   0.484730       0.483849            0.479397"
      ]
     },
     "execution_count": 12,
     "metadata": {},
     "output_type": "execute_result"
    }
   ],
   "source": [
    "train.tail()"
   ]
  },
  {
   "cell_type": "code",
   "execution_count": 13,
   "metadata": {},
   "outputs": [
    {
     "data": {
      "text/html": [
       "<div>\n",
       "<style scoped>\n",
       "    .dataframe tbody tr th:only-of-type {\n",
       "        vertical-align: middle;\n",
       "    }\n",
       "\n",
       "    .dataframe tbody tr th {\n",
       "        vertical-align: top;\n",
       "    }\n",
       "\n",
       "    .dataframe thead th {\n",
       "        text-align: right;\n",
       "    }\n",
       "</style>\n",
       "<table border=\"1\" class=\"dataframe\">\n",
       "  <thead>\n",
       "    <tr style=\"text-align: right;\">\n",
       "      <th></th>\n",
       "      <th>iron_price</th>\n",
       "      <th>oil_price</th>\n",
       "      <th>oil_price_lag</th>\n",
       "      <th>rolling_mean_price</th>\n",
       "    </tr>\n",
       "    <tr>\n",
       "      <th>date</th>\n",
       "      <th></th>\n",
       "      <th></th>\n",
       "      <th></th>\n",
       "      <th></th>\n",
       "    </tr>\n",
       "  </thead>\n",
       "  <tbody>\n",
       "    <tr>\n",
       "      <td>2019-05-01</td>\n",
       "      <td>0.366520</td>\n",
       "      <td>0.484730</td>\n",
       "      <td>0.483849</td>\n",
       "      <td>0.479397</td>\n",
       "    </tr>\n",
       "    <tr>\n",
       "      <td>2019-05-02</td>\n",
       "      <td>0.366188</td>\n",
       "      <td>0.474745</td>\n",
       "      <td>0.484730</td>\n",
       "      <td>0.483964</td>\n",
       "    </tr>\n",
       "    <tr>\n",
       "      <td>2019-05-03</td>\n",
       "      <td>0.367584</td>\n",
       "      <td>0.471124</td>\n",
       "      <td>0.474745</td>\n",
       "      <td>0.479397</td>\n",
       "    </tr>\n",
       "    <tr>\n",
       "      <td>2019-05-06</td>\n",
       "      <td>0.365589</td>\n",
       "      <td>0.467404</td>\n",
       "      <td>0.471124</td>\n",
       "      <td>0.472570</td>\n",
       "    </tr>\n",
       "    <tr>\n",
       "      <td>2019-05-07</td>\n",
       "      <td>0.373836</td>\n",
       "      <td>0.469558</td>\n",
       "      <td>0.467404</td>\n",
       "      <td>0.468887</td>\n",
       "    </tr>\n",
       "  </tbody>\n",
       "</table>\n",
       "</div>"
      ],
      "text/plain": [
       "            iron_price  oil_price  oil_price_lag  rolling_mean_price\n",
       "date                                                                \n",
       "2019-05-01    0.366520   0.484730       0.483849            0.479397\n",
       "2019-05-02    0.366188   0.474745       0.484730            0.483964\n",
       "2019-05-03    0.367584   0.471124       0.474745            0.479397\n",
       "2019-05-06    0.365589   0.467404       0.471124            0.472570\n",
       "2019-05-07    0.373836   0.469558       0.467404            0.468887"
      ]
     },
     "execution_count": 13,
     "metadata": {},
     "output_type": "execute_result"
    }
   ],
   "source": [
    "test.head()"
   ]
  },
  {
   "cell_type": "code",
   "execution_count": 14,
   "metadata": {},
   "outputs": [
    {
     "name": "stdout",
     "output_type": "stream",
     "text": [
      "2126 22\n"
     ]
    }
   ],
   "source": [
    "print(len(train), len(test))"
   ]
  },
  {
   "cell_type": "code",
   "execution_count": 15,
   "metadata": {},
   "outputs": [
    {
     "name": "stderr",
     "output_type": "stream",
     "text": [
      "C:\\Users\\sumon\\Anaconda3\\envs\\tensorflow\\lib\\site-packages\\ipykernel_launcher.py:1: FutureWarning: Method .as_matrix will be removed in a future version. Use .values instead.\n",
      "  \"\"\"Entry point for launching an IPython kernel.\n",
      "C:\\Users\\sumon\\Anaconda3\\envs\\tensorflow\\lib\\site-packages\\ipykernel_launcher.py:2: FutureWarning: Method .as_matrix will be removed in a future version. Use .values instead.\n",
      "  \n"
     ]
    }
   ],
   "source": [
    "train_data_raw = train.as_matrix()\n",
    "test_data_raw = test.as_matrix()"
   ]
  },
  {
   "cell_type": "code",
   "execution_count": 16,
   "metadata": {},
   "outputs": [
    {
     "name": "stdout",
     "output_type": "stream",
     "text": [
      "train data shape =  (2126, 4)\n",
      "test data shape =  (22, 4)\n"
     ]
    }
   ],
   "source": [
    "print(\"train data shape = \", train_data_raw.shape)\n",
    "print(\"test data shape = \",test_data_raw.shape)"
   ]
  },
  {
   "cell_type": "code",
   "execution_count": 17,
   "metadata": {},
   "outputs": [
    {
     "data": {
      "text/plain": [
       "array([[0.70869912, 0.56059123, 0.56333203, 0.1702274 ],\n",
       "       [0.7047087 , 0.55510963, 0.56059123, 0.56190757],\n",
       "       [0.70138335, 0.56225529, 0.55510963, 0.55778203],\n",
       "       ...,\n",
       "       [0.36332801, 0.47562647, 0.48844949, 0.49629193],\n",
       "       [0.36379356, 0.48384886, 0.47562647, 0.48170522],\n",
       "       [0.36652035, 0.48472984, 0.48384886, 0.47939689]])"
      ]
     },
     "execution_count": 17,
     "metadata": {},
     "output_type": "execute_result"
    }
   ],
   "source": [
    "train_data_raw"
   ]
  },
  {
   "cell_type": "code",
   "execution_count": 18,
   "metadata": {},
   "outputs": [],
   "source": [
    "x_train = train_data_raw[:,1:] #without Iron price column of train\n",
    "y_train = train_data_raw[:,0] #Only Iron price column of train\n",
    "\n",
    "x_test = test_data_raw[:,1:] #without Iron price column of test\n",
    "y_test = test_data_raw[:,0]  #Only Iron price column of test"
   ]
  },
  {
   "cell_type": "code",
   "execution_count": 19,
   "metadata": {},
   "outputs": [
    {
     "data": {
      "text/plain": [
       "array([[0.56059123, 0.56333203, 0.1702274 ],\n",
       "       [0.55510963, 0.56059123, 0.56190757],\n",
       "       [0.56225529, 0.55510963, 0.55778203],\n",
       "       ...,\n",
       "       [0.47562647, 0.48844949, 0.49629193],\n",
       "       [0.48384886, 0.47562647, 0.48170522],\n",
       "       [0.48472984, 0.48384886, 0.47939689]])"
      ]
     },
     "execution_count": 19,
     "metadata": {},
     "output_type": "execute_result"
    }
   ],
   "source": [
    "x_train"
   ]
  },
  {
   "cell_type": "code",
   "execution_count": 20,
   "metadata": {},
   "outputs": [
    {
     "data": {
      "text/plain": [
       "array([[0.70869912, 0.56059123, 0.56333203, 0.1702274 ],\n",
       "       [0.7047087 , 0.55510963, 0.56059123, 0.56190757],\n",
       "       [0.70138335, 0.56225529, 0.55510963, 0.55778203],\n",
       "       ...,\n",
       "       [0.36332801, 0.47562647, 0.48844949, 0.49629193],\n",
       "       [0.36379356, 0.48384886, 0.47562647, 0.48170522],\n",
       "       [0.36652035, 0.48472984, 0.48384886, 0.47939689]])"
      ]
     },
     "execution_count": 20,
     "metadata": {},
     "output_type": "execute_result"
    }
   ],
   "source": [
    "train_data_raw"
   ]
  },
  {
   "cell_type": "code",
   "execution_count": 21,
   "metadata": {},
   "outputs": [],
   "source": [
    "# def denormalize(df, normalized_value): \n",
    "#     df = df['Price'].values.reshape(-1,1)\n",
    "#     print(df[:5])\n",
    "#     normalized_value = normalized_value.reshape(-1,1)\n",
    "#     #return df.shape, p.shape\n",
    "#     print(normalized_value[0:5])\n",
    "#     min_max_scaler = sklearn.preprocessing.MinMaxScaler()\n",
    "#     a = min_max_scaler.fit_transform(df)\n",
    "#     print(a[:5])\n",
    "#     new = min_max_scaler.inverse_transform(normalized_value)\n",
    "#     print(new[:10])\n",
    "#     return new\n",
    "\n",
    "# #newp = denormalize(test_value_store, pred_price)\n",
    "# newy_test = denormalize(data, y_test)"
   ]
  },
  {
   "cell_type": "code",
   "execution_count": 22,
   "metadata": {},
   "outputs": [
    {
     "data": {
      "text/plain": [
       "array([93.65, 93.6 , 93.81, 93.51, 94.75, 94.19, 94.24, 95.08, 94.38,\n",
       "       93.88, 94.82, 96.13, 96.34, 96.38, 96.56, 97.04, 97.31, 98.14,\n",
       "       98.38, 98.59, 98.72, 98.76])"
      ]
     },
     "execution_count": 22,
     "metadata": {},
     "output_type": "execute_result"
    }
   ],
   "source": [
    "test_value_store.iron_price.values"
   ]
  },
  {
   "cell_type": "code",
   "execution_count": 23,
   "metadata": {},
   "outputs": [
    {
     "name": "stdout",
     "output_type": "stream",
     "text": [
      "x_train.shape =  (2126, 3)\n",
      "y_train.shape =  (2126,)\n",
      "x_test.shape =  (22, 3)\n",
      "y_test.shape =  (22,)\n"
     ]
    }
   ],
   "source": [
    "print('x_train.shape = ',x_train.shape)\n",
    "print('y_train.shape = ', y_train.shape)\n",
    "print('x_test.shape = ', x_test.shape)\n",
    "print('y_test.shape = ',y_test.shape)"
   ]
  },
  {
   "cell_type": "code",
   "execution_count": 24,
   "metadata": {},
   "outputs": [
    {
     "data": {
      "text/plain": [
       "(22, 1, 3)"
      ]
     },
     "execution_count": 24,
     "metadata": {},
     "output_type": "execute_result"
    }
   ],
   "source": [
    "#Reshape data for (Sample,Timestep,Features) \n",
    "x_train = x_train.reshape((x_train.shape[0],1,x_train.shape[1]))\n",
    "x_test = x_test.reshape((x_test.shape[0],1,x_test.shape[1]))\n",
    "#x_forecast = x_forecast.reshape((x_forecast.shape[0],1,x_test.shape[1]))\n",
    "x_test.shape"
   ]
  },
  {
   "cell_type": "code",
   "execution_count": 25,
   "metadata": {},
   "outputs": [],
   "source": [
    "(train_dim, train_timestep , train_feat) = x_train.shape\n",
    "(test_dim, test_timestep , test_feat) = x_test.shape"
   ]
  },
  {
   "cell_type": "code",
   "execution_count": 26,
   "metadata": {},
   "outputs": [
    {
     "name": "stdout",
     "output_type": "stream",
     "text": [
      "Build Model\n",
      "Compilation Time :  0.025931835174560547\n"
     ]
    }
   ],
   "source": [
    "print(\"Build Model\")\n",
    "\"\"\"\n",
    "model = Sequential()\n",
    "\n",
    "model.add(LSTM(32, input_shape=(train_timestep,train_feat), return_sequences=True))\n",
    "model.add(Dropout(0.3))\n",
    "\n",
    "model.add(LSTM(32, input_shape=(train_timestep,train_feat), return_sequences=False))\n",
    "model.add(Dropout(0.3))\n",
    "\n",
    "model.add(Dense(16,kernel_initializer=\"uniform\",activation='relu'))        \n",
    "model.add(Dense(1,kernel_initializer=\"uniform\",activation='linear'))\n",
    "\n",
    "# adam = keras.optimizers.Adam(decay=0.2)\n",
    "\n",
    "start = time.time()\n",
    "model.compile(loss='mse',optimizer='adam', metrics=['accuracy'])\n",
    "print(\"Compilation Time : \", time.time() - start)\n",
    "\"\"\"\n",
    "model = Sequential()\n",
    "\n",
    "model.add(Bidirectional(LSTM(32, input_shape=(train_timestep,train_feat), return_sequences=False)))\n",
    "#model.add(Dropout(d))\n",
    "\n",
    "model.add(Dense(16,kernel_initializer=\"uniform\",activation='relu'))        \n",
    "model.add(Dense(1,kernel_initializer=\"uniform\",activation='linear'))\n",
    "\n",
    "# adam = keras.optimizers.Adam(decay=0.2)\n",
    "\n",
    "start = time.time()\n",
    "model.compile(loss='mse',optimizer='adam', metrics=['accuracy'])\n",
    "print(\"Compilation Time : \", time.time() - start)"
   ]
  },
  {
   "cell_type": "code",
   "execution_count": 27,
   "metadata": {},
   "outputs": [
    {
     "name": "stdout",
     "output_type": "stream",
     "text": [
      "WARNING:tensorflow:From C:\\Users\\sumon\\Anaconda3\\envs\\tensorflow\\lib\\site-packages\\keras\\backend\\tensorflow_backend.py:422: The name tf.global_variables is deprecated. Please use tf.compat.v1.global_variables instead.\n",
      "\n",
      "Epoch 1/100\n",
      "2126/2126 [==============================] - 3s 2ms/step - loss: 0.0190 - accuracy: 9.4073e-04\n",
      "Epoch 2/100\n",
      "2126/2126 [==============================] - 3s 1ms/step - loss: 0.0018 - accuracy: 9.4073e-04\n",
      "Epoch 3/100\n",
      "2126/2126 [==============================] - 3s 1ms/step - loss: 0.0019 - accuracy: 9.4073e-04\n",
      "Epoch 4/100\n",
      "2126/2126 [==============================] - 3s 1ms/step - loss: 0.0018 - accuracy: 9.4073e-04\n",
      "Epoch 5/100\n",
      "2126/2126 [==============================] - 3s 1ms/step - loss: 0.0031 - accuracy: 9.4073e-04\n",
      "Epoch 6/100\n",
      "2126/2126 [==============================] - 3s 1ms/step - loss: 0.0040 - accuracy: 9.4073e-04\n",
      "Epoch 7/100\n",
      "2126/2126 [==============================] - 3s 1ms/step - loss: 0.0049 - accuracy: 9.4073e-04\n",
      "Epoch 8/100\n",
      "2126/2126 [==============================] - 3s 1ms/step - loss: 0.0042 - accuracy: 9.4073e-04\n",
      "Epoch 9/100\n",
      "2126/2126 [==============================] - 3s 1ms/step - loss: 0.0049 - accuracy: 9.4073e-04\n",
      "Epoch 10/100\n",
      "2126/2126 [==============================] - 3s 1ms/step - loss: 0.0051 - accuracy: 9.4073e-04\n",
      "Epoch 11/100\n",
      "2126/2126 [==============================] - 3s 2ms/step - loss: 0.0071 - accuracy: 9.4073e-04\n",
      "Epoch 12/100\n",
      "2126/2126 [==============================] - 3s 1ms/step - loss: 0.0079 - accuracy: 9.4073e-04\n",
      "Epoch 13/100\n",
      "2126/2126 [==============================] - 3s 1ms/step - loss: 0.0073 - accuracy: 9.4073e-04\n",
      "Epoch 14/100\n",
      "2126/2126 [==============================] - 3s 1ms/step - loss: 0.0097 - accuracy: 9.4073e-04\n",
      "Epoch 15/100\n",
      "2126/2126 [==============================] - 3s 1ms/step - loss: 0.0108 - accuracy: 9.4073e-04\n",
      "Epoch 16/100\n",
      "2126/2126 [==============================] - 4s 2ms/step - loss: 0.0156 - accuracy: 9.4073e-04\n",
      "Epoch 17/100\n",
      "2126/2126 [==============================] - 4s 2ms/step - loss: 0.0092 - accuracy: 9.4073e-04\n",
      "Epoch 18/100\n",
      "2126/2126 [==============================] - 5s 2ms/step - loss: 0.0100 - accuracy: 9.4073e-04\n",
      "Epoch 19/100\n",
      "2126/2126 [==============================] - 3s 2ms/step - loss: 0.0100 - accuracy: 9.4073e-04\n",
      "Epoch 20/100\n",
      "2126/2126 [==============================] - 4s 2ms/step - loss: 0.0093 - accuracy: 9.4073e-04\n",
      "Epoch 21/100\n",
      "2126/2126 [==============================] - 4s 2ms/step - loss: 0.0094 - accuracy: 9.4073e-04\n",
      "Epoch 22/100\n",
      "2126/2126 [==============================] - 4s 2ms/step - loss: 0.0096 - accuracy: 9.4073e-04\n",
      "Epoch 23/100\n",
      "2126/2126 [==============================] - 4s 2ms/step - loss: 0.0081 - accuracy: 9.4073e-04\n",
      "Epoch 24/100\n",
      "2126/2126 [==============================] - 3s 2ms/step - loss: 0.0055 - accuracy: 9.4073e-04\n",
      "Epoch 25/100\n",
      "2126/2126 [==============================] - 3s 2ms/step - loss: 0.0068 - accuracy: 9.4073e-04\n",
      "Epoch 26/100\n",
      "2126/2126 [==============================] - 3s 1ms/step - loss: 0.0075 - accuracy: 9.4073e-04\n",
      "Epoch 27/100\n",
      "2126/2126 [==============================] - 3s 2ms/step - loss: 0.0072 - accuracy: 9.4073e-04\n",
      "Epoch 28/100\n",
      "2126/2126 [==============================] - 4s 2ms/step - loss: 0.0074 - accuracy: 9.4073e-04\n",
      "Epoch 29/100\n",
      "2126/2126 [==============================] - 4s 2ms/step - loss: 0.0071 - accuracy: 9.4073e-04\n",
      "Epoch 30/100\n",
      "2126/2126 [==============================] - 3s 2ms/step - loss: 0.0076 - accuracy: 9.4073e-04\n",
      "Epoch 31/100\n",
      "2126/2126 [==============================] - 3s 2ms/step - loss: 0.0071 - accuracy: 9.4073e-04\n",
      "Epoch 32/100\n",
      "2126/2126 [==============================] - 3s 1ms/step - loss: 0.0077 - accuracy: 9.4073e-04\n",
      "Epoch 33/100\n",
      "2126/2126 [==============================] - 3s 1ms/step - loss: 0.0088 - accuracy: 9.4073e-04\n",
      "Epoch 34/100\n",
      "2126/2126 [==============================] - 3s 2ms/step - loss: 0.0088 - accuracy: 9.4073e-04\n",
      "Epoch 35/100\n",
      "2126/2126 [==============================] - 3s 1ms/step - loss: 0.0086 - accuracy: 9.4073e-04\n",
      "Epoch 36/100\n",
      "2126/2126 [==============================] - 3s 1ms/step - loss: 0.0084 - accuracy: 9.4073e-04\n",
      "Epoch 37/100\n",
      "2126/2126 [==============================] - 3s 2ms/step - loss: 0.0079 - accuracy: 9.4073e-04\n",
      "Epoch 38/100\n",
      "2126/2126 [==============================] - 4s 2ms/step - loss: 0.0061 - accuracy: 9.4073e-04\n",
      "Epoch 39/100\n",
      "2126/2126 [==============================] - 3s 2ms/step - loss: 0.0044 - accuracy: 9.4073e-04\n",
      "Epoch 40/100\n",
      "2126/2126 [==============================] - 4s 2ms/step - loss: 0.0051 - accuracy: 9.4073e-04\n",
      "Epoch 41/100\n",
      "2126/2126 [==============================] - 5s 2ms/step - loss: 0.0053 - accuracy: 9.4073e-04\n",
      "Epoch 42/100\n",
      "2126/2126 [==============================] - 4s 2ms/step - loss: 0.0056 - accuracy: 9.4073e-04\n",
      "Epoch 43/100\n",
      "2126/2126 [==============================] - 3s 2ms/step - loss: 0.0056 - accuracy: 9.4073e-04\n",
      "Epoch 44/100\n",
      "2126/2126 [==============================] - 4s 2ms/step - loss: 0.0059 - accuracy: 9.4073e-04\n",
      "Epoch 45/100\n",
      "2126/2126 [==============================] - 3s 2ms/step - loss: 0.0057 - accuracy: 9.4073e-04\n",
      "Epoch 46/100\n",
      "2126/2126 [==============================] - 3s 2ms/step - loss: 0.0060 - accuracy: 9.4073e-04\n",
      "Epoch 47/100\n",
      "2126/2126 [==============================] - 3s 2ms/step - loss: 0.0062 - accuracy: 9.4073e-04\n",
      "Epoch 48/100\n",
      "2126/2126 [==============================] - 3s 2ms/step - loss: 0.0062 - accuracy: 9.4073e-04\n",
      "Epoch 49/100\n",
      "2126/2126 [==============================] - 3s 2ms/step - loss: 0.0060 - accuracy: 9.4073e-04\n",
      "Epoch 50/100\n",
      "2126/2126 [==============================] - 3s 2ms/step - loss: 0.0063 - accuracy: 9.4073e-04\n",
      "Epoch 51/100\n",
      "2126/2126 [==============================] - 3s 2ms/step - loss: 0.0066 - accuracy: 9.4073e-04\n",
      "Epoch 52/100\n",
      "2126/2126 [==============================] - 3s 2ms/step - loss: 0.0068 - accuracy: 9.4073e-04\n",
      "Epoch 53/100\n",
      "2126/2126 [==============================] - 3s 2ms/step - loss: 0.0070 - accuracy: 9.4073e-04\n",
      "Epoch 54/100\n",
      "2126/2126 [==============================] - 3s 2ms/step - loss: 0.0071 - accuracy: 9.4073e-04\n",
      "Epoch 55/100\n",
      "2126/2126 [==============================] - 3s 2ms/step - loss: 0.0073 - accuracy: 9.4073e-04\n",
      "Epoch 56/100\n",
      "2126/2126 [==============================] - 3s 2ms/step - loss: 0.0074 - accuracy: 9.4073e-04\n",
      "Epoch 57/100\n",
      "2126/2126 [==============================] - 3s 2ms/step - loss: 0.0075 - accuracy: 9.4073e-04\n",
      "Epoch 58/100\n",
      "2126/2126 [==============================] - 3s 2ms/step - loss: 0.0076 - accuracy: 9.4073e-04\n",
      "Epoch 59/100\n",
      "2126/2126 [==============================] - 3s 2ms/step - loss: 0.0074 - accuracy: 9.4073e-04\n",
      "Epoch 60/100\n",
      "2126/2126 [==============================] - 3s 2ms/step - loss: 0.0065 - accuracy: 9.4073e-04\n",
      "Epoch 61/100\n",
      "2126/2126 [==============================] - 3s 2ms/step - loss: 0.0067 - accuracy: 9.4073e-04\n",
      "Epoch 62/100\n",
      "2126/2126 [==============================] - 3s 2ms/step - loss: 0.0068 - accuracy: 9.4073e-04\n",
      "Epoch 63/100\n",
      "2126/2126 [==============================] - 3s 2ms/step - loss: 0.0069 - accuracy: 9.4073e-04\n",
      "Epoch 64/100\n",
      "2126/2126 [==============================] - 4s 2ms/step - loss: 0.0071 - accuracy: 9.4073e-04\n",
      "Epoch 65/100\n",
      "2126/2126 [==============================] - 4s 2ms/step - loss: 0.0072 - accuracy: 9.4073e-04\n",
      "Epoch 66/100\n",
      "2126/2126 [==============================] - 3s 2ms/step - loss: 0.0073 - accuracy: 9.4073e-04\n",
      "Epoch 67/100\n",
      "2126/2126 [==============================] - 3s 1ms/step - loss: 0.0074 - accuracy: 9.4073e-04\n",
      "Epoch 68/100\n",
      "2126/2126 [==============================] - 3s 2ms/step - loss: 0.0075 - accuracy: 9.4073e-04\n",
      "Epoch 69/100\n",
      "2126/2126 [==============================] - ETA: 0s - loss: 0.0076 - accuracy: 9.4742e- - 3s 2ms/step - loss: 0.0076 - accuracy: 9.4073e-04\n",
      "Epoch 70/100\n",
      "2126/2126 [==============================] - 3s 2ms/step - loss: 0.0073 - accuracy: 9.4073e-04\n",
      "Epoch 71/100\n",
      "2126/2126 [==============================] - 3s 2ms/step - loss: 0.0068 - accuracy: 9.4073e-04\n",
      "Epoch 72/100\n",
      "2126/2126 [==============================] - 3s 2ms/step - loss: 0.0073 - accuracy: 9.4073e-04\n",
      "Epoch 73/100\n",
      "2126/2126 [==============================] - 3s 2ms/step - loss: 0.0070 - accuracy: 9.4073e-04\n",
      "Epoch 74/100\n"
     ]
    },
    {
     "name": "stdout",
     "output_type": "stream",
     "text": [
      "2126/2126 [==============================] - 3s 2ms/step - loss: 0.0068 - accuracy: 9.4073e-04\n",
      "Epoch 75/100\n",
      "2126/2126 [==============================] - 3s 1ms/step - loss: 0.0068 - accuracy: 9.4073e-04\n",
      "Epoch 76/100\n",
      "2126/2126 [==============================] - 3s 2ms/step - loss: 0.0065 - accuracy: 9.4073e-04\n",
      "Epoch 77/100\n",
      "2126/2126 [==============================] - 3s 1ms/step - loss: 0.0068 - accuracy: 9.4073e-04\n",
      "Epoch 78/100\n",
      "2126/2126 [==============================] - 3s 2ms/step - loss: 0.0066 - accuracy: 9.4073e-04\n",
      "Epoch 79/100\n",
      "2126/2126 [==============================] - 3s 2ms/step - loss: 0.0061 - accuracy: 9.4073e-04\n",
      "Epoch 80/100\n",
      "2126/2126 [==============================] - 4s 2ms/step - loss: 0.0060 - accuracy: 9.4073e-04\n",
      "Epoch 81/100\n",
      "2126/2126 [==============================] - 4s 2ms/step - loss: 0.0060 - accuracy: 9.4073e-04\n",
      "Epoch 82/100\n",
      "2126/2126 [==============================] - 3s 2ms/step - loss: 0.0059 - accuracy: 9.4073e-04\n",
      "Epoch 83/100\n",
      "2126/2126 [==============================] - 3s 1ms/step - loss: 0.0059 - accuracy: 9.4073e-04\n",
      "Epoch 84/100\n",
      "2126/2126 [==============================] - 3s 2ms/step - loss: 0.0059 - accuracy: 9.4073e-04\n",
      "Epoch 85/100\n",
      "2126/2126 [==============================] - 3s 2ms/step - loss: 0.0061 - accuracy: 9.4073e-04\n",
      "Epoch 86/100\n",
      "2126/2126 [==============================] - 3s 2ms/step - loss: 0.0063 - accuracy: 9.4073e-04\n",
      "Epoch 87/100\n",
      "2126/2126 [==============================] - 3s 1ms/step - loss: 0.0064 - accuracy: 9.4073e-04\n",
      "Epoch 88/100\n",
      "2126/2126 [==============================] - 3s 1ms/step - loss: 0.0061 - accuracy: 9.4073e-04\n",
      "Epoch 89/100\n",
      "2126/2126 [==============================] - 3s 1ms/step - loss: 0.0058 - accuracy: 9.4073e-04\n",
      "Epoch 90/100\n",
      "2126/2126 [==============================] - 3s 1ms/step - loss: 0.0055 - accuracy: 9.4073e-04\n",
      "Epoch 91/100\n",
      "2126/2126 [==============================] - 3s 1ms/step - loss: 0.0055 - accuracy: 9.4073e-04\n",
      "Epoch 92/100\n",
      "2126/2126 [==============================] - 3s 1ms/step - loss: 0.0057 - accuracy: 9.4073e-04\n",
      "Epoch 93/100\n",
      "2126/2126 [==============================] - 3s 1ms/step - loss: 0.0055 - accuracy: 9.4073e-04\n",
      "Epoch 94/100\n",
      "2126/2126 [==============================] - 3s 1ms/step - loss: 0.0060 - accuracy: 9.4073e-04\n",
      "Epoch 95/100\n",
      "2126/2126 [==============================] - 3s 1ms/step - loss: 0.0062 - accuracy: 9.4073e-04\n",
      "Epoch 96/100\n",
      "2126/2126 [==============================] - 3s 2ms/step - loss: 0.0063 - accuracy: 9.4073e-04\n",
      "Epoch 97/100\n",
      "2126/2126 [==============================] - 3s 1ms/step - loss: 0.0056 - accuracy: 9.4073e-04\n",
      "Epoch 98/100\n",
      "2126/2126 [==============================] - 3s 2ms/step - loss: 0.0053 - accuracy: 9.4073e-04\n",
      "Epoch 99/100\n",
      "2126/2126 [==============================] - 3s 1ms/step - loss: 0.0051 - accuracy: 9.4073e-04\n",
      "Epoch 100/100\n",
      "2126/2126 [==============================] - 3s 1ms/step - loss: 0.0051 - accuracy: 9.4073e-04\n"
     ]
    }
   ],
   "source": [
    "#Fit model with history to check for overfitting\n",
    "history = model.fit(x_train,y_train,batch_size = 1,epochs=100,shuffle=False)"
   ]
  },
  {
   "cell_type": "code",
   "execution_count": 28,
   "metadata": {},
   "outputs": [
    {
     "name": "stdout",
     "output_type": "stream",
     "text": [
      "Model: \"sequential_1\"\n",
      "_________________________________________________________________\n",
      "Layer (type)                 Output Shape              Param #   \n",
      "=================================================================\n",
      "bidirectional_1 (Bidirection (None, 64)                9216      \n",
      "_________________________________________________________________\n",
      "dense_1 (Dense)              (None, 16)                1040      \n",
      "_________________________________________________________________\n",
      "dense_2 (Dense)              (None, 1)                 17        \n",
      "=================================================================\n",
      "Total params: 10,273\n",
      "Trainable params: 10,273\n",
      "Non-trainable params: 0\n",
      "_________________________________________________________________\n"
     ]
    }
   ],
   "source": [
    "model.summary()"
   ]
  },
  {
   "cell_type": "code",
   "execution_count": 29,
   "metadata": {},
   "outputs": [
    {
     "name": "stdout",
     "output_type": "stream",
     "text": [
      "Saved model to disk\n"
     ]
    }
   ],
   "source": [
    "# serialize model to JSON\n",
    "model_json = model.to_json()\n",
    "with open(\"model-weight/model.json\", \"w\") as json_file:\n",
    "    json_file.write(model_json)\n",
    "# serialize weights to HDF5\n",
    "model.save_weights(\"model-weight/model.h5\")\n",
    "print(\"Saved model to disk\")"
   ]
  },
  {
   "cell_type": "code",
   "execution_count": 30,
   "metadata": {},
   "outputs": [
    {
     "name": "stdout",
     "output_type": "stream",
     "text": [
      "Loaded model from disk\n"
     ]
    }
   ],
   "source": [
    "# load json and create model\n",
    "from keras.models import model_from_json\n",
    "json_file = open('model-weight/model.json', 'r')\n",
    "loaded_model_json = json_file.read()\n",
    "json_file.close()\n",
    "model = model_from_json(loaded_model_json)\n",
    "# load weights into new model\n",
    "model.load_weights(\"model-weight/model.h5\")\n",
    "print(\"Loaded model from disk\")\n",
    " \n",
    "# evaluate loaded model on test data\n",
    "model.compile(loss='mse',optimizer='adam', metrics=['accuracy'])"
   ]
  },
  {
   "cell_type": "code",
   "execution_count": 31,
   "metadata": {},
   "outputs": [
    {
     "name": "stdout",
     "output_type": "stream",
     "text": [
      "22/22 [==============================] - 0s 6ms/step\n"
     ]
    }
   ],
   "source": [
    "pred_price = model.predict(x_test,batch_size=1,verbose=1)"
   ]
  },
  {
   "cell_type": "code",
   "execution_count": 32,
   "metadata": {},
   "outputs": [
    {
     "data": {
      "text/plain": [
       "array([[0.34834325],\n",
       "       [0.34788537],\n",
       "       [0.34854817],\n",
       "       [0.34917456],\n",
       "       [0.3495742 ],\n",
       "       [0.34950733],\n",
       "       [0.34961796],\n",
       "       [0.35019928],\n",
       "       [0.34986526],\n",
       "       [0.34901413],\n",
       "       [0.349171  ],\n",
       "       [0.3490458 ],\n",
       "       [0.34759963],\n",
       "       [0.3469398 ],\n",
       "       [0.3471362 ],\n",
       "       [0.34783357],\n",
       "       [0.3483379 ],\n",
       "       [0.348773  ],\n",
       "       [0.35029373],\n",
       "       [0.34998783],\n",
       "       [0.34904882],\n",
       "       [0.3460315 ]], dtype=float32)"
      ]
     },
     "execution_count": 32,
     "metadata": {},
     "output_type": "execute_result"
    }
   ],
   "source": [
    "pred_price"
   ]
  },
  {
   "cell_type": "code",
   "execution_count": 33,
   "metadata": {},
   "outputs": [],
   "source": [
    "def denormalize(df, normalized_value): \n",
    "    df = df['Price'].values.reshape(-1,1)\n",
    "    normalized_value = normalized_value.reshape(-1,1)\n",
    "    #return df.shape, p.shape\n",
    "    min_max_scaler = sklearn.preprocessing.MinMaxScaler()\n",
    "    a = min_max_scaler.fit_transform(df)\n",
    "    new = min_max_scaler.inverse_transform(normalized_value)\n",
    "    return new\n",
    "\n",
    "newp = denormalize(data, pred_price)\n",
    "newy_test = denormalize(data, y_test)"
   ]
  },
  {
   "cell_type": "code",
   "execution_count": 34,
   "metadata": {},
   "outputs": [
    {
     "data": {
      "text/plain": [
       "array([93.65, 93.6 , 93.81, 93.51, 94.75, 94.19, 94.24, 95.08, 94.38,\n",
       "       93.88, 94.82, 96.13, 96.34, 96.38, 96.56, 97.04, 97.31, 98.14,\n",
       "       98.38, 98.59, 98.72, 98.76])"
      ]
     },
     "execution_count": 34,
     "metadata": {},
     "output_type": "execute_result"
    }
   ],
   "source": [
    "test_value_store.iron_price.values"
   ]
  },
  {
   "cell_type": "code",
   "execution_count": 35,
   "metadata": {},
   "outputs": [
    {
     "name": "stdout",
     "output_type": "stream",
     "text": [
      "Train Score: 0.08597 MSE (0.29 RMSE)\n",
      "Test Score: 0.00120 MSE (0.03 RMSE)\n"
     ]
    },
    {
     "data": {
      "text/plain": [
       "(0.08596533427143299, 0.0011989730410277843)"
      ]
     },
     "execution_count": 35,
     "metadata": {},
     "output_type": "execute_result"
    }
   ],
   "source": [
    "def model_score(model, x_train, y_train, x_test, y_test):\n",
    "    trainScore = model.evaluate(x_train, y_train, verbose=0)\n",
    "    print('Train Score: %.5f MSE (%.2f RMSE)' % (trainScore[0], math.sqrt(trainScore[0])))\n",
    "\n",
    "    testScore = model.evaluate(x_test, y_test, verbose=0)\n",
    "    print('Test Score: %.5f MSE (%.2f RMSE)' % (testScore[0], math.sqrt(testScore[0])))\n",
    "    return trainScore[0], testScore[0]\n",
    "\n",
    "\n",
    "model_score(model, x_train, y_train, x_test, y_test)"
   ]
  },
  {
   "cell_type": "code",
   "execution_count": 36,
   "metadata": {},
   "outputs": [],
   "source": [
    "act_pred = pd.concat([pd.DataFrame(test_value_store.oil_price.values),pd.DataFrame(newy_test),pd.DataFrame(newp)], axis=1) \n",
    "act_pred.columns = ['Actual_Oil_Price','Actual_Iron_Price','Predicted_Iron_Price']"
   ]
  },
  {
   "cell_type": "code",
   "execution_count": 37,
   "metadata": {},
   "outputs": [],
   "source": [
    "act_pred['date'] = test_value_store.index"
   ]
  },
  {
   "cell_type": "code",
   "execution_count": 38,
   "metadata": {},
   "outputs": [
    {
     "data": {
      "text/html": [
       "<div>\n",
       "<style scoped>\n",
       "    .dataframe tbody tr th:only-of-type {\n",
       "        vertical-align: middle;\n",
       "    }\n",
       "\n",
       "    .dataframe tbody tr th {\n",
       "        vertical-align: top;\n",
       "    }\n",
       "\n",
       "    .dataframe thead th {\n",
       "        text-align: right;\n",
       "    }\n",
       "</style>\n",
       "<table border=\"1\" class=\"dataframe\">\n",
       "  <thead>\n",
       "    <tr style=\"text-align: right;\">\n",
       "      <th></th>\n",
       "      <th>Actual_Oil_Price</th>\n",
       "      <th>Actual_Iron_Price</th>\n",
       "      <th>Predicted_Iron_Price</th>\n",
       "    </tr>\n",
       "    <tr>\n",
       "      <th>date</th>\n",
       "      <th></th>\n",
       "      <th></th>\n",
       "      <th></th>\n",
       "    </tr>\n",
       "  </thead>\n",
       "  <tbody>\n",
       "    <tr>\n",
       "      <td>2019-05-01</td>\n",
       "      <td>72.00</td>\n",
       "      <td>93.65</td>\n",
       "      <td>90.916885</td>\n",
       "    </tr>\n",
       "    <tr>\n",
       "      <td>2019-05-02</td>\n",
       "      <td>70.98</td>\n",
       "      <td>93.60</td>\n",
       "      <td>90.848045</td>\n",
       "    </tr>\n",
       "    <tr>\n",
       "      <td>2019-05-03</td>\n",
       "      <td>70.61</td>\n",
       "      <td>93.81</td>\n",
       "      <td>90.947701</td>\n",
       "    </tr>\n",
       "    <tr>\n",
       "      <td>2019-05-06</td>\n",
       "      <td>70.23</td>\n",
       "      <td>93.51</td>\n",
       "      <td>91.041885</td>\n",
       "    </tr>\n",
       "    <tr>\n",
       "      <td>2019-05-07</td>\n",
       "      <td>70.45</td>\n",
       "      <td>94.75</td>\n",
       "      <td>91.101974</td>\n",
       "    </tr>\n",
       "    <tr>\n",
       "      <td>2019-05-08</td>\n",
       "      <td>69.88</td>\n",
       "      <td>94.19</td>\n",
       "      <td>91.091919</td>\n",
       "    </tr>\n",
       "    <tr>\n",
       "      <td>2019-05-09</td>\n",
       "      <td>69.66</td>\n",
       "      <td>94.24</td>\n",
       "      <td>91.108551</td>\n",
       "    </tr>\n",
       "    <tr>\n",
       "      <td>2019-05-10</td>\n",
       "      <td>70.66</td>\n",
       "      <td>95.08</td>\n",
       "      <td>91.195961</td>\n",
       "    </tr>\n",
       "    <tr>\n",
       "      <td>2019-05-13</td>\n",
       "      <td>71.21</td>\n",
       "      <td>94.38</td>\n",
       "      <td>91.145737</td>\n",
       "    </tr>\n",
       "    <tr>\n",
       "      <td>2019-05-14</td>\n",
       "      <td>70.66</td>\n",
       "      <td>93.88</td>\n",
       "      <td>91.017769</td>\n",
       "    </tr>\n",
       "    <tr>\n",
       "      <td>2019-05-15</td>\n",
       "      <td>71.26</td>\n",
       "      <td>94.82</td>\n",
       "      <td>91.041359</td>\n",
       "    </tr>\n",
       "    <tr>\n",
       "      <td>2019-05-16</td>\n",
       "      <td>72.61</td>\n",
       "      <td>96.13</td>\n",
       "      <td>91.022522</td>\n",
       "    </tr>\n",
       "    <tr>\n",
       "      <td>2019-05-17</td>\n",
       "      <td>72.57</td>\n",
       "      <td>96.34</td>\n",
       "      <td>90.805077</td>\n",
       "    </tr>\n",
       "    <tr>\n",
       "      <td>2019-05-20</td>\n",
       "      <td>72.47</td>\n",
       "      <td>96.38</td>\n",
       "      <td>90.705864</td>\n",
       "    </tr>\n",
       "    <tr>\n",
       "      <td>2019-05-21</td>\n",
       "      <td>71.71</td>\n",
       "      <td>96.56</td>\n",
       "      <td>90.735397</td>\n",
       "    </tr>\n",
       "    <tr>\n",
       "      <td>2019-05-22</td>\n",
       "      <td>71.03</td>\n",
       "      <td>97.04</td>\n",
       "      <td>90.840256</td>\n",
       "    </tr>\n",
       "    <tr>\n",
       "      <td>2019-05-23</td>\n",
       "      <td>68.56</td>\n",
       "      <td>97.31</td>\n",
       "      <td>90.916084</td>\n",
       "    </tr>\n",
       "    <tr>\n",
       "      <td>2019-05-24</td>\n",
       "      <td>67.40</td>\n",
       "      <td>98.14</td>\n",
       "      <td>90.981506</td>\n",
       "    </tr>\n",
       "    <tr>\n",
       "      <td>2019-05-28</td>\n",
       "      <td>68.84</td>\n",
       "      <td>98.38</td>\n",
       "      <td>91.210167</td>\n",
       "    </tr>\n",
       "    <tr>\n",
       "      <td>2019-05-29</td>\n",
       "      <td>67.75</td>\n",
       "      <td>98.59</td>\n",
       "      <td>91.164169</td>\n",
       "    </tr>\n",
       "    <tr>\n",
       "      <td>2019-05-30</td>\n",
       "      <td>67.10</td>\n",
       "      <td>98.72</td>\n",
       "      <td>91.022980</td>\n",
       "    </tr>\n",
       "    <tr>\n",
       "      <td>2019-05-31</td>\n",
       "      <td>64.15</td>\n",
       "      <td>98.76</td>\n",
       "      <td>90.569290</td>\n",
       "    </tr>\n",
       "  </tbody>\n",
       "</table>\n",
       "</div>"
      ],
      "text/plain": [
       "            Actual_Oil_Price  Actual_Iron_Price  Predicted_Iron_Price\n",
       "date                                                                 \n",
       "2019-05-01             72.00              93.65             90.916885\n",
       "2019-05-02             70.98              93.60             90.848045\n",
       "2019-05-03             70.61              93.81             90.947701\n",
       "2019-05-06             70.23              93.51             91.041885\n",
       "2019-05-07             70.45              94.75             91.101974\n",
       "2019-05-08             69.88              94.19             91.091919\n",
       "2019-05-09             69.66              94.24             91.108551\n",
       "2019-05-10             70.66              95.08             91.195961\n",
       "2019-05-13             71.21              94.38             91.145737\n",
       "2019-05-14             70.66              93.88             91.017769\n",
       "2019-05-15             71.26              94.82             91.041359\n",
       "2019-05-16             72.61              96.13             91.022522\n",
       "2019-05-17             72.57              96.34             90.805077\n",
       "2019-05-20             72.47              96.38             90.705864\n",
       "2019-05-21             71.71              96.56             90.735397\n",
       "2019-05-22             71.03              97.04             90.840256\n",
       "2019-05-23             68.56              97.31             90.916084\n",
       "2019-05-24             67.40              98.14             90.981506\n",
       "2019-05-28             68.84              98.38             91.210167\n",
       "2019-05-29             67.75              98.59             91.164169\n",
       "2019-05-30             67.10              98.72             91.022980\n",
       "2019-05-31             64.15              98.76             90.569290"
      ]
     },
     "execution_count": 38,
     "metadata": {},
     "output_type": "execute_result"
    }
   ],
   "source": [
    "act_pred = act_pred.set_index('date')\n",
    "act_pred"
   ]
  },
  {
   "cell_type": "code",
   "execution_count": 39,
   "metadata": {},
   "outputs": [],
   "source": [
    "#test_value_store"
   ]
  },
  {
   "cell_type": "code",
   "execution_count": 40,
   "metadata": {},
   "outputs": [
    {
     "data": {
      "text/plain": [
       "<matplotlib.axes._subplots.AxesSubplot at 0x2c67c4ab508>"
      ]
     },
     "execution_count": 40,
     "metadata": {},
     "output_type": "execute_result"
    },
    {
     "data": {
      "image/png": "[encoded data removed]",
      "text/plain": [
       "<Figure size 432x288 with 1 Axes>"
      ]
     },
     "metadata": {
      "needs_background": "light"
     },
     "output_type": "display_data"
    }
   ],
   "source": [
    "act_pred.plot()"
   ]
  },
  {
   "cell_type": "code",
   "execution_count": 41,
   "metadata": {},
   "outputs": [
    {
     "name": "stdout",
     "output_type": "stream",
     "text": [
      "{'mape': 0.050317601473416636, 'me': -4.855859139182351, 'mae': 4.855859139182351, 'mpe': -0.050317601473416636}\n"
     ]
    }
   ],
   "source": [
    "def perd_accuracy(pred, actual):\n",
    "    mape=np.mean(np.abs(pred-actual)/np.abs(actual))# MAPE\n",
    "    me=np.mean(pred-actual)# ME\n",
    "    mae=np.mean(np.abs(pred-actual))# MAE\n",
    "    mpe=np.mean((pred-actual)/actual)# MPE\n",
    "    return({'mape':mape,'me':me,'mae': mae,'mpe': mpe})\n",
    "print(perd_accuracy(act_pred.Predicted_Iron_Price.values,act_pred.Actual_Iron_Price.values))"
   ]
  },
  {
   "cell_type": "code",
   "execution_count": 43,
   "metadata": {},
   "outputs": [],
   "source": [
    "# In normalize condition\n",
    "# new_df = pd.DataFrame(columns=['actual_price','predict_price'])\n",
    "# new_df['actual_price'] = act_pred['Actual'].values\n",
    "# new_df['predict_price'] = act_pred['Predicted'].values\n",
    "# new_df.plot(figsize=(15,5))\n",
    "# plt.ylabel(\"Price\")"
   ]
  },
  {
   "cell_type": "code",
   "execution_count": null,
   "metadata": {},
   "outputs": [],
   "source": []
  }
 ],
 "metadata": {
  "kernelspec": {
   "display_name": "Python 3",
   "language": "python",
   "name": "python3"
  },
  "language_info": {
   "codemirror_mode": {
    "name": "ipython",
    "version": 3
   },
   "file_extension": ".py",
   "mimetype": "text/x-python",
   "name": "python",
   "nbconvert_exporter": "python",
   "pygments_lexer": "ipython3",
   "version": "3.7.4"
  }
 },
 "nbformat": 4,
 "nbformat_minor": 2
}
