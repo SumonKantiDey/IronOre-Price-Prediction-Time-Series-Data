{
 "cells": [
  {
   "cell_type": "code",
   "execution_count": 1,
   "metadata": {},
   "outputs": [
    {
     "name": "stderr",
     "output_type": "stream",
     "text": [
      "Using TensorFlow backend.\n"
     ]
    }
   ],
   "source": [
    "import numpy as np\n",
    "import matplotlib.pyplot as plt\n",
    "%matplotlib inline\n",
    "from sklearn.linear_model import LinearRegression \n",
    "import matplotlib.pylab as pylab\n",
    "import math,time\n",
    "import sklearn\n",
    "import sklearn.preprocessing\n",
    "import datetime\n",
    "import os\n",
    "import matplotlib.pyplot as plt\n",
    "import keras\n",
    "from keras.models import Sequential\n",
    "from keras.layers import LSTM\n",
    "from keras.layers.core import Dense, Dropout, Activation\n",
    "from sklearn.preprocessing import MinMaxScaler\n",
    "from statsmodels.graphics.tsaplots import plot_pacf, plot_acf\n",
    "from keras.layers import Bidirectional\n",
    "test_set_size_percentage = 20 \n",
    "import pandas as pd\n",
    "from pandas import read_csv\n",
    "from sklearn.metrics import r2_score,mean_squared_error "
   ]
  },
  {
   "cell_type": "code",
   "execution_count": 2,
   "metadata": {},
   "outputs": [],
   "source": [
    "data=pd.read_csv('dataset/iron_oildaily.csv',parse_dates=['date'])"
   ]
  },
  {
   "cell_type": "code",
   "execution_count": 3,
   "metadata": {},
   "outputs": [],
   "source": [
    "data = data.dropna()"
   ]
  },
  {
   "cell_type": "code",
   "execution_count": 4,
   "metadata": {},
   "outputs": [],
   "source": [
    "data = data.reset_index(drop = True)"
   ]
  },
  {
   "cell_type": "code",
   "execution_count": 5,
   "metadata": {},
   "outputs": [],
   "source": [
    "new_data = pd.DataFrame(columns=['date','iron_price','oil_price'])\n",
    "new_data['date'] = data.date\n",
    "new_data['iron_price'] = data.Price\n",
    "new_data['oil_price'] = data.oildata"
   ]
  },
  {
   "cell_type": "code",
   "execution_count": 6,
   "metadata": {},
   "outputs": [
    {
     "data": {
      "text/html": [
       "<div>\n",
       "<style scoped>\n",
       "    .dataframe tbody tr th:only-of-type {\n",
       "        vertical-align: middle;\n",
       "    }\n",
       "\n",
       "    .dataframe tbody tr th {\n",
       "        vertical-align: top;\n",
       "    }\n",
       "\n",
       "    .dataframe thead th {\n",
       "        text-align: right;\n",
       "    }\n",
       "</style>\n",
       "<table border=\"1\" class=\"dataframe\">\n",
       "  <thead>\n",
       "    <tr style=\"text-align: right;\">\n",
       "      <th></th>\n",
       "      <th>date</th>\n",
       "      <th>iron_price</th>\n",
       "      <th>oil_price</th>\n",
       "    </tr>\n",
       "  </thead>\n",
       "  <tbody>\n",
       "    <tr>\n",
       "      <th>0</th>\n",
       "      <td>2010-10-25</td>\n",
       "      <td>145.0</td>\n",
       "      <td>80.03</td>\n",
       "    </tr>\n",
       "    <tr>\n",
       "      <th>1</th>\n",
       "      <td>2010-10-26</td>\n",
       "      <td>145.1</td>\n",
       "      <td>79.75</td>\n",
       "    </tr>\n",
       "    <tr>\n",
       "      <th>2</th>\n",
       "      <td>2010-10-27</td>\n",
       "      <td>144.5</td>\n",
       "      <td>79.19</td>\n",
       "    </tr>\n",
       "    <tr>\n",
       "      <th>3</th>\n",
       "      <td>2010-10-28</td>\n",
       "      <td>144.0</td>\n",
       "      <td>79.92</td>\n",
       "    </tr>\n",
       "    <tr>\n",
       "      <th>4</th>\n",
       "      <td>2010-10-29</td>\n",
       "      <td>147.5</td>\n",
       "      <td>79.42</td>\n",
       "    </tr>\n",
       "  </tbody>\n",
       "</table>\n",
       "</div>"
      ],
      "text/plain": [
       "        date  iron_price  oil_price\n",
       "0 2010-10-25       145.0      80.03\n",
       "1 2010-10-26       145.1      79.75\n",
       "2 2010-10-27       144.5      79.19\n",
       "3 2010-10-28       144.0      79.92\n",
       "4 2010-10-29       147.5      79.42"
      ]
     },
     "execution_count": 6,
     "metadata": {},
     "output_type": "execute_result"
    }
   ],
   "source": [
    "new_data.head()"
   ]
  },
  {
   "cell_type": "code",
   "execution_count": 7,
   "metadata": {},
   "outputs": [],
   "source": [
    "#data['Price'].plot()\n",
    "new_data['oil_price_lag']=new_data['oil_price'].shift(1)\n",
    "new_data=new_data.set_index('date')\n",
    "new_data['rolling_mean_price']=new_data['oil_price_lag'].rolling(2, min_periods=1).sum()\n",
    "new_data=new_data.dropna()"
   ]
  },
  {
   "cell_type": "code",
   "execution_count": 8,
   "metadata": {},
   "outputs": [
    {
     "data": {
      "text/plain": [
       "array([93.65, 93.6 , 93.81, 93.51, 94.75, 94.19, 94.24, 95.08, 94.38,\n",
       "       93.88, 94.82, 96.13, 96.34, 96.38, 96.56, 97.04, 97.31, 98.14,\n",
       "       98.38, 98.59, 98.72, 98.76])"
      ]
     },
     "execution_count": 8,
     "metadata": {},
     "output_type": "execute_result"
    }
   ],
   "source": [
    "split_date = '2019-05-01'\n",
    "test_value_store = new_data[split_date:] #2121\n",
    "test_value_store.iron_price.values"
   ]
  },
  {
   "cell_type": "code",
   "execution_count": 9,
   "metadata": {},
   "outputs": [],
   "source": [
    "# function for min-max normalization of Iron Ore \n",
    "min_max_scaler = sklearn.preprocessing.MinMaxScaler()\n",
    "def normalize_data(df):\n",
    "    df['oil_price'] = min_max_scaler.fit_transform(df.oil_price.values.reshape(-1,1))\n",
    "    df['oil_price_lag'] = min_max_scaler.fit_transform(df.oil_price_lag.values.reshape(-1,1))\n",
    "    df['iron_price'] = min_max_scaler.fit_transform(df.iron_price.values.reshape(-1,1))\n",
    "    df['rolling_mean_price'] = min_max_scaler.fit_transform(df.rolling_mean_price.values.reshape(-1,1))\n",
    "    return df"
   ]
  },
  {
   "cell_type": "code",
   "execution_count": 10,
   "metadata": {},
   "outputs": [
    {
     "data": {
      "text/html": [
       "<div>\n",
       "<style scoped>\n",
       "    .dataframe tbody tr th:only-of-type {\n",
       "        vertical-align: middle;\n",
       "    }\n",
       "\n",
       "    .dataframe tbody tr th {\n",
       "        vertical-align: top;\n",
       "    }\n",
       "\n",
       "    .dataframe thead th {\n",
       "        text-align: right;\n",
       "    }\n",
       "</style>\n",
       "<table border=\"1\" class=\"dataframe\">\n",
       "  <thead>\n",
       "    <tr style=\"text-align: right;\">\n",
       "      <th></th>\n",
       "      <th>iron_price</th>\n",
       "      <th>oil_price</th>\n",
       "      <th>oil_price_lag</th>\n",
       "      <th>rolling_mean_price</th>\n",
       "    </tr>\n",
       "    <tr>\n",
       "      <th>date</th>\n",
       "      <th></th>\n",
       "      <th></th>\n",
       "      <th></th>\n",
       "      <th></th>\n",
       "    </tr>\n",
       "  </thead>\n",
       "  <tbody>\n",
       "    <tr>\n",
       "      <th>2010-10-26</th>\n",
       "      <td>0.708699</td>\n",
       "      <td>0.560591</td>\n",
       "      <td>0.563332</td>\n",
       "      <td>0.170227</td>\n",
       "    </tr>\n",
       "    <tr>\n",
       "      <th>2010-10-27</th>\n",
       "      <td>0.704709</td>\n",
       "      <td>0.555110</td>\n",
       "      <td>0.560591</td>\n",
       "      <td>0.561908</td>\n",
       "    </tr>\n",
       "    <tr>\n",
       "      <th>2010-10-28</th>\n",
       "      <td>0.701383</td>\n",
       "      <td>0.562255</td>\n",
       "      <td>0.555110</td>\n",
       "      <td>0.557782</td>\n",
       "    </tr>\n",
       "    <tr>\n",
       "      <th>2010-10-29</th>\n",
       "      <td>0.724661</td>\n",
       "      <td>0.557361</td>\n",
       "      <td>0.562255</td>\n",
       "      <td>0.558617</td>\n",
       "    </tr>\n",
       "    <tr>\n",
       "      <th>2010-11-01</th>\n",
       "      <td>0.714685</td>\n",
       "      <td>0.568422</td>\n",
       "      <td>0.557361</td>\n",
       "      <td>0.559747</td>\n",
       "    </tr>\n",
       "  </tbody>\n",
       "</table>\n",
       "</div>"
      ],
      "text/plain": [
       "            iron_price  oil_price  oil_price_lag  rolling_mean_price\n",
       "date                                                                \n",
       "2010-10-26    0.708699   0.560591       0.563332            0.170227\n",
       "2010-10-27    0.704709   0.555110       0.560591            0.561908\n",
       "2010-10-28    0.701383   0.562255       0.555110            0.557782\n",
       "2010-10-29    0.724661   0.557361       0.562255            0.558617\n",
       "2010-11-01    0.714685   0.568422       0.557361            0.559747"
      ]
     },
     "execution_count": 10,
     "metadata": {},
     "output_type": "execute_result"
    }
   ],
   "source": [
    "# normalize stock\n",
    "df = new_data.copy()\n",
    "df = normalize_data(df)\n",
    "df.head()"
   ]
  },
  {
   "cell_type": "code",
   "execution_count": 11,
   "metadata": {},
   "outputs": [],
   "source": [
    "train = df[:split_date]\n",
    "test = df[split_date:]"
   ]
  },
  {
   "cell_type": "code",
   "execution_count": 12,
   "metadata": {},
   "outputs": [
    {
     "data": {
      "text/html": [
       "<div>\n",
       "<style scoped>\n",
       "    .dataframe tbody tr th:only-of-type {\n",
       "        vertical-align: middle;\n",
       "    }\n",
       "\n",
       "    .dataframe tbody tr th {\n",
       "        vertical-align: top;\n",
       "    }\n",
       "\n",
       "    .dataframe thead th {\n",
       "        text-align: right;\n",
       "    }\n",
       "</style>\n",
       "<table border=\"1\" class=\"dataframe\">\n",
       "  <thead>\n",
       "    <tr style=\"text-align: right;\">\n",
       "      <th></th>\n",
       "      <th>iron_price</th>\n",
       "      <th>oil_price</th>\n",
       "      <th>oil_price_lag</th>\n",
       "      <th>rolling_mean_price</th>\n",
       "    </tr>\n",
       "    <tr>\n",
       "      <th>date</th>\n",
       "      <th></th>\n",
       "      <th></th>\n",
       "      <th></th>\n",
       "      <th></th>\n",
       "    </tr>\n",
       "  </thead>\n",
       "  <tbody>\n",
       "    <tr>\n",
       "      <th>2019-04-25</th>\n",
       "      <td>0.363128</td>\n",
       "      <td>0.504699</td>\n",
       "      <td>0.498727</td>\n",
       "      <td>0.498158</td>\n",
       "    </tr>\n",
       "    <tr>\n",
       "      <th>2019-04-26</th>\n",
       "      <td>0.363262</td>\n",
       "      <td>0.488449</td>\n",
       "      <td>0.504699</td>\n",
       "      <td>0.501449</td>\n",
       "    </tr>\n",
       "    <tr>\n",
       "      <th>2019-04-29</th>\n",
       "      <td>0.363328</td>\n",
       "      <td>0.475626</td>\n",
       "      <td>0.488449</td>\n",
       "      <td>0.496292</td>\n",
       "    </tr>\n",
       "    <tr>\n",
       "      <th>2019-04-30</th>\n",
       "      <td>0.363794</td>\n",
       "      <td>0.483849</td>\n",
       "      <td>0.475626</td>\n",
       "      <td>0.481705</td>\n",
       "    </tr>\n",
       "    <tr>\n",
       "      <th>2019-05-01</th>\n",
       "      <td>0.366520</td>\n",
       "      <td>0.484730</td>\n",
       "      <td>0.483849</td>\n",
       "      <td>0.479397</td>\n",
       "    </tr>\n",
       "  </tbody>\n",
       "</table>\n",
       "</div>"
      ],
      "text/plain": [
       "            iron_price  oil_price  oil_price_lag  rolling_mean_price\n",
       "date                                                                \n",
       "2019-04-25    0.363128   0.504699       0.498727            0.498158\n",
       "2019-04-26    0.363262   0.488449       0.504699            0.501449\n",
       "2019-04-29    0.363328   0.475626       0.488449            0.496292\n",
       "2019-04-30    0.363794   0.483849       0.475626            0.481705\n",
       "2019-05-01    0.366520   0.484730       0.483849            0.479397"
      ]
     },
     "execution_count": 12,
     "metadata": {},
     "output_type": "execute_result"
    }
   ],
   "source": [
    "train.tail()"
   ]
  },
  {
   "cell_type": "code",
   "execution_count": 13,
   "metadata": {},
   "outputs": [
    {
     "data": {
      "text/html": [
       "<div>\n",
       "<style scoped>\n",
       "    .dataframe tbody tr th:only-of-type {\n",
       "        vertical-align: middle;\n",
       "    }\n",
       "\n",
       "    .dataframe tbody tr th {\n",
       "        vertical-align: top;\n",
       "    }\n",
       "\n",
       "    .dataframe thead th {\n",
       "        text-align: right;\n",
       "    }\n",
       "</style>\n",
       "<table border=\"1\" class=\"dataframe\">\n",
       "  <thead>\n",
       "    <tr style=\"text-align: right;\">\n",
       "      <th></th>\n",
       "      <th>iron_price</th>\n",
       "      <th>oil_price</th>\n",
       "      <th>oil_price_lag</th>\n",
       "      <th>rolling_mean_price</th>\n",
       "    </tr>\n",
       "    <tr>\n",
       "      <th>date</th>\n",
       "      <th></th>\n",
       "      <th></th>\n",
       "      <th></th>\n",
       "      <th></th>\n",
       "    </tr>\n",
       "  </thead>\n",
       "  <tbody>\n",
       "    <tr>\n",
       "      <th>2019-05-01</th>\n",
       "      <td>0.366520</td>\n",
       "      <td>0.484730</td>\n",
       "      <td>0.483849</td>\n",
       "      <td>0.479397</td>\n",
       "    </tr>\n",
       "    <tr>\n",
       "      <th>2019-05-02</th>\n",
       "      <td>0.366188</td>\n",
       "      <td>0.474745</td>\n",
       "      <td>0.484730</td>\n",
       "      <td>0.483964</td>\n",
       "    </tr>\n",
       "    <tr>\n",
       "      <th>2019-05-03</th>\n",
       "      <td>0.367584</td>\n",
       "      <td>0.471124</td>\n",
       "      <td>0.474745</td>\n",
       "      <td>0.479397</td>\n",
       "    </tr>\n",
       "    <tr>\n",
       "      <th>2019-05-06</th>\n",
       "      <td>0.365589</td>\n",
       "      <td>0.467404</td>\n",
       "      <td>0.471124</td>\n",
       "      <td>0.472570</td>\n",
       "    </tr>\n",
       "    <tr>\n",
       "      <th>2019-05-07</th>\n",
       "      <td>0.373836</td>\n",
       "      <td>0.469558</td>\n",
       "      <td>0.467404</td>\n",
       "      <td>0.468887</td>\n",
       "    </tr>\n",
       "  </tbody>\n",
       "</table>\n",
       "</div>"
      ],
      "text/plain": [
       "            iron_price  oil_price  oil_price_lag  rolling_mean_price\n",
       "date                                                                \n",
       "2019-05-01    0.366520   0.484730       0.483849            0.479397\n",
       "2019-05-02    0.366188   0.474745       0.484730            0.483964\n",
       "2019-05-03    0.367584   0.471124       0.474745            0.479397\n",
       "2019-05-06    0.365589   0.467404       0.471124            0.472570\n",
       "2019-05-07    0.373836   0.469558       0.467404            0.468887"
      ]
     },
     "execution_count": 13,
     "metadata": {},
     "output_type": "execute_result"
    }
   ],
   "source": [
    "test.head()"
   ]
  },
  {
   "cell_type": "code",
   "execution_count": 14,
   "metadata": {},
   "outputs": [
    {
     "name": "stdout",
     "output_type": "stream",
     "text": [
      "2126 22\n"
     ]
    }
   ],
   "source": [
    "print(len(train), len(test))"
   ]
  },
  {
   "cell_type": "code",
   "execution_count": 15,
   "metadata": {},
   "outputs": [
    {
     "name": "stderr",
     "output_type": "stream",
     "text": [
      "C:\\Users\\sumon\\Anaconda3\\envs\\tensorflow\\lib\\site-packages\\ipykernel_launcher.py:1: FutureWarning: Method .as_matrix will be removed in a future version. Use .values instead.\n",
      "  \"\"\"Entry point for launching an IPython kernel.\n",
      "C:\\Users\\sumon\\Anaconda3\\envs\\tensorflow\\lib\\site-packages\\ipykernel_launcher.py:2: FutureWarning: Method .as_matrix will be removed in a future version. Use .values instead.\n",
      "  \n"
     ]
    }
   ],
   "source": [
    "train_data_raw = train.as_matrix()\n",
    "test_data_raw = test.as_matrix()"
   ]
  },
  {
   "cell_type": "code",
   "execution_count": 16,
   "metadata": {},
   "outputs": [
    {
     "name": "stdout",
     "output_type": "stream",
     "text": [
      "train data shape =  (2126, 4)\n",
      "test data shape =  (22, 4)\n"
     ]
    }
   ],
   "source": [
    "print(\"train data shape = \", train_data_raw.shape)\n",
    "print(\"test data shape = \",test_data_raw.shape)"
   ]
  },
  {
   "cell_type": "code",
   "execution_count": 17,
   "metadata": {},
   "outputs": [
    {
     "data": {
      "text/plain": [
       "array([[0.70869912, 0.56059123, 0.56333203, 0.1702274 ],\n",
       "       [0.7047087 , 0.55510963, 0.56059123, 0.56190757],\n",
       "       [0.70138335, 0.56225529, 0.55510963, 0.55778203],\n",
       "       ...,\n",
       "       [0.36332801, 0.47562647, 0.48844949, 0.49629193],\n",
       "       [0.36379356, 0.48384886, 0.47562647, 0.48170522],\n",
       "       [0.36652035, 0.48472984, 0.48384886, 0.47939689]])"
      ]
     },
     "execution_count": 17,
     "metadata": {},
     "output_type": "execute_result"
    }
   ],
   "source": [
    "train_data_raw"
   ]
  },
  {
   "cell_type": "code",
   "execution_count": 18,
   "metadata": {},
   "outputs": [],
   "source": [
    "x_train = train_data_raw[:,1:] #without Iron price column of train\n",
    "y_train = train_data_raw[:,0] #Only Iron price column of train\n",
    "\n",
    "x_test = test_data_raw[:,1:] #without Iron price column of test\n",
    "y_test = test_data_raw[:,0]  #Only Iron price column of test"
   ]
  },
  {
   "cell_type": "code",
   "execution_count": 19,
   "metadata": {},
   "outputs": [
    {
     "data": {
      "text/plain": [
       "array([[0.56059123, 0.56333203, 0.1702274 ],\n",
       "       [0.55510963, 0.56059123, 0.56190757],\n",
       "       [0.56225529, 0.55510963, 0.55778203],\n",
       "       ...,\n",
       "       [0.47562647, 0.48844949, 0.49629193],\n",
       "       [0.48384886, 0.47562647, 0.48170522],\n",
       "       [0.48472984, 0.48384886, 0.47939689]])"
      ]
     },
     "execution_count": 19,
     "metadata": {},
     "output_type": "execute_result"
    }
   ],
   "source": [
    "x_train"
   ]
  },
  {
   "cell_type": "code",
   "execution_count": 20,
   "metadata": {},
   "outputs": [
    {
     "data": {
      "text/plain": [
       "array([[0.70869912, 0.56059123, 0.56333203, 0.1702274 ],\n",
       "       [0.7047087 , 0.55510963, 0.56059123, 0.56190757],\n",
       "       [0.70138335, 0.56225529, 0.55510963, 0.55778203],\n",
       "       ...,\n",
       "       [0.36332801, 0.47562647, 0.48844949, 0.49629193],\n",
       "       [0.36379356, 0.48384886, 0.47562647, 0.48170522],\n",
       "       [0.36652035, 0.48472984, 0.48384886, 0.47939689]])"
      ]
     },
     "execution_count": 20,
     "metadata": {},
     "output_type": "execute_result"
    }
   ],
   "source": [
    "train_data_raw"
   ]
  },
  {
   "cell_type": "code",
   "execution_count": 21,
   "metadata": {},
   "outputs": [],
   "source": [
    "# def denormalize(df, normalized_value): \n",
    "#     df = df['Price'].values.reshape(-1,1)\n",
    "#     print(df[:5])\n",
    "#     normalized_value = normalized_value.reshape(-1,1)\n",
    "#     #return df.shape, p.shape\n",
    "#     print(normalized_value[0:5])\n",
    "#     min_max_scaler = sklearn.preprocessing.MinMaxScaler()\n",
    "#     a = min_max_scaler.fit_transform(df)\n",
    "#     print(a[:5])\n",
    "#     new = min_max_scaler.inverse_transform(normalized_value)\n",
    "#     print(new[:10])\n",
    "#     return new\n",
    "\n",
    "# #newp = denormalize(test_value_store, pred_price)\n",
    "# newy_test = denormalize(data, y_test)"
   ]
  },
  {
   "cell_type": "code",
   "execution_count": 22,
   "metadata": {},
   "outputs": [
    {
     "data": {
      "text/plain": [
       "array([93.65, 93.6 , 93.81, 93.51, 94.75, 94.19, 94.24, 95.08, 94.38,\n",
       "       93.88, 94.82, 96.13, 96.34, 96.38, 96.56, 97.04, 97.31, 98.14,\n",
       "       98.38, 98.59, 98.72, 98.76])"
      ]
     },
     "execution_count": 22,
     "metadata": {},
     "output_type": "execute_result"
    }
   ],
   "source": [
    "test_value_store.iron_price.values"
   ]
  },
  {
   "cell_type": "code",
   "execution_count": 23,
   "metadata": {},
   "outputs": [
    {
     "name": "stdout",
     "output_type": "stream",
     "text": [
      "x_train.shape =  (2126, 3)\n",
      "y_train.shape =  (2126,)\n",
      "x_test.shape =  (22, 3)\n",
      "y_test.shape =  (22,)\n"
     ]
    }
   ],
   "source": [
    "print('x_train.shape = ',x_train.shape)\n",
    "print('y_train.shape = ', y_train.shape)\n",
    "print('x_test.shape = ', x_test.shape)\n",
    "print('y_test.shape = ',y_test.shape)"
   ]
  },
  {
   "cell_type": "code",
   "execution_count": 24,
   "metadata": {},
   "outputs": [
    {
     "data": {
      "text/plain": [
       "(22, 1, 3)"
      ]
     },
     "execution_count": 24,
     "metadata": {},
     "output_type": "execute_result"
    }
   ],
   "source": [
    "#Reshape data for (Sample,Timestep,Features) \n",
    "x_train = x_train.reshape((x_train.shape[0],1,x_train.shape[1]))\n",
    "x_test = x_test.reshape((x_test.shape[0],1,x_test.shape[1]))\n",
    "#x_forecast = x_forecast.reshape((x_forecast.shape[0],1,x_test.shape[1]))\n",
    "x_test.shape"
   ]
  },
  {
   "cell_type": "code",
   "execution_count": 25,
   "metadata": {},
   "outputs": [],
   "source": [
    "(train_dim, train_timestep , train_feat) = x_train.shape\n",
    "(test_dim, test_timestep , test_feat) = x_test.shape"
   ]
  },
  {
   "cell_type": "code",
   "execution_count": 47,
   "metadata": {},
   "outputs": [
    {
     "name": "stdout",
     "output_type": "stream",
     "text": [
      "Build Model\n",
      "Compilation Time :  0.015979766845703125\n"
     ]
    }
   ],
   "source": [
    "print(\"Build Model\")\n",
    "\"\"\" \n",
    "model = Sequential()\n",
    "\n",
    "model.add(LSTM(32, input_shape=(train_timestep,train_feat), return_sequences=True))\n",
    "#model.add(Dropout(0.3))\n",
    "\n",
    "model.add(LSTM(32, input_shape=(train_timestep,train_feat), return_sequences=False))\n",
    "#model.add(Dropout(0.3))\n",
    "\n",
    "model.add(Dense(16,kernel_initializer=\"uniform\",activation='relu'))        \n",
    "model.add(Dense(1,kernel_initializer=\"uniform\",activation='linear'))\n",
    "\n",
    "# adam = keras.optimizers.Adam(decay=0.2)\n",
    "\n",
    "start = time.time()\n",
    "model.compile(loss='mse',optimizer='adam', metrics=['accuracy'])\n",
    "print(\"Compilation Time : \", time.time() - start)\n",
    "\"\"\"\n",
    "model = Sequential()\n",
    "\n",
    "model.add(Bidirectional(LSTM(16, input_shape=(train_timestep,train_feat), return_sequences=True)))\n",
    "model.add(Bidirectional(LSTM(16, input_shape=(train_timestep,train_feat), return_sequences=False)))\n",
    "#model.add(Dropout(0.3))\n",
    "\n",
    "model.add(Dense(16,kernel_initializer=\"uniform\",activation='relu'))        \n",
    "model.add(Dense(1,kernel_initializer=\"uniform\",activation='linear'))\n",
    "\n",
    "# adam = keras.optimizers.Adam(decay=0.2)\n",
    "\n",
    "start = time.time()\n",
    "model.compile(loss='mse',optimizer='adam', metrics=['accuracy'])\n",
    "print(\"Compilation Time : \", time.time() - start)\n"
   ]
  },
  {
   "cell_type": "code",
   "execution_count": 82,
   "metadata": {},
   "outputs": [
    {
     "name": "stdout",
     "output_type": "stream",
     "text": [
      "Train on 1913 samples, validate on 213 samples\n",
      "Epoch 1/20\n",
      "1913/1913 [==============================] - 9s 5ms/step - loss: 0.0311 - acc: 5.2274e-04 - val_loss: 0.0096 - val_acc: 0.0000e+00\n",
      "Epoch 2/20\n",
      "1913/1913 [==============================] - 6s 3ms/step - loss: 0.0113 - acc: 0.0010 - val_loss: 0.0080 - val_acc: 0.0000e+00\n",
      "Epoch 3/20\n",
      "1913/1913 [==============================] - 6s 3ms/step - loss: 0.0110 - acc: 0.0010 - val_loss: 0.0081 - val_acc: 0.0000e+00\n",
      "Epoch 4/20\n",
      "1913/1913 [==============================] - 6s 3ms/step - loss: 0.0110 - acc: 0.0010 - val_loss: 0.0084 - val_acc: 0.0000e+00\n",
      "Epoch 5/20\n",
      "1913/1913 [==============================] - 6s 3ms/step - loss: 0.0112 - acc: 0.0010 - val_loss: 0.0086 - val_acc: 0.0000e+00\n",
      "Epoch 6/20\n",
      "1913/1913 [==============================] - 6s 3ms/step - loss: 0.0110 - acc: 0.0010 - val_loss: 0.0089 - val_acc: 0.0000e+00\n",
      "Epoch 7/20\n",
      "1913/1913 [==============================] - 6s 3ms/step - loss: 0.0108 - acc: 0.0010 - val_loss: 0.0090 - val_acc: 0.0000e+00\n"
     ]
    }
   ],
   "source": [
    "from keras.callbacks import EarlyStopping,ModelCheckpoint\n",
    "# Set callback functions to early stop training and save the best model so far\n",
    "callbacks = [EarlyStopping(monitor='val_loss', patience=5),\n",
    "             ModelCheckpoint(filepath='best_model.h5', monitor='val_loss', save_best_only=True)]\n",
    "#Fit model with history to check for overfitting\n",
    "history = model.fit(x_train,y_train,batch_size = 1,epochs=20,validation_split=0.1,callbacks=callbacks,shuffle=True)"
   ]
  },
  {
   "cell_type": "code",
   "execution_count": 83,
   "metadata": {},
   "outputs": [
    {
     "name": "stdout",
     "output_type": "stream",
     "text": [
      "_________________________________________________________________\n",
      "Layer (type)                 Output Shape              Param #   \n",
      "=================================================================\n",
      "bidirectional_4 (Bidirection (None, 1, 32)             2560      \n",
      "_________________________________________________________________\n",
      "bidirectional_5 (Bidirection (None, 32)                6272      \n",
      "_________________________________________________________________\n",
      "dense_5 (Dense)              (None, 16)                528       \n",
      "_________________________________________________________________\n",
      "dense_6 (Dense)              (None, 1)                 17        \n",
      "=================================================================\n",
      "Total params: 9,377\n",
      "Trainable params: 9,377\n",
      "Non-trainable params: 0\n",
      "_________________________________________________________________\n"
     ]
    }
   ],
   "source": [
    "model.summary()"
   ]
  },
  {
   "cell_type": "code",
   "execution_count": 84,
   "metadata": {},
   "outputs": [
    {
     "name": "stdout",
     "output_type": "stream",
     "text": [
      "Saved model to disk\n"
     ]
    }
   ],
   "source": [
    "# serialize model to JSON\n",
    "model_json = model.to_json()\n",
    "with open(\"model.json\", \"w\") as json_file:\n",
    "    json_file.write(model_json)\n",
    "# serialize weights to HDF5\n",
    "model.save_weights(\"model.h5\")\n",
    "print(\"Saved model to disk\")"
   ]
  },
  {
   "cell_type": "code",
   "execution_count": 85,
   "metadata": {},
   "outputs": [
    {
     "name": "stdout",
     "output_type": "stream",
     "text": [
      "Loaded model from disk\n"
     ]
    }
   ],
   "source": [
    "# load json and create model\n",
    "from keras.models import model_from_json\n",
    "json_file = open('model.json', 'r')\n",
    "loaded_model_json = json_file.read()\n",
    "json_file.close()\n",
    "model = model_from_json(loaded_model_json)\n",
    "# load weights into new model\n",
    "model.load_weights(\"model.h5\")\n",
    "print(\"Loaded model from disk\")\n",
    " \n",
    "# evaluate loaded model on test data\n",
    "model.compile(loss='mse',optimizer='adam', metrics=['accuracy'])"
   ]
  },
  {
   "cell_type": "code",
   "execution_count": 86,
   "metadata": {},
   "outputs": [
    {
     "name": "stdout",
     "output_type": "stream",
     "text": [
      "22/22 [==============================] - 2s 81ms/step\n"
     ]
    }
   ],
   "source": [
    "pred_price = model.predict(x_test,batch_size=1,verbose=1)"
   ]
  },
  {
   "cell_type": "code",
   "execution_count": 87,
   "metadata": {},
   "outputs": [
    {
     "data": {
      "text/plain": [
       "array([[0.1820468 ],\n",
       "       [0.18168284],\n",
       "       [0.1805067 ],\n",
       "       [0.17960852],\n",
       "       [0.17929651],\n",
       "       [0.17900434],\n",
       "       [0.17838407],\n",
       "       [0.17869675],\n",
       "       [0.17994206],\n",
       "       [0.18036942],\n",
       "       [0.18042201],\n",
       "       [0.18173689],\n",
       "       [0.18313454],\n",
       "       [0.18341772],\n",
       "       [0.18280244],\n",
       "       [0.18160781],\n",
       "       [0.17907313],\n",
       "       [0.17576388],\n",
       "       [0.17495732],\n",
       "       [0.17522588],\n",
       "       [0.17417008],\n",
       "       [0.17139086]], dtype=float32)"
      ]
     },
     "execution_count": 87,
     "metadata": {},
     "output_type": "execute_result"
    }
   ],
   "source": [
    "pred_price"
   ]
  },
  {
   "cell_type": "code",
   "execution_count": 88,
   "metadata": {},
   "outputs": [],
   "source": [
    "def denormalize(df, normalized_value): \n",
    "    df = df['Price'].values.reshape(-1,1)\n",
    "    normalized_value = normalized_value.reshape(-1,1)\n",
    "    #return df.shape, p.shape\n",
    "    min_max_scaler = sklearn.preprocessing.MinMaxScaler()\n",
    "    a = min_max_scaler.fit_transform(df)\n",
    "    new = min_max_scaler.inverse_transform(normalized_value)\n",
    "    return new\n",
    "\n",
    "newp = denormalize(data, pred_price)\n",
    "newy_test = denormalize(data, y_test)"
   ]
  },
  {
   "cell_type": "code",
   "execution_count": 89,
   "metadata": {},
   "outputs": [
    {
     "data": {
      "text/plain": [
       "array([93.65, 93.6 , 93.81, 93.51, 94.75, 94.19, 94.24, 95.08, 94.38,\n",
       "       93.88, 94.82, 96.13, 96.34, 96.38, 96.56, 97.04, 97.31, 98.14,\n",
       "       98.38, 98.59, 98.72, 98.76])"
      ]
     },
     "execution_count": 89,
     "metadata": {},
     "output_type": "execute_result"
    }
   ],
   "source": [
    "test_value_store.iron_price.values"
   ]
  },
  {
   "cell_type": "code",
   "execution_count": 90,
   "metadata": {},
   "outputs": [
    {
     "name": "stdout",
     "output_type": "stream",
     "text": [
      "Train Score: 0.10626 MSE (0.33 RMSE)\n",
      "Test Score: 0.04092 MSE (0.20 RMSE)\n"
     ]
    },
    {
     "data": {
      "text/plain": [
       "(0.10626320092369249, 0.040919579565525055)"
      ]
     },
     "execution_count": 90,
     "metadata": {},
     "output_type": "execute_result"
    }
   ],
   "source": [
    "def model_score(model, x_train, y_train, x_test, y_test):\n",
    "    trainScore = model.evaluate(x_train, y_train, verbose=0)\n",
    "    print('Train Score: %.5f MSE (%.2f RMSE)' % (trainScore[0], math.sqrt(trainScore[0])))\n",
    "\n",
    "    testScore = model.evaluate(x_test, y_test, verbose=0)\n",
    "    print('Test Score: %.5f MSE (%.2f RMSE)' % (testScore[0], math.sqrt(testScore[0])))\n",
    "    return trainScore[0], testScore[0]\n",
    "\n",
    "\n",
    "model_score(model, x_train, y_train, x_test, y_test)"
   ]
  },
  {
   "cell_type": "code",
   "execution_count": 91,
   "metadata": {},
   "outputs": [],
   "source": [
    "act_pred = pd.concat([pd.DataFrame(test_value_store.oil_price.values),pd.DataFrame(newy_test),pd.DataFrame(newp)], axis=1) \n",
    "act_pred.columns = ['Actual_Oil_Price','Actual_Iron_Price','Predicted_Iron_Price']"
   ]
  },
  {
   "cell_type": "code",
   "execution_count": 92,
   "metadata": {},
   "outputs": [],
   "source": [
    "act_pred['date'] = test_value_store.index"
   ]
  },
  {
   "cell_type": "code",
   "execution_count": 93,
   "metadata": {},
   "outputs": [
    {
     "data": {
      "text/html": [
       "<div>\n",
       "<style scoped>\n",
       "    .dataframe tbody tr th:only-of-type {\n",
       "        vertical-align: middle;\n",
       "    }\n",
       "\n",
       "    .dataframe tbody tr th {\n",
       "        vertical-align: top;\n",
       "    }\n",
       "\n",
       "    .dataframe thead th {\n",
       "        text-align: right;\n",
       "    }\n",
       "</style>\n",
       "<table border=\"1\" class=\"dataframe\">\n",
       "  <thead>\n",
       "    <tr style=\"text-align: right;\">\n",
       "      <th></th>\n",
       "      <th>Actual_Oil_Price</th>\n",
       "      <th>Actual_Iron_Price</th>\n",
       "      <th>Predicted_Iron_Price</th>\n",
       "    </tr>\n",
       "    <tr>\n",
       "      <th>date</th>\n",
       "      <th></th>\n",
       "      <th></th>\n",
       "      <th></th>\n",
       "    </tr>\n",
       "  </thead>\n",
       "  <tbody>\n",
       "    <tr>\n",
       "      <th>2019-05-01</th>\n",
       "      <td>72.00</td>\n",
       "      <td>93.65</td>\n",
       "      <td>65.912560</td>\n",
       "    </tr>\n",
       "    <tr>\n",
       "      <th>2019-05-02</th>\n",
       "      <td>70.98</td>\n",
       "      <td>93.60</td>\n",
       "      <td>65.857834</td>\n",
       "    </tr>\n",
       "    <tr>\n",
       "      <th>2019-05-03</th>\n",
       "      <td>70.61</td>\n",
       "      <td>93.81</td>\n",
       "      <td>65.680992</td>\n",
       "    </tr>\n",
       "    <tr>\n",
       "      <th>2019-05-06</th>\n",
       "      <td>70.23</td>\n",
       "      <td>93.51</td>\n",
       "      <td>65.545937</td>\n",
       "    </tr>\n",
       "    <tr>\n",
       "      <th>2019-05-07</th>\n",
       "      <td>70.45</td>\n",
       "      <td>94.75</td>\n",
       "      <td>65.499023</td>\n",
       "    </tr>\n",
       "    <tr>\n",
       "      <th>2019-05-08</th>\n",
       "      <td>69.88</td>\n",
       "      <td>94.19</td>\n",
       "      <td>65.455093</td>\n",
       "    </tr>\n",
       "    <tr>\n",
       "      <th>2019-05-09</th>\n",
       "      <td>69.66</td>\n",
       "      <td>94.24</td>\n",
       "      <td>65.361832</td>\n",
       "    </tr>\n",
       "    <tr>\n",
       "      <th>2019-05-10</th>\n",
       "      <td>70.66</td>\n",
       "      <td>95.08</td>\n",
       "      <td>65.408844</td>\n",
       "    </tr>\n",
       "    <tr>\n",
       "      <th>2019-05-13</th>\n",
       "      <td>71.21</td>\n",
       "      <td>94.38</td>\n",
       "      <td>65.596085</td>\n",
       "    </tr>\n",
       "    <tr>\n",
       "      <th>2019-05-14</th>\n",
       "      <td>70.66</td>\n",
       "      <td>93.88</td>\n",
       "      <td>65.660347</td>\n",
       "    </tr>\n",
       "    <tr>\n",
       "      <th>2019-05-15</th>\n",
       "      <td>71.26</td>\n",
       "      <td>94.82</td>\n",
       "      <td>65.668259</td>\n",
       "    </tr>\n",
       "    <tr>\n",
       "      <th>2019-05-16</th>\n",
       "      <td>72.61</td>\n",
       "      <td>96.13</td>\n",
       "      <td>65.865959</td>\n",
       "    </tr>\n",
       "    <tr>\n",
       "      <th>2019-05-17</th>\n",
       "      <td>72.57</td>\n",
       "      <td>96.34</td>\n",
       "      <td>66.076111</td>\n",
       "    </tr>\n",
       "    <tr>\n",
       "      <th>2019-05-20</th>\n",
       "      <td>72.47</td>\n",
       "      <td>96.38</td>\n",
       "      <td>66.118690</td>\n",
       "    </tr>\n",
       "    <tr>\n",
       "      <th>2019-05-21</th>\n",
       "      <td>71.71</td>\n",
       "      <td>96.56</td>\n",
       "      <td>66.026176</td>\n",
       "    </tr>\n",
       "    <tr>\n",
       "      <th>2019-05-22</th>\n",
       "      <td>71.03</td>\n",
       "      <td>97.04</td>\n",
       "      <td>65.846550</td>\n",
       "    </tr>\n",
       "    <tr>\n",
       "      <th>2019-05-23</th>\n",
       "      <td>68.56</td>\n",
       "      <td>97.31</td>\n",
       "      <td>65.465439</td>\n",
       "    </tr>\n",
       "    <tr>\n",
       "      <th>2019-05-24</th>\n",
       "      <td>67.40</td>\n",
       "      <td>98.14</td>\n",
       "      <td>64.967857</td>\n",
       "    </tr>\n",
       "    <tr>\n",
       "      <th>2019-05-28</th>\n",
       "      <td>68.84</td>\n",
       "      <td>98.38</td>\n",
       "      <td>64.846581</td>\n",
       "    </tr>\n",
       "    <tr>\n",
       "      <th>2019-05-29</th>\n",
       "      <td>67.75</td>\n",
       "      <td>98.59</td>\n",
       "      <td>64.886963</td>\n",
       "    </tr>\n",
       "    <tr>\n",
       "      <th>2019-05-30</th>\n",
       "      <td>67.10</td>\n",
       "      <td>98.72</td>\n",
       "      <td>64.728218</td>\n",
       "    </tr>\n",
       "    <tr>\n",
       "      <th>2019-05-31</th>\n",
       "      <td>64.15</td>\n",
       "      <td>98.76</td>\n",
       "      <td>64.310333</td>\n",
       "    </tr>\n",
       "  </tbody>\n",
       "</table>\n",
       "</div>"
      ],
      "text/plain": [
       "            Actual_Oil_Price  Actual_Iron_Price  Predicted_Iron_Price\n",
       "date                                                                 \n",
       "2019-05-01             72.00              93.65             65.912560\n",
       "2019-05-02             70.98              93.60             65.857834\n",
       "2019-05-03             70.61              93.81             65.680992\n",
       "2019-05-06             70.23              93.51             65.545937\n",
       "2019-05-07             70.45              94.75             65.499023\n",
       "2019-05-08             69.88              94.19             65.455093\n",
       "2019-05-09             69.66              94.24             65.361832\n",
       "2019-05-10             70.66              95.08             65.408844\n",
       "2019-05-13             71.21              94.38             65.596085\n",
       "2019-05-14             70.66              93.88             65.660347\n",
       "2019-05-15             71.26              94.82             65.668259\n",
       "2019-05-16             72.61              96.13             65.865959\n",
       "2019-05-17             72.57              96.34             66.076111\n",
       "2019-05-20             72.47              96.38             66.118690\n",
       "2019-05-21             71.71              96.56             66.026176\n",
       "2019-05-22             71.03              97.04             65.846550\n",
       "2019-05-23             68.56              97.31             65.465439\n",
       "2019-05-24             67.40              98.14             64.967857\n",
       "2019-05-28             68.84              98.38             64.846581\n",
       "2019-05-29             67.75              98.59             64.886963\n",
       "2019-05-30             67.10              98.72             64.728218\n",
       "2019-05-31             64.15              98.76             64.310333"
      ]
     },
     "execution_count": 93,
     "metadata": {},
     "output_type": "execute_result"
    }
   ],
   "source": [
    "act_pred = act_pred.set_index('date')\n",
    "act_pred"
   ]
  },
  {
   "cell_type": "code",
   "execution_count": 94,
   "metadata": {},
   "outputs": [],
   "source": [
    "#test_value_store"
   ]
  },
  {
   "cell_type": "code",
   "execution_count": 95,
   "metadata": {},
   "outputs": [
    {
     "data": {
      "text/plain": [
       "<matplotlib.axes._subplots.AxesSubplot at 0x195813ac710>"
      ]
     },
     "execution_count": 95,
     "metadata": {},
     "output_type": "execute_result"
    },
    {
     "data": {
      "image/png": "[encoded data removed]",
      "text/plain": [
       "<Figure size 432x288 with 1 Axes>"
      ]
     },
     "metadata": {
      "needs_background": "light"
     },
     "output_type": "display_data"
    }
   ],
   "source": [
    "act_pred.plot()"
   ]
  },
  {
   "cell_type": "code",
   "execution_count": 96,
   "metadata": {},
   "outputs": [
    {
     "name": "stdout",
     "output_type": "stream",
     "text": [
      "{'mape': 0.3162950677369429, 'me': -30.339741696444424, 'mae': 30.339741696444424, 'mpe': -0.3162950677369429}\n"
     ]
    }
   ],
   "source": [
    "def perd_accuracy(pred, actual):\n",
    "    mape=np.mean(np.abs(pred-actual)/np.abs(actual))# MAPE\n",
    "    me=np.mean(pred-actual)# ME\n",
    "    mae=np.mean(np.abs(pred-actual))# MAE\n",
    "    mpe=np.mean((pred-actual)/actual)# MPE\n",
    "    return({'mape':mape,'me':me,'mae': mae,'mpe': mpe})\n",
    "print(perd_accuracy(act_pred.Predicted_Iron_Price.values,act_pred.Actual_Iron_Price.values))"
   ]
  },
  {
   "cell_type": "code",
   "execution_count": 97,
   "metadata": {},
   "outputs": [],
   "source": [
    "# In normalize condition\n",
    "# new_df = pd.DataFrame(columns=['actual_price','predict_price'])\n",
    "# new_df['actual_price'] = act_pred['Actual'].values\n",
    "# new_df['predict_price'] = act_pred['Predicted'].values\n",
    "# new_df.plot(figsize=(15,5))\n",
    "# plt.ylabel(\"Price\")"
   ]
  },
  {
   "cell_type": "code",
   "execution_count": null,
   "metadata": {},
   "outputs": [],
   "source": []
  },
  {
   "cell_type": "code",
   "execution_count": null,
   "metadata": {},
   "outputs": [],
   "source": []
  }
 ],
 "metadata": {
  "kernelspec": {
   "display_name": "Python 3",
   "language": "python",
   "name": "python3"
  },
  "language_info": {
   "codemirror_mode": {
    "name": "ipython",
    "version": 3
   },
   "file_extension": ".py",
   "mimetype": "text/x-python",
   "name": "python",
   "nbconvert_exporter": "python",
   "pygments_lexer": "ipython3",
   "version": "3.7.3"
  }
 },
 "nbformat": 4,
 "nbformat_minor": 2
}
